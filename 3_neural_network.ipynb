{
  "cells": [
    {
      "cell_type": "code",
      "execution_count": null,
      "metadata": {
        "id": "2IlwhV0z2nMr"
      },
      "outputs": [],
      "source": [
        "%matplotlib inline"
      ]
    },
    {
      "cell_type": "markdown",
      "metadata": {
        "id": "Chprzdhe2nMw"
      },
      "source": [
        "# Assignment 3\n",
        "\n",
        "**DUE: Sunday November 6, 2022 11:59pm**\n",
        "\n",
        "Turn in the assignment via Canvas.\n",
        "\n",
        "To write legible answers you will need to be familiar with both [Markdown](https://github.com/adam-p/markdown-here/wiki/Markdown-Cheatsheet) and [Latex](https://www.latex-tutorial.com/tutorials/amsmath/)\n",
        "\n",
        "Before you turn this problem in, make sure everything runs as expected. First, restart the kernel (in the menubar, select Runtime→→Restart runtime) and then run all cells (in the menubar, select Runtime→→Run All).\n",
        "\n",
        "Make sure you fill in any place that says \"YOUR CODE HERE\" or \"YOUR ANSWER HERE\", as well as your name below:"
      ]
    },
    {
      "cell_type": "code",
      "execution_count": null,
      "metadata": {
        "id": "8jeWubXE2nMx"
      },
      "outputs": [],
      "source": [
        "NAME = \"Mahyar Vahabi\"\n",
        "STUDENT_ID = \"1798645\""
      ]
    },
    {
      "cell_type": "markdown",
      "metadata": {
        "id": "wyRMGyp9Y9c3"
      },
      "source": [
        "## Question 1 - Logistic Regression\n",
        "---\n",
        "In this question, you will build a system for predicting patient deaths in the Intensive Care Unit (ICU) using the large [PhysioNet Computing in Cardiology Challenge 2012 dataset](https://physionet.org/content/challenge-2012/1.0.0/). For each patient in the dataset, demographic variables and time series of physiological variables were collected during their stay in the ICU. \n",
        "\n",
        "The risk prediction system you will build could in principle be used to flag patients as being at risk of death so that physicians could intervene and improve their outcome. To be confident about the impact of such a system, you would need to run an experiment. In this question, you will use a model in order to estimate the potential impact of the system.\n",
        "\n",
        "The data you will be working with is all available from [PhysioNet](https://physionet.org/challenge/2012/). You will be looking at only the data in \"Training set A\". The patient data files are [https://archive.physionet.org/challenge/2012/set-a.zip](here), and the outcomes file is [https://archive.physionet.org/challenge/2012/Outcomes-a.txt](here).\n",
        "\n",
        "\n",
        "\n"
      ]
    },
    {
      "cell_type": "markdown",
      "metadata": {
        "id": "pcjR5KIXGXmo"
      },
      "source": [
        "#### Downloading and Reading in the Data\n",
        "\n",
        "First, we download the physiological data and read in patient outcomes file (links above).\n",
        "\n",
        "We want this data to be read from text files and assembled into a dataframe. To do so, please run the following code which will first define a function that reads a text file, and then runs that function on all the files and assembles the outputs into a single dataframe."
      ]
    },
    {
      "cell_type": "markdown",
      "metadata": {
        "id": "WVmH8qFoc3pi"
      },
      "source": [
        "#### Downloading the data"
      ]
    },
    {
      "cell_type": "code",
      "execution_count": null,
      "metadata": {
        "colab": {
          "base_uri": "https://localhost:8080/"
        },
        "id": "uyeKP1Hqc4OU",
        "outputId": "e06202b8-e019-4156-8b1e-347c2db7894d"
      },
      "outputs": [
        {
          "output_type": "stream",
          "name": "stdout",
          "text": [
            "--2022-11-07 07:42:41--  https://archive.physionet.org/challenge/2012/set-a.zip\n",
            "Resolving archive.physionet.org (archive.physionet.org)... 128.30.30.88\n",
            "Connecting to archive.physionet.org (archive.physionet.org)|128.30.30.88|:443... connected.\n",
            "HTTP request sent, awaiting response... 200 OK\n",
            "Length: 7938449 (7.6M) [application/zip]\n",
            "Saving to: ‘./set-a.zip’\n",
            "\n",
            "./set-a.zip         100%[===================>]   7.57M  9.81MB/s    in 0.8s    \n",
            "\n",
            "2022-11-07 07:42:42 (9.81 MB/s) - ‘./set-a.zip’ saved [7938449/7938449]\n",
            "\n"
          ]
        }
      ],
      "source": [
        "!wget https://archive.physionet.org/challenge/2012/set-a.zip -O ./set-a.zip\n",
        "import zipfile\n",
        "with zipfile.ZipFile('./set-a.zip', 'r') as zip_ref:\n",
        "    zip_ref.extractall('./')"
      ]
    },
    {
      "cell_type": "markdown",
      "metadata": {
        "id": "nbxl1mNMrxcQ"
      },
      "source": [
        "#### Reading in data"
      ]
    },
    {
      "cell_type": "code",
      "execution_count": null,
      "metadata": {
        "id": "jm-P1EUzZCFi"
      },
      "outputs": [],
      "source": [
        "import pandas as pd\n",
        "import numpy as np\n",
        "import glob\n",
        "\n",
        "def comp_patient(patdat, attrs):\n",
        "    patdat[patdat == -1.0] = float('NaN')\n",
        "    patdat_dict = {}\n",
        "    for attr in attrs:\n",
        "        patdat_dict[attr] = [patdat[\"Value\"][patdat[\"Parameter\"]==attr].mean(axis = 0)]\n",
        "    return patdat_dict\n",
        "\n",
        "\n",
        "attrs = [\"Age\", \"Gender\", \"Height\", \"Weight\", \"Urine\", \n",
        "         \"HR\", \"Temp\", \"NIDiasABP\", \"SysABP\", \"DiasABP\", \"pH\",\n",
        "         \"PaCO2\", \"PaO2\", \"Platelets\", \"MAP\", \"K\", \"Na\", \"FiO2\", \"GCS\", \"RecordID\"]\n",
        "\n",
        "\n",
        "full_dat  = pd.DataFrame(columns = attrs)\n",
        "\n",
        "# Now let's take the list \"all_pat_dat\" and assemble it into a dataframe.\n",
        "filenames = sorted(glob.glob(\"/content/set-a/*.txt\"))\n",
        "for filename in filenames:\n",
        "    data = open(filename)\n",
        "    patient_dat_full = pd.read_csv(data, delimiter=',')\n",
        "    patient_dat = pd.DataFrame.from_dict(comp_patient(patient_dat_full, attrs))\n",
        "    full_dat = full_dat.append(patient_dat)\n",
        "\n",
        "outcome_dat = pd.read_csv(\"https://archive.physionet.org/challenge/2012/Outcomes-a.txt\")\n",
        "outcome_dat[outcome_dat == -1] = float('NaN') # set all -1 to NaNs\n",
        "full_dat_out = full_dat.merge(outcome_dat, left_on='RecordID', right_on='RecordID')\n",
        "full_dat_out.replace([np.inf, -np.inf], np.nan)\n",
        "\n",
        "col_means = full_dat_out.mean()\n",
        "# Set everything that's NaN to the mean of that column:\n",
        "\n",
        "# Note: we do this for simplicity. Strictly speaking, you should\n",
        "# only use the training set to compute the column means\n",
        "\n",
        "for i in range(full_dat_out.shape[1]):\n",
        "    mask = np.isnan(np.array(full_dat_out.iloc[:,i]))\n",
        "    full_dat_out.iloc[mask, i] = col_means[i]"
      ]
    },
    {
      "cell_type": "code",
      "source": [
        "full_dat"
      ],
      "metadata": {
        "colab": {
          "base_uri": "https://localhost:8080/",
          "height": 488
        },
        "id": "57QnTWHLEKxP",
        "outputId": "8ad77a9d-6cf2-4947-fa88-e22d2cc8e5d6"
      },
      "execution_count": null,
      "outputs": [
        {
          "output_type": "execute_result",
          "data": {
            "text/plain": [
              "     Age  Gender  Height      Weight       Urine         HR       Temp  \\\n",
              "0   54.0     0.0     NaN         NaN  171.052632  70.810811  37.357143   \n",
              "0   76.0     1.0   175.3   80.670588  151.560976  80.794118  36.939130   \n",
              "0   44.0     0.0     NaN   56.700000  124.951220  83.759259  37.800000   \n",
              "0   68.0     1.0   180.3   84.600000  545.833333  70.983333  36.223077   \n",
              "0   88.0     0.0     NaN         NaN   62.131579  74.958333  36.880000   \n",
              "..   ...     ...     ...         ...         ...        ...        ...   \n",
              "0   70.0     0.0     NaN   87.000000   50.769231  99.230769  37.004762   \n",
              "0   25.0     1.0     NaN  166.400000  584.375000  79.136364  36.580000   \n",
              "0   44.0     1.0     NaN  109.000000  116.472222  97.884615  37.792308   \n",
              "0   37.0     1.0     NaN   87.400000   11.230769  88.461538  38.418182   \n",
              "0   78.0     0.0   157.5   87.838889   57.750000  88.531915  36.381395   \n",
              "\n",
              "    NIDiasABP      SysABP    DiasABP        pH      PaCO2        PaO2  \\\n",
              "0   50.147059         NaN        NaN       NaN        NaN         NaN   \n",
              "0   56.714286  113.411765  58.897059  7.395000  38.857143  210.142857   \n",
              "0   79.000000  125.687500  67.125000  7.495000  35.500000  134.500000   \n",
              "0   65.051724         NaN        NaN       NaN        NaN         NaN   \n",
              "0   45.720930         NaN        NaN       NaN        NaN         NaN   \n",
              "..        ...         ...        ...       ...        ...         ...   \n",
              "0   62.966667  117.230769  68.865385  7.381429  40.428571  141.285714   \n",
              "0   58.409091         NaN        NaN       NaN        NaN         NaN   \n",
              "0   60.804348  125.666667  74.166667  7.396667  42.000000  149.000000   \n",
              "0         NaN  166.615385  92.923077  7.416000  44.200000  175.600000   \n",
              "0   60.266667  111.532609  57.836957  7.305600  40.041667  163.458333   \n",
              "\n",
              "     Platelets         MAP     K          Na      FiO2        GCS  RecordID  \n",
              "0   203.000000         NaN  4.20  136.500000       NaN  14.923077  132539.0  \n",
              "0   178.600000   76.940299  3.90  137.000000  0.560000  13.333333  132540.0  \n",
              "0    89.666667   90.437500  4.26  138.333333  0.500000   5.923077  132541.0  \n",
              "0   330.000000         NaN  4.00  139.333333       NaN  14.944444  132543.0  \n",
              "0   103.000000         NaN  4.32  139.500000       NaN  15.000000  132545.0  \n",
              "..         ...         ...   ...         ...       ...        ...       ...  \n",
              "0   208.000000   86.865385  3.70  136.666667  0.442857  13.071429  142665.0  \n",
              "0   130.333333         NaN  3.72  140.200000       NaN  15.000000  142667.0  \n",
              "0   225.000000   89.666667  3.80  140.250000  0.412500   6.166667  142670.0  \n",
              "0   325.750000  115.730769  4.65  144.000000  0.533333   5.625000  142671.0  \n",
              "0   100.222222   76.472527  4.90  143.000000  0.600000   8.076923  142673.0  \n",
              "\n",
              "[4000 rows x 20 columns]"
            ],
            "text/html": [
              "\n",
              "  <div id=\"df-b70a082c-3eda-4334-9783-ccad0021199a\">\n",
              "    <div class=\"colab-df-container\">\n",
              "      <div>\n",
              "<style scoped>\n",
              "    .dataframe tbody tr th:only-of-type {\n",
              "        vertical-align: middle;\n",
              "    }\n",
              "\n",
              "    .dataframe tbody tr th {\n",
              "        vertical-align: top;\n",
              "    }\n",
              "\n",
              "    .dataframe thead th {\n",
              "        text-align: right;\n",
              "    }\n",
              "</style>\n",
              "<table border=\"1\" class=\"dataframe\">\n",
              "  <thead>\n",
              "    <tr style=\"text-align: right;\">\n",
              "      <th></th>\n",
              "      <th>Age</th>\n",
              "      <th>Gender</th>\n",
              "      <th>Height</th>\n",
              "      <th>Weight</th>\n",
              "      <th>Urine</th>\n",
              "      <th>HR</th>\n",
              "      <th>Temp</th>\n",
              "      <th>NIDiasABP</th>\n",
              "      <th>SysABP</th>\n",
              "      <th>DiasABP</th>\n",
              "      <th>pH</th>\n",
              "      <th>PaCO2</th>\n",
              "      <th>PaO2</th>\n",
              "      <th>Platelets</th>\n",
              "      <th>MAP</th>\n",
              "      <th>K</th>\n",
              "      <th>Na</th>\n",
              "      <th>FiO2</th>\n",
              "      <th>GCS</th>\n",
              "      <th>RecordID</th>\n",
              "    </tr>\n",
              "  </thead>\n",
              "  <tbody>\n",
              "    <tr>\n",
              "      <th>0</th>\n",
              "      <td>54.0</td>\n",
              "      <td>0.0</td>\n",
              "      <td>NaN</td>\n",
              "      <td>NaN</td>\n",
              "      <td>171.052632</td>\n",
              "      <td>70.810811</td>\n",
              "      <td>37.357143</td>\n",
              "      <td>50.147059</td>\n",
              "      <td>NaN</td>\n",
              "      <td>NaN</td>\n",
              "      <td>NaN</td>\n",
              "      <td>NaN</td>\n",
              "      <td>NaN</td>\n",
              "      <td>203.000000</td>\n",
              "      <td>NaN</td>\n",
              "      <td>4.20</td>\n",
              "      <td>136.500000</td>\n",
              "      <td>NaN</td>\n",
              "      <td>14.923077</td>\n",
              "      <td>132539.0</td>\n",
              "    </tr>\n",
              "    <tr>\n",
              "      <th>0</th>\n",
              "      <td>76.0</td>\n",
              "      <td>1.0</td>\n",
              "      <td>175.3</td>\n",
              "      <td>80.670588</td>\n",
              "      <td>151.560976</td>\n",
              "      <td>80.794118</td>\n",
              "      <td>36.939130</td>\n",
              "      <td>56.714286</td>\n",
              "      <td>113.411765</td>\n",
              "      <td>58.897059</td>\n",
              "      <td>7.395000</td>\n",
              "      <td>38.857143</td>\n",
              "      <td>210.142857</td>\n",
              "      <td>178.600000</td>\n",
              "      <td>76.940299</td>\n",
              "      <td>3.90</td>\n",
              "      <td>137.000000</td>\n",
              "      <td>0.560000</td>\n",
              "      <td>13.333333</td>\n",
              "      <td>132540.0</td>\n",
              "    </tr>\n",
              "    <tr>\n",
              "      <th>0</th>\n",
              "      <td>44.0</td>\n",
              "      <td>0.0</td>\n",
              "      <td>NaN</td>\n",
              "      <td>56.700000</td>\n",
              "      <td>124.951220</td>\n",
              "      <td>83.759259</td>\n",
              "      <td>37.800000</td>\n",
              "      <td>79.000000</td>\n",
              "      <td>125.687500</td>\n",
              "      <td>67.125000</td>\n",
              "      <td>7.495000</td>\n",
              "      <td>35.500000</td>\n",
              "      <td>134.500000</td>\n",
              "      <td>89.666667</td>\n",
              "      <td>90.437500</td>\n",
              "      <td>4.26</td>\n",
              "      <td>138.333333</td>\n",
              "      <td>0.500000</td>\n",
              "      <td>5.923077</td>\n",
              "      <td>132541.0</td>\n",
              "    </tr>\n",
              "    <tr>\n",
              "      <th>0</th>\n",
              "      <td>68.0</td>\n",
              "      <td>1.0</td>\n",
              "      <td>180.3</td>\n",
              "      <td>84.600000</td>\n",
              "      <td>545.833333</td>\n",
              "      <td>70.983333</td>\n",
              "      <td>36.223077</td>\n",
              "      <td>65.051724</td>\n",
              "      <td>NaN</td>\n",
              "      <td>NaN</td>\n",
              "      <td>NaN</td>\n",
              "      <td>NaN</td>\n",
              "      <td>NaN</td>\n",
              "      <td>330.000000</td>\n",
              "      <td>NaN</td>\n",
              "      <td>4.00</td>\n",
              "      <td>139.333333</td>\n",
              "      <td>NaN</td>\n",
              "      <td>14.944444</td>\n",
              "      <td>132543.0</td>\n",
              "    </tr>\n",
              "    <tr>\n",
              "      <th>0</th>\n",
              "      <td>88.0</td>\n",
              "      <td>0.0</td>\n",
              "      <td>NaN</td>\n",
              "      <td>NaN</td>\n",
              "      <td>62.131579</td>\n",
              "      <td>74.958333</td>\n",
              "      <td>36.880000</td>\n",
              "      <td>45.720930</td>\n",
              "      <td>NaN</td>\n",
              "      <td>NaN</td>\n",
              "      <td>NaN</td>\n",
              "      <td>NaN</td>\n",
              "      <td>NaN</td>\n",
              "      <td>103.000000</td>\n",
              "      <td>NaN</td>\n",
              "      <td>4.32</td>\n",
              "      <td>139.500000</td>\n",
              "      <td>NaN</td>\n",
              "      <td>15.000000</td>\n",
              "      <td>132545.0</td>\n",
              "    </tr>\n",
              "    <tr>\n",
              "      <th>...</th>\n",
              "      <td>...</td>\n",
              "      <td>...</td>\n",
              "      <td>...</td>\n",
              "      <td>...</td>\n",
              "      <td>...</td>\n",
              "      <td>...</td>\n",
              "      <td>...</td>\n",
              "      <td>...</td>\n",
              "      <td>...</td>\n",
              "      <td>...</td>\n",
              "      <td>...</td>\n",
              "      <td>...</td>\n",
              "      <td>...</td>\n",
              "      <td>...</td>\n",
              "      <td>...</td>\n",
              "      <td>...</td>\n",
              "      <td>...</td>\n",
              "      <td>...</td>\n",
              "      <td>...</td>\n",
              "      <td>...</td>\n",
              "    </tr>\n",
              "    <tr>\n",
              "      <th>0</th>\n",
              "      <td>70.0</td>\n",
              "      <td>0.0</td>\n",
              "      <td>NaN</td>\n",
              "      <td>87.000000</td>\n",
              "      <td>50.769231</td>\n",
              "      <td>99.230769</td>\n",
              "      <td>37.004762</td>\n",
              "      <td>62.966667</td>\n",
              "      <td>117.230769</td>\n",
              "      <td>68.865385</td>\n",
              "      <td>7.381429</td>\n",
              "      <td>40.428571</td>\n",
              "      <td>141.285714</td>\n",
              "      <td>208.000000</td>\n",
              "      <td>86.865385</td>\n",
              "      <td>3.70</td>\n",
              "      <td>136.666667</td>\n",
              "      <td>0.442857</td>\n",
              "      <td>13.071429</td>\n",
              "      <td>142665.0</td>\n",
              "    </tr>\n",
              "    <tr>\n",
              "      <th>0</th>\n",
              "      <td>25.0</td>\n",
              "      <td>1.0</td>\n",
              "      <td>NaN</td>\n",
              "      <td>166.400000</td>\n",
              "      <td>584.375000</td>\n",
              "      <td>79.136364</td>\n",
              "      <td>36.580000</td>\n",
              "      <td>58.409091</td>\n",
              "      <td>NaN</td>\n",
              "      <td>NaN</td>\n",
              "      <td>NaN</td>\n",
              "      <td>NaN</td>\n",
              "      <td>NaN</td>\n",
              "      <td>130.333333</td>\n",
              "      <td>NaN</td>\n",
              "      <td>3.72</td>\n",
              "      <td>140.200000</td>\n",
              "      <td>NaN</td>\n",
              "      <td>15.000000</td>\n",
              "      <td>142667.0</td>\n",
              "    </tr>\n",
              "    <tr>\n",
              "      <th>0</th>\n",
              "      <td>44.0</td>\n",
              "      <td>1.0</td>\n",
              "      <td>NaN</td>\n",
              "      <td>109.000000</td>\n",
              "      <td>116.472222</td>\n",
              "      <td>97.884615</td>\n",
              "      <td>37.792308</td>\n",
              "      <td>60.804348</td>\n",
              "      <td>125.666667</td>\n",
              "      <td>74.166667</td>\n",
              "      <td>7.396667</td>\n",
              "      <td>42.000000</td>\n",
              "      <td>149.000000</td>\n",
              "      <td>225.000000</td>\n",
              "      <td>89.666667</td>\n",
              "      <td>3.80</td>\n",
              "      <td>140.250000</td>\n",
              "      <td>0.412500</td>\n",
              "      <td>6.166667</td>\n",
              "      <td>142670.0</td>\n",
              "    </tr>\n",
              "    <tr>\n",
              "      <th>0</th>\n",
              "      <td>37.0</td>\n",
              "      <td>1.0</td>\n",
              "      <td>NaN</td>\n",
              "      <td>87.400000</td>\n",
              "      <td>11.230769</td>\n",
              "      <td>88.461538</td>\n",
              "      <td>38.418182</td>\n",
              "      <td>NaN</td>\n",
              "      <td>166.615385</td>\n",
              "      <td>92.923077</td>\n",
              "      <td>7.416000</td>\n",
              "      <td>44.200000</td>\n",
              "      <td>175.600000</td>\n",
              "      <td>325.750000</td>\n",
              "      <td>115.730769</td>\n",
              "      <td>4.65</td>\n",
              "      <td>144.000000</td>\n",
              "      <td>0.533333</td>\n",
              "      <td>5.625000</td>\n",
              "      <td>142671.0</td>\n",
              "    </tr>\n",
              "    <tr>\n",
              "      <th>0</th>\n",
              "      <td>78.0</td>\n",
              "      <td>0.0</td>\n",
              "      <td>157.5</td>\n",
              "      <td>87.838889</td>\n",
              "      <td>57.750000</td>\n",
              "      <td>88.531915</td>\n",
              "      <td>36.381395</td>\n",
              "      <td>60.266667</td>\n",
              "      <td>111.532609</td>\n",
              "      <td>57.836957</td>\n",
              "      <td>7.305600</td>\n",
              "      <td>40.041667</td>\n",
              "      <td>163.458333</td>\n",
              "      <td>100.222222</td>\n",
              "      <td>76.472527</td>\n",
              "      <td>4.90</td>\n",
              "      <td>143.000000</td>\n",
              "      <td>0.600000</td>\n",
              "      <td>8.076923</td>\n",
              "      <td>142673.0</td>\n",
              "    </tr>\n",
              "  </tbody>\n",
              "</table>\n",
              "<p>4000 rows × 20 columns</p>\n",
              "</div>\n",
              "      <button class=\"colab-df-convert\" onclick=\"convertToInteractive('df-b70a082c-3eda-4334-9783-ccad0021199a')\"\n",
              "              title=\"Convert this dataframe to an interactive table.\"\n",
              "              style=\"display:none;\">\n",
              "        \n",
              "  <svg xmlns=\"http://www.w3.org/2000/svg\" height=\"24px\"viewBox=\"0 0 24 24\"\n",
              "       width=\"24px\">\n",
              "    <path d=\"M0 0h24v24H0V0z\" fill=\"none\"/>\n",
              "    <path d=\"M18.56 5.44l.94 2.06.94-2.06 2.06-.94-2.06-.94-.94-2.06-.94 2.06-2.06.94zm-11 1L8.5 8.5l.94-2.06 2.06-.94-2.06-.94L8.5 2.5l-.94 2.06-2.06.94zm10 10l.94 2.06.94-2.06 2.06-.94-2.06-.94-.94-2.06-.94 2.06-2.06.94z\"/><path d=\"M17.41 7.96l-1.37-1.37c-.4-.4-.92-.59-1.43-.59-.52 0-1.04.2-1.43.59L10.3 9.45l-7.72 7.72c-.78.78-.78 2.05 0 2.83L4 21.41c.39.39.9.59 1.41.59.51 0 1.02-.2 1.41-.59l7.78-7.78 2.81-2.81c.8-.78.8-2.07 0-2.86zM5.41 20L4 18.59l7.72-7.72 1.47 1.35L5.41 20z\"/>\n",
              "  </svg>\n",
              "      </button>\n",
              "      \n",
              "  <style>\n",
              "    .colab-df-container {\n",
              "      display:flex;\n",
              "      flex-wrap:wrap;\n",
              "      gap: 12px;\n",
              "    }\n",
              "\n",
              "    .colab-df-convert {\n",
              "      background-color: #E8F0FE;\n",
              "      border: none;\n",
              "      border-radius: 50%;\n",
              "      cursor: pointer;\n",
              "      display: none;\n",
              "      fill: #1967D2;\n",
              "      height: 32px;\n",
              "      padding: 0 0 0 0;\n",
              "      width: 32px;\n",
              "    }\n",
              "\n",
              "    .colab-df-convert:hover {\n",
              "      background-color: #E2EBFA;\n",
              "      box-shadow: 0px 1px 2px rgba(60, 64, 67, 0.3), 0px 1px 3px 1px rgba(60, 64, 67, 0.15);\n",
              "      fill: #174EA6;\n",
              "    }\n",
              "\n",
              "    [theme=dark] .colab-df-convert {\n",
              "      background-color: #3B4455;\n",
              "      fill: #D2E3FC;\n",
              "    }\n",
              "\n",
              "    [theme=dark] .colab-df-convert:hover {\n",
              "      background-color: #434B5C;\n",
              "      box-shadow: 0px 1px 3px 1px rgba(0, 0, 0, 0.15);\n",
              "      filter: drop-shadow(0px 1px 2px rgba(0, 0, 0, 0.3));\n",
              "      fill: #FFFFFF;\n",
              "    }\n",
              "  </style>\n",
              "\n",
              "      <script>\n",
              "        const buttonEl =\n",
              "          document.querySelector('#df-b70a082c-3eda-4334-9783-ccad0021199a button.colab-df-convert');\n",
              "        buttonEl.style.display =\n",
              "          google.colab.kernel.accessAllowed ? 'block' : 'none';\n",
              "\n",
              "        async function convertToInteractive(key) {\n",
              "          const element = document.querySelector('#df-b70a082c-3eda-4334-9783-ccad0021199a');\n",
              "          const dataTable =\n",
              "            await google.colab.kernel.invokeFunction('convertToInteractive',\n",
              "                                                     [key], {});\n",
              "          if (!dataTable) return;\n",
              "\n",
              "          const docLinkHtml = 'Like what you see? Visit the ' +\n",
              "            '<a target=\"_blank\" href=https://colab.research.google.com/notebooks/data_table.ipynb>data table notebook</a>'\n",
              "            + ' to learn more about interactive tables.';\n",
              "          element.innerHTML = '';\n",
              "          dataTable['output_type'] = 'display_data';\n",
              "          await google.colab.output.renderOutput(dataTable, element);\n",
              "          const docLink = document.createElement('div');\n",
              "          docLink.innerHTML = docLinkHtml;\n",
              "          element.appendChild(docLink);\n",
              "        }\n",
              "      </script>\n",
              "    </div>\n",
              "  </div>\n",
              "  "
            ]
          },
          "metadata": {},
          "execution_count": 5
        }
      ]
    },
    {
      "cell_type": "code",
      "source": [
        "full_dat_out"
      ],
      "metadata": {
        "colab": {
          "base_uri": "https://localhost:8080/",
          "height": 505
        },
        "id": "OT5xphsZEBS5",
        "outputId": "f630d99d-d49c-44f7-f033-fe0f245ccfb8"
      },
      "execution_count": null,
      "outputs": [
        {
          "output_type": "execute_result",
          "data": {
            "text/plain": [
              "       Age  Gender      Height      Weight       Urine         HR       Temp  \\\n",
              "0     54.0     0.0  169.787227   83.043044  171.052632  70.810811  37.357143   \n",
              "1     76.0     1.0  175.300000   80.670588  151.560976  80.794118  36.939130   \n",
              "2     44.0     0.0  169.787227   56.700000  124.951220  83.759259  37.800000   \n",
              "3     68.0     1.0  180.300000   84.600000  545.833333  70.983333  36.223077   \n",
              "4     88.0     0.0  169.787227   83.043044   62.131579  74.958333  36.880000   \n",
              "...    ...     ...         ...         ...         ...        ...        ...   \n",
              "3995  70.0     0.0  169.787227   87.000000   50.769231  99.230769  37.004762   \n",
              "3996  25.0     1.0  169.787227  166.400000  584.375000  79.136364  36.580000   \n",
              "3997  44.0     1.0  169.787227  109.000000  116.472222  97.884615  37.792308   \n",
              "3998  37.0     1.0  169.787227   87.400000   11.230769  88.461538  38.418182   \n",
              "3999  78.0     0.0  157.500000   87.838889   57.750000  88.531915  36.381395   \n",
              "\n",
              "      NIDiasABP      SysABP    DiasABP  ...     K          Na      FiO2  \\\n",
              "0     50.147059  118.591225  59.543420  ...  4.20  136.500000  0.549199   \n",
              "1     56.714286  113.411765  58.897059  ...  3.90  137.000000  0.560000   \n",
              "2     79.000000  125.687500  67.125000  ...  4.26  138.333333  0.500000   \n",
              "3     65.051724  118.591225  59.543420  ...  4.00  139.333333  0.549199   \n",
              "4     45.720930  118.591225  59.543420  ...  4.32  139.500000  0.549199   \n",
              "...         ...         ...        ...  ...   ...         ...       ...   \n",
              "3995  62.966667  117.230769  68.865385  ...  3.70  136.666667  0.442857   \n",
              "3996  58.409091  118.591225  59.543420  ...  3.72  140.200000  0.549199   \n",
              "3997  60.804348  125.666667  74.166667  ...  3.80  140.250000  0.412500   \n",
              "3998  57.351445  166.615385  92.923077  ...  4.65  144.000000  0.533333   \n",
              "3999  60.266667  111.532609  57.836957  ...  4.90  143.000000  0.600000   \n",
              "\n",
              "            GCS  RecordID  SAPS-I  SOFA  Length_of_stay    Survival  \\\n",
              "0     14.923077  132539.0     6.0   1.0             5.0  351.063772   \n",
              "1     13.333333  132540.0    16.0   8.0             8.0  351.063772   \n",
              "2      5.923077  132541.0    21.0  11.0            19.0  351.063772   \n",
              "3     14.944444  132543.0     7.0   1.0             9.0  575.000000   \n",
              "4     15.000000  132545.0    17.0   2.0             4.0  918.000000   \n",
              "...         ...       ...     ...   ...             ...         ...   \n",
              "3995  13.071429  142665.0    19.0   7.0            10.0  336.000000   \n",
              "3996  15.000000  142667.0     8.0   2.0             3.0  351.063772   \n",
              "3997   6.166667  142670.0     8.0   5.0            11.0  351.063772   \n",
              "3998   5.625000  142671.0    22.0  10.0             8.0    7.000000   \n",
              "3999   8.076923  142673.0    25.0  11.0             7.0  351.063772   \n",
              "\n",
              "      In-hospital_death  \n",
              "0                   0.0  \n",
              "1                   0.0  \n",
              "2                   0.0  \n",
              "3                   0.0  \n",
              "4                   0.0  \n",
              "...                 ...  \n",
              "3995                0.0  \n",
              "3996                0.0  \n",
              "3997                0.0  \n",
              "3998                1.0  \n",
              "3999                0.0  \n",
              "\n",
              "[4000 rows x 25 columns]"
            ],
            "text/html": [
              "\n",
              "  <div id=\"df-91c7abdd-6209-4c63-b069-e5be432945ce\">\n",
              "    <div class=\"colab-df-container\">\n",
              "      <div>\n",
              "<style scoped>\n",
              "    .dataframe tbody tr th:only-of-type {\n",
              "        vertical-align: middle;\n",
              "    }\n",
              "\n",
              "    .dataframe tbody tr th {\n",
              "        vertical-align: top;\n",
              "    }\n",
              "\n",
              "    .dataframe thead th {\n",
              "        text-align: right;\n",
              "    }\n",
              "</style>\n",
              "<table border=\"1\" class=\"dataframe\">\n",
              "  <thead>\n",
              "    <tr style=\"text-align: right;\">\n",
              "      <th></th>\n",
              "      <th>Age</th>\n",
              "      <th>Gender</th>\n",
              "      <th>Height</th>\n",
              "      <th>Weight</th>\n",
              "      <th>Urine</th>\n",
              "      <th>HR</th>\n",
              "      <th>Temp</th>\n",
              "      <th>NIDiasABP</th>\n",
              "      <th>SysABP</th>\n",
              "      <th>DiasABP</th>\n",
              "      <th>...</th>\n",
              "      <th>K</th>\n",
              "      <th>Na</th>\n",
              "      <th>FiO2</th>\n",
              "      <th>GCS</th>\n",
              "      <th>RecordID</th>\n",
              "      <th>SAPS-I</th>\n",
              "      <th>SOFA</th>\n",
              "      <th>Length_of_stay</th>\n",
              "      <th>Survival</th>\n",
              "      <th>In-hospital_death</th>\n",
              "    </tr>\n",
              "  </thead>\n",
              "  <tbody>\n",
              "    <tr>\n",
              "      <th>0</th>\n",
              "      <td>54.0</td>\n",
              "      <td>0.0</td>\n",
              "      <td>169.787227</td>\n",
              "      <td>83.043044</td>\n",
              "      <td>171.052632</td>\n",
              "      <td>70.810811</td>\n",
              "      <td>37.357143</td>\n",
              "      <td>50.147059</td>\n",
              "      <td>118.591225</td>\n",
              "      <td>59.543420</td>\n",
              "      <td>...</td>\n",
              "      <td>4.20</td>\n",
              "      <td>136.500000</td>\n",
              "      <td>0.549199</td>\n",
              "      <td>14.923077</td>\n",
              "      <td>132539.0</td>\n",
              "      <td>6.0</td>\n",
              "      <td>1.0</td>\n",
              "      <td>5.0</td>\n",
              "      <td>351.063772</td>\n",
              "      <td>0.0</td>\n",
              "    </tr>\n",
              "    <tr>\n",
              "      <th>1</th>\n",
              "      <td>76.0</td>\n",
              "      <td>1.0</td>\n",
              "      <td>175.300000</td>\n",
              "      <td>80.670588</td>\n",
              "      <td>151.560976</td>\n",
              "      <td>80.794118</td>\n",
              "      <td>36.939130</td>\n",
              "      <td>56.714286</td>\n",
              "      <td>113.411765</td>\n",
              "      <td>58.897059</td>\n",
              "      <td>...</td>\n",
              "      <td>3.90</td>\n",
              "      <td>137.000000</td>\n",
              "      <td>0.560000</td>\n",
              "      <td>13.333333</td>\n",
              "      <td>132540.0</td>\n",
              "      <td>16.0</td>\n",
              "      <td>8.0</td>\n",
              "      <td>8.0</td>\n",
              "      <td>351.063772</td>\n",
              "      <td>0.0</td>\n",
              "    </tr>\n",
              "    <tr>\n",
              "      <th>2</th>\n",
              "      <td>44.0</td>\n",
              "      <td>0.0</td>\n",
              "      <td>169.787227</td>\n",
              "      <td>56.700000</td>\n",
              "      <td>124.951220</td>\n",
              "      <td>83.759259</td>\n",
              "      <td>37.800000</td>\n",
              "      <td>79.000000</td>\n",
              "      <td>125.687500</td>\n",
              "      <td>67.125000</td>\n",
              "      <td>...</td>\n",
              "      <td>4.26</td>\n",
              "      <td>138.333333</td>\n",
              "      <td>0.500000</td>\n",
              "      <td>5.923077</td>\n",
              "      <td>132541.0</td>\n",
              "      <td>21.0</td>\n",
              "      <td>11.0</td>\n",
              "      <td>19.0</td>\n",
              "      <td>351.063772</td>\n",
              "      <td>0.0</td>\n",
              "    </tr>\n",
              "    <tr>\n",
              "      <th>3</th>\n",
              "      <td>68.0</td>\n",
              "      <td>1.0</td>\n",
              "      <td>180.300000</td>\n",
              "      <td>84.600000</td>\n",
              "      <td>545.833333</td>\n",
              "      <td>70.983333</td>\n",
              "      <td>36.223077</td>\n",
              "      <td>65.051724</td>\n",
              "      <td>118.591225</td>\n",
              "      <td>59.543420</td>\n",
              "      <td>...</td>\n",
              "      <td>4.00</td>\n",
              "      <td>139.333333</td>\n",
              "      <td>0.549199</td>\n",
              "      <td>14.944444</td>\n",
              "      <td>132543.0</td>\n",
              "      <td>7.0</td>\n",
              "      <td>1.0</td>\n",
              "      <td>9.0</td>\n",
              "      <td>575.000000</td>\n",
              "      <td>0.0</td>\n",
              "    </tr>\n",
              "    <tr>\n",
              "      <th>4</th>\n",
              "      <td>88.0</td>\n",
              "      <td>0.0</td>\n",
              "      <td>169.787227</td>\n",
              "      <td>83.043044</td>\n",
              "      <td>62.131579</td>\n",
              "      <td>74.958333</td>\n",
              "      <td>36.880000</td>\n",
              "      <td>45.720930</td>\n",
              "      <td>118.591225</td>\n",
              "      <td>59.543420</td>\n",
              "      <td>...</td>\n",
              "      <td>4.32</td>\n",
              "      <td>139.500000</td>\n",
              "      <td>0.549199</td>\n",
              "      <td>15.000000</td>\n",
              "      <td>132545.0</td>\n",
              "      <td>17.0</td>\n",
              "      <td>2.0</td>\n",
              "      <td>4.0</td>\n",
              "      <td>918.000000</td>\n",
              "      <td>0.0</td>\n",
              "    </tr>\n",
              "    <tr>\n",
              "      <th>...</th>\n",
              "      <td>...</td>\n",
              "      <td>...</td>\n",
              "      <td>...</td>\n",
              "      <td>...</td>\n",
              "      <td>...</td>\n",
              "      <td>...</td>\n",
              "      <td>...</td>\n",
              "      <td>...</td>\n",
              "      <td>...</td>\n",
              "      <td>...</td>\n",
              "      <td>...</td>\n",
              "      <td>...</td>\n",
              "      <td>...</td>\n",
              "      <td>...</td>\n",
              "      <td>...</td>\n",
              "      <td>...</td>\n",
              "      <td>...</td>\n",
              "      <td>...</td>\n",
              "      <td>...</td>\n",
              "      <td>...</td>\n",
              "      <td>...</td>\n",
              "    </tr>\n",
              "    <tr>\n",
              "      <th>3995</th>\n",
              "      <td>70.0</td>\n",
              "      <td>0.0</td>\n",
              "      <td>169.787227</td>\n",
              "      <td>87.000000</td>\n",
              "      <td>50.769231</td>\n",
              "      <td>99.230769</td>\n",
              "      <td>37.004762</td>\n",
              "      <td>62.966667</td>\n",
              "      <td>117.230769</td>\n",
              "      <td>68.865385</td>\n",
              "      <td>...</td>\n",
              "      <td>3.70</td>\n",
              "      <td>136.666667</td>\n",
              "      <td>0.442857</td>\n",
              "      <td>13.071429</td>\n",
              "      <td>142665.0</td>\n",
              "      <td>19.0</td>\n",
              "      <td>7.0</td>\n",
              "      <td>10.0</td>\n",
              "      <td>336.000000</td>\n",
              "      <td>0.0</td>\n",
              "    </tr>\n",
              "    <tr>\n",
              "      <th>3996</th>\n",
              "      <td>25.0</td>\n",
              "      <td>1.0</td>\n",
              "      <td>169.787227</td>\n",
              "      <td>166.400000</td>\n",
              "      <td>584.375000</td>\n",
              "      <td>79.136364</td>\n",
              "      <td>36.580000</td>\n",
              "      <td>58.409091</td>\n",
              "      <td>118.591225</td>\n",
              "      <td>59.543420</td>\n",
              "      <td>...</td>\n",
              "      <td>3.72</td>\n",
              "      <td>140.200000</td>\n",
              "      <td>0.549199</td>\n",
              "      <td>15.000000</td>\n",
              "      <td>142667.0</td>\n",
              "      <td>8.0</td>\n",
              "      <td>2.0</td>\n",
              "      <td>3.0</td>\n",
              "      <td>351.063772</td>\n",
              "      <td>0.0</td>\n",
              "    </tr>\n",
              "    <tr>\n",
              "      <th>3997</th>\n",
              "      <td>44.0</td>\n",
              "      <td>1.0</td>\n",
              "      <td>169.787227</td>\n",
              "      <td>109.000000</td>\n",
              "      <td>116.472222</td>\n",
              "      <td>97.884615</td>\n",
              "      <td>37.792308</td>\n",
              "      <td>60.804348</td>\n",
              "      <td>125.666667</td>\n",
              "      <td>74.166667</td>\n",
              "      <td>...</td>\n",
              "      <td>3.80</td>\n",
              "      <td>140.250000</td>\n",
              "      <td>0.412500</td>\n",
              "      <td>6.166667</td>\n",
              "      <td>142670.0</td>\n",
              "      <td>8.0</td>\n",
              "      <td>5.0</td>\n",
              "      <td>11.0</td>\n",
              "      <td>351.063772</td>\n",
              "      <td>0.0</td>\n",
              "    </tr>\n",
              "    <tr>\n",
              "      <th>3998</th>\n",
              "      <td>37.0</td>\n",
              "      <td>1.0</td>\n",
              "      <td>169.787227</td>\n",
              "      <td>87.400000</td>\n",
              "      <td>11.230769</td>\n",
              "      <td>88.461538</td>\n",
              "      <td>38.418182</td>\n",
              "      <td>57.351445</td>\n",
              "      <td>166.615385</td>\n",
              "      <td>92.923077</td>\n",
              "      <td>...</td>\n",
              "      <td>4.65</td>\n",
              "      <td>144.000000</td>\n",
              "      <td>0.533333</td>\n",
              "      <td>5.625000</td>\n",
              "      <td>142671.0</td>\n",
              "      <td>22.0</td>\n",
              "      <td>10.0</td>\n",
              "      <td>8.0</td>\n",
              "      <td>7.000000</td>\n",
              "      <td>1.0</td>\n",
              "    </tr>\n",
              "    <tr>\n",
              "      <th>3999</th>\n",
              "      <td>78.0</td>\n",
              "      <td>0.0</td>\n",
              "      <td>157.500000</td>\n",
              "      <td>87.838889</td>\n",
              "      <td>57.750000</td>\n",
              "      <td>88.531915</td>\n",
              "      <td>36.381395</td>\n",
              "      <td>60.266667</td>\n",
              "      <td>111.532609</td>\n",
              "      <td>57.836957</td>\n",
              "      <td>...</td>\n",
              "      <td>4.90</td>\n",
              "      <td>143.000000</td>\n",
              "      <td>0.600000</td>\n",
              "      <td>8.076923</td>\n",
              "      <td>142673.0</td>\n",
              "      <td>25.0</td>\n",
              "      <td>11.0</td>\n",
              "      <td>7.0</td>\n",
              "      <td>351.063772</td>\n",
              "      <td>0.0</td>\n",
              "    </tr>\n",
              "  </tbody>\n",
              "</table>\n",
              "<p>4000 rows × 25 columns</p>\n",
              "</div>\n",
              "      <button class=\"colab-df-convert\" onclick=\"convertToInteractive('df-91c7abdd-6209-4c63-b069-e5be432945ce')\"\n",
              "              title=\"Convert this dataframe to an interactive table.\"\n",
              "              style=\"display:none;\">\n",
              "        \n",
              "  <svg xmlns=\"http://www.w3.org/2000/svg\" height=\"24px\"viewBox=\"0 0 24 24\"\n",
              "       width=\"24px\">\n",
              "    <path d=\"M0 0h24v24H0V0z\" fill=\"none\"/>\n",
              "    <path d=\"M18.56 5.44l.94 2.06.94-2.06 2.06-.94-2.06-.94-.94-2.06-.94 2.06-2.06.94zm-11 1L8.5 8.5l.94-2.06 2.06-.94-2.06-.94L8.5 2.5l-.94 2.06-2.06.94zm10 10l.94 2.06.94-2.06 2.06-.94-2.06-.94-.94-2.06-.94 2.06-2.06.94z\"/><path d=\"M17.41 7.96l-1.37-1.37c-.4-.4-.92-.59-1.43-.59-.52 0-1.04.2-1.43.59L10.3 9.45l-7.72 7.72c-.78.78-.78 2.05 0 2.83L4 21.41c.39.39.9.59 1.41.59.51 0 1.02-.2 1.41-.59l7.78-7.78 2.81-2.81c.8-.78.8-2.07 0-2.86zM5.41 20L4 18.59l7.72-7.72 1.47 1.35L5.41 20z\"/>\n",
              "  </svg>\n",
              "      </button>\n",
              "      \n",
              "  <style>\n",
              "    .colab-df-container {\n",
              "      display:flex;\n",
              "      flex-wrap:wrap;\n",
              "      gap: 12px;\n",
              "    }\n",
              "\n",
              "    .colab-df-convert {\n",
              "      background-color: #E8F0FE;\n",
              "      border: none;\n",
              "      border-radius: 50%;\n",
              "      cursor: pointer;\n",
              "      display: none;\n",
              "      fill: #1967D2;\n",
              "      height: 32px;\n",
              "      padding: 0 0 0 0;\n",
              "      width: 32px;\n",
              "    }\n",
              "\n",
              "    .colab-df-convert:hover {\n",
              "      background-color: #E2EBFA;\n",
              "      box-shadow: 0px 1px 2px rgba(60, 64, 67, 0.3), 0px 1px 3px 1px rgba(60, 64, 67, 0.15);\n",
              "      fill: #174EA6;\n",
              "    }\n",
              "\n",
              "    [theme=dark] .colab-df-convert {\n",
              "      background-color: #3B4455;\n",
              "      fill: #D2E3FC;\n",
              "    }\n",
              "\n",
              "    [theme=dark] .colab-df-convert:hover {\n",
              "      background-color: #434B5C;\n",
              "      box-shadow: 0px 1px 3px 1px rgba(0, 0, 0, 0.15);\n",
              "      filter: drop-shadow(0px 1px 2px rgba(0, 0, 0, 0.3));\n",
              "      fill: #FFFFFF;\n",
              "    }\n",
              "  </style>\n",
              "\n",
              "      <script>\n",
              "        const buttonEl =\n",
              "          document.querySelector('#df-91c7abdd-6209-4c63-b069-e5be432945ce button.colab-df-convert');\n",
              "        buttonEl.style.display =\n",
              "          google.colab.kernel.accessAllowed ? 'block' : 'none';\n",
              "\n",
              "        async function convertToInteractive(key) {\n",
              "          const element = document.querySelector('#df-91c7abdd-6209-4c63-b069-e5be432945ce');\n",
              "          const dataTable =\n",
              "            await google.colab.kernel.invokeFunction('convertToInteractive',\n",
              "                                                     [key], {});\n",
              "          if (!dataTable) return;\n",
              "\n",
              "          const docLinkHtml = 'Like what you see? Visit the ' +\n",
              "            '<a target=\"_blank\" href=https://colab.research.google.com/notebooks/data_table.ipynb>data table notebook</a>'\n",
              "            + ' to learn more about interactive tables.';\n",
              "          element.innerHTML = '';\n",
              "          dataTable['output_type'] = 'display_data';\n",
              "          await google.colab.output.renderOutput(dataTable, element);\n",
              "          const docLink = document.createElement('div');\n",
              "          docLink.innerHTML = docLinkHtml;\n",
              "          element.appendChild(docLink);\n",
              "        }\n",
              "      </script>\n",
              "    </div>\n",
              "  </div>\n",
              "  "
            ]
          },
          "metadata": {},
          "execution_count": 6
        }
      ]
    },
    {
      "cell_type": "code",
      "source": [
        "def standardize_col(col):\n",
        "    return (col - col.mean()) / col.std()"
      ],
      "metadata": {
        "id": "Bo6DuBQMORI8"
      },
      "execution_count": null,
      "outputs": []
    },
    {
      "cell_type": "code",
      "source": [
        "full_dat_out.info()"
      ],
      "metadata": {
        "colab": {
          "base_uri": "https://localhost:8080/"
        },
        "id": "ufwy-XIdJH-5",
        "outputId": "38f39beb-fc5b-44c5-94d4-32a17e5c95e6"
      },
      "execution_count": null,
      "outputs": [
        {
          "output_type": "stream",
          "name": "stdout",
          "text": [
            "<class 'pandas.core.frame.DataFrame'>\n",
            "Int64Index: 4000 entries, 0 to 3999\n",
            "Data columns (total 25 columns):\n",
            " #   Column             Non-Null Count  Dtype  \n",
            "---  ------             --------------  -----  \n",
            " 0   Age                4000 non-null   float64\n",
            " 1   Gender             4000 non-null   float64\n",
            " 2   Height             4000 non-null   float64\n",
            " 3   Weight             4000 non-null   float64\n",
            " 4   Urine              4000 non-null   float64\n",
            " 5   HR                 4000 non-null   float64\n",
            " 6   Temp               4000 non-null   float64\n",
            " 7   NIDiasABP          4000 non-null   float64\n",
            " 8   SysABP             4000 non-null   float64\n",
            " 9   DiasABP            4000 non-null   float64\n",
            " 10  pH                 4000 non-null   float64\n",
            " 11  PaCO2              4000 non-null   float64\n",
            " 12  PaO2               4000 non-null   float64\n",
            " 13  Platelets          4000 non-null   float64\n",
            " 14  MAP                4000 non-null   float64\n",
            " 15  K                  4000 non-null   float64\n",
            " 16  Na                 4000 non-null   float64\n",
            " 17  FiO2               4000 non-null   float64\n",
            " 18  GCS                4000 non-null   float64\n",
            " 19  RecordID           4000 non-null   float64\n",
            " 20  SAPS-I             4000 non-null   float64\n",
            " 21  SOFA               4000 non-null   float64\n",
            " 22  Length_of_stay     4000 non-null   float64\n",
            " 23  Survival           4000 non-null   float64\n",
            " 24  In-hospital_death  4000 non-null   float64\n",
            "dtypes: float64(25)\n",
            "memory usage: 812.5 KB\n"
          ]
        }
      ]
    },
    {
      "cell_type": "markdown",
      "metadata": {
        "id": "SnDhpohgow3w"
      },
      "source": [
        "### a) Understanding the Data (2 points)\n",
        "Looking at the files and the code provided above, explain:\n",
        "\n",
        "\n",
        "*   What is the size of your input data? how many parameters exist in the data?\n",
        "*   Exaplain what the code provided above is trying to achieve.\n",
        "\n"
      ]
    },
    {
      "cell_type": "markdown",
      "metadata": {
        "id": "FNeXUGzLGokw"
      },
      "source": [
        "We have 25 parameters, before the data cleaning we had 4000 inputs and after data cleaning we ended up with 3635. \n",
        "\n",
        "The code is reading a csv file, and read the TXT file and combine them and save in the data frame. Then we set all the -1 value to the mean of the value, merge the full_dat frame with record_ids and add it to a new data frame called full_dat_out"
      ]
    },
    {
      "cell_type": "markdown",
      "metadata": {
        "id": "XsxxN2ZippDD"
      },
      "source": [
        "### b) Run Logistic Regression (9 points)\n",
        "\n",
        "\n",
        "Divide your data into training, validation, and test sets (60-20-20). \n",
        "\n",
        "Use the features `HR`, `Gender`, `age`, `temperature`, `weight`, `height`, `PaO2`, and  `PaCO2`, and fit a logistic regression model to predict in-hospital death. "
      ]
    },
    {
      "cell_type": "code",
      "source": [
        "#clean data\n",
        "feat = ['HR', 'Gender', 'Age', 'Temp', 'Weight', 'Height', 'PaO2', 'PaCO2']\n",
        "full_dat_out.dropna(inplace=True)\n",
        "for i in full_dat_out:\n",
        "    if i in feat:\n",
        "        full_dat_out = full_dat_out.loc[full_dat_out[i] > (full_dat_out[i].mean()-full_dat_out[i].std()*4)]\n",
        "        full_dat_out = full_dat_out.loc[full_dat_out[i] < (full_dat_out[i].mean()+full_dat_out[i].std()*4)]"
      ],
      "metadata": {
        "id": "46nm-WF82Kln"
      },
      "execution_count": null,
      "outputs": []
    },
    {
      "cell_type": "code",
      "execution_count": null,
      "metadata": {
        "colab": {
          "base_uri": "https://localhost:8080/"
        },
        "id": "_rYxaZ5CqJqr",
        "outputId": "93d0ab33-dfa6-4482-c1e4-c4d7a35993c3"
      },
      "outputs": [
        {
          "output_type": "stream",
          "name": "stdout",
          "text": [
            "<class 'pandas.core.frame.DataFrame'>\n",
            "Int64Index: 3886 entries, 0 to 3999\n",
            "Data columns (total 25 columns):\n",
            " #   Column             Non-Null Count  Dtype  \n",
            "---  ------             --------------  -----  \n",
            " 0   Age                3886 non-null   float64\n",
            " 1   Gender             3886 non-null   float64\n",
            " 2   Height             3886 non-null   float64\n",
            " 3   Weight             3886 non-null   float64\n",
            " 4   Urine              3886 non-null   float64\n",
            " 5   HR                 3886 non-null   float64\n",
            " 6   Temp               3886 non-null   float64\n",
            " 7   NIDiasABP          3886 non-null   float64\n",
            " 8   SysABP             3886 non-null   float64\n",
            " 9   DiasABP            3886 non-null   float64\n",
            " 10  pH                 3886 non-null   float64\n",
            " 11  PaCO2              3886 non-null   float64\n",
            " 12  PaO2               3886 non-null   float64\n",
            " 13  Platelets          3886 non-null   float64\n",
            " 14  MAP                3886 non-null   float64\n",
            " 15  K                  3886 non-null   float64\n",
            " 16  Na                 3886 non-null   float64\n",
            " 17  FiO2               3886 non-null   float64\n",
            " 18  GCS                3886 non-null   float64\n",
            " 19  RecordID           3886 non-null   float64\n",
            " 20  SAPS-I             3886 non-null   float64\n",
            " 21  SOFA               3886 non-null   float64\n",
            " 22  Length_of_stay     3886 non-null   float64\n",
            " 23  Survival           3886 non-null   float64\n",
            " 24  In-hospital_death  3886 non-null   float64\n",
            "dtypes: float64(25)\n",
            "memory usage: 789.3 KB\n"
          ]
        }
      ],
      "source": [
        "from sklearn.model_selection import train_test_split\n",
        "from sklearn import linear_model\n",
        "from sklearn import datasets\n",
        "from sklearn import preprocessing\n",
        "from sklearn import utils\n",
        "\n",
        "X = full_dat_out.iloc[:,0] # Create vector of explanatory variables\n",
        "y = full_dat_out.iloc[:,1] # Create vector of target variables\n",
        "\n",
        "# Cast dataframes into numpy arrays\n",
        "X = X.values\n",
        "y = y.values\n",
        "\n",
        "# Split data into X_train, Y_train, X_val, y_val, X_test y_test using sklearn\n",
        "X_train, X_test, y_train, y_test = train_test_split(X, y, test_size=0.2)\n",
        "\n",
        "X_train, X_val, y_train, y_val = train_test_split(X_train, y_train, test_size = 0.25)\n",
        "\n",
        "train_index = np.argsort( X_train )\n",
        "test_index = np.argsort( X_test )\n",
        "val_index = np.argsort( X_val )\n",
        "\n",
        "np.take_along_axis( y_train , train_index, axis = 0)\n",
        "np.take_along_axis( y_test , test_index, axis = 0)\n",
        "np.take_along_axis( y_val , val_index, axis = 0)\n",
        "\n",
        "np.sort(X_train)\n",
        "np.sort(X_test)\n",
        "np.sort(X_val)\n",
        "\n",
        "# Reshape X_train, X_test for sklearn LinearRegression\n",
        "X_train = X_train.reshape(-1,1)\n",
        "X_test = X_test.reshape(-1,1)\n",
        "X_val = X_val.reshape(-1, 1)\n",
        "\n",
        "lab = preprocessing.LabelEncoder()\n",
        "y_transformed = lab.fit_transform(y_train)\n",
        "\n",
        "# Regression\n",
        "reg = linear_model.LogisticRegression()\n",
        "reg.fit(X_train, y_transformed)\n",
        "full_dat_out.info()"
      ]
    },
    {
      "cell_type": "markdown",
      "metadata": {
        "id": "4SOJAqoYqTAm"
      },
      "source": [
        "### c) ROC Curve (10 points)\n",
        "\n",
        "Write a function that, for a given threshold (prob. threshold), calculates both the False Positive Rate (proportion of non-deaths identified as deaths by the model) and True Positive Rate (proportion of deaths correctly identified as such by the model) for your regression model. \n",
        "\n",
        "For 100 threshold values equally spaced from 0 to 1, plot the True Positive Rate vs. the False Positive Rate. Use the validation set.\n",
        "\n",
        "This plot is known as an ROC curve. \n"
      ]
    },
    {
      "cell_type": "code",
      "execution_count": null,
      "metadata": {
        "id": "kkqWXtgVqsdM",
        "colab": {
          "base_uri": "https://localhost:8080/",
          "height": 279
        },
        "outputId": "c9074755-8334-4eac-ec60-5d7fab828910"
      },
      "outputs": [
        {
          "output_type": "display_data",
          "data": {
            "text/plain": [
              "<Figure size 432x288 with 1 Axes>"
            ],
            "image/png": "[encoded data removed]"
          },
          "metadata": {
            "needs_background": "light"
          }
        }
      ],
      "source": [
        "### YOUR CODE HERE ###\n",
        "from sklearn import metrics\n",
        "import matplotlib.pyplot as plt\n",
        "\n",
        "y_pred = reg.predict_proba(X_val)[::,1]\n",
        "y_true = []\n",
        "y_score = []\n",
        "for i in range(len(y_val)):\n",
        "    if y_val[i] >= 0.5:\n",
        "        y_true.append(1)\n",
        "    else:\n",
        "        y_true.append(0)\n",
        "    y_score.append(y_pred[i])\n",
        "\n",
        "fpr, tpr, _ = metrics.roc_curve(y_true,  y_score)\n",
        "\n",
        "#create ROC curve\n",
        "plt.plot(fpr,tpr)\n",
        "plt.ylabel('TPR')\n",
        "plt.xlabel('FPR')\n",
        "plt.show()"
      ]
    },
    {
      "cell_type": "markdown",
      "metadata": {
        "id": "z7Zp4wTZqwt8"
      },
      "source": [
        "### d) Interpreting the ROC Curve (4 points)\n",
        "\n",
        "Using the plot generated in Part (c), what is the False Positive Rate associated with correctly identifying 80% of patients at risk for death in the ICU? Why might a high false positive rate be appropriate in this setting? You can read the answer off the ROC curve plot.\n"
      ]
    },
    {
      "cell_type": "markdown",
      "metadata": {
        "id": "xZw448eJrH57"
      },
      "source": [
        "[The rate of False Positive cases that associates with correctly identifying 80 percent of patients at risk of death is about 0.7; it is better to have such high rating just in case the person is not sick, but the test inaccurately reports that they are so overclassifying in the risk of death category cana perhaps means extra precussion for more patients.]"
      ]
    },
    {
      "cell_type": "markdown",
      "metadata": {
        "id": "OxaSbV6brbcn"
      },
      "source": [
        "\n",
        "### e) Modelling Doctors' Decision-Making (6 points)\n",
        "\n",
        "For this part, produce a short report that answers all the questions below. Include code that produces the numbers that you need.\n",
        "\n",
        "At the beginning of their shift, a doctor reviews their patients' charts, and decides what intervention is needed for each patient. In the following parts, we will be trying to improve this process. We will consider a simplified version of what is going on. Suppose that if the doctor intervenes correctly, the patient will not die; suppose that the doctor has 60 minutes to look through 25 patient charts; and suppose that the probability of missing the correct treatment if the doctor spends $t$ minutes on reviewing a file is\n",
        "\n",
        "$$P(\\textrm{fail}) = \\exp(-t^2/100).$$\n",
        "\n",
        "\n",
        "1. If the doctor reviews all the files, spends an equal amount of time on each chart, and there are 10 patients who will die without the correct intervention, how many patients are expected to die, if the doctor intervenes when they see that that's needed? What is the percentage of patients who are expected to die, out of 25?\n",
        "\n",
        "2. Suppose now that the doctor is looking through all the patient charts in the validation set. They would have proportionately more time: $(N/25)\\times 60$ minutes in total (where $N$ is the total number of patients in the set). How many patients would be expected to die, if the doctor intervenes correctly when they know they should do that?\n",
        "\n",
        "3. Now, suppose that the doctor only reviews the files of patients for whom the model outputs a probability of greater than $20\\%$. This would give the doctor more time to look through each file, but the doctor would never be able to intervene in the cases of patients form whom the output is $20\\%$ or smaller. How many patients would be expected to die?\n",
        "\n"
      ]
    },
    {
      "cell_type": "markdown",
      "metadata": {
        "id": "Rhu6v6SLtF9H"
      },
      "source": [
        "1. Given that the doctor takes an equal amount of time (2.4 minutes) to review 25 patients' charts, we plug it in the P(fail) function which gives us roughly 0.944 probability of failed treatment. We multuply that by 10 to get the number of patients expected to die (**9.44 people**) which is equivalent to **37.76%** of the 25 people total that are dying. \n",
        "\n",
        "2. Its the same time ratio per patient which is 2.4 minutes, so if we were to take the number of patients who are sick (otherwise categorized as 1 on the y_validation set which equals 106) and multiply it by the same exact probability of failure (0.944), we would get 101.01 people who will die.\n",
        "\n",
        "3. 123 people are expected to die out of the 777 people that are in the validation set, given the 144 people that were above the threshold of 0.2."
      ]
    },
    {
      "cell_type": "code",
      "source": [
        "import math as m\n",
        "# problem 1\n",
        "t = 60/25 # 60 minutes given per 25 patients \n",
        "print(\"probability of failure for 10 people:\", m.exp(-pow(t, 2)/100))\n",
        "# problem 2\n",
        "N = len(X_val) # number of patients in the validation set (20% of total set)\n",
        "x = m.floor(np.count_nonzero(y_val)/4.10)\n",
        "print(x)\n",
        "print(\"Expected number of patients to die is:\", 107 * m.exp(-pow(t, 2)/100))\n",
        "y_val_pred_props = reg.predict_proba(X_val)[::,1]\n"
      ],
      "metadata": {
        "colab": {
          "base_uri": "https://localhost:8080/"
        },
        "id": "fyjFZfPlW5hP",
        "outputId": "d54edd7d-92af-437d-9ab2-b08bcaba58bc"
      },
      "execution_count": null,
      "outputs": [
        {
          "output_type": "stream",
          "name": "stdout",
          "text": [
            "probability of failure for 10 people: 0.9440274829178357\n",
            "103\n",
            "Expected number of patients to die is: 101.01094067220842\n"
          ]
        }
      ]
    },
    {
      "cell_type": "markdown",
      "metadata": {
        "id": "kTPEGX9QsoVG"
      },
      "source": [
        "### f) Modelling Doctors' Decision-Making - Revisited (7 points)\n",
        "\n",
        "\n",
        "In this Part, you will explore the policy implications of using our model in an understaffed hospital. \n",
        "\n",
        "Suppose that we are considering a policy of only reviewing the files of patients whose probability of death is above a threshold `thr`. Each chart would be given an equal amount of time, and the total amount of time will be $(N/25)\\times 60$.\n",
        "\n",
        "Using the model from previous part, plot the total number of expected deaths under the policy vs. the threshold. Using the plot, what is the best threshold to use that would minimize the number of deaths?\n",
        "\n",
        "You should compute the expected number of deaths for the thresholds `np.arange(0, 1, 0.01)`.\n",
        "\n",
        "Use the validation set.\n",
        "\n",
        "\n"
      ]
    },
    {
      "cell_type": "code",
      "source": [
        "np.arange(0, 1, 0.01)"
      ],
      "metadata": {
        "colab": {
          "base_uri": "https://localhost:8080/"
        },
        "id": "feB5mLM63qPu",
        "outputId": "310e6bf5-f373-4453-fb54-cf29acc0bb9b"
      },
      "execution_count": null,
      "outputs": [
        {
          "output_type": "execute_result",
          "data": {
            "text/plain": [
              "array([0.  , 0.01, 0.02, 0.03, 0.04, 0.05, 0.06, 0.07, 0.08, 0.09, 0.1 ,\n",
              "       0.11, 0.12, 0.13, 0.14, 0.15, 0.16, 0.17, 0.18, 0.19, 0.2 , 0.21,\n",
              "       0.22, 0.23, 0.24, 0.25, 0.26, 0.27, 0.28, 0.29, 0.3 , 0.31, 0.32,\n",
              "       0.33, 0.34, 0.35, 0.36, 0.37, 0.38, 0.39, 0.4 , 0.41, 0.42, 0.43,\n",
              "       0.44, 0.45, 0.46, 0.47, 0.48, 0.49, 0.5 , 0.51, 0.52, 0.53, 0.54,\n",
              "       0.55, 0.56, 0.57, 0.58, 0.59, 0.6 , 0.61, 0.62, 0.63, 0.64, 0.65,\n",
              "       0.66, 0.67, 0.68, 0.69, 0.7 , 0.71, 0.72, 0.73, 0.74, 0.75, 0.76,\n",
              "       0.77, 0.78, 0.79, 0.8 , 0.81, 0.82, 0.83, 0.84, 0.85, 0.86, 0.87,\n",
              "       0.88, 0.89, 0.9 , 0.91, 0.92, 0.93, 0.94, 0.95, 0.96, 0.97, 0.98,\n",
              "       0.99])"
            ]
          },
          "metadata": {},
          "execution_count": 13
        }
      ]
    },
    {
      "cell_type": "markdown",
      "metadata": {
        "id": "k-AngQwKsmQs"
      },
      "source": [
        "[It seems that with this np arange, our threshold of 0.2 allows the minimum chances of having death cases. The ones that were below 20 percent are most likely surviving and not sick (false positives perhaps), so the ones above that line who also have that 0.944 probability of having inccorect treatments are much needed to be taken care of.]"
      ]
    },
    {
      "cell_type": "markdown",
      "metadata": {
        "id": "mvwthgOFtR1o"
      },
      "source": [
        "### g) Modelling Doctors' Decision-Making - Testing (7 points)\n",
        "\n",
        "On the test set, compare the total number of expected deaths under the best policy that was selected in Part (f) to reviewing each patient's file. In relative terms (i.e., as a percentage), how many lives would be saved, if the assumptions underlying our simulation are accurate?"
      ]
    },
    {
      "cell_type": "markdown",
      "source": [
        "For the test case (same size as validation) we might say we save 777-123 = **654** people that we can save, given that our model is accurately portrayed."
      ],
      "metadata": {
        "id": "qgBwb6L13nZ0"
      }
    },
    {
      "cell_type": "markdown",
      "metadata": {
        "id": "450ttnh1rTHv"
      },
      "source": [
        "## Question 2 - Neural Networks\n",
        "---"
      ]
    },
    {
      "cell_type": "markdown",
      "metadata": {
        "id": "2pJDzLxgFRnq"
      },
      "source": [
        "We will train a fully connected neural networks to recognize face images of cats and dogs. "
      ]
    },
    {
      "cell_type": "code",
      "execution_count": null,
      "metadata": {
        "id": "5encn65BdSDA"
      },
      "outputs": [],
      "source": [
        "import numpy as np\n",
        "import matplotlib.pyplot as plt\n",
        "import seaborn as sns\n",
        "\n",
        "import tensorflow as tf\n",
        "\n",
        "from sklearn.metrics import accuracy_score, precision_score, recall_score\n",
        "from sklearn.model_selection import train_test_split\n",
        "from tensorflow.keras import layers, losses\n",
        "from tensorflow.keras.models import Model"
      ]
    },
    {
      "cell_type": "code",
      "execution_count": null,
      "metadata": {
        "id": "XnAKNiqwdZsz"
      },
      "outputs": [],
      "source": [
        "data_dir = 'pets'\n",
        "image_width = 32\n",
        "image_height = 32\n",
        "batch_size = 10"
      ]
    },
    {
      "cell_type": "markdown",
      "metadata": {
        "id": "Rv8hoj1RFEwf"
      },
      "source": [
        "### a) Load the Pets Dataset (2 points)\n",
        "There are 110 images of size $32\\times32$. Run the following code block to import the data. Keep in mind that they will be downloaded from the internet, so it may take a while."
      ]
    },
    {
      "cell_type": "code",
      "execution_count": null,
      "metadata": {
        "id": "omRBRQeFFtRh"
      },
      "outputs": [],
      "source": [
        "!pip install -U -q PyDrive\n",
        "from pydrive.auth import GoogleAuth\n",
        "from pydrive.drive import GoogleDrive\n",
        "from google.colab import auth\n",
        "from oauth2client.client import GoogleCredentials"
      ]
    },
    {
      "cell_type": "code",
      "execution_count": null,
      "metadata": {
        "id": "ftdpCw3sGSsj"
      },
      "outputs": [],
      "source": [
        "auth.authenticate_user()\n",
        "gauth = GoogleAuth()\n",
        "gauth.credentials = GoogleCredentials.get_application_default()\n",
        "drive = GoogleDrive(gauth)"
      ]
    },
    {
      "cell_type": "code",
      "execution_count": null,
      "metadata": {
        "id": "C_yBWs3DGSjz"
      },
      "outputs": [],
      "source": [
        "# Download the data\n",
        "downloaded = drive.CreateFile({'id':\"1NXiYkupBcolg90e6wE_Nm_F9VTFoXIja\"})\n",
        "downloaded.GetContentFile('pets.npy')  \n",
        "data = np.load(\"pets.npy\",allow_pickle=True)"
      ]
    },
    {
      "cell_type": "code",
      "execution_count": null,
      "metadata": {
        "id": "oFpgDEk6uuif"
      },
      "outputs": [],
      "source": [
        "# Create X and y\n",
        "X, y = (data[()]['X'], data[()]['y'])"
      ]
    },
    {
      "cell_type": "code",
      "execution_count": null,
      "metadata": {
        "id": "75sQm7KEvyE-"
      },
      "outputs": [],
      "source": [
        "# Get class names and create ID\n",
        "class_names = ['cat', 'dog']\n",
        "class_dict = {i:class_name for i,class_name in enumerate(class_names)}"
      ]
    },
    {
      "cell_type": "code",
      "execution_count": null,
      "metadata": {
        "id": "FgPbauFpvnOW",
        "colab": {
          "base_uri": "https://localhost:8080/",
          "height": 582
        },
        "outputId": "c7092b48-613f-4a2f-97ff-af636b344b9a"
      },
      "outputs": [
        {
          "output_type": "display_data",
          "data": {
            "text/plain": [
              "<Figure size 720x720 with 18 Axes>"
            ],
            "image/png": "[encoded data removed]"
          },
          "metadata": {
            "needs_background": "light"
          }
        }
      ],
      "source": [
        "# Plot some images\n",
        "import matplotlib.pyplot as plt\n",
        "\n",
        "plt.figure(figsize=(10, 10))\n",
        "for count, i in enumerate(range(0,110, 13)):\n",
        "    ax = plt.subplot(3, 3, count + 1)\n",
        "    plt.imshow(X[i],cmap='gray')\n",
        "    plt.colorbar()\n",
        "    plt.title(class_names[y[i]])\n",
        "    plt.axis(\"off\")"
      ]
    },
    {
      "cell_type": "markdown",
      "metadata": {
        "id": "ifErOj9vInrc"
      },
      "source": [
        "Answer the following questions:\n",
        "\n",
        "1.) What are the data types for X and y?\n",
        "\n",
        "2.) What are the shapes of X and y?\n",
        "\n",
        "3.) What is the minimum and maximum value of X?"
      ]
    },
    {
      "cell_type": "markdown",
      "metadata": {
        "id": "txWj4q86IyRV"
      },
      "source": [
        "1. They both are numpy arrays\n",
        "2. Theres 110 arrays of 32 by 32 for x and 110 dimensions for y\n",
        "3. min = 0, max = 255\n"
      ]
    },
    {
      "cell_type": "code",
      "source": [
        "print(type(X), type(y))\n",
        "print(X.shape, y.shape)\n",
        "print(X.min(), X.max())"
      ],
      "metadata": {
        "colab": {
          "base_uri": "https://localhost:8080/"
        },
        "id": "xPqYaOr7Gyf1",
        "outputId": "299b89fa-1956-450a-afa8-96b9290290bd"
      },
      "execution_count": null,
      "outputs": [
        {
          "output_type": "stream",
          "name": "stdout",
          "text": [
            "<class 'numpy.ndarray'> <class 'numpy.ndarray'>\n",
            "(110, 32, 32) (110,)\n",
            "0 255\n"
          ]
        }
      ]
    },
    {
      "cell_type": "markdown",
      "metadata": {
        "id": "MR3_LMzk-BQr"
      },
      "source": [
        "### b) Data Preprocessing (3 points)\n",
        "As you can see above, the pixel values are in the [0,255]. This is the normal range for images. Recall from the previous lectures and excercises that we need to normalize our data.\n",
        "\n",
        "In order to normalize our data to [0,1] we use the equation:\n",
        "\n",
        "$$x_{norm}=\\frac{x-x_{min}}{x_{max}-x_{min}}$$\n",
        "\n",
        "In our case we can assume that $x_{min}=0$ and $x_{max}=255$, this is a safe assumption since we are working with image data.\n",
        "\n",
        "This means that for image data, if we want to normlize to [0,1] the equation simplifies to:\n",
        "\n",
        "$$img_{norm}=\\frac{img}{255}$$\n",
        "\n",
        "Anytime you work with image data in any kind of model you will be normalizing with this equation. Unless the range you want to normalize is different. Sometimes you want to normalize between [-1,1], for that you would use a slightly different equation."
      ]
    },
    {
      "cell_type": "markdown",
      "metadata": {
        "id": "Gs0HcmzqyJEG"
      },
      "source": [
        "\n",
        "Normalize the X data using the above equation and save as train_images."
      ]
    },
    {
      "cell_type": "code",
      "execution_count": null,
      "metadata": {
        "id": "ark9tbBAvnDO"
      },
      "outputs": [],
      "source": [
        "train_images =  X/255"
      ]
    },
    {
      "cell_type": "markdown",
      "metadata": {
        "id": "WxIqbEVnx_uu"
      },
      "source": [
        "If we show the image agian, you will see the values are all scaled correctly."
      ]
    },
    {
      "cell_type": "code",
      "execution_count": null,
      "metadata": {
        "id": "zXNb69WxySfS",
        "colab": {
          "base_uri": "https://localhost:8080/",
          "height": 585
        },
        "outputId": "316b1908-c0d4-4e28-af18-52aaf7aeeab9"
      },
      "outputs": [
        {
          "output_type": "display_data",
          "data": {
            "text/plain": [
              "<Figure size 720x720 with 18 Axes>"
            ],
            "image/png": "[encoded data removed]"
          },
          "metadata": {
            "needs_background": "light"
          }
        }
      ],
      "source": [
        "# Plot images\n",
        "import matplotlib.pyplot as plt\n",
        "\n",
        "plt.figure(figsize=(10, 10))\n",
        "for count, i in enumerate(range(0,110, 13)):\n",
        "    ax = plt.subplot(3, 3, count + 1)\n",
        "    plt.imshow(train_images[i],cmap='gray')\n",
        "    plt.colorbar()\n",
        "    plt.title(class_names[y[i]])\n",
        "    plt.axis(\"off\")"
      ]
    },
    {
      "cell_type": "markdown",
      "metadata": {
        "id": "_IX3skDRJ_Op"
      },
      "source": [
        "What is the new minimum and maximum value of X?"
      ]
    },
    {
      "cell_type": "markdown",
      "metadata": {
        "id": "-bRAqSYGKDLn"
      },
      "source": [
        "min = 0.0, max = 1.0"
      ]
    },
    {
      "cell_type": "code",
      "source": [
        "print(train_images.min(), train_images.max())"
      ],
      "metadata": {
        "colab": {
          "base_uri": "https://localhost:8080/"
        },
        "id": "Ot8BziL6I97O",
        "outputId": "6216b048-7f68-446d-9851-95233c36a7ed"
      },
      "execution_count": null,
      "outputs": [
        {
          "output_type": "stream",
          "name": "stdout",
          "text": [
            "0.0 1.0\n"
          ]
        }
      ]
    },
    {
      "cell_type": "markdown",
      "metadata": {
        "id": "ZAwvboqPf-B_"
      },
      "source": [
        "### c) Reshaping the Data (5 points)\n",
        "\n",
        "Please reshpe training images to be 1024-dim (from $32 \\times 32$). \n",
        "\n",
        "Hint: look into numpy.reshape().\n"
      ]
    },
    {
      "cell_type": "code",
      "execution_count": null,
      "metadata": {
        "id": "iJ--OeGe-BQ7",
        "colab": {
          "base_uri": "https://localhost:8080/"
        },
        "outputId": "d3412c31-d2ab-4d96-b982-204d1904b2bb"
      },
      "outputs": [
        {
          "output_type": "stream",
          "name": "stdout",
          "text": [
            "Before reshape, train_images shape: (110, 32, 32)\n",
            "Before reshape, train_images shape: (110, 1024)\n"
          ]
        }
      ],
      "source": [
        "print(f'Before reshape, train_images shape: {train_images.shape}')\n",
        "\n",
        "train_images = np.reshape(train_images, (110, 1024, ))\n",
        "\n",
        "print(f'Before reshape, train_images shape: {train_images.shape}')\n"
      ]
    },
    {
      "cell_type": "markdown",
      "metadata": {
        "id": "rQV3-ZRRKcD5"
      },
      "source": [
        "### d) Building a Simple Neural Network (15 points)\n",
        "In the cell below, build a fully-connected feed-forward neural network with the following layers:\n",
        "* **input layer** of shape 1024\n",
        "* **hidden layer** with 25 neurons, and relu activation\n",
        "* **output layer** with 1 neuron, and sigmoid activation"
      ]
    },
    {
      "cell_type": "code",
      "execution_count": null,
      "metadata": {
        "id": "fz_g2Qm6DTgJ"
      },
      "outputs": [],
      "source": [
        "from tensorflow.keras.layers import Input, Dense \n",
        "from tensorflow.keras.models import Model\n",
        "from tensorflow.keras.optimizers import *\n",
        "\n",
        "# Build neural network\n",
        "# YOUR CODE HERE\n",
        "\n",
        "input_layer = Input(shape=(1024))\n",
        "x = Dense(25, activation='relu')(input_layer)\n",
        "x = Dense(1, activation='sigmoid')(x)\n",
        "model = Model(input_layer, x)\n"
      ]
    },
    {
      "cell_type": "code",
      "execution_count": null,
      "metadata": {
        "id": "6HU26g16DxVG",
        "colab": {
          "base_uri": "https://localhost:8080/"
        },
        "outputId": "3f6e0500-d190-48d3-b67c-2704d5c4eb3f"
      },
      "outputs": [
        {
          "output_type": "stream",
          "name": "stdout",
          "text": [
            "Model: \"model_4\"\n",
            "_________________________________________________________________\n",
            " Layer (type)                Output Shape              Param #   \n",
            "=================================================================\n",
            " input_5 (InputLayer)        [(None, 1024)]            0         \n",
            "                                                                 \n",
            " dense_9 (Dense)             (None, 25)                25625     \n",
            "                                                                 \n",
            " dense_10 (Dense)            (None, 1)                 26        \n",
            "                                                                 \n",
            "=================================================================\n",
            "Total params: 25,651\n",
            "Trainable params: 25,651\n",
            "Non-trainable params: 0\n",
            "_________________________________________________________________\n"
          ]
        }
      ],
      "source": [
        "# Show a summary of your model\n",
        "model.summary()"
      ]
    },
    {
      "cell_type": "markdown",
      "metadata": {
        "id": "s6M3CZ-MNOA_"
      },
      "source": [
        "Declare the optimizer using Stochastic Gradient Descient with learning rate of 0.001, weight decay of 1e-6 and momentum of 0.009. Compile your model using the 'binary_crossentropy' loss function and 'accuracy' as the metrics."
      ]
    },
    {
      "cell_type": "code",
      "execution_count": null,
      "metadata": {
        "id": "JDygMwK8JklW"
      },
      "outputs": [],
      "source": [
        "# Declare optimizer\n",
        "optimizer =  tf.keras.optimizers.SGD(learning_rate=0.001, decay=1e-6, momentum=0.009)\n",
        "\n",
        "# Compile model\n",
        "model.compile(optimizer, loss='binary_crossentropy', metrics=['accuracy'])"
      ]
    },
    {
      "cell_type": "markdown",
      "metadata": {
        "id": "l38yMkAMV9AJ"
      },
      "source": [
        "Now we will train our model to learn pet faces using train_images and the 'y' labels. Our dataset is small so we will use 10% of the data as test set data. Train your model using the following parameters:\n",
        "\n",
        "Fit your model using the train_images, 'y' labels, a batchsize of 10, and validation split of 0.1. Train for 500 epochs.\n",
        "\n",
        ".fit documentation: https://www.tensorflow.org/api_docs/python/tf/keras/Model"
      ]
    },
    {
      "cell_type": "code",
      "execution_count": null,
      "metadata": {
        "id": "9GnmpTOGV9AK"
      },
      "outputs": [],
      "source": [
        "y = y.reshape(-1,1)\n",
        "\n",
        "# Call fit on your model passing in the X, y data above, train for 500 epochs\n",
        "hist = model.fit(x=train_images, y=y, batch_size=10, validation_split=0.1, epochs=500)\n",
        "# YOUR CODE HERE"
      ]
    },
    {
      "cell_type": "code",
      "execution_count": null,
      "metadata": {
        "id": "okB05Mf0Hg9S"
      },
      "outputs": [],
      "source": [
        "def plot_losses(hist):\n",
        "    plt.plot(hist.history['loss'])\n",
        "    plt.plot(hist.history['val_loss'])\n",
        "    plt.title('Model Loss')\n",
        "    plt.ylabel('Loss')\n",
        "    plt.xlabel('Epoch')\n",
        "    plt.legend(['Train', 'Val'])\n",
        "    plt.show()\n",
        "def plot_accuracies(hist):\n",
        "    plt.plot(hist.history['accuracy'])\n",
        "    plt.plot(hist.history['val_accuracy'])\n",
        "    plt.title('Model Accuracy')\n",
        "    plt.ylabel('Accuracy')\n",
        "    plt.xlabel('Epoch')\n",
        "    plt.legend(['Train', 'Val'])\n",
        "    plt.show()"
      ]
    },
    {
      "cell_type": "code",
      "execution_count": null,
      "metadata": {
        "id": "kwLRaQ1KMuOl",
        "colab": {
          "base_uri": "https://localhost:8080/",
          "height": 573
        },
        "outputId": "f6aa3ff6-d7ac-49dd-98e7-b02ac7fdf32c"
      },
      "outputs": [
        {
          "output_type": "display_data",
          "data": {
            "text/plain": [
              "<Figure size 432x288 with 1 Axes>"
            ],
            "image/png": "[encoded data removed]"
          },
          "metadata": {
            "needs_background": "light"
          }
        },
        {
          "output_type": "display_data",
          "data": {
            "text/plain": [
              "<Figure size 432x288 with 1 Axes>"
            ],
            "image/png": "[encoded data removed]"
          },
          "metadata": {
            "needs_background": "light"
          }
        }
      ],
      "source": [
        "# plot your losses and accuracies\n",
        "plot_losses(hist)\n",
        "plot_accuracies(hist)"
      ]
    },
    {
      "cell_type": "markdown",
      "metadata": {
        "id": "pvSTCNv88p-x"
      },
      "source": [
        "For the input size, this one hidden layer neural network is probably too small. However, we can see that the model attempts to minimize the overall loss. Summarize your observations on the model's learning curves, model's overall classification accuracy on the validation set, and the least amount of loss on validation set?"
      ]
    },
    {
      "cell_type": "markdown",
      "metadata": {
        "id": "csB_Hk5FQegs"
      },
      "source": [
        "It looks like the validation set has both the same overall classification accuracy and least amount of loss of around 0.7."
      ]
    },
    {
      "cell_type": "markdown",
      "metadata": {
        "id": "wjtTYWZZLf0S"
      },
      "source": [
        "### e) Building a Second Neural Network (15 points)\n",
        "Next, you will build a neural network with one hidden layer that is wider than the previous model's hidden layer. In the cell below, build a neural network with the following layers:\n",
        "* **input layer** of shape 1024\n",
        "* **hidden layer** with 100 neurons, and relu activation\n",
        "* **output layer** with 1 neuron, and sigmoid activation"
      ]
    },
    {
      "cell_type": "code",
      "execution_count": null,
      "metadata": {
        "id": "6hIWLf3SLf0T"
      },
      "outputs": [],
      "source": [
        "# Build Neural network\n",
        "# YOUR CODE HERE\n",
        "input_layer = Input(shape=(1024))\n",
        "x = Dense(100, activation='relu')(input_layer)\n",
        "x = Dense(1, activation='sigmoid')(x)\n",
        "model = Model(input_layer, x)"
      ]
    },
    {
      "cell_type": "code",
      "execution_count": null,
      "metadata": {
        "id": "JWWQd98fLf0T",
        "colab": {
          "base_uri": "https://localhost:8080/"
        },
        "outputId": "4b8bd3ad-4d71-464e-cd4a-d1b03ac276e6"
      },
      "outputs": [
        {
          "output_type": "stream",
          "name": "stdout",
          "text": [
            "Model: \"model_5\"\n",
            "_________________________________________________________________\n",
            " Layer (type)                Output Shape              Param #   \n",
            "=================================================================\n",
            " input_6 (InputLayer)        [(None, 1024)]            0         \n",
            "                                                                 \n",
            " dense_11 (Dense)            (None, 100)               102500    \n",
            "                                                                 \n",
            " dense_12 (Dense)            (None, 1)                 101       \n",
            "                                                                 \n",
            "=================================================================\n",
            "Total params: 102,601\n",
            "Trainable params: 102,601\n",
            "Non-trainable params: 0\n",
            "_________________________________________________________________\n"
          ]
        }
      ],
      "source": [
        "# Show a summary of your model\n",
        "model.summary()"
      ]
    },
    {
      "cell_type": "markdown",
      "metadata": {
        "id": "AW1FcpT-RbEA"
      },
      "source": [
        "Again, declare the optimizer using Stochastic Gradient Descient with learning rate of 0.001, weight decay of 1e-6 and momentum of 0.009. Compile your model using 'binary_crossentropy' loss function and 'accuracy' as the metrics."
      ]
    },
    {
      "cell_type": "code",
      "execution_count": null,
      "metadata": {
        "id": "5-ctq5XpLf0T"
      },
      "outputs": [],
      "source": [
        "# Declare optimizer\n",
        "optimizer = tf.keras.optimizers.SGD(lr=0.001, decay=1e-6, momentum=0.009)\n",
        "# YOUR CODE HERE\n",
        "\n",
        "# Compile model\n",
        "# YOUR CODE HERE\n",
        "model.compile(optimizer, loss='binary_crossentropy', metrics=['accuracy'])"
      ]
    },
    {
      "cell_type": "markdown",
      "metadata": {
        "id": "2H8mpUSuSdPt"
      },
      "source": [
        "In this sell fit your model using the train images, y labels, a batchsize of 10, and validation split of 0.1. Train for 500 epochs."
      ]
    },
    {
      "cell_type": "code",
      "execution_count": null,
      "metadata": {
        "id": "whc-mh30Lf0T"
      },
      "outputs": [],
      "source": [
        "y = y.reshape(-1,1)\n",
        "\n",
        "# Call fit on your model passing in the X, y data above, train for 500 epochs\n",
        "hist = model.fit(x=train_images, y=y, batch_size=10, validation_split=0.1, epochs=500)\n",
        "\n",
        "# YOUR CODE HERE"
      ]
    },
    {
      "cell_type": "code",
      "execution_count": null,
      "metadata": {
        "id": "Of0edIjuLf0T"
      },
      "outputs": [],
      "source": [
        "def plot_losses(hist):\n",
        "    plt.plot(hist.history['loss'])\n",
        "    plt.plot(hist.history['val_loss'])\n",
        "    plt.title('Model Loss')\n",
        "    plt.ylabel('Loss')\n",
        "    plt.xlabel('Epoch')\n",
        "    plt.legend(['Train', 'Val'])\n",
        "    plt.show()\n",
        "def plot_accuracies(hist):\n",
        "    plt.plot(hist.history['accuracy'])\n",
        "    plt.plot(hist.history['val_accuracy'])\n",
        "    plt.title('Model Accuracy')\n",
        "    plt.ylabel('Accuracy')\n",
        "    plt.xlabel('Epoch')\n",
        "    plt.legend(['Train', 'Val'])\n",
        "    plt.show()"
      ]
    },
    {
      "cell_type": "code",
      "execution_count": null,
      "metadata": {
        "id": "x6IkpNm7Lf0T",
        "colab": {
          "base_uri": "https://localhost:8080/",
          "height": 573
        },
        "outputId": "d564df97-4f5a-416a-c356-231204042a0d"
      },
      "outputs": [
        {
          "output_type": "display_data",
          "data": {
            "text/plain": [
              "<Figure size 432x288 with 1 Axes>"
            ],
            "image/png": "[encoded data removed]"
          },
          "metadata": {
            "needs_background": "light"
          }
        },
        {
          "output_type": "display_data",
          "data": {
            "text/plain": [
              "<Figure size 432x288 with 1 Axes>"
            ],
            "image/png": "[encoded data removed]"
          },
          "metadata": {
            "needs_background": "light"
          }
        }
      ],
      "source": [
        "# Plot your losses and accuracies\n",
        "plot_losses(hist)\n",
        "plot_accuracies(hist)"
      ]
    },
    {
      "cell_type": "markdown",
      "metadata": {
        "id": "fkpVVI9cRwtr"
      },
      "source": [
        "eNext, summarize this models results. Consider the following questions when answering. Remember that this model has a higher learning capacity than the previous model. \n",
        "\n",
        "1) How did this model compare to previous model? \n",
        "\n",
        "2) Did it outperform the previous models? \n",
        "\n",
        "3) What was your model's overall classification accuracy on the validation set and the least amount of loss on validation set? "
      ]
    },
    {
      "cell_type": "markdown",
      "metadata": {
        "id": "1w8LaU2tRwtr"
      },
      "source": [
        "1. In terms of the accuracy rate goes, this model tool a slower time to reach its convergence at around 0.6, where as the first model was much faster in minimizing towards 0.7 rate accuracy. In addition the training sets and the validation sets had a similar convergence on both losses and accuracy rates.\n",
        "2. This is a hard question to answer because each time I restarted my runtime, the model accucarcy kept changing and sometimes it was better and sometimes it was worse than the first model. But If i have to guess, the first model did slighlt better than this model perhaps because we gave it higher unit.\n",
        "3. Overall classification accuracy on the validation converged slightly above 0.6 and least amount of loss was 0.7. "
      ]
    },
    {
      "cell_type": "markdown",
      "metadata": {
        "id": "eq_2pNIZL-Rp"
      },
      "source": [
        "### f) Building a Third Neural Network (15 points)\n",
        "Lastly, you will build a fully-connected neural network with two hidden layers. In the cell below, build a neural network with the following layers:\n",
        "* **input layer** of shape 1024\n",
        "* **hidden layer** with 100 neurons, and relu activation\n",
        "* **hidden layer** with 25 neurons, and relu activation\n",
        "* **output layer** with 1 neuron, and sigmoid activation"
      ]
    },
    {
      "cell_type": "code",
      "execution_count": null,
      "metadata": {
        "id": "X5ZMHU9qL-Rp"
      },
      "outputs": [],
      "source": [
        "from tensorflow.keras.layers import Input, Dense # only use these layers\n",
        "from tensorflow.keras.models import Model\n",
        "from tensorflow.keras.optimizers import * # you can use any optimizer\n",
        "\n",
        "# Build Neural network\n",
        "# YOUR CODE HERE\n",
        "input_layer = Input(shape=(1024))\n",
        "x = Dense(100, activation='relu')(input_layer)\n",
        "x = Dense(25, activation='relu')(x)\n",
        "x = Dense(1, activation='sigmoid')(x)\n",
        "model = Model(input_layer, x)"
      ]
    },
    {
      "cell_type": "code",
      "execution_count": null,
      "metadata": {
        "id": "bKI2i-RML-Rp",
        "colab": {
          "base_uri": "https://localhost:8080/"
        },
        "outputId": "3c06f44d-6167-4ba3-b78f-9de2234339e9"
      },
      "outputs": [
        {
          "output_type": "stream",
          "name": "stdout",
          "text": [
            "Model: \"model_6\"\n",
            "_________________________________________________________________\n",
            " Layer (type)                Output Shape              Param #   \n",
            "=================================================================\n",
            " input_7 (InputLayer)        [(None, 1024)]            0         \n",
            "                                                                 \n",
            " dense_13 (Dense)            (None, 100)               102500    \n",
            "                                                                 \n",
            " dense_14 (Dense)            (None, 25)                2525      \n",
            "                                                                 \n",
            " dense_15 (Dense)            (None, 1)                 26        \n",
            "                                                                 \n",
            "=================================================================\n",
            "Total params: 105,051\n",
            "Trainable params: 105,051\n",
            "Non-trainable params: 0\n",
            "_________________________________________________________________\n"
          ]
        }
      ],
      "source": [
        "# Show a summary of your model\n",
        "model.summary()"
      ]
    },
    {
      "cell_type": "markdown",
      "metadata": {
        "id": "2-0IBZopSLUG"
      },
      "source": [
        "Since this model is bigger than the previous models, we will use a more powerful optimizer. Declare the optimizer as Adam with learning rate of 0.001. Compile your model using 'binary_crossentropy' loss function and 'accuracy' as the metrics."
      ]
    },
    {
      "cell_type": "code",
      "execution_count": null,
      "metadata": {
        "id": "pId-pXV1L-Rp"
      },
      "outputs": [],
      "source": [
        "# Declare optimizer\n",
        "optimizer = tf.keras.optimizers.Adam(lr=0.001)\n",
        "# YOUR CODE HERE\n",
        "\n",
        "# Compile model\n",
        "# YOUR CODE HERE\n",
        "model.compile(optimizer, loss='binary_crossentropy', metrics=['accuracy'])"
      ]
    },
    {
      "cell_type": "markdown",
      "metadata": {
        "id": "6r7okqqrSNgg"
      },
      "source": [
        "In this sell fit your model using the train images, y labels, a batchsize of 10, and validation split of 0.1. Train for 500 epochs."
      ]
    },
    {
      "cell_type": "code",
      "execution_count": null,
      "metadata": {
        "id": "hn2SP0qhL-Rp",
        "colab": {
          "base_uri": "https://localhost:8080/"
        },
        "outputId": "d94d6db1-c64f-4f4f-c0eb-7d4db285d175"
      },
      "outputs": [
        {
          "output_type": "stream",
          "name": "stdout",
          "text": [
            "Epoch 1/500\n",
            "10/10 [==============================] - 1s 20ms/step - loss: 0.7081 - accuracy: 0.5859 - val_loss: 0.6949 - val_accuracy: 0.5455\n",
            "Epoch 2/500\n",
            "10/10 [==============================] - 0s 6ms/step - loss: 0.6293 - accuracy: 0.6364 - val_loss: 0.7434 - val_accuracy: 0.3636\n",
            "Epoch 3/500\n",
            "10/10 [==============================] - 0s 5ms/step - loss: 0.5860 - accuracy: 0.6869 - val_loss: 0.9045 - val_accuracy: 0.1818\n",
            "Epoch 4/500\n",
            "10/10 [==============================] - 0s 6ms/step - loss: 0.5626 - accuracy: 0.6869 - val_loss: 0.8829 - val_accuracy: 0.2727\n",
            "Epoch 5/500\n",
            "10/10 [==============================] - 0s 6ms/step - loss: 0.5513 - accuracy: 0.7071 - val_loss: 0.9621 - val_accuracy: 0.2727\n",
            "Epoch 6/500\n",
            "10/10 [==============================] - 0s 6ms/step - loss: 0.5816 - accuracy: 0.6970 - val_loss: 0.4393 - val_accuracy: 0.9091\n",
            "Epoch 7/500\n",
            "10/10 [==============================] - 0s 6ms/step - loss: 0.4812 - accuracy: 0.7677 - val_loss: 1.0037 - val_accuracy: 0.1818\n",
            "Epoch 8/500\n",
            "10/10 [==============================] - 0s 4ms/step - loss: 0.5013 - accuracy: 0.7071 - val_loss: 0.6074 - val_accuracy: 0.6364\n",
            "Epoch 9/500\n",
            "10/10 [==============================] - 0s 6ms/step - loss: 0.4509 - accuracy: 0.7879 - val_loss: 0.5873 - val_accuracy: 0.6364\n",
            "Epoch 10/500\n",
            "10/10 [==============================] - 0s 6ms/step - loss: 0.4414 - accuracy: 0.8081 - val_loss: 0.3525 - val_accuracy: 0.9091\n",
            "Epoch 11/500\n",
            "10/10 [==============================] - 0s 5ms/step - loss: 0.4300 - accuracy: 0.7879 - val_loss: 0.9754 - val_accuracy: 0.4545\n",
            "Epoch 12/500\n",
            "10/10 [==============================] - 0s 5ms/step - loss: 0.3710 - accuracy: 0.8384 - val_loss: 0.4016 - val_accuracy: 0.9091\n",
            "Epoch 13/500\n",
            "10/10 [==============================] - 0s 5ms/step - loss: 0.3633 - accuracy: 0.8586 - val_loss: 0.7173 - val_accuracy: 0.6364\n",
            "Epoch 14/500\n",
            "10/10 [==============================] - 0s 7ms/step - loss: 0.3469 - accuracy: 0.8687 - val_loss: 0.9420 - val_accuracy: 0.5455\n",
            "Epoch 15/500\n",
            "10/10 [==============================] - 0s 9ms/step - loss: 0.3668 - accuracy: 0.8384 - val_loss: 0.3628 - val_accuracy: 0.8182\n",
            "Epoch 16/500\n",
            "10/10 [==============================] - 0s 10ms/step - loss: 0.3460 - accuracy: 0.8485 - val_loss: 0.8279 - val_accuracy: 0.6364\n",
            "Epoch 17/500\n",
            "10/10 [==============================] - 0s 8ms/step - loss: 0.3177 - accuracy: 0.8687 - val_loss: 1.0420 - val_accuracy: 0.4545\n",
            "Epoch 18/500\n",
            "10/10 [==============================] - 0s 10ms/step - loss: 0.2817 - accuracy: 0.8990 - val_loss: 0.5185 - val_accuracy: 0.8182\n",
            "Epoch 19/500\n",
            "10/10 [==============================] - 0s 16ms/step - loss: 0.2831 - accuracy: 0.8687 - val_loss: 0.6628 - val_accuracy: 0.7273\n",
            "Epoch 20/500\n",
            "10/10 [==============================] - 0s 13ms/step - loss: 0.2602 - accuracy: 0.9192 - val_loss: 0.6719 - val_accuracy: 0.7273\n",
            "Epoch 21/500\n",
            "10/10 [==============================] - 0s 13ms/step - loss: 0.2745 - accuracy: 0.8889 - val_loss: 1.1372 - val_accuracy: 0.4545\n",
            "Epoch 22/500\n",
            "10/10 [==============================] - 0s 7ms/step - loss: 0.2309 - accuracy: 0.8990 - val_loss: 1.0180 - val_accuracy: 0.4545\n",
            "Epoch 23/500\n",
            "10/10 [==============================] - 0s 13ms/step - loss: 0.2627 - accuracy: 0.9091 - val_loss: 0.6468 - val_accuracy: 0.8182\n",
            "Epoch 24/500\n",
            "10/10 [==============================] - 0s 4ms/step - loss: 0.2111 - accuracy: 0.9596 - val_loss: 0.5552 - val_accuracy: 0.8182\n",
            "Epoch 25/500\n",
            "10/10 [==============================] - 0s 5ms/step - loss: 0.1975 - accuracy: 0.9697 - val_loss: 1.1733 - val_accuracy: 0.4545\n",
            "Epoch 26/500\n",
            "10/10 [==============================] - 0s 5ms/step - loss: 0.1797 - accuracy: 0.9697 - val_loss: 0.8675 - val_accuracy: 0.7273\n",
            "Epoch 27/500\n",
            "10/10 [==============================] - 0s 6ms/step - loss: 0.1729 - accuracy: 0.9596 - val_loss: 0.8486 - val_accuracy: 0.8182\n",
            "Epoch 28/500\n",
            "10/10 [==============================] - 0s 4ms/step - loss: 0.1539 - accuracy: 0.9798 - val_loss: 1.0110 - val_accuracy: 0.4545\n",
            "Epoch 29/500\n",
            "10/10 [==============================] - 0s 5ms/step - loss: 0.1605 - accuracy: 0.9596 - val_loss: 1.6432 - val_accuracy: 0.3636\n",
            "Epoch 30/500\n",
            "10/10 [==============================] - 0s 4ms/step - loss: 0.1287 - accuracy: 1.0000 - val_loss: 1.4188 - val_accuracy: 0.4545\n",
            "Epoch 31/500\n",
            "10/10 [==============================] - 0s 4ms/step - loss: 0.1350 - accuracy: 0.9798 - val_loss: 1.7556 - val_accuracy: 0.4545\n",
            "Epoch 32/500\n",
            "10/10 [==============================] - 0s 5ms/step - loss: 0.1275 - accuracy: 0.9798 - val_loss: 1.3305 - val_accuracy: 0.4545\n",
            "Epoch 33/500\n",
            "10/10 [==============================] - 0s 4ms/step - loss: 0.0939 - accuracy: 1.0000 - val_loss: 1.4815 - val_accuracy: 0.4545\n",
            "Epoch 34/500\n",
            "10/10 [==============================] - 0s 5ms/step - loss: 0.0809 - accuracy: 0.9899 - val_loss: 0.8261 - val_accuracy: 0.8182\n",
            "Epoch 35/500\n",
            "10/10 [==============================] - 0s 4ms/step - loss: 0.0888 - accuracy: 0.9899 - val_loss: 0.8106 - val_accuracy: 0.8182\n",
            "Epoch 36/500\n",
            "10/10 [==============================] - 0s 5ms/step - loss: 0.0736 - accuracy: 1.0000 - val_loss: 1.1759 - val_accuracy: 0.6364\n",
            "Epoch 37/500\n",
            "10/10 [==============================] - 0s 5ms/step - loss: 0.0591 - accuracy: 1.0000 - val_loss: 1.6175 - val_accuracy: 0.4545\n",
            "Epoch 38/500\n",
            "10/10 [==============================] - 0s 6ms/step - loss: 0.0647 - accuracy: 1.0000 - val_loss: 1.8947 - val_accuracy: 0.4545\n",
            "Epoch 39/500\n",
            "10/10 [==============================] - 0s 5ms/step - loss: 0.0816 - accuracy: 0.9899 - val_loss: 1.3773 - val_accuracy: 0.4545\n",
            "Epoch 40/500\n",
            "10/10 [==============================] - 0s 5ms/step - loss: 0.0491 - accuracy: 1.0000 - val_loss: 1.1372 - val_accuracy: 0.5455\n",
            "Epoch 41/500\n",
            "10/10 [==============================] - 0s 5ms/step - loss: 0.0422 - accuracy: 1.0000 - val_loss: 1.2418 - val_accuracy: 0.5455\n",
            "Epoch 42/500\n",
            "10/10 [==============================] - 0s 7ms/step - loss: 0.0345 - accuracy: 1.0000 - val_loss: 1.5492 - val_accuracy: 0.4545\n",
            "Epoch 43/500\n",
            "10/10 [==============================] - 0s 7ms/step - loss: 0.0303 - accuracy: 1.0000 - val_loss: 1.3116 - val_accuracy: 0.7273\n",
            "Epoch 44/500\n",
            "10/10 [==============================] - 0s 5ms/step - loss: 0.0356 - accuracy: 1.0000 - val_loss: 2.2947 - val_accuracy: 0.4545\n",
            "Epoch 45/500\n",
            "10/10 [==============================] - 0s 5ms/step - loss: 0.0337 - accuracy: 1.0000 - val_loss: 1.2868 - val_accuracy: 0.7273\n",
            "Epoch 46/500\n",
            "10/10 [==============================] - 0s 5ms/step - loss: 0.0287 - accuracy: 1.0000 - val_loss: 1.1705 - val_accuracy: 0.8182\n",
            "Epoch 47/500\n",
            "10/10 [==============================] - 0s 5ms/step - loss: 0.0279 - accuracy: 1.0000 - val_loss: 1.3621 - val_accuracy: 0.7273\n",
            "Epoch 48/500\n",
            "10/10 [==============================] - 0s 6ms/step - loss: 0.0265 - accuracy: 1.0000 - val_loss: 1.4943 - val_accuracy: 0.5455\n",
            "Epoch 49/500\n",
            "10/10 [==============================] - 0s 5ms/step - loss: 0.0261 - accuracy: 1.0000 - val_loss: 1.8184 - val_accuracy: 0.4545\n",
            "Epoch 50/500\n",
            "10/10 [==============================] - 0s 6ms/step - loss: 0.0203 - accuracy: 1.0000 - val_loss: 1.6336 - val_accuracy: 0.4545\n",
            "Epoch 51/500\n",
            "10/10 [==============================] - 0s 5ms/step - loss: 0.0172 - accuracy: 1.0000 - val_loss: 1.4762 - val_accuracy: 0.7273\n",
            "Epoch 52/500\n",
            "10/10 [==============================] - 0s 5ms/step - loss: 0.0154 - accuracy: 1.0000 - val_loss: 1.7269 - val_accuracy: 0.4545\n",
            "Epoch 53/500\n",
            "10/10 [==============================] - 0s 5ms/step - loss: 0.0141 - accuracy: 1.0000 - val_loss: 1.3956 - val_accuracy: 0.7273\n",
            "Epoch 54/500\n",
            "10/10 [==============================] - 0s 5ms/step - loss: 0.0122 - accuracy: 1.0000 - val_loss: 1.9524 - val_accuracy: 0.4545\n",
            "Epoch 55/500\n",
            "10/10 [==============================] - 0s 5ms/step - loss: 0.0123 - accuracy: 1.0000 - val_loss: 1.4432 - val_accuracy: 0.7273\n",
            "Epoch 56/500\n",
            "10/10 [==============================] - 0s 5ms/step - loss: 0.0120 - accuracy: 1.0000 - val_loss: 1.8445 - val_accuracy: 0.4545\n",
            "Epoch 57/500\n",
            "10/10 [==============================] - 0s 5ms/step - loss: 0.0102 - accuracy: 1.0000 - val_loss: 1.7475 - val_accuracy: 0.5455\n",
            "Epoch 58/500\n",
            "10/10 [==============================] - 0s 5ms/step - loss: 0.0092 - accuracy: 1.0000 - val_loss: 1.8014 - val_accuracy: 0.5455\n",
            "Epoch 59/500\n",
            "10/10 [==============================] - 0s 5ms/step - loss: 0.0085 - accuracy: 1.0000 - val_loss: 1.9291 - val_accuracy: 0.4545\n",
            "Epoch 60/500\n",
            "10/10 [==============================] - 0s 6ms/step - loss: 0.0083 - accuracy: 1.0000 - val_loss: 1.6696 - val_accuracy: 0.7273\n",
            "Epoch 61/500\n",
            "10/10 [==============================] - 0s 5ms/step - loss: 0.0075 - accuracy: 1.0000 - val_loss: 1.8636 - val_accuracy: 0.5455\n",
            "Epoch 62/500\n",
            "10/10 [==============================] - 0s 5ms/step - loss: 0.0070 - accuracy: 1.0000 - val_loss: 1.8213 - val_accuracy: 0.6364\n",
            "Epoch 63/500\n",
            "10/10 [==============================] - 0s 5ms/step - loss: 0.0066 - accuracy: 1.0000 - val_loss: 1.9223 - val_accuracy: 0.5455\n",
            "Epoch 64/500\n",
            "10/10 [==============================] - 0s 6ms/step - loss: 0.0067 - accuracy: 1.0000 - val_loss: 1.7951 - val_accuracy: 0.7273\n",
            "Epoch 65/500\n",
            "10/10 [==============================] - 0s 6ms/step - loss: 0.0062 - accuracy: 1.0000 - val_loss: 1.9166 - val_accuracy: 0.6364\n",
            "Epoch 66/500\n",
            "10/10 [==============================] - 0s 5ms/step - loss: 0.0055 - accuracy: 1.0000 - val_loss: 1.9446 - val_accuracy: 0.6364\n",
            "Epoch 67/500\n",
            "10/10 [==============================] - 0s 6ms/step - loss: 0.0053 - accuracy: 1.0000 - val_loss: 1.8585 - val_accuracy: 0.7273\n",
            "Epoch 68/500\n",
            "10/10 [==============================] - 0s 6ms/step - loss: 0.0054 - accuracy: 1.0000 - val_loss: 2.0425 - val_accuracy: 0.5455\n",
            "Epoch 69/500\n",
            "10/10 [==============================] - 0s 5ms/step - loss: 0.0049 - accuracy: 1.0000 - val_loss: 1.9766 - val_accuracy: 0.6364\n",
            "Epoch 70/500\n",
            "10/10 [==============================] - 0s 6ms/step - loss: 0.0046 - accuracy: 1.0000 - val_loss: 1.9573 - val_accuracy: 0.6364\n",
            "Epoch 71/500\n",
            "10/10 [==============================] - 0s 5ms/step - loss: 0.0045 - accuracy: 1.0000 - val_loss: 2.0974 - val_accuracy: 0.6364\n",
            "Epoch 72/500\n",
            "10/10 [==============================] - 0s 6ms/step - loss: 0.0045 - accuracy: 1.0000 - val_loss: 2.1102 - val_accuracy: 0.6364\n",
            "Epoch 73/500\n",
            "10/10 [==============================] - 0s 5ms/step - loss: 0.0040 - accuracy: 1.0000 - val_loss: 2.0592 - val_accuracy: 0.6364\n",
            "Epoch 74/500\n",
            "10/10 [==============================] - 0s 5ms/step - loss: 0.0037 - accuracy: 1.0000 - val_loss: 2.0478 - val_accuracy: 0.6364\n",
            "Epoch 75/500\n",
            "10/10 [==============================] - 0s 5ms/step - loss: 0.0037 - accuracy: 1.0000 - val_loss: 2.1366 - val_accuracy: 0.6364\n",
            "Epoch 76/500\n",
            "10/10 [==============================] - 0s 5ms/step - loss: 0.0035 - accuracy: 1.0000 - val_loss: 1.9812 - val_accuracy: 0.6364\n",
            "Epoch 77/500\n",
            "10/10 [==============================] - 0s 6ms/step - loss: 0.0032 - accuracy: 1.0000 - val_loss: 2.2210 - val_accuracy: 0.4545\n",
            "Epoch 78/500\n",
            "10/10 [==============================] - 0s 6ms/step - loss: 0.0031 - accuracy: 1.0000 - val_loss: 2.0291 - val_accuracy: 0.6364\n",
            "Epoch 79/500\n",
            "10/10 [==============================] - 0s 7ms/step - loss: 0.0031 - accuracy: 1.0000 - val_loss: 2.1945 - val_accuracy: 0.6364\n",
            "Epoch 80/500\n",
            "10/10 [==============================] - 0s 5ms/step - loss: 0.0031 - accuracy: 1.0000 - val_loss: 2.2209 - val_accuracy: 0.6364\n",
            "Epoch 81/500\n",
            "10/10 [==============================] - 0s 5ms/step - loss: 0.0029 - accuracy: 1.0000 - val_loss: 2.1367 - val_accuracy: 0.6364\n",
            "Epoch 82/500\n",
            "10/10 [==============================] - 0s 6ms/step - loss: 0.0030 - accuracy: 1.0000 - val_loss: 2.1775 - val_accuracy: 0.6364\n",
            "Epoch 83/500\n",
            "10/10 [==============================] - 0s 6ms/step - loss: 0.0026 - accuracy: 1.0000 - val_loss: 2.2884 - val_accuracy: 0.5455\n",
            "Epoch 84/500\n",
            "10/10 [==============================] - 0s 5ms/step - loss: 0.0024 - accuracy: 1.0000 - val_loss: 2.1884 - val_accuracy: 0.6364\n",
            "Epoch 85/500\n",
            "10/10 [==============================] - 0s 5ms/step - loss: 0.0023 - accuracy: 1.0000 - val_loss: 2.3078 - val_accuracy: 0.6364\n",
            "Epoch 86/500\n",
            "10/10 [==============================] - 0s 5ms/step - loss: 0.0023 - accuracy: 1.0000 - val_loss: 2.1803 - val_accuracy: 0.6364\n",
            "Epoch 87/500\n",
            "10/10 [==============================] - 0s 5ms/step - loss: 0.0021 - accuracy: 1.0000 - val_loss: 2.3348 - val_accuracy: 0.5455\n",
            "Epoch 88/500\n",
            "10/10 [==============================] - 0s 5ms/step - loss: 0.0022 - accuracy: 1.0000 - val_loss: 2.3276 - val_accuracy: 0.6364\n",
            "Epoch 89/500\n",
            "10/10 [==============================] - 0s 5ms/step - loss: 0.0021 - accuracy: 1.0000 - val_loss: 2.2181 - val_accuracy: 0.6364\n",
            "Epoch 90/500\n",
            "10/10 [==============================] - 0s 6ms/step - loss: 0.0020 - accuracy: 1.0000 - val_loss: 2.3315 - val_accuracy: 0.6364\n",
            "Epoch 91/500\n",
            "10/10 [==============================] - 0s 5ms/step - loss: 0.0018 - accuracy: 1.0000 - val_loss: 2.2959 - val_accuracy: 0.6364\n",
            "Epoch 92/500\n",
            "10/10 [==============================] - 0s 5ms/step - loss: 0.0018 - accuracy: 1.0000 - val_loss: 2.3180 - val_accuracy: 0.6364\n",
            "Epoch 93/500\n",
            "10/10 [==============================] - 0s 5ms/step - loss: 0.0017 - accuracy: 1.0000 - val_loss: 2.4304 - val_accuracy: 0.6364\n",
            "Epoch 94/500\n",
            "10/10 [==============================] - 0s 5ms/step - loss: 0.0017 - accuracy: 1.0000 - val_loss: 2.3195 - val_accuracy: 0.6364\n",
            "Epoch 95/500\n",
            "10/10 [==============================] - 0s 6ms/step - loss: 0.0016 - accuracy: 1.0000 - val_loss: 2.4120 - val_accuracy: 0.6364\n",
            "Epoch 96/500\n",
            "10/10 [==============================] - 0s 4ms/step - loss: 0.0015 - accuracy: 1.0000 - val_loss: 2.4001 - val_accuracy: 0.6364\n",
            "Epoch 97/500\n",
            "10/10 [==============================] - 0s 4ms/step - loss: 0.0015 - accuracy: 1.0000 - val_loss: 2.4030 - val_accuracy: 0.6364\n",
            "Epoch 98/500\n",
            "10/10 [==============================] - 0s 5ms/step - loss: 0.0015 - accuracy: 1.0000 - val_loss: 2.4821 - val_accuracy: 0.6364\n",
            "Epoch 99/500\n",
            "10/10 [==============================] - 0s 6ms/step - loss: 0.0014 - accuracy: 1.0000 - val_loss: 2.3525 - val_accuracy: 0.6364\n",
            "Epoch 100/500\n",
            "10/10 [==============================] - 0s 6ms/step - loss: 0.0013 - accuracy: 1.0000 - val_loss: 2.4977 - val_accuracy: 0.5455\n",
            "Epoch 101/500\n",
            "10/10 [==============================] - 0s 5ms/step - loss: 0.0013 - accuracy: 1.0000 - val_loss: 2.4889 - val_accuracy: 0.6364\n",
            "Epoch 102/500\n",
            "10/10 [==============================] - 0s 4ms/step - loss: 0.0013 - accuracy: 1.0000 - val_loss: 2.4530 - val_accuracy: 0.6364\n",
            "Epoch 103/500\n",
            "10/10 [==============================] - 0s 5ms/step - loss: 0.0012 - accuracy: 1.0000 - val_loss: 2.4611 - val_accuracy: 0.6364\n",
            "Epoch 104/500\n",
            "10/10 [==============================] - 0s 4ms/step - loss: 0.0012 - accuracy: 1.0000 - val_loss: 2.4934 - val_accuracy: 0.6364\n",
            "Epoch 105/500\n",
            "10/10 [==============================] - 0s 5ms/step - loss: 0.0011 - accuracy: 1.0000 - val_loss: 2.5554 - val_accuracy: 0.6364\n",
            "Epoch 106/500\n",
            "10/10 [==============================] - 0s 5ms/step - loss: 0.0011 - accuracy: 1.0000 - val_loss: 2.5462 - val_accuracy: 0.6364\n",
            "Epoch 107/500\n",
            "10/10 [==============================] - 0s 4ms/step - loss: 0.0011 - accuracy: 1.0000 - val_loss: 2.5141 - val_accuracy: 0.6364\n",
            "Epoch 108/500\n",
            "10/10 [==============================] - 0s 5ms/step - loss: 0.0010 - accuracy: 1.0000 - val_loss: 2.5780 - val_accuracy: 0.6364\n",
            "Epoch 109/500\n",
            "10/10 [==============================] - 0s 5ms/step - loss: 0.0010 - accuracy: 1.0000 - val_loss: 2.5496 - val_accuracy: 0.6364\n",
            "Epoch 110/500\n",
            "10/10 [==============================] - 0s 5ms/step - loss: 9.6806e-04 - accuracy: 1.0000 - val_loss: 2.5698 - val_accuracy: 0.6364\n",
            "Epoch 111/500\n",
            "10/10 [==============================] - 0s 5ms/step - loss: 9.5338e-04 - accuracy: 1.0000 - val_loss: 2.5805 - val_accuracy: 0.6364\n",
            "Epoch 112/500\n",
            "10/10 [==============================] - 0s 6ms/step - loss: 9.4306e-04 - accuracy: 1.0000 - val_loss: 2.6564 - val_accuracy: 0.5455\n",
            "Epoch 113/500\n",
            "10/10 [==============================] - 0s 8ms/step - loss: 9.0905e-04 - accuracy: 1.0000 - val_loss: 2.5348 - val_accuracy: 0.6364\n",
            "Epoch 114/500\n",
            "10/10 [==============================] - 0s 6ms/step - loss: 8.5958e-04 - accuracy: 1.0000 - val_loss: 2.6544 - val_accuracy: 0.6364\n",
            "Epoch 115/500\n",
            "10/10 [==============================] - 0s 5ms/step - loss: 8.6953e-04 - accuracy: 1.0000 - val_loss: 2.6329 - val_accuracy: 0.6364\n",
            "Epoch 116/500\n",
            "10/10 [==============================] - 0s 5ms/step - loss: 8.2781e-04 - accuracy: 1.0000 - val_loss: 2.5710 - val_accuracy: 0.6364\n",
            "Epoch 117/500\n",
            "10/10 [==============================] - 0s 8ms/step - loss: 7.9412e-04 - accuracy: 1.0000 - val_loss: 2.6969 - val_accuracy: 0.5455\n",
            "Epoch 118/500\n",
            "10/10 [==============================] - 0s 6ms/step - loss: 7.7814e-04 - accuracy: 1.0000 - val_loss: 2.6265 - val_accuracy: 0.6364\n",
            "Epoch 119/500\n",
            "10/10 [==============================] - 0s 5ms/step - loss: 7.6335e-04 - accuracy: 1.0000 - val_loss: 2.7199 - val_accuracy: 0.6364\n",
            "Epoch 120/500\n",
            "10/10 [==============================] - 0s 5ms/step - loss: 7.3893e-04 - accuracy: 1.0000 - val_loss: 2.6664 - val_accuracy: 0.6364\n",
            "Epoch 121/500\n",
            "10/10 [==============================] - 0s 5ms/step - loss: 7.1721e-04 - accuracy: 1.0000 - val_loss: 2.6945 - val_accuracy: 0.6364\n",
            "Epoch 122/500\n",
            "10/10 [==============================] - 0s 5ms/step - loss: 6.9527e-04 - accuracy: 1.0000 - val_loss: 2.7383 - val_accuracy: 0.6364\n",
            "Epoch 123/500\n",
            "10/10 [==============================] - 0s 6ms/step - loss: 6.8124e-04 - accuracy: 1.0000 - val_loss: 2.6944 - val_accuracy: 0.6364\n",
            "Epoch 124/500\n",
            "10/10 [==============================] - 0s 5ms/step - loss: 6.6522e-04 - accuracy: 1.0000 - val_loss: 2.7078 - val_accuracy: 0.6364\n",
            "Epoch 125/500\n",
            "10/10 [==============================] - 0s 5ms/step - loss: 6.4584e-04 - accuracy: 1.0000 - val_loss: 2.7507 - val_accuracy: 0.6364\n",
            "Epoch 126/500\n",
            "10/10 [==============================] - 0s 5ms/step - loss: 6.3244e-04 - accuracy: 1.0000 - val_loss: 2.7315 - val_accuracy: 0.6364\n",
            "Epoch 127/500\n",
            "10/10 [==============================] - 0s 5ms/step - loss: 6.2265e-04 - accuracy: 1.0000 - val_loss: 2.7530 - val_accuracy: 0.6364\n",
            "Epoch 128/500\n",
            "10/10 [==============================] - 0s 6ms/step - loss: 6.0090e-04 - accuracy: 1.0000 - val_loss: 2.7406 - val_accuracy: 0.6364\n",
            "Epoch 129/500\n",
            "10/10 [==============================] - 0s 5ms/step - loss: 5.8746e-04 - accuracy: 1.0000 - val_loss: 2.7634 - val_accuracy: 0.6364\n",
            "Epoch 130/500\n",
            "10/10 [==============================] - 0s 5ms/step - loss: 5.7464e-04 - accuracy: 1.0000 - val_loss: 2.7887 - val_accuracy: 0.6364\n",
            "Epoch 131/500\n",
            "10/10 [==============================] - 0s 6ms/step - loss: 5.6379e-04 - accuracy: 1.0000 - val_loss: 2.7855 - val_accuracy: 0.6364\n",
            "Epoch 132/500\n",
            "10/10 [==============================] - 0s 5ms/step - loss: 5.5091e-04 - accuracy: 1.0000 - val_loss: 2.7900 - val_accuracy: 0.6364\n",
            "Epoch 133/500\n",
            "10/10 [==============================] - 0s 6ms/step - loss: 5.4544e-04 - accuracy: 1.0000 - val_loss: 2.7669 - val_accuracy: 0.6364\n",
            "Epoch 134/500\n",
            "10/10 [==============================] - 0s 5ms/step - loss: 5.3218e-04 - accuracy: 1.0000 - val_loss: 2.8436 - val_accuracy: 0.6364\n",
            "Epoch 135/500\n",
            "10/10 [==============================] - 0s 5ms/step - loss: 5.1499e-04 - accuracy: 1.0000 - val_loss: 2.8116 - val_accuracy: 0.6364\n",
            "Epoch 136/500\n",
            "10/10 [==============================] - 0s 6ms/step - loss: 5.0606e-04 - accuracy: 1.0000 - val_loss: 2.8231 - val_accuracy: 0.6364\n",
            "Epoch 137/500\n",
            "10/10 [==============================] - 0s 4ms/step - loss: 4.9328e-04 - accuracy: 1.0000 - val_loss: 2.8204 - val_accuracy: 0.6364\n",
            "Epoch 138/500\n",
            "10/10 [==============================] - 0s 6ms/step - loss: 4.8274e-04 - accuracy: 1.0000 - val_loss: 2.8418 - val_accuracy: 0.6364\n",
            "Epoch 139/500\n",
            "10/10 [==============================] - 0s 5ms/step - loss: 4.7733e-04 - accuracy: 1.0000 - val_loss: 2.8436 - val_accuracy: 0.6364\n",
            "Epoch 140/500\n",
            "10/10 [==============================] - 0s 5ms/step - loss: 4.6775e-04 - accuracy: 1.0000 - val_loss: 2.8717 - val_accuracy: 0.6364\n",
            "Epoch 141/500\n",
            "10/10 [==============================] - 0s 5ms/step - loss: 4.5833e-04 - accuracy: 1.0000 - val_loss: 2.8346 - val_accuracy: 0.6364\n",
            "Epoch 142/500\n",
            "10/10 [==============================] - 0s 5ms/step - loss: 4.4666e-04 - accuracy: 1.0000 - val_loss: 2.9012 - val_accuracy: 0.6364\n",
            "Epoch 143/500\n",
            "10/10 [==============================] - 0s 6ms/step - loss: 4.3719e-04 - accuracy: 1.0000 - val_loss: 2.8824 - val_accuracy: 0.6364\n",
            "Epoch 144/500\n",
            "10/10 [==============================] - 0s 5ms/step - loss: 4.2897e-04 - accuracy: 1.0000 - val_loss: 2.8750 - val_accuracy: 0.6364\n",
            "Epoch 145/500\n",
            "10/10 [==============================] - 0s 5ms/step - loss: 4.2378e-04 - accuracy: 1.0000 - val_loss: 2.8761 - val_accuracy: 0.6364\n",
            "Epoch 146/500\n",
            "10/10 [==============================] - 0s 5ms/step - loss: 4.1364e-04 - accuracy: 1.0000 - val_loss: 2.9223 - val_accuracy: 0.6364\n",
            "Epoch 147/500\n",
            "10/10 [==============================] - 0s 6ms/step - loss: 4.0521e-04 - accuracy: 1.0000 - val_loss: 2.9188 - val_accuracy: 0.6364\n",
            "Epoch 148/500\n",
            "10/10 [==============================] - 0s 5ms/step - loss: 4.0326e-04 - accuracy: 1.0000 - val_loss: 2.8704 - val_accuracy: 0.6364\n",
            "Epoch 149/500\n",
            "10/10 [==============================] - 0s 5ms/step - loss: 4.0134e-04 - accuracy: 1.0000 - val_loss: 2.9806 - val_accuracy: 0.5455\n",
            "Epoch 150/500\n",
            "10/10 [==============================] - 0s 6ms/step - loss: 3.8252e-04 - accuracy: 1.0000 - val_loss: 2.9117 - val_accuracy: 0.6364\n",
            "Epoch 151/500\n",
            "10/10 [==============================] - 0s 5ms/step - loss: 3.7656e-04 - accuracy: 1.0000 - val_loss: 2.9252 - val_accuracy: 0.6364\n",
            "Epoch 152/500\n",
            "10/10 [==============================] - 0s 6ms/step - loss: 3.6931e-04 - accuracy: 1.0000 - val_loss: 2.9438 - val_accuracy: 0.6364\n",
            "Epoch 153/500\n",
            "10/10 [==============================] - 0s 5ms/step - loss: 3.6330e-04 - accuracy: 1.0000 - val_loss: 2.9455 - val_accuracy: 0.6364\n",
            "Epoch 154/500\n",
            "10/10 [==============================] - 0s 5ms/step - loss: 3.5877e-04 - accuracy: 1.0000 - val_loss: 2.9731 - val_accuracy: 0.6364\n",
            "Epoch 155/500\n",
            "10/10 [==============================] - 0s 6ms/step - loss: 3.4897e-04 - accuracy: 1.0000 - val_loss: 2.9229 - val_accuracy: 0.6364\n",
            "Epoch 156/500\n",
            "10/10 [==============================] - 0s 7ms/step - loss: 3.4643e-04 - accuracy: 1.0000 - val_loss: 2.9314 - val_accuracy: 0.6364\n",
            "Epoch 157/500\n",
            "10/10 [==============================] - 0s 5ms/step - loss: 3.3952e-04 - accuracy: 1.0000 - val_loss: 3.0365 - val_accuracy: 0.5455\n",
            "Epoch 158/500\n",
            "10/10 [==============================] - 0s 5ms/step - loss: 3.3464e-04 - accuracy: 1.0000 - val_loss: 2.9578 - val_accuracy: 0.6364\n",
            "Epoch 159/500\n",
            "10/10 [==============================] - 0s 5ms/step - loss: 3.2552e-04 - accuracy: 1.0000 - val_loss: 2.9855 - val_accuracy: 0.6364\n",
            "Epoch 160/500\n",
            "10/10 [==============================] - 0s 5ms/step - loss: 3.2029e-04 - accuracy: 1.0000 - val_loss: 3.0268 - val_accuracy: 0.6364\n",
            "Epoch 161/500\n",
            "10/10 [==============================] - 0s 5ms/step - loss: 3.1376e-04 - accuracy: 1.0000 - val_loss: 3.0090 - val_accuracy: 0.6364\n",
            "Epoch 162/500\n",
            "10/10 [==============================] - 0s 5ms/step - loss: 3.1061e-04 - accuracy: 1.0000 - val_loss: 2.9837 - val_accuracy: 0.6364\n",
            "Epoch 163/500\n",
            "10/10 [==============================] - 0s 5ms/step - loss: 3.0367e-04 - accuracy: 1.0000 - val_loss: 3.0235 - val_accuracy: 0.6364\n",
            "Epoch 164/500\n",
            "10/10 [==============================] - 0s 5ms/step - loss: 2.9924e-04 - accuracy: 1.0000 - val_loss: 3.0181 - val_accuracy: 0.6364\n",
            "Epoch 165/500\n",
            "10/10 [==============================] - 0s 5ms/step - loss: 2.9577e-04 - accuracy: 1.0000 - val_loss: 3.0299 - val_accuracy: 0.6364\n",
            "Epoch 166/500\n",
            "10/10 [==============================] - 0s 7ms/step - loss: 2.8930e-04 - accuracy: 1.0000 - val_loss: 3.0328 - val_accuracy: 0.6364\n",
            "Epoch 167/500\n",
            "10/10 [==============================] - 0s 5ms/step - loss: 2.8506e-04 - accuracy: 1.0000 - val_loss: 3.0461 - val_accuracy: 0.6364\n",
            "Epoch 168/500\n",
            "10/10 [==============================] - 0s 5ms/step - loss: 2.8137e-04 - accuracy: 1.0000 - val_loss: 2.9991 - val_accuracy: 0.6364\n",
            "Epoch 169/500\n",
            "10/10 [==============================] - 0s 6ms/step - loss: 2.7606e-04 - accuracy: 1.0000 - val_loss: 3.0819 - val_accuracy: 0.6364\n",
            "Epoch 170/500\n",
            "10/10 [==============================] - 0s 5ms/step - loss: 2.7301e-04 - accuracy: 1.0000 - val_loss: 3.0360 - val_accuracy: 0.6364\n",
            "Epoch 171/500\n",
            "10/10 [==============================] - 0s 5ms/step - loss: 2.6715e-04 - accuracy: 1.0000 - val_loss: 3.0643 - val_accuracy: 0.6364\n",
            "Epoch 172/500\n",
            "10/10 [==============================] - 0s 5ms/step - loss: 2.6413e-04 - accuracy: 1.0000 - val_loss: 3.1043 - val_accuracy: 0.5455\n",
            "Epoch 173/500\n",
            "10/10 [==============================] - 0s 5ms/step - loss: 2.5993e-04 - accuracy: 1.0000 - val_loss: 3.0499 - val_accuracy: 0.6364\n",
            "Epoch 174/500\n",
            "10/10 [==============================] - 0s 5ms/step - loss: 2.5653e-04 - accuracy: 1.0000 - val_loss: 3.1152 - val_accuracy: 0.6364\n",
            "Epoch 175/500\n",
            "10/10 [==============================] - 0s 6ms/step - loss: 2.5088e-04 - accuracy: 1.0000 - val_loss: 3.0788 - val_accuracy: 0.6364\n",
            "Epoch 176/500\n",
            "10/10 [==============================] - 0s 5ms/step - loss: 2.4798e-04 - accuracy: 1.0000 - val_loss: 3.0505 - val_accuracy: 0.6364\n",
            "Epoch 177/500\n",
            "10/10 [==============================] - 0s 5ms/step - loss: 2.4341e-04 - accuracy: 1.0000 - val_loss: 3.1216 - val_accuracy: 0.6364\n",
            "Epoch 178/500\n",
            "10/10 [==============================] - 0s 6ms/step - loss: 2.3918e-04 - accuracy: 1.0000 - val_loss: 3.1064 - val_accuracy: 0.6364\n",
            "Epoch 179/500\n",
            "10/10 [==============================] - 0s 5ms/step - loss: 2.3557e-04 - accuracy: 1.0000 - val_loss: 3.0982 - val_accuracy: 0.6364\n",
            "Epoch 180/500\n",
            "10/10 [==============================] - 0s 5ms/step - loss: 2.3265e-04 - accuracy: 1.0000 - val_loss: 3.1290 - val_accuracy: 0.6364\n",
            "Epoch 181/500\n",
            "10/10 [==============================] - 0s 5ms/step - loss: 2.2959e-04 - accuracy: 1.0000 - val_loss: 3.1320 - val_accuracy: 0.6364\n",
            "Epoch 182/500\n",
            "10/10 [==============================] - 0s 5ms/step - loss: 2.2869e-04 - accuracy: 1.0000 - val_loss: 3.0713 - val_accuracy: 0.6364\n",
            "Epoch 183/500\n",
            "10/10 [==============================] - 0s 8ms/step - loss: 2.2265e-04 - accuracy: 1.0000 - val_loss: 3.1440 - val_accuracy: 0.6364\n",
            "Epoch 184/500\n",
            "10/10 [==============================] - 0s 5ms/step - loss: 2.1965e-04 - accuracy: 1.0000 - val_loss: 3.1174 - val_accuracy: 0.6364\n",
            "Epoch 185/500\n",
            "10/10 [==============================] - 0s 6ms/step - loss: 2.1698e-04 - accuracy: 1.0000 - val_loss: 3.1870 - val_accuracy: 0.5455\n",
            "Epoch 186/500\n",
            "10/10 [==============================] - 0s 6ms/step - loss: 2.1309e-04 - accuracy: 1.0000 - val_loss: 3.1535 - val_accuracy: 0.6364\n",
            "Epoch 187/500\n",
            "10/10 [==============================] - 0s 6ms/step - loss: 2.1118e-04 - accuracy: 1.0000 - val_loss: 3.0860 - val_accuracy: 0.6364\n",
            "Epoch 188/500\n",
            "10/10 [==============================] - 0s 6ms/step - loss: 2.0874e-04 - accuracy: 1.0000 - val_loss: 3.1754 - val_accuracy: 0.6364\n",
            "Epoch 189/500\n",
            "10/10 [==============================] - 0s 5ms/step - loss: 2.0434e-04 - accuracy: 1.0000 - val_loss: 3.1401 - val_accuracy: 0.6364\n",
            "Epoch 190/500\n",
            "10/10 [==============================] - 0s 6ms/step - loss: 2.0285e-04 - accuracy: 1.0000 - val_loss: 3.1707 - val_accuracy: 0.6364\n",
            "Epoch 191/500\n",
            "10/10 [==============================] - 0s 5ms/step - loss: 1.9775e-04 - accuracy: 1.0000 - val_loss: 3.1466 - val_accuracy: 0.6364\n",
            "Epoch 192/500\n",
            "10/10 [==============================] - 0s 6ms/step - loss: 1.9539e-04 - accuracy: 1.0000 - val_loss: 3.1459 - val_accuracy: 0.6364\n",
            "Epoch 193/500\n",
            "10/10 [==============================] - 0s 6ms/step - loss: 1.9226e-04 - accuracy: 1.0000 - val_loss: 3.1664 - val_accuracy: 0.6364\n",
            "Epoch 194/500\n",
            "10/10 [==============================] - 0s 5ms/step - loss: 1.9009e-04 - accuracy: 1.0000 - val_loss: 3.1859 - val_accuracy: 0.6364\n",
            "Epoch 195/500\n",
            "10/10 [==============================] - 0s 7ms/step - loss: 1.8777e-04 - accuracy: 1.0000 - val_loss: 3.1858 - val_accuracy: 0.6364\n",
            "Epoch 196/500\n",
            "10/10 [==============================] - 0s 8ms/step - loss: 1.8518e-04 - accuracy: 1.0000 - val_loss: 3.2008 - val_accuracy: 0.6364\n",
            "Epoch 197/500\n",
            "10/10 [==============================] - 0s 5ms/step - loss: 1.8232e-04 - accuracy: 1.0000 - val_loss: 3.2105 - val_accuracy: 0.6364\n",
            "Epoch 198/500\n",
            "10/10 [==============================] - 0s 5ms/step - loss: 1.7998e-04 - accuracy: 1.0000 - val_loss: 3.2048 - val_accuracy: 0.6364\n",
            "Epoch 199/500\n",
            "10/10 [==============================] - 0s 5ms/step - loss: 1.7757e-04 - accuracy: 1.0000 - val_loss: 3.1838 - val_accuracy: 0.6364\n",
            "Epoch 200/500\n",
            "10/10 [==============================] - 0s 6ms/step - loss: 1.7508e-04 - accuracy: 1.0000 - val_loss: 3.2240 - val_accuracy: 0.6364\n",
            "Epoch 201/500\n",
            "10/10 [==============================] - 0s 5ms/step - loss: 1.7374e-04 - accuracy: 1.0000 - val_loss: 3.2126 - val_accuracy: 0.6364\n",
            "Epoch 202/500\n",
            "10/10 [==============================] - 0s 5ms/step - loss: 1.7059e-04 - accuracy: 1.0000 - val_loss: 3.1922 - val_accuracy: 0.6364\n",
            "Epoch 203/500\n",
            "10/10 [==============================] - 0s 5ms/step - loss: 1.6885e-04 - accuracy: 1.0000 - val_loss: 3.2430 - val_accuracy: 0.6364\n",
            "Epoch 204/500\n",
            "10/10 [==============================] - 0s 5ms/step - loss: 1.6598e-04 - accuracy: 1.0000 - val_loss: 3.2302 - val_accuracy: 0.6364\n",
            "Epoch 205/500\n",
            "10/10 [==============================] - 0s 5ms/step - loss: 1.6392e-04 - accuracy: 1.0000 - val_loss: 3.2350 - val_accuracy: 0.6364\n",
            "Epoch 206/500\n",
            "10/10 [==============================] - 0s 5ms/step - loss: 1.6274e-04 - accuracy: 1.0000 - val_loss: 3.2765 - val_accuracy: 0.6364\n",
            "Epoch 207/500\n",
            "10/10 [==============================] - 0s 5ms/step - loss: 1.5905e-04 - accuracy: 1.0000 - val_loss: 3.2377 - val_accuracy: 0.6364\n",
            "Epoch 208/500\n",
            "10/10 [==============================] - 0s 6ms/step - loss: 1.5780e-04 - accuracy: 1.0000 - val_loss: 3.2278 - val_accuracy: 0.6364\n",
            "Epoch 209/500\n",
            "10/10 [==============================] - 0s 6ms/step - loss: 1.5582e-04 - accuracy: 1.0000 - val_loss: 3.2301 - val_accuracy: 0.6364\n",
            "Epoch 210/500\n",
            "10/10 [==============================] - 0s 7ms/step - loss: 1.5357e-04 - accuracy: 1.0000 - val_loss: 3.2885 - val_accuracy: 0.6364\n",
            "Epoch 211/500\n",
            "10/10 [==============================] - 0s 5ms/step - loss: 1.5172e-04 - accuracy: 1.0000 - val_loss: 3.2631 - val_accuracy: 0.6364\n",
            "Epoch 212/500\n",
            "10/10 [==============================] - 0s 5ms/step - loss: 1.4942e-04 - accuracy: 1.0000 - val_loss: 3.2303 - val_accuracy: 0.6364\n",
            "Epoch 213/500\n",
            "10/10 [==============================] - 0s 6ms/step - loss: 1.4805e-04 - accuracy: 1.0000 - val_loss: 3.2708 - val_accuracy: 0.6364\n",
            "Epoch 214/500\n",
            "10/10 [==============================] - 0s 6ms/step - loss: 1.4553e-04 - accuracy: 1.0000 - val_loss: 3.2958 - val_accuracy: 0.6364\n",
            "Epoch 215/500\n",
            "10/10 [==============================] - 0s 5ms/step - loss: 1.4394e-04 - accuracy: 1.0000 - val_loss: 3.2924 - val_accuracy: 0.6364\n",
            "Epoch 216/500\n",
            "10/10 [==============================] - 0s 4ms/step - loss: 1.4199e-04 - accuracy: 1.0000 - val_loss: 3.2889 - val_accuracy: 0.6364\n",
            "Epoch 217/500\n",
            "10/10 [==============================] - 0s 5ms/step - loss: 1.4071e-04 - accuracy: 1.0000 - val_loss: 3.2723 - val_accuracy: 0.6364\n",
            "Epoch 218/500\n",
            "10/10 [==============================] - 0s 6ms/step - loss: 1.3829e-04 - accuracy: 1.0000 - val_loss: 3.2962 - val_accuracy: 0.6364\n",
            "Epoch 219/500\n",
            "10/10 [==============================] - 0s 6ms/step - loss: 1.3712e-04 - accuracy: 1.0000 - val_loss: 3.3137 - val_accuracy: 0.6364\n",
            "Epoch 220/500\n",
            "10/10 [==============================] - 0s 5ms/step - loss: 1.3586e-04 - accuracy: 1.0000 - val_loss: 3.3229 - val_accuracy: 0.6364\n",
            "Epoch 221/500\n",
            "10/10 [==============================] - 0s 7ms/step - loss: 1.3397e-04 - accuracy: 1.0000 - val_loss: 3.2775 - val_accuracy: 0.6364\n",
            "Epoch 222/500\n",
            "10/10 [==============================] - 0s 5ms/step - loss: 1.3217e-04 - accuracy: 1.0000 - val_loss: 3.3206 - val_accuracy: 0.6364\n",
            "Epoch 223/500\n",
            "10/10 [==============================] - 0s 5ms/step - loss: 1.3021e-04 - accuracy: 1.0000 - val_loss: 3.3237 - val_accuracy: 0.6364\n",
            "Epoch 224/500\n",
            "10/10 [==============================] - 0s 5ms/step - loss: 1.2925e-04 - accuracy: 1.0000 - val_loss: 3.2890 - val_accuracy: 0.6364\n",
            "Epoch 225/500\n",
            "10/10 [==============================] - 0s 5ms/step - loss: 1.2696e-04 - accuracy: 1.0000 - val_loss: 3.3449 - val_accuracy: 0.6364\n",
            "Epoch 226/500\n",
            "10/10 [==============================] - 0s 7ms/step - loss: 1.2675e-04 - accuracy: 1.0000 - val_loss: 3.3126 - val_accuracy: 0.6364\n",
            "Epoch 227/500\n",
            "10/10 [==============================] - 0s 6ms/step - loss: 1.2389e-04 - accuracy: 1.0000 - val_loss: 3.3441 - val_accuracy: 0.6364\n",
            "Epoch 228/500\n",
            "10/10 [==============================] - 0s 5ms/step - loss: 1.2304e-04 - accuracy: 1.0000 - val_loss: 3.3593 - val_accuracy: 0.6364\n",
            "Epoch 229/500\n",
            "10/10 [==============================] - 0s 5ms/step - loss: 1.2215e-04 - accuracy: 1.0000 - val_loss: 3.3080 - val_accuracy: 0.6364\n",
            "Epoch 230/500\n",
            "10/10 [==============================] - 0s 6ms/step - loss: 1.1988e-04 - accuracy: 1.0000 - val_loss: 3.3482 - val_accuracy: 0.6364\n",
            "Epoch 231/500\n",
            "10/10 [==============================] - 0s 6ms/step - loss: 1.1846e-04 - accuracy: 1.0000 - val_loss: 3.3809 - val_accuracy: 0.6364\n",
            "Epoch 232/500\n",
            "10/10 [==============================] - 0s 5ms/step - loss: 1.1697e-04 - accuracy: 1.0000 - val_loss: 3.3671 - val_accuracy: 0.6364\n",
            "Epoch 233/500\n",
            "10/10 [==============================] - 0s 5ms/step - loss: 1.1563e-04 - accuracy: 1.0000 - val_loss: 3.3641 - val_accuracy: 0.6364\n",
            "Epoch 234/500\n",
            "10/10 [==============================] - 0s 5ms/step - loss: 1.1409e-04 - accuracy: 1.0000 - val_loss: 3.3554 - val_accuracy: 0.6364\n",
            "Epoch 235/500\n",
            "10/10 [==============================] - 0s 6ms/step - loss: 1.1320e-04 - accuracy: 1.0000 - val_loss: 3.3647 - val_accuracy: 0.6364\n",
            "Epoch 236/500\n",
            "10/10 [==============================] - 0s 5ms/step - loss: 1.1239e-04 - accuracy: 1.0000 - val_loss: 3.3811 - val_accuracy: 0.6364\n",
            "Epoch 237/500\n",
            "10/10 [==============================] - 0s 5ms/step - loss: 1.1043e-04 - accuracy: 1.0000 - val_loss: 3.3426 - val_accuracy: 0.6364\n",
            "Epoch 238/500\n",
            "10/10 [==============================] - 0s 6ms/step - loss: 1.0938e-04 - accuracy: 1.0000 - val_loss: 3.3879 - val_accuracy: 0.6364\n",
            "Epoch 239/500\n",
            "10/10 [==============================] - 0s 5ms/step - loss: 1.0762e-04 - accuracy: 1.0000 - val_loss: 3.3835 - val_accuracy: 0.6364\n",
            "Epoch 240/500\n",
            "10/10 [==============================] - 0s 5ms/step - loss: 1.0724e-04 - accuracy: 1.0000 - val_loss: 3.3511 - val_accuracy: 0.6364\n",
            "Epoch 241/500\n",
            "10/10 [==============================] - 0s 5ms/step - loss: 1.0520e-04 - accuracy: 1.0000 - val_loss: 3.4091 - val_accuracy: 0.6364\n",
            "Epoch 242/500\n",
            "10/10 [==============================] - 0s 5ms/step - loss: 1.0397e-04 - accuracy: 1.0000 - val_loss: 3.4002 - val_accuracy: 0.6364\n",
            "Epoch 243/500\n",
            "10/10 [==============================] - 0s 5ms/step - loss: 1.0304e-04 - accuracy: 1.0000 - val_loss: 3.4034 - val_accuracy: 0.6364\n",
            "Epoch 244/500\n",
            "10/10 [==============================] - 0s 5ms/step - loss: 1.0133e-04 - accuracy: 1.0000 - val_loss: 3.4009 - val_accuracy: 0.6364\n",
            "Epoch 245/500\n",
            "10/10 [==============================] - 0s 5ms/step - loss: 1.0034e-04 - accuracy: 1.0000 - val_loss: 3.3948 - val_accuracy: 0.6364\n",
            "Epoch 246/500\n",
            "10/10 [==============================] - 0s 5ms/step - loss: 9.9136e-05 - accuracy: 1.0000 - val_loss: 3.4097 - val_accuracy: 0.6364\n",
            "Epoch 247/500\n",
            "10/10 [==============================] - 0s 5ms/step - loss: 9.8447e-05 - accuracy: 1.0000 - val_loss: 3.4310 - val_accuracy: 0.6364\n",
            "Epoch 248/500\n",
            "10/10 [==============================] - 0s 6ms/step - loss: 9.6994e-05 - accuracy: 1.0000 - val_loss: 3.4021 - val_accuracy: 0.6364\n",
            "Epoch 249/500\n",
            "10/10 [==============================] - 0s 5ms/step - loss: 9.6058e-05 - accuracy: 1.0000 - val_loss: 3.4000 - val_accuracy: 0.6364\n",
            "Epoch 250/500\n",
            "10/10 [==============================] - 0s 5ms/step - loss: 9.4825e-05 - accuracy: 1.0000 - val_loss: 3.4190 - val_accuracy: 0.6364\n",
            "Epoch 251/500\n",
            "10/10 [==============================] - 0s 6ms/step - loss: 9.3712e-05 - accuracy: 1.0000 - val_loss: 3.4239 - val_accuracy: 0.6364\n",
            "Epoch 252/500\n",
            "10/10 [==============================] - 0s 6ms/step - loss: 9.2802e-05 - accuracy: 1.0000 - val_loss: 3.4220 - val_accuracy: 0.6364\n",
            "Epoch 253/500\n",
            "10/10 [==============================] - 0s 5ms/step - loss: 9.1797e-05 - accuracy: 1.0000 - val_loss: 3.4515 - val_accuracy: 0.6364\n",
            "Epoch 254/500\n",
            "10/10 [==============================] - 0s 8ms/step - loss: 9.0544e-05 - accuracy: 1.0000 - val_loss: 3.4326 - val_accuracy: 0.6364\n",
            "Epoch 255/500\n",
            "10/10 [==============================] - 0s 5ms/step - loss: 9.0017e-05 - accuracy: 1.0000 - val_loss: 3.4152 - val_accuracy: 0.6364\n",
            "Epoch 256/500\n",
            "10/10 [==============================] - 0s 5ms/step - loss: 8.8782e-05 - accuracy: 1.0000 - val_loss: 3.4444 - val_accuracy: 0.6364\n",
            "Epoch 257/500\n",
            "10/10 [==============================] - 0s 5ms/step - loss: 8.7875e-05 - accuracy: 1.0000 - val_loss: 3.4633 - val_accuracy: 0.6364\n",
            "Epoch 258/500\n",
            "10/10 [==============================] - 0s 5ms/step - loss: 8.6976e-05 - accuracy: 1.0000 - val_loss: 3.4334 - val_accuracy: 0.6364\n",
            "Epoch 259/500\n",
            "10/10 [==============================] - 0s 6ms/step - loss: 8.5847e-05 - accuracy: 1.0000 - val_loss: 3.4509 - val_accuracy: 0.6364\n",
            "Epoch 260/500\n",
            "10/10 [==============================] - 0s 5ms/step - loss: 8.5140e-05 - accuracy: 1.0000 - val_loss: 3.4826 - val_accuracy: 0.6364\n",
            "Epoch 261/500\n",
            "10/10 [==============================] - 0s 5ms/step - loss: 8.4016e-05 - accuracy: 1.0000 - val_loss: 3.4521 - val_accuracy: 0.6364\n",
            "Epoch 262/500\n",
            "10/10 [==============================] - 0s 4ms/step - loss: 8.3499e-05 - accuracy: 1.0000 - val_loss: 3.4761 - val_accuracy: 0.6364\n",
            "Epoch 263/500\n",
            "10/10 [==============================] - 0s 5ms/step - loss: 8.2548e-05 - accuracy: 1.0000 - val_loss: 3.4415 - val_accuracy: 0.6364\n",
            "Epoch 264/500\n",
            "10/10 [==============================] - 0s 6ms/step - loss: 8.1499e-05 - accuracy: 1.0000 - val_loss: 3.4722 - val_accuracy: 0.6364\n",
            "Epoch 265/500\n",
            "10/10 [==============================] - 0s 6ms/step - loss: 8.0532e-05 - accuracy: 1.0000 - val_loss: 3.4881 - val_accuracy: 0.6364\n",
            "Epoch 266/500\n",
            "10/10 [==============================] - 0s 6ms/step - loss: 8.0005e-05 - accuracy: 1.0000 - val_loss: 3.4752 - val_accuracy: 0.6364\n",
            "Epoch 267/500\n",
            "10/10 [==============================] - 0s 4ms/step - loss: 7.9035e-05 - accuracy: 1.0000 - val_loss: 3.5072 - val_accuracy: 0.6364\n",
            "Epoch 268/500\n",
            "10/10 [==============================] - 0s 6ms/step - loss: 7.7899e-05 - accuracy: 1.0000 - val_loss: 3.4877 - val_accuracy: 0.6364\n",
            "Epoch 269/500\n",
            "10/10 [==============================] - 0s 5ms/step - loss: 7.7321e-05 - accuracy: 1.0000 - val_loss: 3.4775 - val_accuracy: 0.6364\n",
            "Epoch 270/500\n",
            "10/10 [==============================] - 0s 5ms/step - loss: 7.6242e-05 - accuracy: 1.0000 - val_loss: 3.4916 - val_accuracy: 0.6364\n",
            "Epoch 271/500\n",
            "10/10 [==============================] - 0s 5ms/step - loss: 7.5550e-05 - accuracy: 1.0000 - val_loss: 3.5098 - val_accuracy: 0.6364\n",
            "Epoch 272/500\n",
            "10/10 [==============================] - 0s 5ms/step - loss: 7.4874e-05 - accuracy: 1.0000 - val_loss: 3.5032 - val_accuracy: 0.6364\n",
            "Epoch 273/500\n",
            "10/10 [==============================] - 0s 6ms/step - loss: 7.4310e-05 - accuracy: 1.0000 - val_loss: 3.5145 - val_accuracy: 0.6364\n",
            "Epoch 274/500\n",
            "10/10 [==============================] - 0s 5ms/step - loss: 7.3219e-05 - accuracy: 1.0000 - val_loss: 3.5136 - val_accuracy: 0.6364\n",
            "Epoch 275/500\n",
            "10/10 [==============================] - 0s 5ms/step - loss: 7.2749e-05 - accuracy: 1.0000 - val_loss: 3.4939 - val_accuracy: 0.6364\n",
            "Epoch 276/500\n",
            "10/10 [==============================] - 0s 6ms/step - loss: 7.1633e-05 - accuracy: 1.0000 - val_loss: 3.5319 - val_accuracy: 0.6364\n",
            "Epoch 277/500\n",
            "10/10 [==============================] - 0s 7ms/step - loss: 7.1033e-05 - accuracy: 1.0000 - val_loss: 3.5370 - val_accuracy: 0.6364\n",
            "Epoch 278/500\n",
            "10/10 [==============================] - 0s 6ms/step - loss: 7.0174e-05 - accuracy: 1.0000 - val_loss: 3.5274 - val_accuracy: 0.6364\n",
            "Epoch 279/500\n",
            "10/10 [==============================] - 0s 6ms/step - loss: 6.9632e-05 - accuracy: 1.0000 - val_loss: 3.5139 - val_accuracy: 0.6364\n",
            "Epoch 280/500\n",
            "10/10 [==============================] - 0s 6ms/step - loss: 6.8854e-05 - accuracy: 1.0000 - val_loss: 3.5257 - val_accuracy: 0.6364\n",
            "Epoch 281/500\n",
            "10/10 [==============================] - 0s 6ms/step - loss: 6.8083e-05 - accuracy: 1.0000 - val_loss: 3.5346 - val_accuracy: 0.6364\n",
            "Epoch 282/500\n",
            "10/10 [==============================] - 0s 6ms/step - loss: 6.7502e-05 - accuracy: 1.0000 - val_loss: 3.5486 - val_accuracy: 0.6364\n",
            "Epoch 283/500\n",
            "10/10 [==============================] - 0s 6ms/step - loss: 6.6669e-05 - accuracy: 1.0000 - val_loss: 3.5325 - val_accuracy: 0.6364\n",
            "Epoch 284/500\n",
            "10/10 [==============================] - 0s 8ms/step - loss: 6.6266e-05 - accuracy: 1.0000 - val_loss: 3.5224 - val_accuracy: 0.6364\n",
            "Epoch 285/500\n",
            "10/10 [==============================] - 0s 6ms/step - loss: 6.6113e-05 - accuracy: 1.0000 - val_loss: 3.5740 - val_accuracy: 0.5455\n",
            "Epoch 286/500\n",
            "10/10 [==============================] - 0s 10ms/step - loss: 6.4704e-05 - accuracy: 1.0000 - val_loss: 3.5531 - val_accuracy: 0.6364\n",
            "Epoch 287/500\n",
            "10/10 [==============================] - 0s 6ms/step - loss: 6.4189e-05 - accuracy: 1.0000 - val_loss: 3.5483 - val_accuracy: 0.6364\n",
            "Epoch 288/500\n",
            "10/10 [==============================] - 0s 5ms/step - loss: 6.3710e-05 - accuracy: 1.0000 - val_loss: 3.5316 - val_accuracy: 0.6364\n",
            "Epoch 289/500\n",
            "10/10 [==============================] - 0s 7ms/step - loss: 6.2929e-05 - accuracy: 1.0000 - val_loss: 3.5523 - val_accuracy: 0.6364\n",
            "Epoch 290/500\n",
            "10/10 [==============================] - 0s 6ms/step - loss: 6.2185e-05 - accuracy: 1.0000 - val_loss: 3.5744 - val_accuracy: 0.6364\n",
            "Epoch 291/500\n",
            "10/10 [==============================] - 0s 8ms/step - loss: 6.2015e-05 - accuracy: 1.0000 - val_loss: 3.5501 - val_accuracy: 0.6364\n",
            "Epoch 292/500\n",
            "10/10 [==============================] - 0s 10ms/step - loss: 6.1079e-05 - accuracy: 1.0000 - val_loss: 3.5921 - val_accuracy: 0.6364\n",
            "Epoch 293/500\n",
            "10/10 [==============================] - 0s 11ms/step - loss: 6.0779e-05 - accuracy: 1.0000 - val_loss: 3.5612 - val_accuracy: 0.6364\n",
            "Epoch 294/500\n",
            "10/10 [==============================] - 0s 12ms/step - loss: 5.9819e-05 - accuracy: 1.0000 - val_loss: 3.5881 - val_accuracy: 0.6364\n",
            "Epoch 295/500\n",
            "10/10 [==============================] - 0s 13ms/step - loss: 5.9872e-05 - accuracy: 1.0000 - val_loss: 3.6213 - val_accuracy: 0.5455\n",
            "Epoch 296/500\n",
            "10/10 [==============================] - 0s 10ms/step - loss: 5.8833e-05 - accuracy: 1.0000 - val_loss: 3.5515 - val_accuracy: 0.6364\n",
            "Epoch 297/500\n",
            "10/10 [==============================] - 0s 15ms/step - loss: 5.8446e-05 - accuracy: 1.0000 - val_loss: 3.5518 - val_accuracy: 0.6364\n",
            "Epoch 298/500\n",
            "10/10 [==============================] - 0s 9ms/step - loss: 5.7575e-05 - accuracy: 1.0000 - val_loss: 3.5971 - val_accuracy: 0.6364\n",
            "Epoch 299/500\n",
            "10/10 [==============================] - 0s 9ms/step - loss: 5.7061e-05 - accuracy: 1.0000 - val_loss: 3.6198 - val_accuracy: 0.5455\n",
            "Epoch 300/500\n",
            "10/10 [==============================] - 0s 8ms/step - loss: 5.6587e-05 - accuracy: 1.0000 - val_loss: 3.6075 - val_accuracy: 0.6364\n",
            "Epoch 301/500\n",
            "10/10 [==============================] - 0s 8ms/step - loss: 5.6984e-05 - accuracy: 1.0000 - val_loss: 3.5538 - val_accuracy: 0.6364\n",
            "Epoch 302/500\n",
            "10/10 [==============================] - 0s 17ms/step - loss: 5.5738e-05 - accuracy: 1.0000 - val_loss: 3.6167 - val_accuracy: 0.6364\n",
            "Epoch 303/500\n",
            "10/10 [==============================] - 0s 9ms/step - loss: 5.5108e-05 - accuracy: 1.0000 - val_loss: 3.6409 - val_accuracy: 0.5455\n",
            "Epoch 304/500\n",
            "10/10 [==============================] - 0s 16ms/step - loss: 5.4579e-05 - accuracy: 1.0000 - val_loss: 3.6152 - val_accuracy: 0.6364\n",
            "Epoch 305/500\n",
            "10/10 [==============================] - 0s 11ms/step - loss: 5.3834e-05 - accuracy: 1.0000 - val_loss: 3.6082 - val_accuracy: 0.6364\n",
            "Epoch 306/500\n",
            "10/10 [==============================] - 0s 13ms/step - loss: 5.3422e-05 - accuracy: 1.0000 - val_loss: 3.6065 - val_accuracy: 0.6364\n",
            "Epoch 307/500\n",
            "10/10 [==============================] - 0s 12ms/step - loss: 5.3060e-05 - accuracy: 1.0000 - val_loss: 3.6346 - val_accuracy: 0.6364\n",
            "Epoch 308/500\n",
            "10/10 [==============================] - 0s 9ms/step - loss: 5.2436e-05 - accuracy: 1.0000 - val_loss: 3.6094 - val_accuracy: 0.6364\n",
            "Epoch 309/500\n",
            "10/10 [==============================] - 0s 10ms/step - loss: 5.2269e-05 - accuracy: 1.0000 - val_loss: 3.6482 - val_accuracy: 0.5455\n",
            "Epoch 310/500\n",
            "10/10 [==============================] - 0s 7ms/step - loss: 5.1578e-05 - accuracy: 1.0000 - val_loss: 3.6024 - val_accuracy: 0.6364\n",
            "Epoch 311/500\n",
            "10/10 [==============================] - 0s 10ms/step - loss: 5.1073e-05 - accuracy: 1.0000 - val_loss: 3.6211 - val_accuracy: 0.6364\n",
            "Epoch 312/500\n",
            "10/10 [==============================] - 0s 14ms/step - loss: 5.0519e-05 - accuracy: 1.0000 - val_loss: 3.6357 - val_accuracy: 0.6364\n",
            "Epoch 313/500\n",
            "10/10 [==============================] - 0s 21ms/step - loss: 5.1394e-05 - accuracy: 1.0000 - val_loss: 3.6908 - val_accuracy: 0.5455\n",
            "Epoch 314/500\n",
            "10/10 [==============================] - 0s 9ms/step - loss: 4.9925e-05 - accuracy: 1.0000 - val_loss: 3.6072 - val_accuracy: 0.6364\n",
            "Epoch 315/500\n",
            "10/10 [==============================] - 0s 12ms/step - loss: 4.9312e-05 - accuracy: 1.0000 - val_loss: 3.6395 - val_accuracy: 0.6364\n",
            "Epoch 316/500\n",
            "10/10 [==============================] - 0s 7ms/step - loss: 4.8775e-05 - accuracy: 1.0000 - val_loss: 3.6373 - val_accuracy: 0.6364\n",
            "Epoch 317/500\n",
            "10/10 [==============================] - 0s 6ms/step - loss: 4.8424e-05 - accuracy: 1.0000 - val_loss: 3.6687 - val_accuracy: 0.6364\n",
            "Epoch 318/500\n",
            "10/10 [==============================] - 0s 7ms/step - loss: 4.7783e-05 - accuracy: 1.0000 - val_loss: 3.6459 - val_accuracy: 0.6364\n",
            "Epoch 319/500\n",
            "10/10 [==============================] - 0s 11ms/step - loss: 4.7465e-05 - accuracy: 1.0000 - val_loss: 3.6305 - val_accuracy: 0.6364\n",
            "Epoch 320/500\n",
            "10/10 [==============================] - 0s 14ms/step - loss: 4.7015e-05 - accuracy: 1.0000 - val_loss: 3.6557 - val_accuracy: 0.6364\n",
            "Epoch 321/500\n",
            "10/10 [==============================] - 0s 11ms/step - loss: 4.6594e-05 - accuracy: 1.0000 - val_loss: 3.6802 - val_accuracy: 0.6364\n",
            "Epoch 322/500\n",
            "10/10 [==============================] - 0s 12ms/step - loss: 4.6226e-05 - accuracy: 1.0000 - val_loss: 3.6513 - val_accuracy: 0.6364\n",
            "Epoch 323/500\n",
            "10/10 [==============================] - 0s 9ms/step - loss: 4.6090e-05 - accuracy: 1.0000 - val_loss: 3.6941 - val_accuracy: 0.5455\n",
            "Epoch 324/500\n",
            "10/10 [==============================] - 0s 8ms/step - loss: 4.5336e-05 - accuracy: 1.0000 - val_loss: 3.6570 - val_accuracy: 0.6364\n",
            "Epoch 325/500\n",
            "10/10 [==============================] - 0s 8ms/step - loss: 4.5124e-05 - accuracy: 1.0000 - val_loss: 3.6915 - val_accuracy: 0.6364\n",
            "Epoch 326/500\n",
            "10/10 [==============================] - 0s 8ms/step - loss: 4.4630e-05 - accuracy: 1.0000 - val_loss: 3.6638 - val_accuracy: 0.6364\n",
            "Epoch 327/500\n",
            "10/10 [==============================] - 0s 15ms/step - loss: 4.4197e-05 - accuracy: 1.0000 - val_loss: 3.6951 - val_accuracy: 0.6364\n",
            "Epoch 328/500\n",
            "10/10 [==============================] - 0s 11ms/step - loss: 4.4068e-05 - accuracy: 1.0000 - val_loss: 3.6556 - val_accuracy: 0.6364\n",
            "Epoch 329/500\n",
            "10/10 [==============================] - 0s 13ms/step - loss: 4.3478e-05 - accuracy: 1.0000 - val_loss: 3.7070 - val_accuracy: 0.6364\n",
            "Epoch 330/500\n",
            "10/10 [==============================] - 0s 12ms/step - loss: 4.3085e-05 - accuracy: 1.0000 - val_loss: 3.6866 - val_accuracy: 0.6364\n",
            "Epoch 331/500\n",
            "10/10 [==============================] - 0s 13ms/step - loss: 4.2569e-05 - accuracy: 1.0000 - val_loss: 3.7005 - val_accuracy: 0.6364\n",
            "Epoch 332/500\n",
            "10/10 [==============================] - 0s 9ms/step - loss: 4.2397e-05 - accuracy: 1.0000 - val_loss: 3.7167 - val_accuracy: 0.5455\n",
            "Epoch 333/500\n",
            "10/10 [==============================] - 0s 11ms/step - loss: 4.1864e-05 - accuracy: 1.0000 - val_loss: 3.7004 - val_accuracy: 0.6364\n",
            "Epoch 334/500\n",
            "10/10 [==============================] - 0s 16ms/step - loss: 4.1486e-05 - accuracy: 1.0000 - val_loss: 3.7114 - val_accuracy: 0.6364\n",
            "Epoch 335/500\n",
            "10/10 [==============================] - 0s 8ms/step - loss: 4.1146e-05 - accuracy: 1.0000 - val_loss: 3.7062 - val_accuracy: 0.6364\n",
            "Epoch 336/500\n",
            "10/10 [==============================] - 0s 8ms/step - loss: 4.0847e-05 - accuracy: 1.0000 - val_loss: 3.7228 - val_accuracy: 0.6364\n",
            "Epoch 337/500\n",
            "10/10 [==============================] - 0s 18ms/step - loss: 4.0432e-05 - accuracy: 1.0000 - val_loss: 3.7038 - val_accuracy: 0.6364\n",
            "Epoch 338/500\n",
            "10/10 [==============================] - 0s 12ms/step - loss: 4.0369e-05 - accuracy: 1.0000 - val_loss: 3.6773 - val_accuracy: 0.6364\n",
            "Epoch 339/500\n",
            "10/10 [==============================] - 0s 15ms/step - loss: 4.0353e-05 - accuracy: 1.0000 - val_loss: 3.7513 - val_accuracy: 0.5455\n",
            "Epoch 340/500\n",
            "10/10 [==============================] - 0s 10ms/step - loss: 3.9756e-05 - accuracy: 1.0000 - val_loss: 3.6895 - val_accuracy: 0.6364\n",
            "Epoch 341/500\n",
            "10/10 [==============================] - 0s 8ms/step - loss: 3.9204e-05 - accuracy: 1.0000 - val_loss: 3.7329 - val_accuracy: 0.6364\n",
            "Epoch 342/500\n",
            "10/10 [==============================] - 0s 9ms/step - loss: 3.8933e-05 - accuracy: 1.0000 - val_loss: 3.7542 - val_accuracy: 0.5455\n",
            "Epoch 343/500\n",
            "10/10 [==============================] - 0s 10ms/step - loss: 3.8444e-05 - accuracy: 1.0000 - val_loss: 3.7278 - val_accuracy: 0.6364\n",
            "Epoch 344/500\n",
            "10/10 [==============================] - 0s 15ms/step - loss: 3.8162e-05 - accuracy: 1.0000 - val_loss: 3.7252 - val_accuracy: 0.6364\n",
            "Epoch 345/500\n",
            "10/10 [==============================] - 0s 16ms/step - loss: 3.7840e-05 - accuracy: 1.0000 - val_loss: 3.7431 - val_accuracy: 0.6364\n",
            "Epoch 346/500\n",
            "10/10 [==============================] - 0s 11ms/step - loss: 3.7542e-05 - accuracy: 1.0000 - val_loss: 3.7462 - val_accuracy: 0.6364\n",
            "Epoch 347/500\n",
            "10/10 [==============================] - 0s 9ms/step - loss: 3.7222e-05 - accuracy: 1.0000 - val_loss: 3.7455 - val_accuracy: 0.6364\n",
            "Epoch 348/500\n",
            "10/10 [==============================] - 0s 7ms/step - loss: 3.6848e-05 - accuracy: 1.0000 - val_loss: 3.7365 - val_accuracy: 0.6364\n",
            "Epoch 349/500\n",
            "10/10 [==============================] - 0s 7ms/step - loss: 3.6623e-05 - accuracy: 1.0000 - val_loss: 3.7685 - val_accuracy: 0.6364\n",
            "Epoch 350/500\n",
            "10/10 [==============================] - 0s 15ms/step - loss: 3.6199e-05 - accuracy: 1.0000 - val_loss: 3.7484 - val_accuracy: 0.6364\n",
            "Epoch 351/500\n",
            "10/10 [==============================] - 0s 16ms/step - loss: 3.5974e-05 - accuracy: 1.0000 - val_loss: 3.7626 - val_accuracy: 0.6364\n",
            "Epoch 352/500\n",
            "10/10 [==============================] - 0s 15ms/step - loss: 3.5571e-05 - accuracy: 1.0000 - val_loss: 3.7584 - val_accuracy: 0.6364\n",
            "Epoch 353/500\n",
            "10/10 [==============================] - 0s 18ms/step - loss: 3.5320e-05 - accuracy: 1.0000 - val_loss: 3.7454 - val_accuracy: 0.6364\n",
            "Epoch 354/500\n",
            "10/10 [==============================] - 0s 11ms/step - loss: 3.5032e-05 - accuracy: 1.0000 - val_loss: 3.7563 - val_accuracy: 0.6364\n",
            "Epoch 355/500\n",
            "10/10 [==============================] - 0s 18ms/step - loss: 3.4731e-05 - accuracy: 1.0000 - val_loss: 3.7788 - val_accuracy: 0.6364\n",
            "Epoch 356/500\n",
            "10/10 [==============================] - 0s 18ms/step - loss: 3.4503e-05 - accuracy: 1.0000 - val_loss: 3.7466 - val_accuracy: 0.6364\n",
            "Epoch 357/500\n",
            "10/10 [==============================] - 0s 8ms/step - loss: 3.4244e-05 - accuracy: 1.0000 - val_loss: 3.7686 - val_accuracy: 0.6364\n",
            "Epoch 358/500\n",
            "10/10 [==============================] - 0s 8ms/step - loss: 3.4065e-05 - accuracy: 1.0000 - val_loss: 3.7923 - val_accuracy: 0.5455\n",
            "Epoch 359/500\n",
            "10/10 [==============================] - 0s 11ms/step - loss: 3.3651e-05 - accuracy: 1.0000 - val_loss: 3.7639 - val_accuracy: 0.6364\n",
            "Epoch 360/500\n",
            "10/10 [==============================] - 0s 16ms/step - loss: 3.3355e-05 - accuracy: 1.0000 - val_loss: 3.7745 - val_accuracy: 0.6364\n",
            "Epoch 361/500\n",
            "10/10 [==============================] - 0s 12ms/step - loss: 3.3112e-05 - accuracy: 1.0000 - val_loss: 3.7693 - val_accuracy: 0.6364\n",
            "Epoch 362/500\n",
            "10/10 [==============================] - 0s 18ms/step - loss: 3.2795e-05 - accuracy: 1.0000 - val_loss: 3.7872 - val_accuracy: 0.6364\n",
            "Epoch 363/500\n",
            "10/10 [==============================] - 0s 14ms/step - loss: 3.2540e-05 - accuracy: 1.0000 - val_loss: 3.7921 - val_accuracy: 0.6364\n",
            "Epoch 364/500\n",
            "10/10 [==============================] - 0s 13ms/step - loss: 3.2350e-05 - accuracy: 1.0000 - val_loss: 3.8142 - val_accuracy: 0.5455\n",
            "Epoch 365/500\n",
            "10/10 [==============================] - 0s 9ms/step - loss: 3.2046e-05 - accuracy: 1.0000 - val_loss: 3.7742 - val_accuracy: 0.6364\n",
            "Epoch 366/500\n",
            "10/10 [==============================] - 0s 10ms/step - loss: 3.1778e-05 - accuracy: 1.0000 - val_loss: 3.7970 - val_accuracy: 0.6364\n",
            "Epoch 367/500\n",
            "10/10 [==============================] - 0s 18ms/step - loss: 3.1670e-05 - accuracy: 1.0000 - val_loss: 3.7784 - val_accuracy: 0.6364\n",
            "Epoch 368/500\n",
            "10/10 [==============================] - 0s 7ms/step - loss: 3.1229e-05 - accuracy: 1.0000 - val_loss: 3.8214 - val_accuracy: 0.5455\n",
            "Epoch 369/500\n",
            "10/10 [==============================] - 0s 6ms/step - loss: 3.1117e-05 - accuracy: 1.0000 - val_loss: 3.8277 - val_accuracy: 0.5455\n",
            "Epoch 370/500\n",
            "10/10 [==============================] - 0s 6ms/step - loss: 3.0789e-05 - accuracy: 1.0000 - val_loss: 3.7840 - val_accuracy: 0.6364\n",
            "Epoch 371/500\n",
            "10/10 [==============================] - 0s 6ms/step - loss: 3.0621e-05 - accuracy: 1.0000 - val_loss: 3.8086 - val_accuracy: 0.6364\n",
            "Epoch 372/500\n",
            "10/10 [==============================] - 0s 6ms/step - loss: 3.0260e-05 - accuracy: 1.0000 - val_loss: 3.8025 - val_accuracy: 0.6364\n",
            "Epoch 373/500\n",
            "10/10 [==============================] - 0s 5ms/step - loss: 3.0016e-05 - accuracy: 1.0000 - val_loss: 3.8084 - val_accuracy: 0.6364\n",
            "Epoch 374/500\n",
            "10/10 [==============================] - 0s 5ms/step - loss: 2.9838e-05 - accuracy: 1.0000 - val_loss: 3.8283 - val_accuracy: 0.6364\n",
            "Epoch 375/500\n",
            "10/10 [==============================] - 0s 6ms/step - loss: 2.9602e-05 - accuracy: 1.0000 - val_loss: 3.8032 - val_accuracy: 0.6364\n",
            "Epoch 376/500\n",
            "10/10 [==============================] - 0s 6ms/step - loss: 2.9463e-05 - accuracy: 1.0000 - val_loss: 3.8485 - val_accuracy: 0.5455\n",
            "Epoch 377/500\n",
            "10/10 [==============================] - 0s 5ms/step - loss: 2.9079e-05 - accuracy: 1.0000 - val_loss: 3.8284 - val_accuracy: 0.6364\n",
            "Epoch 378/500\n",
            "10/10 [==============================] - 0s 6ms/step - loss: 2.8963e-05 - accuracy: 1.0000 - val_loss: 3.8053 - val_accuracy: 0.6364\n",
            "Epoch 379/500\n",
            "10/10 [==============================] - 0s 6ms/step - loss: 2.8674e-05 - accuracy: 1.0000 - val_loss: 3.8413 - val_accuracy: 0.6364\n",
            "Epoch 380/500\n",
            "10/10 [==============================] - 0s 6ms/step - loss: 2.8368e-05 - accuracy: 1.0000 - val_loss: 3.8327 - val_accuracy: 0.6364\n",
            "Epoch 381/500\n",
            "10/10 [==============================] - 0s 6ms/step - loss: 2.8167e-05 - accuracy: 1.0000 - val_loss: 3.8381 - val_accuracy: 0.6364\n",
            "Epoch 382/500\n",
            "10/10 [==============================] - 0s 6ms/step - loss: 2.7980e-05 - accuracy: 1.0000 - val_loss: 3.8657 - val_accuracy: 0.5455\n",
            "Epoch 383/500\n",
            "10/10 [==============================] - 0s 6ms/step - loss: 2.7800e-05 - accuracy: 1.0000 - val_loss: 3.8268 - val_accuracy: 0.6364\n",
            "Epoch 384/500\n",
            "10/10 [==============================] - 0s 6ms/step - loss: 2.7512e-05 - accuracy: 1.0000 - val_loss: 3.8402 - val_accuracy: 0.6364\n",
            "Epoch 385/500\n",
            "10/10 [==============================] - 0s 5ms/step - loss: 2.7698e-05 - accuracy: 1.0000 - val_loss: 3.8732 - val_accuracy: 0.5455\n",
            "Epoch 386/500\n",
            "10/10 [==============================] - 0s 6ms/step - loss: 2.7054e-05 - accuracy: 1.0000 - val_loss: 3.8318 - val_accuracy: 0.6364\n",
            "Epoch 387/500\n",
            "10/10 [==============================] - 0s 5ms/step - loss: 2.6864e-05 - accuracy: 1.0000 - val_loss: 3.8333 - val_accuracy: 0.6364\n",
            "Epoch 388/500\n",
            "10/10 [==============================] - 0s 6ms/step - loss: 2.6658e-05 - accuracy: 1.0000 - val_loss: 3.8590 - val_accuracy: 0.6364\n",
            "Epoch 389/500\n",
            "10/10 [==============================] - 0s 6ms/step - loss: 2.6512e-05 - accuracy: 1.0000 - val_loss: 3.8709 - val_accuracy: 0.6364\n",
            "Epoch 390/500\n",
            "10/10 [==============================] - 0s 6ms/step - loss: 2.6218e-05 - accuracy: 1.0000 - val_loss: 3.8657 - val_accuracy: 0.6364\n",
            "Epoch 391/500\n",
            "10/10 [==============================] - 0s 6ms/step - loss: 2.6036e-05 - accuracy: 1.0000 - val_loss: 3.8647 - val_accuracy: 0.6364\n",
            "Epoch 392/500\n",
            "10/10 [==============================] - 0s 6ms/step - loss: 2.5888e-05 - accuracy: 1.0000 - val_loss: 3.8505 - val_accuracy: 0.6364\n",
            "Epoch 393/500\n",
            "10/10 [==============================] - 0s 6ms/step - loss: 2.5594e-05 - accuracy: 1.0000 - val_loss: 3.8743 - val_accuracy: 0.6364\n",
            "Epoch 394/500\n",
            "10/10 [==============================] - 0s 6ms/step - loss: 2.5440e-05 - accuracy: 1.0000 - val_loss: 3.8901 - val_accuracy: 0.6364\n",
            "Epoch 395/500\n",
            "10/10 [==============================] - 0s 6ms/step - loss: 2.5259e-05 - accuracy: 1.0000 - val_loss: 3.8696 - val_accuracy: 0.6364\n",
            "Epoch 396/500\n",
            "10/10 [==============================] - 0s 6ms/step - loss: 2.5103e-05 - accuracy: 1.0000 - val_loss: 3.8787 - val_accuracy: 0.6364\n",
            "Epoch 397/500\n",
            "10/10 [==============================] - 0s 6ms/step - loss: 2.4824e-05 - accuracy: 1.0000 - val_loss: 3.8844 - val_accuracy: 0.6364\n",
            "Epoch 398/500\n",
            "10/10 [==============================] - 0s 7ms/step - loss: 2.4685e-05 - accuracy: 1.0000 - val_loss: 3.8855 - val_accuracy: 0.6364\n",
            "Epoch 399/500\n",
            "10/10 [==============================] - 0s 6ms/step - loss: 2.4536e-05 - accuracy: 1.0000 - val_loss: 3.8716 - val_accuracy: 0.6364\n",
            "Epoch 400/500\n",
            "10/10 [==============================] - 0s 6ms/step - loss: 2.4303e-05 - accuracy: 1.0000 - val_loss: 3.8669 - val_accuracy: 0.6364\n",
            "Epoch 401/500\n",
            "10/10 [==============================] - 0s 6ms/step - loss: 2.4108e-05 - accuracy: 1.0000 - val_loss: 3.8902 - val_accuracy: 0.6364\n",
            "Epoch 402/500\n",
            "10/10 [==============================] - 0s 6ms/step - loss: 2.4008e-05 - accuracy: 1.0000 - val_loss: 3.9217 - val_accuracy: 0.5455\n",
            "Epoch 403/500\n",
            "10/10 [==============================] - 0s 6ms/step - loss: 2.3842e-05 - accuracy: 1.0000 - val_loss: 3.8754 - val_accuracy: 0.6364\n",
            "Epoch 404/500\n",
            "10/10 [==============================] - 0s 5ms/step - loss: 2.3790e-05 - accuracy: 1.0000 - val_loss: 3.9115 - val_accuracy: 0.6364\n",
            "Epoch 405/500\n",
            "10/10 [==============================] - 0s 6ms/step - loss: 2.3344e-05 - accuracy: 1.0000 - val_loss: 3.8968 - val_accuracy: 0.6364\n",
            "Epoch 406/500\n",
            "10/10 [==============================] - 0s 6ms/step - loss: 2.3307e-05 - accuracy: 1.0000 - val_loss: 3.9165 - val_accuracy: 0.6364\n",
            "Epoch 407/500\n",
            "10/10 [==============================] - 0s 6ms/step - loss: 2.3013e-05 - accuracy: 1.0000 - val_loss: 3.8921 - val_accuracy: 0.6364\n",
            "Epoch 408/500\n",
            "10/10 [==============================] - 0s 6ms/step - loss: 2.2866e-05 - accuracy: 1.0000 - val_loss: 3.9018 - val_accuracy: 0.6364\n",
            "Epoch 409/500\n",
            "10/10 [==============================] - 0s 6ms/step - loss: 2.2695e-05 - accuracy: 1.0000 - val_loss: 3.9096 - val_accuracy: 0.6364\n",
            "Epoch 410/500\n",
            "10/10 [==============================] - 0s 6ms/step - loss: 2.2520e-05 - accuracy: 1.0000 - val_loss: 3.9322 - val_accuracy: 0.6364\n",
            "Epoch 411/500\n",
            "10/10 [==============================] - 0s 5ms/step - loss: 2.2322e-05 - accuracy: 1.0000 - val_loss: 3.9112 - val_accuracy: 0.6364\n",
            "Epoch 412/500\n",
            "10/10 [==============================] - 0s 6ms/step - loss: 2.2170e-05 - accuracy: 1.0000 - val_loss: 3.9028 - val_accuracy: 0.6364\n",
            "Epoch 413/500\n",
            "10/10 [==============================] - 0s 6ms/step - loss: 2.2024e-05 - accuracy: 1.0000 - val_loss: 3.9137 - val_accuracy: 0.6364\n",
            "Epoch 414/500\n",
            "10/10 [==============================] - 0s 5ms/step - loss: 2.1912e-05 - accuracy: 1.0000 - val_loss: 3.9356 - val_accuracy: 0.6364\n",
            "Epoch 415/500\n",
            "10/10 [==============================] - 0s 6ms/step - loss: 2.1716e-05 - accuracy: 1.0000 - val_loss: 3.9084 - val_accuracy: 0.6364\n",
            "Epoch 416/500\n",
            "10/10 [==============================] - 0s 5ms/step - loss: 2.1532e-05 - accuracy: 1.0000 - val_loss: 3.9395 - val_accuracy: 0.6364\n",
            "Epoch 417/500\n",
            "10/10 [==============================] - 0s 5ms/step - loss: 2.1472e-05 - accuracy: 1.0000 - val_loss: 3.9601 - val_accuracy: 0.5455\n",
            "Epoch 418/500\n",
            "10/10 [==============================] - 0s 5ms/step - loss: 2.1202e-05 - accuracy: 1.0000 - val_loss: 3.9132 - val_accuracy: 0.6364\n",
            "Epoch 419/500\n",
            "10/10 [==============================] - 0s 5ms/step - loss: 2.1043e-05 - accuracy: 1.0000 - val_loss: 3.9182 - val_accuracy: 0.6364\n",
            "Epoch 420/500\n",
            "10/10 [==============================] - 0s 5ms/step - loss: 2.0853e-05 - accuracy: 1.0000 - val_loss: 3.9459 - val_accuracy: 0.6364\n",
            "Epoch 421/500\n",
            "10/10 [==============================] - 0s 5ms/step - loss: 2.0739e-05 - accuracy: 1.0000 - val_loss: 3.9565 - val_accuracy: 0.6364\n",
            "Epoch 422/500\n",
            "10/10 [==============================] - 0s 6ms/step - loss: 2.0673e-05 - accuracy: 1.0000 - val_loss: 3.9259 - val_accuracy: 0.6364\n",
            "Epoch 423/500\n",
            "10/10 [==============================] - 0s 6ms/step - loss: 2.0512e-05 - accuracy: 1.0000 - val_loss: 3.9593 - val_accuracy: 0.6364\n",
            "Epoch 424/500\n",
            "10/10 [==============================] - 0s 6ms/step - loss: 2.0267e-05 - accuracy: 1.0000 - val_loss: 3.9484 - val_accuracy: 0.6364\n",
            "Epoch 425/500\n",
            "10/10 [==============================] - 0s 6ms/step - loss: 2.0110e-05 - accuracy: 1.0000 - val_loss: 3.9475 - val_accuracy: 0.6364\n",
            "Epoch 426/500\n",
            "10/10 [==============================] - 0s 6ms/step - loss: 1.9974e-05 - accuracy: 1.0000 - val_loss: 3.9533 - val_accuracy: 0.6364\n",
            "Epoch 427/500\n",
            "10/10 [==============================] - 0s 6ms/step - loss: 1.9823e-05 - accuracy: 1.0000 - val_loss: 3.9660 - val_accuracy: 0.6364\n",
            "Epoch 428/500\n",
            "10/10 [==============================] - 0s 6ms/step - loss: 1.9695e-05 - accuracy: 1.0000 - val_loss: 3.9465 - val_accuracy: 0.6364\n",
            "Epoch 429/500\n",
            "10/10 [==============================] - 0s 6ms/step - loss: 1.9641e-05 - accuracy: 1.0000 - val_loss: 3.9857 - val_accuracy: 0.5455\n",
            "Epoch 430/500\n",
            "10/10 [==============================] - 0s 6ms/step - loss: 1.9410e-05 - accuracy: 1.0000 - val_loss: 3.9540 - val_accuracy: 0.6364\n",
            "Epoch 431/500\n",
            "10/10 [==============================] - 0s 7ms/step - loss: 1.9305e-05 - accuracy: 1.0000 - val_loss: 3.9665 - val_accuracy: 0.6364\n",
            "Epoch 432/500\n",
            "10/10 [==============================] - 0s 6ms/step - loss: 1.9073e-05 - accuracy: 1.0000 - val_loss: 3.9737 - val_accuracy: 0.6364\n",
            "Epoch 433/500\n",
            "10/10 [==============================] - 0s 5ms/step - loss: 1.8974e-05 - accuracy: 1.0000 - val_loss: 3.9895 - val_accuracy: 0.6364\n",
            "Epoch 434/500\n",
            "10/10 [==============================] - 0s 6ms/step - loss: 1.8816e-05 - accuracy: 1.0000 - val_loss: 3.9783 - val_accuracy: 0.6364\n",
            "Epoch 435/500\n",
            "10/10 [==============================] - 0s 5ms/step - loss: 1.8698e-05 - accuracy: 1.0000 - val_loss: 3.9761 - val_accuracy: 0.6364\n",
            "Epoch 436/500\n",
            "10/10 [==============================] - 0s 7ms/step - loss: 1.8552e-05 - accuracy: 1.0000 - val_loss: 3.9718 - val_accuracy: 0.6364\n",
            "Epoch 437/500\n",
            "10/10 [==============================] - 0s 6ms/step - loss: 1.8441e-05 - accuracy: 1.0000 - val_loss: 3.9913 - val_accuracy: 0.6364\n",
            "Epoch 438/500\n",
            "10/10 [==============================] - 0s 5ms/step - loss: 1.8279e-05 - accuracy: 1.0000 - val_loss: 3.9917 - val_accuracy: 0.6364\n",
            "Epoch 439/500\n",
            "10/10 [==============================] - 0s 5ms/step - loss: 1.8187e-05 - accuracy: 1.0000 - val_loss: 3.9835 - val_accuracy: 0.6364\n",
            "Epoch 440/500\n",
            "10/10 [==============================] - 0s 5ms/step - loss: 1.8021e-05 - accuracy: 1.0000 - val_loss: 3.9785 - val_accuracy: 0.6364\n",
            "Epoch 441/500\n",
            "10/10 [==============================] - 0s 5ms/step - loss: 1.7997e-05 - accuracy: 1.0000 - val_loss: 3.9628 - val_accuracy: 0.6364\n",
            "Epoch 442/500\n",
            "10/10 [==============================] - 0s 6ms/step - loss: 1.7805e-05 - accuracy: 1.0000 - val_loss: 4.0048 - val_accuracy: 0.6364\n",
            "Epoch 443/500\n",
            "10/10 [==============================] - 0s 6ms/step - loss: 1.7643e-05 - accuracy: 1.0000 - val_loss: 4.0039 - val_accuracy: 0.6364\n",
            "Epoch 444/500\n",
            "10/10 [==============================] - 0s 6ms/step - loss: 1.7523e-05 - accuracy: 1.0000 - val_loss: 3.9924 - val_accuracy: 0.6364\n",
            "Epoch 445/500\n",
            "10/10 [==============================] - 0s 6ms/step - loss: 1.7393e-05 - accuracy: 1.0000 - val_loss: 3.9959 - val_accuracy: 0.6364\n",
            "Epoch 446/500\n",
            "10/10 [==============================] - 0s 6ms/step - loss: 1.7269e-05 - accuracy: 1.0000 - val_loss: 4.0110 - val_accuracy: 0.6364\n",
            "Epoch 447/500\n",
            "10/10 [==============================] - 0s 6ms/step - loss: 1.7146e-05 - accuracy: 1.0000 - val_loss: 3.9944 - val_accuracy: 0.6364\n",
            "Epoch 448/500\n",
            "10/10 [==============================] - 0s 7ms/step - loss: 1.7017e-05 - accuracy: 1.0000 - val_loss: 4.0152 - val_accuracy: 0.6364\n",
            "Epoch 449/500\n",
            "10/10 [==============================] - 0s 6ms/step - loss: 1.6920e-05 - accuracy: 1.0000 - val_loss: 4.0084 - val_accuracy: 0.6364\n",
            "Epoch 450/500\n",
            "10/10 [==============================] - 0s 6ms/step - loss: 1.6766e-05 - accuracy: 1.0000 - val_loss: 4.0294 - val_accuracy: 0.6364\n",
            "Epoch 451/500\n",
            "10/10 [==============================] - 0s 6ms/step - loss: 1.6656e-05 - accuracy: 1.0000 - val_loss: 4.0190 - val_accuracy: 0.6364\n",
            "Epoch 452/500\n",
            "10/10 [==============================] - 0s 6ms/step - loss: 1.6611e-05 - accuracy: 1.0000 - val_loss: 4.0150 - val_accuracy: 0.6364\n",
            "Epoch 453/500\n",
            "10/10 [==============================] - 0s 5ms/step - loss: 1.6481e-05 - accuracy: 1.0000 - val_loss: 4.0419 - val_accuracy: 0.6364\n",
            "Epoch 454/500\n",
            "10/10 [==============================] - 0s 6ms/step - loss: 1.6348e-05 - accuracy: 1.0000 - val_loss: 4.0038 - val_accuracy: 0.6364\n",
            "Epoch 455/500\n",
            "10/10 [==============================] - 0s 6ms/step - loss: 1.6251e-05 - accuracy: 1.0000 - val_loss: 4.0313 - val_accuracy: 0.6364\n",
            "Epoch 456/500\n",
            "10/10 [==============================] - 0s 5ms/step - loss: 1.6058e-05 - accuracy: 1.0000 - val_loss: 4.0245 - val_accuracy: 0.6364\n",
            "Epoch 457/500\n",
            "10/10 [==============================] - 0s 6ms/step - loss: 1.5950e-05 - accuracy: 1.0000 - val_loss: 4.0226 - val_accuracy: 0.6364\n",
            "Epoch 458/500\n",
            "10/10 [==============================] - 0s 6ms/step - loss: 1.5866e-05 - accuracy: 1.0000 - val_loss: 4.0269 - val_accuracy: 0.6364\n",
            "Epoch 459/500\n",
            "10/10 [==============================] - 0s 6ms/step - loss: 1.5712e-05 - accuracy: 1.0000 - val_loss: 4.0416 - val_accuracy: 0.6364\n",
            "Epoch 460/500\n",
            "10/10 [==============================] - 0s 7ms/step - loss: 1.5682e-05 - accuracy: 1.0000 - val_loss: 4.0454 - val_accuracy: 0.6364\n",
            "Epoch 461/500\n",
            "10/10 [==============================] - 0s 5ms/step - loss: 1.5543e-05 - accuracy: 1.0000 - val_loss: 4.0210 - val_accuracy: 0.6364\n",
            "Epoch 462/500\n",
            "10/10 [==============================] - 0s 6ms/step - loss: 1.5446e-05 - accuracy: 1.0000 - val_loss: 4.0302 - val_accuracy: 0.6364\n",
            "Epoch 463/500\n",
            "10/10 [==============================] - 0s 5ms/step - loss: 1.5288e-05 - accuracy: 1.0000 - val_loss: 4.0368 - val_accuracy: 0.6364\n",
            "Epoch 464/500\n",
            "10/10 [==============================] - 0s 5ms/step - loss: 1.5200e-05 - accuracy: 1.0000 - val_loss: 4.0428 - val_accuracy: 0.6364\n",
            "Epoch 465/500\n",
            "10/10 [==============================] - 0s 5ms/step - loss: 1.5144e-05 - accuracy: 1.0000 - val_loss: 4.0773 - val_accuracy: 0.5455\n",
            "Epoch 466/500\n",
            "10/10 [==============================] - 0s 5ms/step - loss: 1.4997e-05 - accuracy: 1.0000 - val_loss: 4.0543 - val_accuracy: 0.6364\n",
            "Epoch 467/500\n",
            "10/10 [==============================] - 0s 6ms/step - loss: 1.4879e-05 - accuracy: 1.0000 - val_loss: 4.0595 - val_accuracy: 0.6364\n",
            "Epoch 468/500\n",
            "10/10 [==============================] - 0s 6ms/step - loss: 1.4779e-05 - accuracy: 1.0000 - val_loss: 4.0661 - val_accuracy: 0.6364\n",
            "Epoch 469/500\n",
            "10/10 [==============================] - 0s 6ms/step - loss: 1.4665e-05 - accuracy: 1.0000 - val_loss: 4.0345 - val_accuracy: 0.6364\n",
            "Epoch 470/500\n",
            "10/10 [==============================] - 0s 6ms/step - loss: 1.4547e-05 - accuracy: 1.0000 - val_loss: 4.0552 - val_accuracy: 0.6364\n",
            "Epoch 471/500\n",
            "10/10 [==============================] - 0s 6ms/step - loss: 1.4471e-05 - accuracy: 1.0000 - val_loss: 4.0743 - val_accuracy: 0.6364\n",
            "Epoch 472/500\n",
            "10/10 [==============================] - 0s 6ms/step - loss: 1.4285e-05 - accuracy: 1.0000 - val_loss: 4.0703 - val_accuracy: 0.6364\n",
            "Epoch 473/500\n",
            "10/10 [==============================] - 0s 6ms/step - loss: 1.4151e-05 - accuracy: 1.0000 - val_loss: 4.0667 - val_accuracy: 0.6364\n",
            "Epoch 474/500\n",
            "10/10 [==============================] - 0s 5ms/step - loss: 1.4077e-05 - accuracy: 1.0000 - val_loss: 4.0506 - val_accuracy: 0.6364\n",
            "Epoch 475/500\n",
            "10/10 [==============================] - 0s 5ms/step - loss: 1.3953e-05 - accuracy: 1.0000 - val_loss: 4.0817 - val_accuracy: 0.6364\n",
            "Epoch 476/500\n",
            "10/10 [==============================] - 0s 6ms/step - loss: 1.3818e-05 - accuracy: 1.0000 - val_loss: 4.0737 - val_accuracy: 0.6364\n",
            "Epoch 477/500\n",
            "10/10 [==============================] - 0s 6ms/step - loss: 1.3693e-05 - accuracy: 1.0000 - val_loss: 4.0783 - val_accuracy: 0.6364\n",
            "Epoch 478/500\n",
            "10/10 [==============================] - 0s 5ms/step - loss: 1.3594e-05 - accuracy: 1.0000 - val_loss: 4.0769 - val_accuracy: 0.6364\n",
            "Epoch 479/500\n",
            "10/10 [==============================] - 0s 6ms/step - loss: 1.3503e-05 - accuracy: 1.0000 - val_loss: 4.0639 - val_accuracy: 0.6364\n",
            "Epoch 480/500\n",
            "10/10 [==============================] - 0s 5ms/step - loss: 1.3362e-05 - accuracy: 1.0000 - val_loss: 4.0748 - val_accuracy: 0.6364\n",
            "Epoch 481/500\n",
            "10/10 [==============================] - 0s 5ms/step - loss: 1.3247e-05 - accuracy: 1.0000 - val_loss: 4.0867 - val_accuracy: 0.6364\n",
            "Epoch 482/500\n",
            "10/10 [==============================] - 0s 6ms/step - loss: 1.3218e-05 - accuracy: 1.0000 - val_loss: 4.1032 - val_accuracy: 0.6364\n",
            "Epoch 483/500\n",
            "10/10 [==============================] - 0s 6ms/step - loss: 1.3063e-05 - accuracy: 1.0000 - val_loss: 4.0911 - val_accuracy: 0.6364\n",
            "Epoch 484/500\n",
            "10/10 [==============================] - 0s 5ms/step - loss: 1.3006e-05 - accuracy: 1.0000 - val_loss: 4.0797 - val_accuracy: 0.6364\n",
            "Epoch 485/500\n",
            "10/10 [==============================] - 0s 5ms/step - loss: 1.2846e-05 - accuracy: 1.0000 - val_loss: 4.0998 - val_accuracy: 0.6364\n",
            "Epoch 486/500\n",
            "10/10 [==============================] - 0s 6ms/step - loss: 1.2813e-05 - accuracy: 1.0000 - val_loss: 4.1227 - val_accuracy: 0.5455\n",
            "Epoch 487/500\n",
            "10/10 [==============================] - 0s 6ms/step - loss: 1.2655e-05 - accuracy: 1.0000 - val_loss: 4.0723 - val_accuracy: 0.6364\n",
            "Epoch 488/500\n",
            "10/10 [==============================] - 0s 7ms/step - loss: 1.2575e-05 - accuracy: 1.0000 - val_loss: 4.0908 - val_accuracy: 0.6364\n",
            "Epoch 489/500\n",
            "10/10 [==============================] - 0s 5ms/step - loss: 1.2448e-05 - accuracy: 1.0000 - val_loss: 4.1015 - val_accuracy: 0.6364\n",
            "Epoch 490/500\n",
            "10/10 [==============================] - 0s 6ms/step - loss: 1.2331e-05 - accuracy: 1.0000 - val_loss: 4.1068 - val_accuracy: 0.6364\n",
            "Epoch 491/500\n",
            "10/10 [==============================] - 0s 6ms/step - loss: 1.2266e-05 - accuracy: 1.0000 - val_loss: 4.1166 - val_accuracy: 0.6364\n",
            "Epoch 492/500\n",
            "10/10 [==============================] - 0s 6ms/step - loss: 1.2160e-05 - accuracy: 1.0000 - val_loss: 4.1036 - val_accuracy: 0.6364\n",
            "Epoch 493/500\n",
            "10/10 [==============================] - 0s 6ms/step - loss: 1.2077e-05 - accuracy: 1.0000 - val_loss: 4.1214 - val_accuracy: 0.6364\n",
            "Epoch 494/500\n",
            "10/10 [==============================] - 0s 6ms/step - loss: 1.1968e-05 - accuracy: 1.0000 - val_loss: 4.1036 - val_accuracy: 0.6364\n",
            "Epoch 495/500\n",
            "10/10 [==============================] - 0s 6ms/step - loss: 1.1949e-05 - accuracy: 1.0000 - val_loss: 4.1510 - val_accuracy: 0.5455\n",
            "Epoch 496/500\n",
            "10/10 [==============================] - 0s 6ms/step - loss: 1.1787e-05 - accuracy: 1.0000 - val_loss: 4.1082 - val_accuracy: 0.6364\n",
            "Epoch 497/500\n",
            "10/10 [==============================] - 0s 6ms/step - loss: 1.1702e-05 - accuracy: 1.0000 - val_loss: 4.1256 - val_accuracy: 0.6364\n",
            "Epoch 498/500\n",
            "10/10 [==============================] - 0s 6ms/step - loss: 1.1581e-05 - accuracy: 1.0000 - val_loss: 4.1148 - val_accuracy: 0.6364\n",
            "Epoch 499/500\n",
            "10/10 [==============================] - 0s 5ms/step - loss: 1.1545e-05 - accuracy: 1.0000 - val_loss: 4.1423 - val_accuracy: 0.6364\n",
            "Epoch 500/500\n",
            "10/10 [==============================] - 0s 5ms/step - loss: 1.1411e-05 - accuracy: 1.0000 - val_loss: 4.1330 - val_accuracy: 0.6364\n"
          ]
        }
      ],
      "source": [
        "y = y.reshape(-1,1)\n",
        "\n",
        "# Call fit on your model passing in the X, y. \n",
        "# Train for 500 epochs with a batch size of 10 and validation split of 0.1\n",
        "hist = model.fit(x=train_images, y=y, batch_size=10, validation_split=0.1, epochs=500)\n",
        "\n",
        "# YOUR CODE HERE"
      ]
    },
    {
      "cell_type": "code",
      "execution_count": null,
      "metadata": {
        "id": "ZqGKOswLL-Rp"
      },
      "outputs": [],
      "source": [
        "def plot_losses(hist):\n",
        "    plt.plot(hist.history['loss'])\n",
        "    plt.plot(hist.history['val_loss'])\n",
        "    plt.title('Model Loss')\n",
        "    plt.ylabel('Loss')\n",
        "    plt.xlabel('Epoch')\n",
        "    plt.legend(['Train', 'Val'])\n",
        "    plt.show()\n",
        "def plot_accuracies(hist):\n",
        "    plt.plot(hist.history['accuracy'])\n",
        "    plt.plot(hist.history['val_accuracy'])\n",
        "    plt.title('Model Accuracy')\n",
        "    plt.ylabel('Accuracy')\n",
        "    plt.xlabel('Epoch')\n",
        "    plt.legend(['Train', 'Val'])\n",
        "    plt.show()"
      ]
    },
    {
      "cell_type": "code",
      "execution_count": null,
      "metadata": {
        "id": "94dKwK1_L-Rp",
        "colab": {
          "base_uri": "https://localhost:8080/",
          "height": 573
        },
        "outputId": "820cf177-0e96-41cd-8489-431f2b218423"
      },
      "outputs": [
        {
          "output_type": "display_data",
          "data": {
            "text/plain": [
              "<Figure size 432x288 with 1 Axes>"
            ],
            "image/png": "[encoded data removed]"
          },
          "metadata": {
            "needs_background": "light"
          }
        },
        {
          "output_type": "display_data",
          "data": {
            "text/plain": [
              "<Figure size 432x288 with 1 Axes>"
            ],
            "image/png": "[encoded data removed]"
          },
          "metadata": {
            "needs_background": "light"
          }
        }
      ],
      "source": [
        "# plot your losses and accuracies\n",
        "plot_losses(hist)\n",
        "plot_accuracies(hist)"
      ]
    },
    {
      "cell_type": "markdown",
      "metadata": {
        "id": "WJW712t9ZCzG"
      },
      "source": [
        "Summarize this model's results. Consider the following when answering:\n",
        "\n",
        "1) How did this model compare to previous models? \n",
        "\n",
        "2) Did it outperform the previous models? \n",
        "\n",
        "3) What was your model's overall classification accuracy on the validation set and the least amount of loss on validation set? \n",
        "\n",
        "4) Adam is a powerful optimizer, and may quickly converge to an a minima. Did this happen with this model?"
      ]
    },
    {
      "cell_type": "markdown",
      "metadata": {
        "id": "SO-sWi_XZCzM"
      },
      "source": [
        "1. Comparing our models to the previous one, the training sets accuracy was higher from the beginning epoch sizes and also was lower on the model loss. For the validation set, it quickly converged to a certain accuracy rate while on the previous model it was fluctuating a bit.  \n",
        "2.  Yes it did outperform because of its fast minimization on the accuracy rating and its peak accuracy rating was also higher than the one before that.\n",
        "3. The model's overall classification accuracy was around 0.65 even though every other time I ran the code it would be higher than 7 so I can not explain why this happens. Least amount of loss was 0.48.\n",
        "4. Yes it did minimize to 0.65 pretty quick."
      ]
    }
  ],
  "metadata": {
    "colab": {
      "collapsed_sections": [
        "pcjR5KIXGXmo"
      ],
      "provenance": []
    },
    "kernelspec": {
      "display_name": "Python 3",
      "name": "python3"
    },
    "language_info": {
      "name": "python"
    }
  },
  "nbformat": 4,
  "nbformat_minor": 0
}