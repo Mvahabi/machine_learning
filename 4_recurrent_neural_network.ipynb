{
  "cells": [
    {
      "cell_type": "code",
      "execution_count": null,
      "metadata": {
        "id": "2IlwhV0z2nMr"
      },
      "outputs": [],
      "source": [
        "%matplotlib inline"
      ]
    },
    {
      "cell_type": "markdown",
      "metadata": {
        "id": "Chprzdhe2nMw"
      },
      "source": [
        "# Assignment 5\n",
        "\n",
        "**DUE: Sunday December 4, 2022 11:59pm**\n",
        "\n",
        "Turn in the assignment via Canvas.\n",
        "\n",
        "To write legible answers you will need to be familiar with both [Markdown](https://github.com/adam-p/markdown-here/wiki/Markdown-Cheatsheet) and [Latex](https://www.latex-tutorial.com/tutorials/amsmath/)\n",
        "\n",
        "Before you turn this problem in, make sure everything runs as expected. First, restart the kernel (in the menubar, select Runtime→→Restart runtime) and then run all cells (in the menubar, select Runtime→→Run All).\n",
        "\n",
        "Make sure you fill in any place that says \"YOUR CODE HERE\" or \"YOUR ANSWER HERE\", as well as your name below:"
      ]
    },
    {
      "cell_type": "code",
      "execution_count": null,
      "metadata": {
        "id": "8jeWubXE2nMx"
      },
      "outputs": [],
      "source": [
        "NAME = \"Mahyar Vahabi\"\n",
        "STUDENT_ID = \"1798645\""
      ]
    },
    {
      "cell_type": "markdown",
      "metadata": {
        "id": "E-DjjESEyXnL"
      },
      "source": [
        "\n",
        "\n",
        "\n",
        "\n"
      ]
    },
    {
      "cell_type": "code",
      "execution_count": null,
      "metadata": {
        "id": "Bv1G7ixQvN8E"
      },
      "outputs": [],
      "source": [
        "import numpy as np\n",
        "import pandas as pd\n",
        "import matplotlib.pyplot as plt\n",
        "import seaborn as sns\n",
        "\n",
        "import tensorflow as tf\n",
        "\n",
        "from sklearn.metrics import accuracy_score, precision_score, recall_score\n",
        "from sklearn.model_selection import train_test_split\n",
        "from sklearn.preprocessing import MinMaxScaler\n",
        "from sklearn.metrics import mean_squared_error\n",
        "\n",
        "from keras import layers, losses, metrics\n",
        "from keras.models import *\n",
        "from keras.layers import *\n",
        "from keras.losses import *\n",
        "from keras.metrics import *\n",
        "from keras.datasets import *\n"
      ]
    },
    {
      "cell_type": "markdown",
      "metadata": {
        "id": "Y32nQiJbSAwC"
      },
      "source": [
        "## Question 1: Bitcoin Price Prediction\n",
        "---\n",
        "Bitcoin, amongst other assets like AMC and GME, has been all the rage this past two years and reached an all time high of \\$68,789.63 per bitcoin. Since reaching it's high, the price has dropped 75\\%. Analysts continue to feed the frenzy by releasing price predictions that range from from \\$500,000 to \\$9,000 per bitcoin in the next year. You will make an Recurrent Neural Network model to gain some insight into price prediction. Yahoo! Finance is a trusted name in free financial information and has been with us since the internet's early years. You'll be using data gathered obtained from https://finance.yahoo.com/quote/BTC-USD/history/ to train your recurrent neural network.\n",
        "\n",
        "Run the following code cell to download the training and test data. It might take a while to download the zip file and extract it.\n",
        "\n",
        "Link to the raw data: [link](https://drive.google.com/file/d/1GqHXiTMdWfNniUfF0B5TkKnvMSV1kI4b)"
      ]
    },
    {
      "cell_type": "code",
      "execution_count": null,
      "metadata": {
        "id": "iExiItBkdS8F"
      },
      "outputs": [],
      "source": [
        "from pydrive.auth import GoogleAuth\n",
        "from pydrive.drive import GoogleDrive\n",
        "from google.colab import auth\n",
        "from oauth2client.client import GoogleCredentials\n",
        "import io\n",
        "import zipfile\n",
        "auth.authenticate_user()\n",
        "gauth = GoogleAuth()\n",
        "gauth.credentials = GoogleCredentials.get_application_default()\n",
        "drive = GoogleDrive(gauth)\n",
        "file_id = '1GqHXiTMdWfNniUfF0B5TkKnvMSV1kI4b'\n",
        "downloaded = drive.CreateFile({'id': file_id})\n",
        "downloaded.GetContentFile('BTC-USD.csv')\n"
      ]
    },
    {
      "cell_type": "code",
      "execution_count": null,
      "metadata": {
        "id": "_ab-5H8XVOVi"
      },
      "outputs": [],
      "source": [
        "# Create pandas dataframe\n",
        "data = pd.read_csv('BTC-USD.csv')"
      ]
    },
    {
      "cell_type": "code",
      "execution_count": null,
      "metadata": {
        "colab": {
          "base_uri": "https://localhost:8080/",
          "height": 206
        },
        "id": "8W_KrGElWT0y",
        "outputId": "026755a6-9016-46f2-db7b-c39522e808b5"
      },
      "outputs": [
        {
          "output_type": "execute_result",
          "data": {
            "text/plain": [
              "         Date        Open        High         Low       Close   Adj Close  \\\n",
              "0  2014-09-17  465.864014  468.174011  452.421997  457.334015  457.334015   \n",
              "1  2014-09-18  456.859985  456.859985  413.104004  424.440002  424.440002   \n",
              "2  2014-09-19  424.102997  427.834991  384.532013  394.795990  394.795990   \n",
              "3  2014-09-20  394.673004  423.295990  389.882996  408.903992  408.903992   \n",
              "4  2014-09-21  408.084991  412.425995  393.181000  398.821014  398.821014   \n",
              "\n",
              "       Volume  \n",
              "0  21056800.0  \n",
              "1  34483200.0  \n",
              "2  37919700.0  \n",
              "3  36863600.0  \n",
              "4  26580100.0  "
            ],
            "text/html": [
              "\n",
              "  <div id=\"df-74f5a4c7-8452-4dd2-a130-86fc37dbd8ba\">\n",
              "    <div class=\"colab-df-container\">\n",
              "      <div>\n",
              "<style scoped>\n",
              "    .dataframe tbody tr th:only-of-type {\n",
              "        vertical-align: middle;\n",
              "    }\n",
              "\n",
              "    .dataframe tbody tr th {\n",
              "        vertical-align: top;\n",
              "    }\n",
              "\n",
              "    .dataframe thead th {\n",
              "        text-align: right;\n",
              "    }\n",
              "</style>\n",
              "<table border=\"1\" class=\"dataframe\">\n",
              "  <thead>\n",
              "    <tr style=\"text-align: right;\">\n",
              "      <th></th>\n",
              "      <th>Date</th>\n",
              "      <th>Open</th>\n",
              "      <th>High</th>\n",
              "      <th>Low</th>\n",
              "      <th>Close</th>\n",
              "      <th>Adj Close</th>\n",
              "      <th>Volume</th>\n",
              "    </tr>\n",
              "  </thead>\n",
              "  <tbody>\n",
              "    <tr>\n",
              "      <th>0</th>\n",
              "      <td>2014-09-17</td>\n",
              "      <td>465.864014</td>\n",
              "      <td>468.174011</td>\n",
              "      <td>452.421997</td>\n",
              "      <td>457.334015</td>\n",
              "      <td>457.334015</td>\n",
              "      <td>21056800.0</td>\n",
              "    </tr>\n",
              "    <tr>\n",
              "      <th>1</th>\n",
              "      <td>2014-09-18</td>\n",
              "      <td>456.859985</td>\n",
              "      <td>456.859985</td>\n",
              "      <td>413.104004</td>\n",
              "      <td>424.440002</td>\n",
              "      <td>424.440002</td>\n",
              "      <td>34483200.0</td>\n",
              "    </tr>\n",
              "    <tr>\n",
              "      <th>2</th>\n",
              "      <td>2014-09-19</td>\n",
              "      <td>424.102997</td>\n",
              "      <td>427.834991</td>\n",
              "      <td>384.532013</td>\n",
              "      <td>394.795990</td>\n",
              "      <td>394.795990</td>\n",
              "      <td>37919700.0</td>\n",
              "    </tr>\n",
              "    <tr>\n",
              "      <th>3</th>\n",
              "      <td>2014-09-20</td>\n",
              "      <td>394.673004</td>\n",
              "      <td>423.295990</td>\n",
              "      <td>389.882996</td>\n",
              "      <td>408.903992</td>\n",
              "      <td>408.903992</td>\n",
              "      <td>36863600.0</td>\n",
              "    </tr>\n",
              "    <tr>\n",
              "      <th>4</th>\n",
              "      <td>2014-09-21</td>\n",
              "      <td>408.084991</td>\n",
              "      <td>412.425995</td>\n",
              "      <td>393.181000</td>\n",
              "      <td>398.821014</td>\n",
              "      <td>398.821014</td>\n",
              "      <td>26580100.0</td>\n",
              "    </tr>\n",
              "  </tbody>\n",
              "</table>\n",
              "</div>\n",
              "      <button class=\"colab-df-convert\" onclick=\"convertToInteractive('df-74f5a4c7-8452-4dd2-a130-86fc37dbd8ba')\"\n",
              "              title=\"Convert this dataframe to an interactive table.\"\n",
              "              style=\"display:none;\">\n",
              "        \n",
              "  <svg xmlns=\"http://www.w3.org/2000/svg\" height=\"24px\"viewBox=\"0 0 24 24\"\n",
              "       width=\"24px\">\n",
              "    <path d=\"M0 0h24v24H0V0z\" fill=\"none\"/>\n",
              "    <path d=\"M18.56 5.44l.94 2.06.94-2.06 2.06-.94-2.06-.94-.94-2.06-.94 2.06-2.06.94zm-11 1L8.5 8.5l.94-2.06 2.06-.94-2.06-.94L8.5 2.5l-.94 2.06-2.06.94zm10 10l.94 2.06.94-2.06 2.06-.94-2.06-.94-.94-2.06-.94 2.06-2.06.94z\"/><path d=\"M17.41 7.96l-1.37-1.37c-.4-.4-.92-.59-1.43-.59-.52 0-1.04.2-1.43.59L10.3 9.45l-7.72 7.72c-.78.78-.78 2.05 0 2.83L4 21.41c.39.39.9.59 1.41.59.51 0 1.02-.2 1.41-.59l7.78-7.78 2.81-2.81c.8-.78.8-2.07 0-2.86zM5.41 20L4 18.59l7.72-7.72 1.47 1.35L5.41 20z\"/>\n",
              "  </svg>\n",
              "      </button>\n",
              "      \n",
              "  <style>\n",
              "    .colab-df-container {\n",
              "      display:flex;\n",
              "      flex-wrap:wrap;\n",
              "      gap: 12px;\n",
              "    }\n",
              "\n",
              "    .colab-df-convert {\n",
              "      background-color: #E8F0FE;\n",
              "      border: none;\n",
              "      border-radius: 50%;\n",
              "      cursor: pointer;\n",
              "      display: none;\n",
              "      fill: #1967D2;\n",
              "      height: 32px;\n",
              "      padding: 0 0 0 0;\n",
              "      width: 32px;\n",
              "    }\n",
              "\n",
              "    .colab-df-convert:hover {\n",
              "      background-color: #E2EBFA;\n",
              "      box-shadow: 0px 1px 2px rgba(60, 64, 67, 0.3), 0px 1px 3px 1px rgba(60, 64, 67, 0.15);\n",
              "      fill: #174EA6;\n",
              "    }\n",
              "\n",
              "    [theme=dark] .colab-df-convert {\n",
              "      background-color: #3B4455;\n",
              "      fill: #D2E3FC;\n",
              "    }\n",
              "\n",
              "    [theme=dark] .colab-df-convert:hover {\n",
              "      background-color: #434B5C;\n",
              "      box-shadow: 0px 1px 3px 1px rgba(0, 0, 0, 0.15);\n",
              "      filter: drop-shadow(0px 1px 2px rgba(0, 0, 0, 0.3));\n",
              "      fill: #FFFFFF;\n",
              "    }\n",
              "  </style>\n",
              "\n",
              "      <script>\n",
              "        const buttonEl =\n",
              "          document.querySelector('#df-74f5a4c7-8452-4dd2-a130-86fc37dbd8ba button.colab-df-convert');\n",
              "        buttonEl.style.display =\n",
              "          google.colab.kernel.accessAllowed ? 'block' : 'none';\n",
              "\n",
              "        async function convertToInteractive(key) {\n",
              "          const element = document.querySelector('#df-74f5a4c7-8452-4dd2-a130-86fc37dbd8ba');\n",
              "          const dataTable =\n",
              "            await google.colab.kernel.invokeFunction('convertToInteractive',\n",
              "                                                     [key], {});\n",
              "          if (!dataTable) return;\n",
              "\n",
              "          const docLinkHtml = 'Like what you see? Visit the ' +\n",
              "            '<a target=\"_blank\" href=https://colab.research.google.com/notebooks/data_table.ipynb>data table notebook</a>'\n",
              "            + ' to learn more about interactive tables.';\n",
              "          element.innerHTML = '';\n",
              "          dataTable['output_type'] = 'display_data';\n",
              "          await google.colab.output.renderOutput(dataTable, element);\n",
              "          const docLink = document.createElement('div');\n",
              "          docLink.innerHTML = docLinkHtml;\n",
              "          element.appendChild(docLink);\n",
              "        }\n",
              "      </script>\n",
              "    </div>\n",
              "  </div>\n",
              "  "
            ]
          },
          "metadata": {},
          "execution_count": 6
        }
      ],
      "source": [
        "# Plot data.head()\n",
        "data.head()"
      ]
    },
    {
      "cell_type": "markdown",
      "metadata": {
        "id": "x0UzN1BASfgD"
      },
      "source": [
        "Let's plot the bitcoin price. First, we will make a plot of bitcoin price vs the days after September 15, 2014, the start date of this dataset. Day \"0\" indicates September 15, 2014."
      ]
    },
    {
      "cell_type": "code",
      "execution_count": null,
      "metadata": {
        "colab": {
          "base_uri": "https://localhost:8080/",
          "height": 265
        },
        "id": "UjcXKOtg6jb5",
        "outputId": "f066366f-9334-465a-f70a-69eb4188677d"
      },
      "outputs": [
        {
          "output_type": "display_data",
          "data": {
            "text/plain": [
              "<Figure size 432x288 with 1 Axes>"
            ],
            "image/png": "[encoded data removed]"
          },
          "metadata": {
            "needs_background": "light"
          }
        }
      ],
      "source": [
        "g = sns.lineplot(x = np.linspace(1,2622,2622), y = data['High'].values.reshape(-1))"
      ]
    },
    {
      "cell_type": "markdown",
      "metadata": {
        "id": "Upn-QIHf6mwa"
      },
      "source": [
        "Next, we plot bitcoin vs. days. But this time there are dates added to the graph."
      ]
    },
    {
      "cell_type": "code",
      "execution_count": null,
      "metadata": {
        "colab": {
          "base_uri": "https://localhost:8080/",
          "height": 519
        },
        "id": "qaUQJVYCSc-S",
        "outputId": "fe32803e-8e74-43f7-aa0f-1e878e0165ac"
      },
      "outputs": [
        {
          "output_type": "execute_result",
          "data": {
            "text/plain": [
              "[Text(0, 0, '2014-09-17'),\n",
              " Text(0, 0, '2015-04-05'),\n",
              " Text(0, 0, '2015-10-22'),\n",
              " Text(0, 0, '2016-05-09'),\n",
              " Text(0, 0, '2016-11-25'),\n",
              " Text(0, 0, '2017-06-13'),\n",
              " Text(0, 0, '2017-12-30'),\n",
              " Text(0, 0, '2018-07-18'),\n",
              " Text(0, 0, '2019-02-03'),\n",
              " Text(0, 0, '2019-08-22'),\n",
              " Text(0, 0, '2020-03-09'),\n",
              " Text(0, 0, '2020-09-25'),\n",
              " Text(0, 0, '2021-04-13')]"
            ]
          },
          "metadata": {},
          "execution_count": 8
        },
        {
          "output_type": "display_data",
          "data": {
            "text/plain": [
              "<Figure size 432x288 with 1 Axes>"
            ],
            "image/png": "[encoded data removed]"
          },
          "metadata": {
            "needs_background": "light"
          }
        }
      ],
      "source": [
        "g = sns.lineplot(x = np.linspace(1,2622,2622), y = data['High'].values.reshape(-1))\n",
        "g.set(xticks=np.arange(0,2500,200))\n",
        "g.set_xticklabels(rotation=30, labels = data['Date'][0::200])"
      ]
    },
    {
      "cell_type": "markdown",
      "metadata": {
        "id": "DHC5nm2AMwT4"
      },
      "source": [
        "### Part a) Data Preprocessing (5 points)\n",
        "In this section you will preprocess the data in order to train a recurrent neural network. We can see that there 5 columns, \"Date\", \"Open\", \"High\", \"Low\", \"Close\", \"Adjusted Close\", and \"Volume\". We will only use the High column."
      ]
    },
    {
      "cell_type": "code",
      "execution_count": null,
      "metadata": {
        "id": "mhTJ8iATNFlC"
      },
      "outputs": [],
      "source": [
        "# Create a dataframe that only contains High Column.\n",
        "# Hint: it may be helpful to now cast your pruned dataframe to a numpy array.\n",
        "\n",
        "data_high = data[['High']].copy()\n",
        "### YOUR CODE HERE ###"
      ]
    },
    {
      "cell_type": "code",
      "execution_count": null,
      "metadata": {
        "colab": {
          "base_uri": "https://localhost:8080/",
          "height": 424
        },
        "id": "bMnZ9mbN-DHl",
        "outputId": "d7fb7489-c6c6-422d-8254-c0a5869ef8be"
      },
      "outputs": [
        {
          "output_type": "execute_result",
          "data": {
            "text/plain": [
              "              High\n",
              "0       468.174011\n",
              "1       456.859985\n",
              "2       427.834991\n",
              "3       423.295990\n",
              "4       412.425995\n",
              "...            ...\n",
              "2617  63721.195313\n",
              "2618  60823.609375\n",
              "2619  60948.500000\n",
              "2620  58351.113281\n",
              "2621  59859.878906\n",
              "\n",
              "[2622 rows x 1 columns]"
            ],
            "text/html": [
              "\n",
              "  <div id=\"df-c35282bb-c7a2-430d-8447-661bb75b642a\">\n",
              "    <div class=\"colab-df-container\">\n",
              "      <div>\n",
              "<style scoped>\n",
              "    .dataframe tbody tr th:only-of-type {\n",
              "        vertical-align: middle;\n",
              "    }\n",
              "\n",
              "    .dataframe tbody tr th {\n",
              "        vertical-align: top;\n",
              "    }\n",
              "\n",
              "    .dataframe thead th {\n",
              "        text-align: right;\n",
              "    }\n",
              "</style>\n",
              "<table border=\"1\" class=\"dataframe\">\n",
              "  <thead>\n",
              "    <tr style=\"text-align: right;\">\n",
              "      <th></th>\n",
              "      <th>High</th>\n",
              "    </tr>\n",
              "  </thead>\n",
              "  <tbody>\n",
              "    <tr>\n",
              "      <th>0</th>\n",
              "      <td>468.174011</td>\n",
              "    </tr>\n",
              "    <tr>\n",
              "      <th>1</th>\n",
              "      <td>456.859985</td>\n",
              "    </tr>\n",
              "    <tr>\n",
              "      <th>2</th>\n",
              "      <td>427.834991</td>\n",
              "    </tr>\n",
              "    <tr>\n",
              "      <th>3</th>\n",
              "      <td>423.295990</td>\n",
              "    </tr>\n",
              "    <tr>\n",
              "      <th>4</th>\n",
              "      <td>412.425995</td>\n",
              "    </tr>\n",
              "    <tr>\n",
              "      <th>...</th>\n",
              "      <td>...</td>\n",
              "    </tr>\n",
              "    <tr>\n",
              "      <th>2617</th>\n",
              "      <td>63721.195313</td>\n",
              "    </tr>\n",
              "    <tr>\n",
              "      <th>2618</th>\n",
              "      <td>60823.609375</td>\n",
              "    </tr>\n",
              "    <tr>\n",
              "      <th>2619</th>\n",
              "      <td>60948.500000</td>\n",
              "    </tr>\n",
              "    <tr>\n",
              "      <th>2620</th>\n",
              "      <td>58351.113281</td>\n",
              "    </tr>\n",
              "    <tr>\n",
              "      <th>2621</th>\n",
              "      <td>59859.878906</td>\n",
              "    </tr>\n",
              "  </tbody>\n",
              "</table>\n",
              "<p>2622 rows × 1 columns</p>\n",
              "</div>\n",
              "      <button class=\"colab-df-convert\" onclick=\"convertToInteractive('df-c35282bb-c7a2-430d-8447-661bb75b642a')\"\n",
              "              title=\"Convert this dataframe to an interactive table.\"\n",
              "              style=\"display:none;\">\n",
              "        \n",
              "  <svg xmlns=\"http://www.w3.org/2000/svg\" height=\"24px\"viewBox=\"0 0 24 24\"\n",
              "       width=\"24px\">\n",
              "    <path d=\"M0 0h24v24H0V0z\" fill=\"none\"/>\n",
              "    <path d=\"M18.56 5.44l.94 2.06.94-2.06 2.06-.94-2.06-.94-.94-2.06-.94 2.06-2.06.94zm-11 1L8.5 8.5l.94-2.06 2.06-.94-2.06-.94L8.5 2.5l-.94 2.06-2.06.94zm10 10l.94 2.06.94-2.06 2.06-.94-2.06-.94-.94-2.06-.94 2.06-2.06.94z\"/><path d=\"M17.41 7.96l-1.37-1.37c-.4-.4-.92-.59-1.43-.59-.52 0-1.04.2-1.43.59L10.3 9.45l-7.72 7.72c-.78.78-.78 2.05 0 2.83L4 21.41c.39.39.9.59 1.41.59.51 0 1.02-.2 1.41-.59l7.78-7.78 2.81-2.81c.8-.78.8-2.07 0-2.86zM5.41 20L4 18.59l7.72-7.72 1.47 1.35L5.41 20z\"/>\n",
              "  </svg>\n",
              "      </button>\n",
              "      \n",
              "  <style>\n",
              "    .colab-df-container {\n",
              "      display:flex;\n",
              "      flex-wrap:wrap;\n",
              "      gap: 12px;\n",
              "    }\n",
              "\n",
              "    .colab-df-convert {\n",
              "      background-color: #E8F0FE;\n",
              "      border: none;\n",
              "      border-radius: 50%;\n",
              "      cursor: pointer;\n",
              "      display: none;\n",
              "      fill: #1967D2;\n",
              "      height: 32px;\n",
              "      padding: 0 0 0 0;\n",
              "      width: 32px;\n",
              "    }\n",
              "\n",
              "    .colab-df-convert:hover {\n",
              "      background-color: #E2EBFA;\n",
              "      box-shadow: 0px 1px 2px rgba(60, 64, 67, 0.3), 0px 1px 3px 1px rgba(60, 64, 67, 0.15);\n",
              "      fill: #174EA6;\n",
              "    }\n",
              "\n",
              "    [theme=dark] .colab-df-convert {\n",
              "      background-color: #3B4455;\n",
              "      fill: #D2E3FC;\n",
              "    }\n",
              "\n",
              "    [theme=dark] .colab-df-convert:hover {\n",
              "      background-color: #434B5C;\n",
              "      box-shadow: 0px 1px 3px 1px rgba(0, 0, 0, 0.15);\n",
              "      filter: drop-shadow(0px 1px 2px rgba(0, 0, 0, 0.3));\n",
              "      fill: #FFFFFF;\n",
              "    }\n",
              "  </style>\n",
              "\n",
              "      <script>\n",
              "        const buttonEl =\n",
              "          document.querySelector('#df-c35282bb-c7a2-430d-8447-661bb75b642a button.colab-df-convert');\n",
              "        buttonEl.style.display =\n",
              "          google.colab.kernel.accessAllowed ? 'block' : 'none';\n",
              "\n",
              "        async function convertToInteractive(key) {\n",
              "          const element = document.querySelector('#df-c35282bb-c7a2-430d-8447-661bb75b642a');\n",
              "          const dataTable =\n",
              "            await google.colab.kernel.invokeFunction('convertToInteractive',\n",
              "                                                     [key], {});\n",
              "          if (!dataTable) return;\n",
              "\n",
              "          const docLinkHtml = 'Like what you see? Visit the ' +\n",
              "            '<a target=\"_blank\" href=https://colab.research.google.com/notebooks/data_table.ipynb>data table notebook</a>'\n",
              "            + ' to learn more about interactive tables.';\n",
              "          element.innerHTML = '';\n",
              "          dataTable['output_type'] = 'display_data';\n",
              "          await google.colab.output.renderOutput(dataTable, element);\n",
              "          const docLink = document.createElement('div');\n",
              "          docLink.innerHTML = docLinkHtml;\n",
              "          element.appendChild(docLink);\n",
              "        }\n",
              "      </script>\n",
              "    </div>\n",
              "  </div>\n",
              "  "
            ]
          },
          "metadata": {},
          "execution_count": 10
        }
      ],
      "source": [
        "data_high"
      ]
    },
    {
      "cell_type": "markdown",
      "metadata": {
        "id": "_Bb7U_wU37sY"
      },
      "source": [
        "Remove missing values from the data."
      ]
    },
    {
      "cell_type": "code",
      "execution_count": null,
      "metadata": {
        "id": "Xmfp8yby4A0d"
      },
      "outputs": [],
      "source": [
        "# Remove enteries from the data with missing values. \n",
        "# The shape of the data after this step shoud be (2618,)\n",
        "\n",
        "data_high = data_high.dropna()\n",
        "### YOUR CODE HERE ###"
      ]
    },
    {
      "cell_type": "code",
      "execution_count": null,
      "metadata": {
        "colab": {
          "base_uri": "https://localhost:8080/",
          "height": 424
        },
        "id": "Msq1acvE-OWi",
        "outputId": "c3f41af4-8e52-4d48-8992-73cfbb4d8944"
      },
      "outputs": [
        {
          "output_type": "execute_result",
          "data": {
            "text/plain": [
              "              High\n",
              "0       468.174011\n",
              "1       456.859985\n",
              "2       427.834991\n",
              "3       423.295990\n",
              "4       412.425995\n",
              "...            ...\n",
              "2617  63721.195313\n",
              "2618  60823.609375\n",
              "2619  60948.500000\n",
              "2620  58351.113281\n",
              "2621  59859.878906\n",
              "\n",
              "[2618 rows x 1 columns]"
            ],
            "text/html": [
              "\n",
              "  <div id=\"df-b2bc0c75-e686-4dc7-8eea-7730bdebdde1\">\n",
              "    <div class=\"colab-df-container\">\n",
              "      <div>\n",
              "<style scoped>\n",
              "    .dataframe tbody tr th:only-of-type {\n",
              "        vertical-align: middle;\n",
              "    }\n",
              "\n",
              "    .dataframe tbody tr th {\n",
              "        vertical-align: top;\n",
              "    }\n",
              "\n",
              "    .dataframe thead th {\n",
              "        text-align: right;\n",
              "    }\n",
              "</style>\n",
              "<table border=\"1\" class=\"dataframe\">\n",
              "  <thead>\n",
              "    <tr style=\"text-align: right;\">\n",
              "      <th></th>\n",
              "      <th>High</th>\n",
              "    </tr>\n",
              "  </thead>\n",
              "  <tbody>\n",
              "    <tr>\n",
              "      <th>0</th>\n",
              "      <td>468.174011</td>\n",
              "    </tr>\n",
              "    <tr>\n",
              "      <th>1</th>\n",
              "      <td>456.859985</td>\n",
              "    </tr>\n",
              "    <tr>\n",
              "      <th>2</th>\n",
              "      <td>427.834991</td>\n",
              "    </tr>\n",
              "    <tr>\n",
              "      <th>3</th>\n",
              "      <td>423.295990</td>\n",
              "    </tr>\n",
              "    <tr>\n",
              "      <th>4</th>\n",
              "      <td>412.425995</td>\n",
              "    </tr>\n",
              "    <tr>\n",
              "      <th>...</th>\n",
              "      <td>...</td>\n",
              "    </tr>\n",
              "    <tr>\n",
              "      <th>2617</th>\n",
              "      <td>63721.195313</td>\n",
              "    </tr>\n",
              "    <tr>\n",
              "      <th>2618</th>\n",
              "      <td>60823.609375</td>\n",
              "    </tr>\n",
              "    <tr>\n",
              "      <th>2619</th>\n",
              "      <td>60948.500000</td>\n",
              "    </tr>\n",
              "    <tr>\n",
              "      <th>2620</th>\n",
              "      <td>58351.113281</td>\n",
              "    </tr>\n",
              "    <tr>\n",
              "      <th>2621</th>\n",
              "      <td>59859.878906</td>\n",
              "    </tr>\n",
              "  </tbody>\n",
              "</table>\n",
              "<p>2618 rows × 1 columns</p>\n",
              "</div>\n",
              "      <button class=\"colab-df-convert\" onclick=\"convertToInteractive('df-b2bc0c75-e686-4dc7-8eea-7730bdebdde1')\"\n",
              "              title=\"Convert this dataframe to an interactive table.\"\n",
              "              style=\"display:none;\">\n",
              "        \n",
              "  <svg xmlns=\"http://www.w3.org/2000/svg\" height=\"24px\"viewBox=\"0 0 24 24\"\n",
              "       width=\"24px\">\n",
              "    <path d=\"M0 0h24v24H0V0z\" fill=\"none\"/>\n",
              "    <path d=\"M18.56 5.44l.94 2.06.94-2.06 2.06-.94-2.06-.94-.94-2.06-.94 2.06-2.06.94zm-11 1L8.5 8.5l.94-2.06 2.06-.94-2.06-.94L8.5 2.5l-.94 2.06-2.06.94zm10 10l.94 2.06.94-2.06 2.06-.94-2.06-.94-.94-2.06-.94 2.06-2.06.94z\"/><path d=\"M17.41 7.96l-1.37-1.37c-.4-.4-.92-.59-1.43-.59-.52 0-1.04.2-1.43.59L10.3 9.45l-7.72 7.72c-.78.78-.78 2.05 0 2.83L4 21.41c.39.39.9.59 1.41.59.51 0 1.02-.2 1.41-.59l7.78-7.78 2.81-2.81c.8-.78.8-2.07 0-2.86zM5.41 20L4 18.59l7.72-7.72 1.47 1.35L5.41 20z\"/>\n",
              "  </svg>\n",
              "      </button>\n",
              "      \n",
              "  <style>\n",
              "    .colab-df-container {\n",
              "      display:flex;\n",
              "      flex-wrap:wrap;\n",
              "      gap: 12px;\n",
              "    }\n",
              "\n",
              "    .colab-df-convert {\n",
              "      background-color: #E8F0FE;\n",
              "      border: none;\n",
              "      border-radius: 50%;\n",
              "      cursor: pointer;\n",
              "      display: none;\n",
              "      fill: #1967D2;\n",
              "      height: 32px;\n",
              "      padding: 0 0 0 0;\n",
              "      width: 32px;\n",
              "    }\n",
              "\n",
              "    .colab-df-convert:hover {\n",
              "      background-color: #E2EBFA;\n",
              "      box-shadow: 0px 1px 2px rgba(60, 64, 67, 0.3), 0px 1px 3px 1px rgba(60, 64, 67, 0.15);\n",
              "      fill: #174EA6;\n",
              "    }\n",
              "\n",
              "    [theme=dark] .colab-df-convert {\n",
              "      background-color: #3B4455;\n",
              "      fill: #D2E3FC;\n",
              "    }\n",
              "\n",
              "    [theme=dark] .colab-df-convert:hover {\n",
              "      background-color: #434B5C;\n",
              "      box-shadow: 0px 1px 3px 1px rgba(0, 0, 0, 0.15);\n",
              "      filter: drop-shadow(0px 1px 2px rgba(0, 0, 0, 0.3));\n",
              "      fill: #FFFFFF;\n",
              "    }\n",
              "  </style>\n",
              "\n",
              "      <script>\n",
              "        const buttonEl =\n",
              "          document.querySelector('#df-b2bc0c75-e686-4dc7-8eea-7730bdebdde1 button.colab-df-convert');\n",
              "        buttonEl.style.display =\n",
              "          google.colab.kernel.accessAllowed ? 'block' : 'none';\n",
              "\n",
              "        async function convertToInteractive(key) {\n",
              "          const element = document.querySelector('#df-b2bc0c75-e686-4dc7-8eea-7730bdebdde1');\n",
              "          const dataTable =\n",
              "            await google.colab.kernel.invokeFunction('convertToInteractive',\n",
              "                                                     [key], {});\n",
              "          if (!dataTable) return;\n",
              "\n",
              "          const docLinkHtml = 'Like what you see? Visit the ' +\n",
              "            '<a target=\"_blank\" href=https://colab.research.google.com/notebooks/data_table.ipynb>data table notebook</a>'\n",
              "            + ' to learn more about interactive tables.';\n",
              "          element.innerHTML = '';\n",
              "          dataTable['output_type'] = 'display_data';\n",
              "          await google.colab.output.renderOutput(dataTable, element);\n",
              "          const docLink = document.createElement('div');\n",
              "          docLink.innerHTML = docLinkHtml;\n",
              "          element.appendChild(docLink);\n",
              "        }\n",
              "      </script>\n",
              "    </div>\n",
              "  </div>\n",
              "  "
            ]
          },
          "metadata": {},
          "execution_count": 12
        }
      ],
      "source": [
        "data_high"
      ]
    },
    {
      "cell_type": "markdown",
      "metadata": {
        "id": "JJ6wmmb2DJnE"
      },
      "source": [
        "\n",
        "Recall [MinMaxScaler](https://scikit-learn.org/stable/modules/generated/sklearn.preprocessing.MinMaxScaler.html) from sklearn. Use it to scale the data for our analysis. "
      ]
    },
    {
      "cell_type": "code",
      "execution_count": null,
      "metadata": {
        "id": "4FXLabvyCEN_"
      },
      "outputs": [],
      "source": [
        "### YOUR CODE HERE ###\n",
        "scaler = MinMaxScaler()\n",
        "### YOUR CODE HERE ###\n",
        "\n",
        "data_normalized = scaler.fit_transform(data_high.values.reshape((-1, 1)))\n",
        "### YOUR CODE HERE ###"
      ]
    },
    {
      "cell_type": "markdown",
      "metadata": {
        "id": "Dqq2K_UpNnrX"
      },
      "source": [
        "You will implement a simple autoregressive recurrent neural network using the standard tensorflow RNN architectures. An autoregressive model originates from the literature on time-series models where observations from the previous time-steps are used to predict the value at the current time step. To implemement an autoregressive model, we will simply augment the data so that \"time_steps\" number of previous days are fed to the model at the current time step in order to form a prediction. The function to augment the data is given to you:"
      ]
    },
    {
      "cell_type": "code",
      "execution_count": null,
      "metadata": {
        "id": "jtz4UhmUNngP"
      },
      "outputs": [],
      "source": [
        "def create_dataset(dataset, time_steps=1):\n",
        "    \"\"\"\n",
        "    Generate a dataset where the time series X[n] contains the readings for the 'time_step' previous days \n",
        "    and y contains the price for today.\n",
        "    args:\n",
        "    dataset: numpy array, the data\n",
        "    time_steps: the number of previous days to feed to RNN\n",
        "\n",
        "    returns:\n",
        "    tuple: a dataset with x[i] containing 'time_step' number of previous prices, target price for x[i]\n",
        "    \"\"\"\n",
        "    dataX, dataY = [],[]\n",
        "    for i in range(len(dataset)-time_steps-1):\n",
        "        a = dataset[i:(i+time_steps)]\n",
        "        dataX.append(a)\n",
        "        dataY.append(dataset[i + time_steps])\n",
        "    return np.array(dataX), np.array(dataY)"
      ]
    },
    {
      "cell_type": "code",
      "execution_count": null,
      "metadata": {
        "id": "GtUFvFWuNmiQ"
      },
      "outputs": [],
      "source": [
        "# Choose the number of time steps that the model \"looks back\"\n",
        "time_steps = 4\n",
        "### YOUR CODE HERE ###\n",
        "\n",
        "# Produce your dataset based on the number of days the model could look back\n",
        "\n",
        "### YOUR CODE HERE ###\n",
        "X, y = create_dataset(data_normalized, time_steps)"
      ]
    },
    {
      "cell_type": "code",
      "execution_count": null,
      "metadata": {
        "colab": {
          "base_uri": "https://localhost:8080/"
        },
        "id": "eE0G3sRUB2Il",
        "outputId": "96b648b2-837d-4125-80bb-e8e8daa5367a"
      },
      "outputs": [
        {
          "output_type": "stream",
          "name": "stdout",
          "text": [
            "[[[0.00373944]\n",
            "  [0.00357446]\n",
            "  [0.00315122]\n",
            "  [0.00308503]]\n",
            "\n",
            " [[0.00357446]\n",
            "  [0.00315122]\n",
            "  [0.00308503]\n",
            "  [0.00292653]]\n",
            "\n",
            " [[0.00315122]\n",
            "  [0.00308503]\n",
            "  [0.00292653]\n",
            "  [0.00284618]]\n",
            "\n",
            " ...\n",
            "\n",
            " [[0.94351023]\n",
            "  [0.95196054]\n",
            "  [0.96342765]\n",
            "  [0.92609237]]\n",
            "\n",
            " [[0.95196054]\n",
            "  [0.96342765]\n",
            "  [0.92609237]\n",
            "  [0.88383989]]\n",
            "\n",
            " [[0.96342765]\n",
            "  [0.92609237]\n",
            "  [0.88383989]\n",
            "  [0.88566104]]] [[0.00292653]\n",
            " [0.00284618]\n",
            " [0.00335131]\n",
            " ...\n",
            " [0.88383989]\n",
            " [0.88566104]\n",
            " [0.84778606]]\n"
          ]
        }
      ],
      "source": [
        "print(X, y)"
      ]
    },
    {
      "cell_type": "code",
      "execution_count": null,
      "metadata": {
        "colab": {
          "base_uri": "https://localhost:8080/"
        },
        "id": "GUmwLVKQ9PVN",
        "outputId": "2351f20f-8b6f-4035-ef34-571dbf5b71cf"
      },
      "outputs": [
        {
          "output_type": "stream",
          "name": "stdout",
          "text": [
            "(2613, 4, 1) (2613, 1)\n"
          ]
        }
      ],
      "source": [
        "# Check the shape of your dataset; should be (2618-time_steps-1, time_steps) and (2618-time_steps-1,)\n",
        "print(X.shape, y.shape)"
      ]
    },
    {
      "cell_type": "markdown",
      "metadata": {
        "id": "MBKjptQ4Sa7O"
      },
      "source": [
        "### Part b) Data Partitioning (5 points)\n",
        "Split data into train and test sets. Use 80\\% for training and 20\\% for testing. **Note**: you need to split the data in time (the begining 80\\% of the days from start date will be the training data and the remaining 20\\% will be test data)."
      ]
    },
    {
      "cell_type": "code",
      "execution_count": null,
      "metadata": {
        "id": "q-lwp69bNn-v"
      },
      "outputs": [],
      "source": [
        "### YOUR CODE HERE ###\n",
        "train_size = int(len(X) * 0.8)\n",
        "test_size = len(data_normalized) - train_size - 2*time_steps\n",
        "\n",
        "X_train, X_test = X[0: train_size, :], X[train_size: len(data_normalized), :]\n",
        "y_train, y_test = y[0: train_size, :], y[train_size: len(data_normalized), :]"
      ]
    },
    {
      "cell_type": "markdown",
      "metadata": {
        "id": "C3ylDfvKSRpt"
      },
      "source": [
        "For this dataset, you need to reshape the partitions for the model to be able to process them."
      ]
    },
    {
      "cell_type": "code",
      "source": [
        "print(X_train.shape)"
      ],
      "metadata": {
        "colab": {
          "base_uri": "https://localhost:8080/"
        },
        "id": "C0EZl-S0DI5p",
        "outputId": "b84a0eb7-7895-4841-a090-d8e80a542023"
      },
      "execution_count": null,
      "outputs": [
        {
          "output_type": "stream",
          "name": "stdout",
          "text": [
            "(2090, 4, 1)\n"
          ]
        }
      ]
    },
    {
      "cell_type": "code",
      "execution_count": null,
      "metadata": {
        "colab": {
          "base_uri": "https://localhost:8080/"
        },
        "id": "VGY8MCxWSRpv",
        "outputId": "d1f6dd7d-2400-46f1-b887-79ed4679cb76"
      },
      "outputs": [
        {
          "output_type": "execute_result",
          "data": {
            "text/plain": [
              "(2090, 1, 4)"
            ]
          },
          "metadata": {},
          "execution_count": 20
        }
      ],
      "source": [
        "# Reshape input to be [samples, time steps, features].\n",
        "X_train = np.reshape(X_train, (X_train.shape[0], 1, X_train.shape[1]))\n",
        "X_test = np.reshape(X_test, (X_test.shape[0], 1, X_test.shape[1]))\n",
        "\n",
        "# The shape of the training and test data after this step should be \n",
        "# ((2618-time_steps-1) * 80%, 1, time_steps) and ((2618-time_steps-1) * 20%, 1, time_steps), respectively.\n",
        "X_train.shape"
      ]
    },
    {
      "cell_type": "markdown",
      "metadata": {
        "id": "XT5ychZQTh_R"
      },
      "source": [
        "### Part c) RNN Model (15 points)\n",
        "In this part you will create a model using an RNN layer (LSTM or GRU, unidirectional or bidirectional) and train it on your training data. You will also plot training and validation loss. Use mean squared error as your model's metric."
      ]
    },
    {
      "cell_type": "markdown",
      "metadata": {
        "id": "QI6ZFzquTh_R"
      },
      "source": [
        "Compile your model and display the summary. Train the model and plot loss values."
      ]
    },
    {
      "cell_type": "code",
      "execution_count": null,
      "metadata": {
        "id": "6UVNRGQlTh_S"
      },
      "outputs": [],
      "source": [
        "# Build your model\n",
        "model = Sequential()\n",
        "model.add(LSTM(2, input_shape=(1, time_steps)))\n",
        "model.add(Dense(1))\n",
        "\n",
        "### YOUR CODE HERE ###\n",
        "model.compile(loss = 'mean_squared_error',\n",
        "              optimizer = 'adam',\n",
        "              metrics=[\n",
        "                  metrics.MeanSquaredError(),\n",
        "              ]\n",
        ")"
      ]
    },
    {
      "cell_type": "code",
      "execution_count": null,
      "metadata": {
        "colab": {
          "base_uri": "https://localhost:8080/"
        },
        "id": "Cy6nV7WXTh_S",
        "outputId": "e304310a-14c0-4bd7-f9ae-262fbabb5753"
      },
      "outputs": [
        {
          "output_type": "stream",
          "name": "stdout",
          "text": [
            "Epoch 1/10\n",
            "1672/1672 [==============================] - 7s 3ms/step - loss: 0.0014 - mean_squared_error: 0.0014 - val_loss: 5.8876e-05 - val_mean_squared_error: 5.8876e-05\n",
            "Epoch 2/10\n",
            "1672/1672 [==============================] - 5s 3ms/step - loss: 3.7074e-05 - mean_squared_error: 3.7074e-05 - val_loss: 6.0014e-05 - val_mean_squared_error: 6.0014e-05\n",
            "Epoch 3/10\n",
            "1672/1672 [==============================] - 5s 3ms/step - loss: 3.6823e-05 - mean_squared_error: 3.6823e-05 - val_loss: 5.3519e-05 - val_mean_squared_error: 5.3519e-05\n",
            "Epoch 4/10\n",
            "1672/1672 [==============================] - 8s 5ms/step - loss: 3.5041e-05 - mean_squared_error: 3.5041e-05 - val_loss: 6.2974e-05 - val_mean_squared_error: 6.2974e-05\n",
            "Epoch 5/10\n",
            "1672/1672 [==============================] - 6s 4ms/step - loss: 3.3564e-05 - mean_squared_error: 3.3564e-05 - val_loss: 5.9600e-05 - val_mean_squared_error: 5.9600e-05\n",
            "Epoch 6/10\n",
            "1672/1672 [==============================] - 7s 4ms/step - loss: 3.3390e-05 - mean_squared_error: 3.3390e-05 - val_loss: 5.2241e-05 - val_mean_squared_error: 5.2241e-05\n",
            "Epoch 7/10\n",
            "1672/1672 [==============================] - 7s 4ms/step - loss: 3.1597e-05 - mean_squared_error: 3.1597e-05 - val_loss: 5.1482e-05 - val_mean_squared_error: 5.1482e-05\n",
            "Epoch 8/10\n",
            "1672/1672 [==============================] - 6s 4ms/step - loss: 3.1859e-05 - mean_squared_error: 3.1859e-05 - val_loss: 4.7004e-05 - val_mean_squared_error: 4.7004e-05\n",
            "Epoch 9/10\n",
            "1672/1672 [==============================] - 5s 3ms/step - loss: 3.1128e-05 - mean_squared_error: 3.1128e-05 - val_loss: 6.7106e-05 - val_mean_squared_error: 6.7106e-05\n",
            "Epoch 10/10\n",
            "1672/1672 [==============================] - 6s 4ms/step - loss: 3.1489e-05 - mean_squared_error: 3.1489e-05 - val_loss: 4.4776e-05 - val_mean_squared_error: 4.4776e-05\n"
          ]
        }
      ],
      "source": [
        "batchsize = 1\n",
        "epochs = 10 \n",
        "\n",
        "# Fit model - Use 20% validation split\n",
        "history = model.fit(X_train,\n",
        "                    y_train,\n",
        "                    epochs = epochs,\n",
        "                    batch_size = batchsize,\n",
        "                    validation_split= 0.2,\n",
        "                    verbose = 1\n",
        ")"
      ]
    },
    {
      "cell_type": "code",
      "execution_count": null,
      "metadata": {
        "colab": {
          "base_uri": "https://localhost:8080/"
        },
        "id": "woj1bkQpeiZi",
        "outputId": "51431792-0d07-4651-a954-3d802a758b12"
      },
      "outputs": [
        {
          "output_type": "stream",
          "name": "stdout",
          "text": [
            "Model: \"sequential\"\n",
            "_________________________________________________________________\n",
            " Layer (type)                Output Shape              Param #   \n",
            "=================================================================\n",
            " lstm (LSTM)                 (None, 2)                 56        \n",
            "                                                                 \n",
            " dense (Dense)               (None, 1)                 3         \n",
            "                                                                 \n",
            "=================================================================\n",
            "Total params: 59\n",
            "Trainable params: 59\n",
            "Non-trainable params: 0\n",
            "_________________________________________________________________\n"
          ]
        }
      ],
      "source": [
        "model.summary()"
      ]
    },
    {
      "cell_type": "code",
      "execution_count": null,
      "metadata": {
        "colab": {
          "base_uri": "https://localhost:8080/",
          "height": 312
        },
        "id": "_ymO0e_oTh_S",
        "outputId": "62aa858c-561a-4716-9eae-45467a031b45"
      },
      "outputs": [
        {
          "output_type": "stream",
          "name": "stdout",
          "text": [
            "Validation lowest loss: 3.112840204266831e-05\n"
          ]
        },
        {
          "output_type": "display_data",
          "data": {
            "text/plain": [
              "<Figure size 432x288 with 1 Axes>"
            ],
            "image/png": "[encoded data removed]"
          },
          "metadata": {
            "needs_background": "light"
          }
        }
      ],
      "source": [
        "# Plot the model loss\n",
        "def plot_losses(hist):\n",
        "    print('Validation lowest loss:', min(hist.history['loss']))\n",
        "    plt.plot(hist.history['loss'])\n",
        "    plt.title('Model Loss')\n",
        "    plt.ylabel('Loss')\n",
        "    plt.xlabel('Epoch')\n",
        "    plt.show()\n",
        "\n",
        "### YOUR CODE HERE ###\n",
        "plot_losses(history)"
      ]
    },
    {
      "cell_type": "markdown",
      "metadata": {
        "id": "bZPc1zwFUWmv"
      },
      "source": [
        "### Part d) More Advanced RNN Model (15 points)\n",
        "In this part you will create an RNN model with the number of layers and architerure you prefer. Train it on your training data. You will also plot training and validation loss. Again, use mean squared error as your metric. In this part, you can try different models and use different hyper-parameters and report only the best one."
      ]
    },
    {
      "cell_type": "markdown",
      "metadata": {
        "id": "vsDP4F6RUWmx"
      },
      "source": [
        "Compile your model and display the summary:"
      ]
    },
    {
      "cell_type": "code",
      "source": [
        "# model = Sequential()\n",
        "# model.add(LSTM(4, return_sequences=True, input_shape=(1, time_steps)))\n",
        "# model.add(Dropout(0.5))\n",
        "# model.add(Dense(5, activation = 'sigmoid'))\n",
        "# model.add(Dropout(0.4))\n",
        "# model.add(Dense(3, activation = 'sigmoid'))\n",
        "# model.add(Dropout(0.25))\n",
        "# model.add(Dense(1, activation = 'tanh'))\n",
        "\n",
        "model = Sequential()\n",
        "model.add(Bidirectional(LSTM(10, return_sequences=True),\n",
        "                             input_shape=(1, time_steps)))\n",
        "model.add(Dense(70))\n",
        "model.add(Dropout(0.75))\n",
        "model.add(LSTM(5, return_sequences=False))\n",
        "model.add(Dense(50))\n",
        "model.add(Dropout(0.5))\n",
        "model.add(Dense(30))\n",
        "model.add(Dropout(0.25))\n",
        "model.add(Dense(10))\n",
        "model.add(Dense(1))\n",
        "\n",
        "model.compile(loss = 'mean_squared_error',\n",
        "              optimizer = 'adam',\n",
        "              metrics=[\n",
        "                  metrics.MeanSquaredError(),\n",
        "              ]\n",
        ")"
      ],
      "metadata": {
        "id": "od0zy5Tj2QTW"
      },
      "execution_count": null,
      "outputs": []
    },
    {
      "cell_type": "code",
      "source": [
        "history = model.fit(X_train,\n",
        "                    y_train,\n",
        "                    epochs = 25,\n",
        "                    batch_size = 1,\n",
        "                    validation_split= 0.2,\n",
        "                    verbose = 2\n",
        ")"
      ],
      "metadata": {
        "id": "dfKbv9oG2hLN",
        "colab": {
          "base_uri": "https://localhost:8080/"
        },
        "outputId": "1817eb11-5fe8-49d6-e918-fbc909bdc85a"
      },
      "execution_count": null,
      "outputs": [
        {
          "output_type": "stream",
          "name": "stdout",
          "text": [
            "Epoch 1/25\n",
            "1672/1672 - 14s - loss: 0.0013 - mean_squared_error: 0.0013 - val_loss: 3.6028e-04 - val_mean_squared_error: 3.6028e-04 - 14s/epoch - 8ms/step\n",
            "Epoch 2/25\n",
            "1672/1672 - 8s - loss: 6.0047e-04 - mean_squared_error: 6.0047e-04 - val_loss: 2.8919e-04 - val_mean_squared_error: 2.8919e-04 - 8s/epoch - 5ms/step\n",
            "Epoch 3/25\n",
            "1672/1672 - 7s - loss: 4.6969e-04 - mean_squared_error: 4.6969e-04 - val_loss: 6.8580e-05 - val_mean_squared_error: 6.8580e-05 - 7s/epoch - 4ms/step\n",
            "Epoch 4/25\n",
            "1672/1672 - 7s - loss: 5.5783e-04 - mean_squared_error: 5.5783e-04 - val_loss: 1.7942e-04 - val_mean_squared_error: 1.7942e-04 - 7s/epoch - 4ms/step\n",
            "Epoch 5/25\n",
            "1672/1672 - 9s - loss: 4.5612e-04 - mean_squared_error: 4.5612e-04 - val_loss: 1.9759e-04 - val_mean_squared_error: 1.9759e-04 - 9s/epoch - 5ms/step\n",
            "Epoch 6/25\n",
            "1672/1672 - 7s - loss: 4.7613e-04 - mean_squared_error: 4.7613e-04 - val_loss: 0.0023 - val_mean_squared_error: 0.0023 - 7s/epoch - 4ms/step\n",
            "Epoch 7/25\n",
            "1672/1672 - 7s - loss: 5.5462e-04 - mean_squared_error: 5.5462e-04 - val_loss: 9.6121e-05 - val_mean_squared_error: 9.6121e-05 - 7s/epoch - 4ms/step\n",
            "Epoch 8/25\n",
            "1672/1672 - 7s - loss: 4.0612e-04 - mean_squared_error: 4.0612e-04 - val_loss: 7.9043e-05 - val_mean_squared_error: 7.9043e-05 - 7s/epoch - 4ms/step\n",
            "Epoch 9/25\n",
            "1672/1672 - 8s - loss: 4.5170e-04 - mean_squared_error: 4.5170e-04 - val_loss: 1.1521e-04 - val_mean_squared_error: 1.1521e-04 - 8s/epoch - 5ms/step\n",
            "Epoch 10/25\n",
            "1672/1672 - 8s - loss: 3.4423e-04 - mean_squared_error: 3.4423e-04 - val_loss: 2.3116e-04 - val_mean_squared_error: 2.3116e-04 - 8s/epoch - 5ms/step\n",
            "Epoch 11/25\n",
            "1672/1672 - 7s - loss: 4.4196e-04 - mean_squared_error: 4.4196e-04 - val_loss: 2.0854e-04 - val_mean_squared_error: 2.0854e-04 - 7s/epoch - 4ms/step\n",
            "Epoch 12/25\n",
            "1672/1672 - 10s - loss: 3.8281e-04 - mean_squared_error: 3.8281e-04 - val_loss: 7.5182e-05 - val_mean_squared_error: 7.5182e-05 - 10s/epoch - 6ms/step\n",
            "Epoch 13/25\n",
            "1672/1672 - 7s - loss: 3.2556e-04 - mean_squared_error: 3.2556e-04 - val_loss: 1.1218e-04 - val_mean_squared_error: 1.1218e-04 - 7s/epoch - 4ms/step\n",
            "Epoch 14/25\n",
            "1672/1672 - 9s - loss: 3.2118e-04 - mean_squared_error: 3.2118e-04 - val_loss: 1.2331e-04 - val_mean_squared_error: 1.2331e-04 - 9s/epoch - 5ms/step\n",
            "Epoch 15/25\n",
            "1672/1672 - 10s - loss: 3.5621e-04 - mean_squared_error: 3.5621e-04 - val_loss: 1.8472e-04 - val_mean_squared_error: 1.8472e-04 - 10s/epoch - 6ms/step\n",
            "Epoch 16/25\n",
            "1672/1672 - 7s - loss: 3.7259e-04 - mean_squared_error: 3.7259e-04 - val_loss: 1.6007e-04 - val_mean_squared_error: 1.6007e-04 - 7s/epoch - 4ms/step\n",
            "Epoch 17/25\n",
            "1672/1672 - 7s - loss: 3.3466e-04 - mean_squared_error: 3.3466e-04 - val_loss: 4.7473e-05 - val_mean_squared_error: 4.7473e-05 - 7s/epoch - 4ms/step\n",
            "Epoch 18/25\n",
            "1672/1672 - 7s - loss: 3.4725e-04 - mean_squared_error: 3.4725e-04 - val_loss: 4.0598e-04 - val_mean_squared_error: 4.0598e-04 - 7s/epoch - 4ms/step\n",
            "Epoch 19/25\n",
            "1672/1672 - 7s - loss: 3.3454e-04 - mean_squared_error: 3.3454e-04 - val_loss: 9.8871e-04 - val_mean_squared_error: 9.8871e-04 - 7s/epoch - 4ms/step\n",
            "Epoch 20/25\n",
            "1672/1672 - 8s - loss: 3.0114e-04 - mean_squared_error: 3.0114e-04 - val_loss: 6.1526e-05 - val_mean_squared_error: 6.1526e-05 - 8s/epoch - 5ms/step\n",
            "Epoch 21/25\n",
            "1672/1672 - 7s - loss: 2.7693e-04 - mean_squared_error: 2.7693e-04 - val_loss: 1.1376e-04 - val_mean_squared_error: 1.1376e-04 - 7s/epoch - 4ms/step\n",
            "Epoch 22/25\n",
            "1672/1672 - 8s - loss: 3.8784e-04 - mean_squared_error: 3.8784e-04 - val_loss: 4.2108e-05 - val_mean_squared_error: 4.2108e-05 - 8s/epoch - 5ms/step\n",
            "Epoch 23/25\n",
            "1672/1672 - 7s - loss: 3.9386e-04 - mean_squared_error: 3.9386e-04 - val_loss: 2.1629e-04 - val_mean_squared_error: 2.1629e-04 - 7s/epoch - 4ms/step\n",
            "Epoch 24/25\n",
            "1672/1672 - 7s - loss: 3.0296e-04 - mean_squared_error: 3.0296e-04 - val_loss: 1.9045e-04 - val_mean_squared_error: 1.9045e-04 - 7s/epoch - 4ms/step\n",
            "Epoch 25/25\n",
            "1672/1672 - 7s - loss: 2.8497e-04 - mean_squared_error: 2.8497e-04 - val_loss: 8.7965e-05 - val_mean_squared_error: 8.7965e-05 - 7s/epoch - 4ms/step\n"
          ]
        }
      ]
    },
    {
      "cell_type": "code",
      "source": [
        "model.summary()"
      ],
      "metadata": {
        "id": "qZlwC-6x2t5M",
        "colab": {
          "base_uri": "https://localhost:8080/"
        },
        "outputId": "fcb6595c-ea5d-4b04-eda5-3684bc15b890"
      },
      "execution_count": null,
      "outputs": [
        {
          "output_type": "stream",
          "name": "stdout",
          "text": [
            "Model: \"sequential_1\"\n",
            "_________________________________________________________________\n",
            " Layer (type)                Output Shape              Param #   \n",
            "=================================================================\n",
            " bidirectional (Bidirectiona  (None, 1, 20)            1200      \n",
            " l)                                                              \n",
            "                                                                 \n",
            " dense_1 (Dense)             (None, 1, 70)             1470      \n",
            "                                                                 \n",
            " dropout (Dropout)           (None, 1, 70)             0         \n",
            "                                                                 \n",
            " lstm_2 (LSTM)               (None, 5)                 1520      \n",
            "                                                                 \n",
            " dense_2 (Dense)             (None, 50)                300       \n",
            "                                                                 \n",
            " dropout_1 (Dropout)         (None, 50)                0         \n",
            "                                                                 \n",
            " dense_3 (Dense)             (None, 30)                1530      \n",
            "                                                                 \n",
            " dropout_2 (Dropout)         (None, 30)                0         \n",
            "                                                                 \n",
            " dense_4 (Dense)             (None, 10)                310       \n",
            "                                                                 \n",
            " dense_5 (Dense)             (None, 1)                 11        \n",
            "                                                                 \n",
            "=================================================================\n",
            "Total params: 6,341\n",
            "Trainable params: 6,341\n",
            "Non-trainable params: 0\n",
            "_________________________________________________________________\n"
          ]
        }
      ]
    },
    {
      "cell_type": "code",
      "source": [
        "plot_losses(history)"
      ],
      "metadata": {
        "id": "WnVYNqR02wxt",
        "colab": {
          "base_uri": "https://localhost:8080/",
          "height": 312
        },
        "outputId": "43da1e0b-98cc-4d43-dd0f-4c00efc135d1"
      },
      "execution_count": null,
      "outputs": [
        {
          "output_type": "stream",
          "name": "stdout",
          "text": [
            "Validation lowest loss: 0.00027693473384715617\n"
          ]
        },
        {
          "output_type": "display_data",
          "data": {
            "text/plain": [
              "<Figure size 432x288 with 1 Axes>"
            ],
            "image/png": "[encoded data removed]"
          },
          "metadata": {
            "needs_background": "light"
          }
        }
      ]
    },
    {
      "cell_type": "markdown",
      "metadata": {
        "id": "GkDcoN3CUWmy"
      },
      "source": [
        "### Part e) Looking at the Predictions (10 points)\n",
        "Now, Using the final (best) model you trained, show your model's performance on the test set. Plot the model's prediction for Bitcoin Price along with the actual test set prices. Lastly, note how your model's predictions change with your model's architecture and the number of days you \"look back\". Does your model perform better with more \"look back days\" or less. Did adding more layers help?\n",
        "\n",
        "**Note:** Your model is trained on normalized data. In order to transform your model's predictions to the original price range you will likely need to use sklearn's inverse_transform (https://scikit-learn.org/stable/modules/generated/sklearn.preprocessing.StandardScaler.html)"
      ]
    },
    {
      "cell_type": "code",
      "source": [
        "trainPredict = model.predict(X_train)\n",
        "testPredict = model.predict(X_test)"
      ],
      "metadata": {
        "colab": {
          "base_uri": "https://localhost:8080/"
        },
        "id": "S1TP55i_ztyO",
        "outputId": "0c4031fe-454a-4661-b392-5d27338c29a3"
      },
      "execution_count": null,
      "outputs": [
        {
          "output_type": "stream",
          "name": "stdout",
          "text": [
            "66/66 [==============================] - 4s 4ms/step\n",
            "17/17 [==============================] - 0s 6ms/step\n"
          ]
        }
      ]
    },
    {
      "cell_type": "code",
      "source": [
        "trainPredict = trainPredict.reshape(-1,1)\n",
        "testPredict = testPredict.reshape(-1,1)\n",
        "\n",
        "trainPredict = scaler.inverse_transform(trainPredict)\n",
        "y_train = scaler.inverse_transform(y_train)\n",
        "testPredict = scaler.inverse_transform(testPredict)\n",
        "y_test = scaler.inverse_transform(y_test)\n",
        "\n",
        "testPredict[:10]"
      ],
      "metadata": {
        "id": "FDlM65Y59Q3-",
        "colab": {
          "base_uri": "https://localhost:8080/"
        },
        "outputId": "47793b3e-917a-48b6-e364-9ad82ed70faf"
      },
      "execution_count": null,
      "outputs": [
        {
          "output_type": "execute_result",
          "data": {
            "text/plain": [
              "array([[9295.372],\n",
              "       [9197.452],\n",
              "       [9123.952],\n",
              "       [9041.44 ],\n",
              "       [8977.909],\n",
              "       [8996.358],\n",
              "       [9000.755],\n",
              "       [8992.732],\n",
              "       [8972.67 ],\n",
              "       [8933.813]], dtype=float32)"
            ]
          },
          "metadata": {},
          "execution_count": 30
        }
      ]
    },
    {
      "cell_type": "code",
      "source": [
        "# calculate root mean squared error\n",
        "trainScore = np.sqrt(mean_squared_error(y_train[0], trainPredict[0]))\n",
        "print('Train Score:', np.round(trainScore, 4), 'RMSE')\n",
        "testScore = np.sqrt(mean_squared_error(y_test[0], testPredict[0]))\n",
        "print('Test Score: ', np.round(testScore, 4), 'RMSE')"
      ],
      "metadata": {
        "colab": {
          "base_uri": "https://localhost:8080/"
        },
        "id": "NSUT1qmi0UkK",
        "outputId": "7c4ea31e-cfcf-4492-a92a-91f288c93664"
      },
      "execution_count": null,
      "outputs": [
        {
          "output_type": "stream",
          "name": "stdout",
          "text": [
            "Train Score: 560.935 RMSE\n",
            "Test Score:  245.0938 RMSE\n"
          ]
        }
      ]
    },
    {
      "cell_type": "code",
      "source": [
        "# shift train predictions for plotting\n",
        "trainPredictPlot = np.empty_like(data_normalized)\n",
        "trainPredictPlot[:, :] = np.nan\n",
        "trainPredictPlot[time_steps: len(trainPredict) + time_steps, :] = trainPredict\n",
        "\n",
        "# shift test predictions for plotting\n",
        "testPredictPlot = np.empty_like(data_normalized)\n",
        "testPredictPlot[:, :] = np.nan\n",
        "testPredictPlot[len(trainPredict) + time_steps: len(data_normalized) - 1, :] = testPredict"
      ],
      "metadata": {
        "id": "SYU8p8VY0pge"
      },
      "execution_count": null,
      "outputs": []
    },
    {
      "cell_type": "code",
      "source": [
        "# plot baseline and predictions\n",
        "plt.plot(scaler.inverse_transform(data_normalized), linewidth=2)\n",
        "plt.plot(trainPredictPlot, 'g')\n",
        "plt.plot(testPredictPlot, 'r')\n",
        "plt.show()"
      ],
      "metadata": {
        "id": "wl-Tm5Qb1lIh",
        "colab": {
          "base_uri": "https://localhost:8080/",
          "height": 265
        },
        "outputId": "e2487f9e-3847-4e9c-a43f-0becc0df8827"
      },
      "execution_count": null,
      "outputs": [
        {
          "output_type": "display_data",
          "data": {
            "text/plain": [
              "<Figure size 432x288 with 1 Axes>"
            ],
            "image/png": "[encoded data removed]"
          },
          "metadata": {
            "needs_background": "light"
          }
        }
      ]
    },
    {
      "cell_type": "markdown",
      "metadata": {
        "id": "1to7eXUQNbDd"
      },
      "source": [
        "My model did worse everytime I tried changing specific parameters in each layer, resulting in a low decrease in the loss rate. My model performed better with more \"time_steps\", ended up in a decrease in test performance, but having  4 timesteps seemed to help improve my model's performance. Adding more layers did help to an extent as well, but I wasn't sure how to make it better. Dropout layers helped prevent overtraining the data, in order to help predict the huge spike in BTC value. However, I overtrained and was not able to accurately predict the BTC spike in value."
      ]
    },
    {
      "cell_type": "markdown",
      "metadata": {
        "id": "fLJDlFbyfmj5"
      },
      "source": [
        "## Question 2: Reuters Topic Classification\n",
        "---\n",
        "We will use the [Reuters newswire](https://keras.io/api/datasets/reuters/) classification dataset, which has text paired with 46 topics as labels. You can see what these labels represent [here](https://martin-thoma.com/nlp-reuters/). You will analyze the text and classify the text into one of the 46 classes. Classes are the defined based on the following list (in the same order):\n",
        ">```\n",
        "['cocoa','grain','veg-oil','earn','acq','wheat','copper',\n",
        "'housing','money-supply','coffee','sugar','trade','reserves',\n",
        "'ship','cotton','carcass','crude','nat-gas','cpi','money-fx',\n",
        "'interest','gnp','meal-feed','alum','oilseed','gold','tin',\n",
        "'strategic-metal','livestock','retail','ipi','iron-steel',\n",
        "'rubber','heat','jobs','lei','bop','zinc','orange',\n",
        "'pet-chem','dlr','gas','silver','wpi','hog','lead']\n",
        "```\n",
        "\n"
      ]
    },
    {
      "cell_type": "markdown",
      "metadata": {
        "id": "NyiOu4LzgAur"
      },
      "source": [
        "### Part a) Processing the Data (5 points)\n",
        "Load the data simply from Keras: https://www.tensorflow.org/api_docs/python/tf/keras/datasets/reuters/load_data.\n",
        "You also need to follow the RNN handout from the class exercise and prepare encoding and decoding functions and any other pre-processing you might find useful.\n",
        "\n",
        "Print 5 examples of news along with their class label. "
      ]
    },
    {
      "cell_type": "code",
      "execution_count": null,
      "metadata": {
        "id": "PnzsyAmwvImD",
        "colab": {
          "base_uri": "https://localhost:8080/"
        },
        "outputId": "bebc3d8d-cbf6-4136-effe-9f96f6fc4499"
      },
      "outputs": [
        {
          "output_type": "stream",
          "name": "stdout",
          "text": [
            "8982\n",
            "2246\n",
            "46\n",
            "(the,1),(of,2),(to,3),(in,4),(said,5),(and,6),(a,7),(mln,8),(3,9),(for,10),(vs,11),(dlrs,12),(it,13),(reuter,14),(000,15),(1,16),(pct,17),(on,18),(from,19),(is,20),(that,21),(its,22),(cts,23),(by,24),(at,25),(year,26),(be,27),(with,28),(2,29),(will,30),(was,31),(billion,32),(he,33),(u,34),(s,35),(net,36),(has,37),(would,38),(an,39),(as,40),(5,41),(not,42),(loss,43),(4,44),(1986,45),(company,46),(which,47),(but,48),(this,49),Number of words in vocabulary:  30983\n",
            "(<PAD>,0),(<START>,1),(<UNK>,2),(<UNUSED>,3),(the,4),(of,5),(to,6),(in,7),(said,8),(and,9),(a,10),(mln,11),(3,12),(for,13),(vs,14),(dlrs,15),(it,16),(reuter,17),(000,18),(1,19),(pct,20),(on,21),(from,22),(is,23),(that,24),"
          ]
        }
      ],
      "source": [
        "# Load data\n",
        "from keras.datasets import reuters\n",
        "\n",
        "### YOUR CODE HERE ###\n",
        "(Xtrain, ytrain), (Xtest, ytest)= tf.keras.datasets.reuters.load_data(\n",
        "    path='reuters.npz',\n",
        "    num_words=None,\n",
        "    skip_top=0,\n",
        "    maxlen=None,\n",
        "    test_split=0.2,\n",
        "    seed=113,\n",
        "    start_char=1,\n",
        "    oov_char=2,\n",
        "    index_from=3,\n",
        ")\n",
        "\n",
        "#to make sure dataset is loaded correctly\n",
        "print((len(ytrain)))\n",
        "print((len(ytest)))\n",
        "print(np.max(ytrain)+1)\n",
        "\n",
        "# Clean and pre-process the data\n",
        "\n",
        "### YOUR CODE HERE ###\n",
        "word_dict = reuters.get_word_index() \n",
        "\n",
        "for i in range(50):\n",
        "  for key, value in word_dict.items(): \n",
        "    if value == i:\n",
        "        print('(', key, ',', value, ')', sep = '', end = ',')\n",
        "\n",
        "word_dict = {k:(v+3) for k,v in word_dict.items()}\n",
        "word_dict[\"<PAD>\"] = 0\n",
        "word_dict[\"<START>\"] = 1\n",
        "word_dict[\"<UNK>\"] = 2\n",
        "word_dict[\"<UNUSED>\"] = 3\n",
        "\n",
        "# Print sample data\n",
        "\n",
        "### YOUR CODE HERE ###\n",
        "vocab_size = len(word_dict.keys())\n",
        "print('Number of words in vocabulary: ', vocab_size)\n",
        "for i in range(25):\n",
        "  for key, value in word_dict.items(): \n",
        "    if value == i:\n",
        "        print('(', key, ',', value, ')', sep = '', end = ',')"
      ]
    },
    {
      "cell_type": "markdown",
      "metadata": {
        "id": "YarxnZSMgtrF"
      },
      "source": [
        "### Part b) Data Partitioning (5 points)\n",
        "\n",
        "Split data into train and test sets. Please use 80% for training and 20% for testing. Note that we want to have the same distribution of labels in the training and test set, so you can use stratified train-test split of Keras. See here: https://scikit-learn.org/stable/modules/generated/sklearn.model_selection.train_test_split.html"
      ]
    },
    {
      "cell_type": "code",
      "execution_count": null,
      "metadata": {
        "id": "dM3fOjNG0ybv"
      },
      "outputs": [],
      "source": [
        "### YOUR CODE HERE ###\n",
        "Xtrain, Xtest, ytrain, ytest = train_test_split(Xtrain, \n",
        "                                                ytrain, \n",
        "                                                test_size = 0.2, \n",
        "                                                stratify = ytrain,\n",
        "                                                random_state=42)"
      ]
    },
    {
      "cell_type": "markdown",
      "metadata": {
        "id": "Lp8HvntUTzwW"
      },
      "source": [
        "### Part c) Simple RNN Model (15 points)\n",
        "\n",
        "Create a model using an RNN layer (LSTM or GRU, unidirectional or bidirectional) and train it on your training data. You will also plot training and validation loss and your accuracy metric."
      ]
    },
    {
      "cell_type": "markdown",
      "metadata": {
        "id": "-L2aeGG9KS7w"
      },
      "source": [
        "Compile your model and display the summary:"
      ]
    },
    {
      "cell_type": "code",
      "execution_count": null,
      "metadata": {
        "id": "09k-v7zVzUXj",
        "colab": {
          "base_uri": "https://localhost:8080/"
        },
        "outputId": "95214b30-4cb0-43e4-d2c0-cea5fb0f8735"
      },
      "outputs": [
        {
          "output_type": "stream",
          "name": "stdout",
          "text": [
            "Model: \"model\"\n",
            "_________________________________________________________________\n",
            " Layer (type)                Output Shape              Param #   \n",
            "=================================================================\n",
            " input_1 (InputLayer)        [(None, 1, 4)]            0         \n",
            "                                                                 \n",
            " dense_6 (Dense)             (None, 1, 1024)           5120      \n",
            "                                                                 \n",
            " dense_7 (Dense)             (None, 1, 1024)           1049600   \n",
            "                                                                 \n",
            " dense_8 (Dense)             (None, 1, 512)            524800    \n",
            "                                                                 \n",
            " dense_9 (Dense)             (None, 1, 256)            131328    \n",
            "                                                                 \n",
            " dense_10 (Dense)            (None, 1, 128)            32896     \n",
            "                                                                 \n",
            " dense_11 (Dense)            (None, 1, 64)             8256      \n",
            "                                                                 \n",
            " dense_12 (Dense)            (None, 1, 46)             2990      \n",
            "                                                                 \n",
            "=================================================================\n",
            "Total params: 1,754,990\n",
            "Trainable params: 1,754,990\n",
            "Non-trainable params: 0\n",
            "_________________________________________________________________\n"
          ]
        }
      ],
      "source": [
        "# Build your model\n",
        "\n",
        "### YOUR CODE HERE ###\n",
        "input_layer = Input(shape=(1,4))\n",
        "x = Dense(1024, activation='relu')(input_layer)\n",
        "x = Dense(1024, activation='relu')(x)\n",
        "x = Dense(512, activation='relu')(x)\n",
        "x = Dense(256, activation='relu')(x)\n",
        "x = Dense(128, activation='relu')(x)\n",
        "x = Dense(64, activation='relu')(x)\n",
        "x = Dense(46, activation='softmax')(x)\n",
        "\n",
        "reuters_model = Model(input_layer, x)\n",
        "\n",
        "# reuters_model = Sequential()\n",
        "# reuters_model.add(Dense(100, input_dim=(1,4), activation='relu'))\n",
        "# reuters_model.add(Dense(50, activation='relu'))\n",
        "# reuters_model.add(Dense(46, activation='softmax'))\n",
        "\n",
        "reuters_model.compile(loss='sparse_categorical_crossentropy',\n",
        "              optimizer='adam',\n",
        "              metrics=['accuracy'])\n",
        "\n",
        "reuters_model.summary()"
      ]
    },
    {
      "cell_type": "code",
      "execution_count": null,
      "metadata": {
        "id": "mthwaqCrzvM3",
        "colab": {
          "base_uri": "https://localhost:8080/",
          "height": 1000
        },
        "outputId": "2388e5d6-6945-4931-acf3-04a6ac35a441"
      },
      "outputs": [
        {
          "output_type": "stream",
          "name": "stdout",
          "text": [
            "Epoch 1/10\n"
          ]
        },
        {
          "output_type": "error",
          "ename": "InvalidArgumentError",
          "evalue": "ignored",
          "traceback": [
            "\u001b[0;31m---------------------------------------------------------------------------\u001b[0m",
            "\u001b[0;31mInvalidArgumentError\u001b[0m                      Traceback (most recent call last)",
            "\u001b[0;32m<ipython-input-38-9a1398cfc839>\u001b[0m in \u001b[0;36m<module>\u001b[0;34m\u001b[0m\n\u001b[1;32m      3\u001b[0m \u001b[0;34m\u001b[0m\u001b[0m\n\u001b[1;32m      4\u001b[0m \u001b[0;31m# Fit model\u001b[0m\u001b[0;34m\u001b[0m\u001b[0;34m\u001b[0m\u001b[0;34m\u001b[0m\u001b[0m\n\u001b[0;32m----> 5\u001b[0;31m history = reuters_model.fit(X_train, y_train, \n\u001b[0m\u001b[1;32m      6\u001b[0m                             \u001b[0mbatch_size\u001b[0m\u001b[0;34m=\u001b[0m\u001b[0mbatchsize\u001b[0m\u001b[0;34m,\u001b[0m\u001b[0;34m\u001b[0m\u001b[0;34m\u001b[0m\u001b[0m\n\u001b[1;32m      7\u001b[0m                             \u001b[0mepochs\u001b[0m\u001b[0;34m=\u001b[0m\u001b[0mepochs\u001b[0m\u001b[0;34m,\u001b[0m\u001b[0;34m\u001b[0m\u001b[0;34m\u001b[0m\u001b[0m\n",
            "\u001b[0;32m/usr/local/lib/python3.8/dist-packages/keras/utils/traceback_utils.py\u001b[0m in \u001b[0;36merror_handler\u001b[0;34m(*args, **kwargs)\u001b[0m\n\u001b[1;32m     65\u001b[0m     \u001b[0;32mexcept\u001b[0m \u001b[0mException\u001b[0m \u001b[0;32mas\u001b[0m \u001b[0me\u001b[0m\u001b[0;34m:\u001b[0m  \u001b[0;31m# pylint: disable=broad-except\u001b[0m\u001b[0;34m\u001b[0m\u001b[0;34m\u001b[0m\u001b[0m\n\u001b[1;32m     66\u001b[0m       \u001b[0mfiltered_tb\u001b[0m \u001b[0;34m=\u001b[0m \u001b[0m_process_traceback_frames\u001b[0m\u001b[0;34m(\u001b[0m\u001b[0me\u001b[0m\u001b[0;34m.\u001b[0m\u001b[0m__traceback__\u001b[0m\u001b[0;34m)\u001b[0m\u001b[0;34m\u001b[0m\u001b[0;34m\u001b[0m\u001b[0m\n\u001b[0;32m---> 67\u001b[0;31m       \u001b[0;32mraise\u001b[0m \u001b[0me\u001b[0m\u001b[0;34m.\u001b[0m\u001b[0mwith_traceback\u001b[0m\u001b[0;34m(\u001b[0m\u001b[0mfiltered_tb\u001b[0m\u001b[0;34m)\u001b[0m \u001b[0;32mfrom\u001b[0m \u001b[0;32mNone\u001b[0m\u001b[0;34m\u001b[0m\u001b[0;34m\u001b[0m\u001b[0m\n\u001b[0m\u001b[1;32m     68\u001b[0m     \u001b[0;32mfinally\u001b[0m\u001b[0;34m:\u001b[0m\u001b[0;34m\u001b[0m\u001b[0;34m\u001b[0m\u001b[0m\n\u001b[1;32m     69\u001b[0m       \u001b[0;32mdel\u001b[0m \u001b[0mfiltered_tb\u001b[0m\u001b[0;34m\u001b[0m\u001b[0;34m\u001b[0m\u001b[0m\n",
            "\u001b[0;32m/usr/local/lib/python3.8/dist-packages/tensorflow/python/eager/execute.py\u001b[0m in \u001b[0;36mquick_execute\u001b[0;34m(op_name, num_outputs, inputs, attrs, ctx, name)\u001b[0m\n\u001b[1;32m     52\u001b[0m   \u001b[0;32mtry\u001b[0m\u001b[0;34m:\u001b[0m\u001b[0;34m\u001b[0m\u001b[0;34m\u001b[0m\u001b[0m\n\u001b[1;32m     53\u001b[0m     \u001b[0mctx\u001b[0m\u001b[0;34m.\u001b[0m\u001b[0mensure_initialized\u001b[0m\u001b[0;34m(\u001b[0m\u001b[0;34m)\u001b[0m\u001b[0;34m\u001b[0m\u001b[0;34m\u001b[0m\u001b[0m\n\u001b[0;32m---> 54\u001b[0;31m     tensors = pywrap_tfe.TFE_Py_Execute(ctx._handle, device_name, op_name,\n\u001b[0m\u001b[1;32m     55\u001b[0m                                         inputs, attrs, num_outputs)\n\u001b[1;32m     56\u001b[0m   \u001b[0;32mexcept\u001b[0m \u001b[0mcore\u001b[0m\u001b[0;34m.\u001b[0m\u001b[0m_NotOkStatusException\u001b[0m \u001b[0;32mas\u001b[0m \u001b[0me\u001b[0m\u001b[0;34m:\u001b[0m\u001b[0;34m\u001b[0m\u001b[0;34m\u001b[0m\u001b[0m\n",
            "\u001b[0;31mInvalidArgumentError\u001b[0m: Graph execution error:\n\nDetected at node 'sparse_categorical_crossentropy/SparseSoftmaxCrossEntropyWithLogits/SparseSoftmaxCrossEntropyWithLogits' defined at (most recent call last):\n    File \"/usr/lib/python3.8/runpy.py\", line 194, in _run_module_as_main\n      return _run_code(code, main_globals, None,\n    File \"/usr/lib/python3.8/runpy.py\", line 87, in _run_code\n      exec(code, run_globals)\n    File \"/usr/local/lib/python3.8/dist-packages/ipykernel_launcher.py\", line 16, in <module>\n      app.launch_new_instance()\n    File \"/usr/local/lib/python3.8/dist-packages/traitlets/config/application.py\", line 846, in launch_instance\n      app.start()\n    File \"/usr/local/lib/python3.8/dist-packages/ipykernel/kernelapp.py\", line 612, in start\n      self.io_loop.start()\n    File \"/usr/local/lib/python3.8/dist-packages/tornado/platform/asyncio.py\", line 149, in start\n      self.asyncio_loop.run_forever()\n    File \"/usr/lib/python3.8/asyncio/base_events.py\", line 570, in run_forever\n      self._run_once()\n    File \"/usr/lib/python3.8/asyncio/base_events.py\", line 1859, in _run_once\n      handle._run()\n    File \"/usr/lib/python3.8/asyncio/events.py\", line 81, in _run\n      self._context.run(self._callback, *self._args)\n    File \"/usr/local/lib/python3.8/dist-packages/tornado/ioloop.py\", line 690, in <lambda>\n      lambda f: self._run_callback(functools.partial(callback, future))\n    File \"/usr/local/lib/python3.8/dist-packages/tornado/ioloop.py\", line 743, in _run_callback\n      ret = callback()\n    File \"/usr/local/lib/python3.8/dist-packages/tornado/gen.py\", line 787, in inner\n      self.run()\n    File \"/usr/local/lib/python3.8/dist-packages/tornado/gen.py\", line 748, in run\n      yielded = self.gen.send(value)\n    File \"/usr/local/lib/python3.8/dist-packages/ipykernel/kernelbase.py\", line 381, in dispatch_queue\n      yield self.process_one()\n    File \"/usr/local/lib/python3.8/dist-packages/tornado/gen.py\", line 225, in wrapper\n      runner = Runner(result, future, yielded)\n    File \"/usr/local/lib/python3.8/dist-packages/tornado/gen.py\", line 714, in __init__\n      self.run()\n    File \"/usr/local/lib/python3.8/dist-packages/tornado/gen.py\", line 748, in run\n      yielded = self.gen.send(value)\n    File \"/usr/local/lib/python3.8/dist-packages/ipykernel/kernelbase.py\", line 365, in process_one\n      yield gen.maybe_future(dispatch(*args))\n    File \"/usr/local/lib/python3.8/dist-packages/tornado/gen.py\", line 209, in wrapper\n      yielded = next(result)\n    File \"/usr/local/lib/python3.8/dist-packages/ipykernel/kernelbase.py\", line 268, in dispatch_shell\n      yield gen.maybe_future(handler(stream, idents, msg))\n    File \"/usr/local/lib/python3.8/dist-packages/tornado/gen.py\", line 209, in wrapper\n      yielded = next(result)\n    File \"/usr/local/lib/python3.8/dist-packages/ipykernel/kernelbase.py\", line 543, in execute_request\n      self.do_execute(\n    File \"/usr/local/lib/python3.8/dist-packages/tornado/gen.py\", line 209, in wrapper\n      yielded = next(result)\n    File \"/usr/local/lib/python3.8/dist-packages/ipykernel/ipkernel.py\", line 306, in do_execute\n      res = shell.run_cell(code, store_history=store_history, silent=silent)\n    File \"/usr/local/lib/python3.8/dist-packages/ipykernel/zmqshell.py\", line 536, in run_cell\n      return super(ZMQInteractiveShell, self).run_cell(*args, **kwargs)\n    File \"/usr/local/lib/python3.8/dist-packages/IPython/core/interactiveshell.py\", line 2854, in run_cell\n      result = self._run_cell(\n    File \"/usr/local/lib/python3.8/dist-packages/IPython/core/interactiveshell.py\", line 2881, in _run_cell\n      return runner(coro)\n    File \"/usr/local/lib/python3.8/dist-packages/IPython/core/async_helpers.py\", line 68, in _pseudo_sync_runner\n      coro.send(None)\n    File \"/usr/local/lib/python3.8/dist-packages/IPython/core/interactiveshell.py\", line 3057, in run_cell_async\n      has_raised = await self.run_ast_nodes(code_ast.body, cell_name,\n    File \"/usr/local/lib/python3.8/dist-packages/IPython/core/interactiveshell.py\", line 3249, in run_ast_nodes\n      if (await self.run_code(code, result,  async_=asy)):\n    File \"/usr/local/lib/python3.8/dist-packages/IPython/core/interactiveshell.py\", line 3326, in run_code\n      exec(code_obj, self.user_global_ns, self.user_ns)\n    File \"<ipython-input-38-9a1398cfc839>\", line 5, in <module>\n      history = reuters_model.fit(X_train, y_train,\n    File \"/usr/local/lib/python3.8/dist-packages/keras/utils/traceback_utils.py\", line 64, in error_handler\n      return fn(*args, **kwargs)\n    File \"/usr/local/lib/python3.8/dist-packages/keras/engine/training.py\", line 1409, in fit\n      tmp_logs = self.train_function(iterator)\n    File \"/usr/local/lib/python3.8/dist-packages/keras/engine/training.py\", line 1051, in train_function\n      return step_function(self, iterator)\n    File \"/usr/local/lib/python3.8/dist-packages/keras/engine/training.py\", line 1040, in step_function\n      outputs = model.distribute_strategy.run(run_step, args=(data,))\n    File \"/usr/local/lib/python3.8/dist-packages/keras/engine/training.py\", line 1030, in run_step\n      outputs = model.train_step(data)\n    File \"/usr/local/lib/python3.8/dist-packages/keras/engine/training.py\", line 890, in train_step\n      loss = self.compute_loss(x, y, y_pred, sample_weight)\n    File \"/usr/local/lib/python3.8/dist-packages/keras/engine/training.py\", line 948, in compute_loss\n      return self.compiled_loss(\n    File \"/usr/local/lib/python3.8/dist-packages/keras/engine/compile_utils.py\", line 201, in __call__\n      loss_value = loss_obj(y_t, y_p, sample_weight=sw)\n    File \"/usr/local/lib/python3.8/dist-packages/keras/losses.py\", line 139, in __call__\n      losses = call_fn(y_true, y_pred)\n    File \"/usr/local/lib/python3.8/dist-packages/keras/losses.py\", line 243, in call\n      return ag_fn(y_true, y_pred, **self._fn_kwargs)\n    File \"/usr/local/lib/python3.8/dist-packages/keras/losses.py\", line 1860, in sparse_categorical_crossentropy\n      return backend.sparse_categorical_crossentropy(\n    File \"/usr/local/lib/python3.8/dist-packages/keras/backend.py\", line 5238, in sparse_categorical_crossentropy\n      res = tf.nn.sparse_softmax_cross_entropy_with_logits(\nNode: 'sparse_categorical_crossentropy/SparseSoftmaxCrossEntropyWithLogits/SparseSoftmaxCrossEntropyWithLogits'\nReceived a label value of 238 which is outside the valid range of [0, 46).  Label values: 238\n\t [[{{node sparse_categorical_crossentropy/SparseSoftmaxCrossEntropyWithLogits/SparseSoftmaxCrossEntropyWithLogits}}]] [Op:__inference_train_function_308119]"
          ]
        }
      ],
      "source": [
        "batchsize = 1\n",
        "epochs =  10\n",
        "\n",
        "# Fit model\n",
        "history = reuters_model.fit(X_train, y_train, \n",
        "                            batch_size=batchsize, \n",
        "                            epochs=epochs, \n",
        "                            validation_split=0.2, \n",
        "                            shuffle=True\n",
        ")"
      ]
    },
    {
      "cell_type": "code",
      "execution_count": null,
      "metadata": {
        "id": "cBzaRs9hrQsh"
      },
      "outputs": [],
      "source": [
        "# Plot the model loss and accuracy on training and validation sets\n",
        "\n",
        "### YOUR CODE HERE ###\n",
        "plot_losses(history)"
      ]
    },
    {
      "cell_type": "markdown",
      "metadata": {
        "id": "-ONEJCKBa384"
      },
      "source": [
        "### Part d) More Advanced RNN Model (15 points)\n",
        "In this part, you will create an RNN model with the number of layers and architerure you prefer. Train it on your training data. You will also plot training and validation loss and your metric. In this part, you can try different models and use different hyper-parameters and report only the best one."
      ]
    },
    {
      "cell_type": "markdown",
      "metadata": {
        "id": "ToO-cZbKa386"
      },
      "source": [
        "Compile your model and display the summary:"
      ]
    },
    {
      "cell_type": "code",
      "execution_count": null,
      "metadata": {
        "id": "FOo5_Rp6a386"
      },
      "outputs": [],
      "source": [
        "# Build your model\n",
        "\n",
        "### YOUR CODE HERE ###\n",
        "\n",
        "loss = ### YOUR CODE HERE ###\n",
        "\n",
        "opt = ### YOUR CODE HERE ###\n",
        "\n",
        "metrics = ### YOUR CODE HERE ###\n",
        "\n",
        "model.compile(loss=loss,\n",
        "              optimizer=opt,\n",
        "              metrics=metrics)\n",
        "\n",
        "model.summary()"
      ]
    },
    {
      "cell_type": "code",
      "execution_count": null,
      "metadata": {
        "id": "80rNRrDva387"
      },
      "outputs": [],
      "source": [
        "batchsize = ### YOUR CODE HERE ###\n",
        "epochs =  ### YOUR CODE HERE ###\n",
        "\n",
        "# Fit model\n",
        "history = reuters_model.fit(X_train, y_train, batch_size=batchsize, epochs=epochs, validation_split=0.2, shuffle=True)"
      ]
    },
    {
      "cell_type": "code",
      "execution_count": null,
      "metadata": {
        "id": "8B_BKjzda387"
      },
      "outputs": [],
      "source": [
        "# Plot the model loss and accuracy\n",
        "\n",
        "### YOUR CODE HERE ###"
      ]
    },
    {
      "cell_type": "markdown",
      "metadata": {
        "id": "dc7BEuccYvit"
      },
      "source": [
        "### Part e) Looking at the Predictions (10 points)\n",
        "\n",
        "Now, Using the final (best) model you trained, show your model's performance on the test set.\n",
        "Calculate and display the prediction accuracy for all of the 46 different classes. "
      ]
    },
    {
      "cell_type": "code",
      "execution_count": null,
      "metadata": {
        "id": "PyCzORLJELij"
      },
      "outputs": [],
      "source": [
        "### YOUR CODE HERE ###"
      ]
    }
  ],
  "metadata": {
    "colab": {
      "collapsed_sections": [
        "NyiOu4LzgAur",
        "-ONEJCKBa384",
        "dc7BEuccYvit"
      ],
      "provenance": []
    },
    "kernelspec": {
      "display_name": "Python 3",
      "name": "python3"
    },
    "language_info": {
      "name": "python"
    }
  },
  "nbformat": 4,
  "nbformat_minor": 0
}