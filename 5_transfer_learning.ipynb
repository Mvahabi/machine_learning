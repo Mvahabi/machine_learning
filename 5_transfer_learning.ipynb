{
  "nbformat": 4,
  "nbformat_minor": 0,
  "metadata": {
    "colab": {
      "provenance": []
    },
    "kernelspec": {
      "display_name": "Python 3",
      "name": "python3"
    },
    "accelerator": "GPU",
    "gpuClass": "standard"
  },
  "cells": [
    {
      "cell_type": "markdown",
      "metadata": {
        "id": "HwHNu13zLhbq"
      },
      "source": [
        "# Transfer Learning\n",
        "## Classifying CIFAR10 using VGG16\n",
        "\n",
        "This handout will cover *Transfer Learning* applied to the CIFAR10 dataset. Here's the outline of we will cover:\n",
        "\n",
        "0. Importing Data and Essential Libraries\n",
        "1. Building the Classifier\n",
        "2. Setting the Loss Function and Optimizer\n",
        "3. Training the Model\n",
        "4. Tuning the Model"
      ]
    },
    {
      "cell_type": "markdown",
      "metadata": {
        "id": "hT9YYUNlLhbr"
      },
      "source": [
        "## 0.Importing the Data and Essential Libraries\n",
        "#### We import CIFAR10 dataset from keras and load the data."
      ]
    },
    {
      "cell_type": "code",
      "metadata": {
        "id": "qIPX5X2VLhbs",
        "colab": {
          "base_uri": "https://localhost:8080/"
        },
        "outputId": "5291d4f3-3f87-4846-f1f1-6cb0172610c0"
      },
      "source": [
        "from keras.datasets import cifar10\n",
        "\n",
        "# Fetch the data:\n",
        "(X, y), (_, _) = cifar10.load_data()"
      ],
      "execution_count": null,
      "outputs": [
        {
          "output_type": "stream",
          "name": "stdout",
          "text": [
            "Downloading data from https://www.cs.toronto.edu/~kriz/cifar-10-python.tar.gz\n",
            "170498071/170498071 [==============================] - 14s 0us/step\n"
          ]
        }
      ]
    },
    {
      "cell_type": "markdown",
      "metadata": {
        "id": "sI_-5NB-Lhb3"
      },
      "source": [
        "####  Import needed functions and libraries"
      ]
    },
    {
      "cell_type": "code",
      "metadata": {
        "id": "z19bVm7o9zeu"
      },
      "source": [
        "# Ignore the warnings - Otherwise, TensorFlow tends to innundate one with far too many warnings.\n",
        "import warnings\n",
        "warnings.filterwarnings('always')\n",
        "warnings.filterwarnings('ignore')\n",
        "\n",
        "# For matrix operations and dataframes.\n",
        "import numpy as np\n",
        "\n",
        "# Data visualizaton.\n",
        "import matplotlib.pyplot as plt\n",
        "from matplotlib import style\n",
        "import seaborn as sns\n",
        "import random as rn\n",
        " \n",
        "# Configure some defaults.\n",
        "%matplotlib inline  \n",
        "style.use('fivethirtyeight')\n",
        "sns.set(style='whitegrid',color_codes=True)\n",
        "\n",
        "# Useful deep learning functions.\n",
        "from tensorflow.keras.layers import Input\n",
        "from tensorflow.keras.applications.vgg16 import VGG16, preprocess_input\n",
        "from tensorflow.keras.preprocessing import image\n",
        "from tensorflow.keras.models import Model\n",
        "from tensorflow.keras import backend as K\n",
        "from tensorflow.keras.models import Sequential\n",
        "from tensorflow.keras.layers import Dense\n",
        "from tensorflow.keras.optimizers import Adam, SGD, Adagrad, Adadelta, RMSprop \n",
        "from tensorflow.keras.utils import to_categorical\n",
        "from tensorflow.keras.layers import Dropout, Flatten, Activation\n",
        "from tensorflow.keras.layers import Conv2D, MaxPooling2D\n",
        "\n",
        "# Powerful deep learning module.\n",
        "import tensorflow as tf\n",
        "\n",
        "# For dealing with data.\n",
        "import numpy as np  "
      ],
      "execution_count": null,
      "outputs": []
    },
    {
      "cell_type": "markdown",
      "metadata": {
        "id": "NCS6ejuoLhcH"
      },
      "source": [
        "#### One hot encode the labels, and normalize the data\n",
        "\n",
        "Just like previous exercises, we want to one hot encode our class labels. We also want to normalize our image data like we did in Assignment 3."
      ]
    },
    {
      "cell_type": "code",
      "metadata": {
        "id": "DT_F8m-vLhcI"
      },
      "source": [
        "# One-hot encode those integer values of class labels\n",
        "y = to_categorical(y,10)\n",
        "\n",
        "# Normalize all entries to the interval [0, 1]\n",
        "X = X/255"
      ],
      "execution_count": null,
      "outputs": []
    },
    {
      "cell_type": "code",
      "metadata": {
        "id": "bYFaWgA0MA9v",
        "colab": {
          "base_uri": "https://localhost:8080/"
        },
        "outputId": "38cee984-4683-4d85-ad77-9bf521665575"
      },
      "source": [
        "print(\"shape of X: \",X.shape)\n",
        "print(\"shape of y: \",y.shape)"
      ],
      "execution_count": null,
      "outputs": [
        {
          "output_type": "stream",
          "name": "stdout",
          "text": [
            "shape of X:  (50000, 32, 32, 3)\n",
            "shape of y:  (50000, 10)\n"
          ]
        }
      ]
    },
    {
      "cell_type": "markdown",
      "metadata": {
        "id": "bsIB5mNW1eyh"
      },
      "source": [
        "#### Instantiating VGG16\n",
        "We create our VGG16 pretrained network, exluding the last three layers. Note that the original input to VGG16 has a shape of (224, 224, 3). But when `include_top=False` (as is the case here), we can provide our own input shape. Note that this input shape MUST EXACTLY have 3 channels and be AT LEAST 32x32. So, our CIFAR10 data barely qualifies as input to Keras' VGG16 pretrained model.\n",
        "\n",
        "(See documentation here: https://keras.io/api/applications/vgg/#vgg16-function) "
      ]
    },
    {
      "cell_type": "code",
      "metadata": {
        "id": "ojBoULiZ1_As",
        "colab": {
          "base_uri": "https://localhost:8080/"
        },
        "outputId": "59b8b235-c6f2-4c9c-9074-0371e21bf213"
      },
      "source": [
        "# Import the VGG16 trained neural network model, minus it's last (top) neuron layer.\n",
        "# Careful about the input shape and the shape of images in your dataset\n",
        "base_model = VGG16(weights = 'imagenet', \n",
        "                   include_top = False, \n",
        "                   input_shape = (32, 32, 3), \n",
        "                   pooling = None)"
      ],
      "execution_count": null,
      "outputs": [
        {
          "output_type": "stream",
          "name": "stdout",
          "text": [
            "Downloading data from https://storage.googleapis.com/tensorflow/keras-applications/vgg16/vgg16_weights_tf_dim_ordering_tf_kernels_notop.h5\n",
            "58889256/58889256 [==============================] - 3s 0us/step\n"
          ]
        }
      ]
    },
    {
      "cell_type": "markdown",
      "metadata": {
        "id": "4Ltl7dnh2I7G"
      },
      "source": [
        "We can now investigate the architecture of the VGG16 model (excluding the original last 3 dense layer):"
      ]
    },
    {
      "cell_type": "code",
      "metadata": {
        "id": "M_AzUYXD2QyR",
        "colab": {
          "base_uri": "https://localhost:8080/"
        },
        "outputId": "a767568f-b9e8-4688-d279-1c77a593f2b2"
      },
      "source": [
        "base_model.summary()"
      ],
      "execution_count": null,
      "outputs": [
        {
          "output_type": "stream",
          "name": "stdout",
          "text": [
            "Model: \"vgg16\"\n",
            "_________________________________________________________________\n",
            " Layer (type)                Output Shape              Param #   \n",
            "=================================================================\n",
            " input_1 (InputLayer)        [(None, 32, 32, 3)]       0         \n",
            "                                                                 \n",
            " block1_conv1 (Conv2D)       (None, 32, 32, 64)        1792      \n",
            "                                                                 \n",
            " block1_conv2 (Conv2D)       (None, 32, 32, 64)        36928     \n",
            "                                                                 \n",
            " block1_pool (MaxPooling2D)  (None, 16, 16, 64)        0         \n",
            "                                                                 \n",
            " block2_conv1 (Conv2D)       (None, 16, 16, 128)       73856     \n",
            "                                                                 \n",
            " block2_conv2 (Conv2D)       (None, 16, 16, 128)       147584    \n",
            "                                                                 \n",
            " block2_pool (MaxPooling2D)  (None, 8, 8, 128)         0         \n",
            "                                                                 \n",
            " block3_conv1 (Conv2D)       (None, 8, 8, 256)         295168    \n",
            "                                                                 \n",
            " block3_conv2 (Conv2D)       (None, 8, 8, 256)         590080    \n",
            "                                                                 \n",
            " block3_conv3 (Conv2D)       (None, 8, 8, 256)         590080    \n",
            "                                                                 \n",
            " block3_pool (MaxPooling2D)  (None, 4, 4, 256)         0         \n",
            "                                                                 \n",
            " block4_conv1 (Conv2D)       (None, 4, 4, 512)         1180160   \n",
            "                                                                 \n",
            " block4_conv2 (Conv2D)       (None, 4, 4, 512)         2359808   \n",
            "                                                                 \n",
            " block4_conv3 (Conv2D)       (None, 4, 4, 512)         2359808   \n",
            "                                                                 \n",
            " block4_pool (MaxPooling2D)  (None, 2, 2, 512)         0         \n",
            "                                                                 \n",
            " block5_conv1 (Conv2D)       (None, 2, 2, 512)         2359808   \n",
            "                                                                 \n",
            " block5_conv2 (Conv2D)       (None, 2, 2, 512)         2359808   \n",
            "                                                                 \n",
            " block5_conv3 (Conv2D)       (None, 2, 2, 512)         2359808   \n",
            "                                                                 \n",
            " block5_pool (MaxPooling2D)  (None, 1, 1, 512)         0         \n",
            "                                                                 \n",
            "=================================================================\n",
            "Total params: 14,714,688\n",
            "Trainable params: 14,714,688\n",
            "Non-trainable params: 0\n",
            "_________________________________________________________________\n"
          ]
        }
      ]
    },
    {
      "cell_type": "markdown",
      "metadata": {
        "id": "H9PP4rQhLhdD"
      },
      "source": [
        "### 1. Building the Classifier\n",
        "Initially, we freeze the all pretrained models."
      ]
    },
    {
      "cell_type": "code",
      "metadata": {
        "id": "WdmXoAX51VbX"
      },
      "source": [
        "# This freezes the weights of our VGG16 pretrained model.\n",
        "for layer in base_model.layers:  \n",
        "    layer.trainable = False"
      ],
      "execution_count": null,
      "outputs": []
    },
    {
      "cell_type": "markdown",
      "metadata": {
        "id": "1WZ5GkCO2Ywz"
      },
      "source": [
        "We now add the following:\n",
        "* A flatten layer\n",
        "* A trainable dense layer\n",
        "* A softmax output layer\n",
        "\n",
        "Note that the output layer here would have 10 neurons corresponding to the 10 classes of objects we wish to classify. For other classification tasks, make sure this is consistent with the specifics of the problem."
      ]
    },
    {
      "cell_type": "code",
      "metadata": {
        "id": "RF2yr-AC3Fmf"
      },
      "source": [
        "# Now add layers to our pre-trained base model and add classification layers on top of it\n",
        "x = base_model.output\n",
        "x = Flatten()(x)\n",
        "x = Dense(units=60,activation='relu')(x)\n",
        "x = Dense(units=10,activation='softmax')(x) \n",
        "\n",
        "# And now put this all together to create our new model.\n",
        "model = Model(inputs = base_model.input, outputs = x) \n"
      ],
      "execution_count": null,
      "outputs": []
    },
    {
      "cell_type": "markdown",
      "metadata": {
        "id": "uTvf3cz1_rsA"
      },
      "source": [
        "We can also verify that the new added layers are in fact trainable while the preceeding layers from `base_model` are *freezed*. We do this by looping through the layers in the model and printing the `trainable` attribute of each layer."
      ]
    },
    {
      "cell_type": "code",
      "metadata": {
        "id": "1_JZWNno_5BA",
        "colab": {
          "base_uri": "https://localhost:8080/"
        },
        "outputId": "879f4942-eb51-42d3-e041-c39944fde031"
      },
      "source": [
        "for i, layer in enumerate(model.layers):\n",
        "  print(\"is layer {} trainable?\".format(i+1),layer.trainable)"
      ],
      "execution_count": null,
      "outputs": [
        {
          "output_type": "stream",
          "name": "stdout",
          "text": [
            "is layer 1 trainable? False\n",
            "is layer 2 trainable? False\n",
            "is layer 3 trainable? False\n",
            "is layer 4 trainable? False\n",
            "is layer 5 trainable? False\n",
            "is layer 6 trainable? False\n",
            "is layer 7 trainable? False\n",
            "is layer 8 trainable? False\n",
            "is layer 9 trainable? False\n",
            "is layer 10 trainable? False\n",
            "is layer 11 trainable? False\n",
            "is layer 12 trainable? False\n",
            "is layer 13 trainable? False\n",
            "is layer 14 trainable? False\n",
            "is layer 15 trainable? False\n",
            "is layer 16 trainable? False\n",
            "is layer 17 trainable? False\n",
            "is layer 18 trainable? False\n",
            "is layer 19 trainable? False\n",
            "is layer 20 trainable? True\n",
            "is layer 21 trainable? True\n",
            "is layer 22 trainable? True\n"
          ]
        }
      ]
    },
    {
      "cell_type": "markdown",
      "metadata": {
        "id": "rKnQuwQr80aX"
      },
      "source": [
        "### 2. Setting the Loss Function and Optimizer\n",
        "Here, we simply choose an appropriate loss function and optimizer and compile the model."
      ]
    },
    {
      "cell_type": "code",
      "metadata": {
        "id": "jvPlp6uq9GB7"
      },
      "source": [
        "opt = Adam(learning_rate=0.001)\n",
        "model.compile(optimizer=opt, loss='categorical_crossentropy', metrics = ['accuracy'])"
      ],
      "execution_count": null,
      "outputs": []
    },
    {
      "cell_type": "code",
      "metadata": {
        "id": "vlnlSxCbBuri",
        "colab": {
          "base_uri": "https://localhost:8080/"
        },
        "outputId": "fdf60995-6b2a-46a5-bbfb-0d2242321729"
      },
      "source": [
        "# printing out a summary of the model\n",
        "model.summary()"
      ],
      "execution_count": null,
      "outputs": [
        {
          "output_type": "stream",
          "name": "stdout",
          "text": [
            "Model: \"model\"\n",
            "_________________________________________________________________\n",
            " Layer (type)                Output Shape              Param #   \n",
            "=================================================================\n",
            " input_1 (InputLayer)        [(None, 32, 32, 3)]       0         \n",
            "                                                                 \n",
            " block1_conv1 (Conv2D)       (None, 32, 32, 64)        1792      \n",
            "                                                                 \n",
            " block1_conv2 (Conv2D)       (None, 32, 32, 64)        36928     \n",
            "                                                                 \n",
            " block1_pool (MaxPooling2D)  (None, 16, 16, 64)        0         \n",
            "                                                                 \n",
            " block2_conv1 (Conv2D)       (None, 16, 16, 128)       73856     \n",
            "                                                                 \n",
            " block2_conv2 (Conv2D)       (None, 16, 16, 128)       147584    \n",
            "                                                                 \n",
            " block2_pool (MaxPooling2D)  (None, 8, 8, 128)         0         \n",
            "                                                                 \n",
            " block3_conv1 (Conv2D)       (None, 8, 8, 256)         295168    \n",
            "                                                                 \n",
            " block3_conv2 (Conv2D)       (None, 8, 8, 256)         590080    \n",
            "                                                                 \n",
            " block3_conv3 (Conv2D)       (None, 8, 8, 256)         590080    \n",
            "                                                                 \n",
            " block3_pool (MaxPooling2D)  (None, 4, 4, 256)         0         \n",
            "                                                                 \n",
            " block4_conv1 (Conv2D)       (None, 4, 4, 512)         1180160   \n",
            "                                                                 \n",
            " block4_conv2 (Conv2D)       (None, 4, 4, 512)         2359808   \n",
            "                                                                 \n",
            " block4_conv3 (Conv2D)       (None, 4, 4, 512)         2359808   \n",
            "                                                                 \n",
            " block4_pool (MaxPooling2D)  (None, 2, 2, 512)         0         \n",
            "                                                                 \n",
            " block5_conv1 (Conv2D)       (None, 2, 2, 512)         2359808   \n",
            "                                                                 \n",
            " block5_conv2 (Conv2D)       (None, 2, 2, 512)         2359808   \n",
            "                                                                 \n",
            " block5_conv3 (Conv2D)       (None, 2, 2, 512)         2359808   \n",
            "                                                                 \n",
            " block5_pool (MaxPooling2D)  (None, 1, 1, 512)         0         \n",
            "                                                                 \n",
            " flatten (Flatten)           (None, 512)               0         \n",
            "                                                                 \n",
            " dense (Dense)               (None, 60)                30780     \n",
            "                                                                 \n",
            " dense_1 (Dense)             (None, 10)                610       \n",
            "                                                                 \n",
            "=================================================================\n",
            "Total params: 14,746,078\n",
            "Trainable params: 31,390\n",
            "Non-trainable params: 14,714,688\n",
            "_________________________________________________________________\n"
          ]
        }
      ]
    },
    {
      "cell_type": "markdown",
      "metadata": {
        "id": "zfSTTypy-WbT"
      },
      "source": [
        "### 3. Training the Model\n",
        "#### 3.1 Preprocessing the input\n",
        "For VGG16, Keras anticipates a specific format. So, we need to pre-process the input by calling `preprocess_input` method on our input."
      ]
    },
    {
      "cell_type": "code",
      "metadata": {
        "id": "NlRCkvEH-3mL"
      },
      "source": [
        "X = preprocess_input(X)"
      ],
      "execution_count": null,
      "outputs": []
    },
    {
      "cell_type": "markdown",
      "metadata": {
        "id": "PTzbTQ1ldpwA"
      },
      "source": [
        "**Note**: When working with the ASL dataset, you might be using `ImageDataGenerator` class within Keras to handle your data. In that case, you'll need to pass in VGG16's `preprocess_input` function as a parameter when instantiating your `ImageDataGenerator`."
      ]
    },
    {
      "cell_type": "markdown",
      "metadata": {
        "id": "mEZtDEWc_eU9"
      },
      "source": [
        "#### 3.2 Training the model\n",
        "Now that the data is preprocessed, we can train the model:"
      ]
    },
    {
      "cell_type": "code",
      "metadata": {
        "id": "0RUC3znn_mnr",
        "colab": {
          "base_uri": "https://localhost:8080/"
        },
        "outputId": "8a173881-8112-4540-b5ad-e2ca8d9c4a7d"
      },
      "source": [
        "model_info = model.fit(X,y,batch_size=100, epochs=20, validation_split=0.2)"
      ],
      "execution_count": null,
      "outputs": [
        {
          "output_type": "stream",
          "name": "stdout",
          "text": [
            "Epoch 1/20\n",
            "400/400 [==============================] - 19s 24ms/step - loss: 2.4044 - accuracy: 0.1621 - val_loss: 2.2118 - val_accuracy: 0.1748\n",
            "Epoch 2/20\n",
            "400/400 [==============================] - 9s 23ms/step - loss: 2.1293 - accuracy: 0.2137 - val_loss: 2.0823 - val_accuracy: 0.2429\n",
            "Epoch 3/20\n",
            "400/400 [==============================] - 10s 24ms/step - loss: 2.0732 - accuracy: 0.2370 - val_loss: 2.0449 - val_accuracy: 0.2531\n",
            "Epoch 4/20\n",
            "400/400 [==============================] - 8s 21ms/step - loss: 2.0332 - accuracy: 0.2527 - val_loss: 2.0161 - val_accuracy: 0.2564\n",
            "Epoch 5/20\n",
            "400/400 [==============================] - 9s 23ms/step - loss: 2.0058 - accuracy: 0.2656 - val_loss: 1.9701 - val_accuracy: 0.2915\n",
            "Epoch 6/20\n",
            "400/400 [==============================] - 8s 21ms/step - loss: 1.9861 - accuracy: 0.2718 - val_loss: 1.9672 - val_accuracy: 0.2738\n",
            "Epoch 7/20\n",
            "400/400 [==============================] - 9s 24ms/step - loss: 1.9650 - accuracy: 0.2795 - val_loss: 1.9799 - val_accuracy: 0.2774\n",
            "Epoch 8/20\n",
            "400/400 [==============================] - 9s 22ms/step - loss: 1.9522 - accuracy: 0.2866 - val_loss: 1.9562 - val_accuracy: 0.2969\n",
            "Epoch 9/20\n",
            "400/400 [==============================] - 10s 24ms/step - loss: 1.9316 - accuracy: 0.2931 - val_loss: 1.9066 - val_accuracy: 0.3030\n",
            "Epoch 10/20\n",
            "400/400 [==============================] - 10s 24ms/step - loss: 1.9234 - accuracy: 0.2978 - val_loss: 1.9136 - val_accuracy: 0.3133\n",
            "Epoch 11/20\n",
            "400/400 [==============================] - 9s 21ms/step - loss: 1.9161 - accuracy: 0.3003 - val_loss: 1.9544 - val_accuracy: 0.2831\n",
            "Epoch 12/20\n",
            "400/400 [==============================] - 8s 21ms/step - loss: 1.9095 - accuracy: 0.3036 - val_loss: 1.9169 - val_accuracy: 0.2990\n",
            "Epoch 13/20\n",
            "400/400 [==============================] - 8s 21ms/step - loss: 1.8959 - accuracy: 0.3097 - val_loss: 1.8975 - val_accuracy: 0.3079\n",
            "Epoch 14/20\n",
            "400/400 [==============================] - 8s 21ms/step - loss: 1.8946 - accuracy: 0.3094 - val_loss: 1.9231 - val_accuracy: 0.3109\n",
            "Epoch 15/20\n",
            "400/400 [==============================] - 8s 21ms/step - loss: 1.8956 - accuracy: 0.3093 - val_loss: 1.8921 - val_accuracy: 0.3079\n",
            "Epoch 16/20\n",
            "400/400 [==============================] - 9s 24ms/step - loss: 1.8843 - accuracy: 0.3133 - val_loss: 1.8928 - val_accuracy: 0.3235\n",
            "Epoch 17/20\n",
            "400/400 [==============================] - 9s 24ms/step - loss: 1.8818 - accuracy: 0.3126 - val_loss: 1.8709 - val_accuracy: 0.3211\n",
            "Epoch 18/20\n",
            "400/400 [==============================] - 9s 24ms/step - loss: 1.8745 - accuracy: 0.3187 - val_loss: 1.8475 - val_accuracy: 0.3338\n",
            "Epoch 19/20\n",
            "400/400 [==============================] - 9s 24ms/step - loss: 1.8758 - accuracy: 0.3156 - val_loss: 1.8642 - val_accuracy: 0.3263\n",
            "Epoch 20/20\n",
            "400/400 [==============================] - 9s 21ms/step - loss: 1.8657 - accuracy: 0.3180 - val_loss: 1.8769 - val_accuracy: 0.3231\n"
          ]
        }
      ]
    },
    {
      "cell_type": "markdown",
      "metadata": {
        "id": "r-8mV7lPCH3U"
      },
      "source": [
        "#### 3.3 Plotting the training curve\n",
        "\n",
        "After training, we can plot the training and validation accuracy and loss."
      ]
    },
    {
      "cell_type": "code",
      "metadata": {
        "id": "gCSpoWLCG-G3",
        "colab": {
          "base_uri": "https://localhost:8080/",
          "height": 601
        },
        "outputId": "0a096cd3-12e0-4976-d609-13948eb2c486"
      },
      "source": [
        "def plot_losses(model_info):\n",
        "    plt.plot(model_info.history[\"loss\"])\n",
        "    plt.plot(model_info.history[\"val_loss\"])\n",
        "    plt.ylabel('Loss')\n",
        "    plt.xlabel('Epoch')\n",
        "    plt.legend(['Train', 'Val'])\n",
        "    plt.show()\n",
        "\n",
        "def plot_accuracies(hist):\n",
        "    plt.plot(model_info.history['accuracy'])\n",
        "    plt.plot(model_info.history['val_accuracy'])\n",
        "    plt.title('Model Accuracy')\n",
        "    plt.ylabel('Accuracy')\n",
        "    plt.xlabel('Epoch')\n",
        "    plt.legend(['Train', 'Val'])\n",
        "    plt.show()\n",
        "\n",
        "# Plot your losses and accuracies\n",
        "plot_losses(model_info)\n",
        "plot_accuracies(model_info)"
      ],
      "execution_count": null,
      "outputs": [
        {
          "output_type": "display_data",
          "data": {
            "text/plain": [
              "<Figure size 432x288 with 1 Axes>"
            ],
            "image/png": "[encoded data removed]"
          },
          "metadata": {}
        },
        {
          "output_type": "display_data",
          "data": {
            "text/plain": [
              "<Figure size 432x288 with 1 Axes>"
            ],
            "image/png": "[encoded data removed]"
          },
          "metadata": {}
        }
      ]
    },
    {
      "cell_type": "markdown",
      "metadata": {
        "id": "aOBrY1f2iRlD"
      },
      "source": [
        "### 4. Tuning the Model\n",
        "\n",
        "#### 4.1 Adding extra layers and dropout\n",
        "\n",
        "We can add more layers and include dropout to mitigate potential overfitting.\n",
        "\n",
        "Using the `base_model` that we created initially, we add two new dense layers with diminishing dropout rates (0.75 and 0.25, respectively) followed by a final softmax output layer. We will then inspect the model summary one more time.\n"
      ]
    },
    {
      "cell_type": "code",
      "metadata": {
        "id": "1xShhQUyphoJ",
        "colab": {
          "base_uri": "https://localhost:8080/"
        },
        "outputId": "973e501f-0fd4-41a7-85f5-9e39c9b084d5"
      },
      "source": [
        "# adding dense layers with dropout\n",
        "\n",
        "x = base_model.output\n",
        "x = Flatten()(x)\n",
        "x = Dense(units=200,activation='relu')(x)\n",
        "x = Dropout(rate=0.75)(x)\n",
        "x = Dense(units=50, activation='relu')(x)\n",
        "x = Dropout(rate=0.25)(x)\n",
        "output = Dense(units=10,activation='softmax')(x) \n",
        "\n",
        "# creating the new model\n",
        "new_model = Model(inputs = base_model.input, outputs = output) \n",
        "new_model.summary()"
      ],
      "execution_count": null,
      "outputs": [
        {
          "output_type": "stream",
          "name": "stdout",
          "text": [
            "Model: \"model_1\"\n",
            "_________________________________________________________________\n",
            " Layer (type)                Output Shape              Param #   \n",
            "=================================================================\n",
            " input_1 (InputLayer)        [(None, 32, 32, 3)]       0         \n",
            "                                                                 \n",
            " block1_conv1 (Conv2D)       (None, 32, 32, 64)        1792      \n",
            "                                                                 \n",
            " block1_conv2 (Conv2D)       (None, 32, 32, 64)        36928     \n",
            "                                                                 \n",
            " block1_pool (MaxPooling2D)  (None, 16, 16, 64)        0         \n",
            "                                                                 \n",
            " block2_conv1 (Conv2D)       (None, 16, 16, 128)       73856     \n",
            "                                                                 \n",
            " block2_conv2 (Conv2D)       (None, 16, 16, 128)       147584    \n",
            "                                                                 \n",
            " block2_pool (MaxPooling2D)  (None, 8, 8, 128)         0         \n",
            "                                                                 \n",
            " block3_conv1 (Conv2D)       (None, 8, 8, 256)         295168    \n",
            "                                                                 \n",
            " block3_conv2 (Conv2D)       (None, 8, 8, 256)         590080    \n",
            "                                                                 \n",
            " block3_conv3 (Conv2D)       (None, 8, 8, 256)         590080    \n",
            "                                                                 \n",
            " block3_pool (MaxPooling2D)  (None, 4, 4, 256)         0         \n",
            "                                                                 \n",
            " block4_conv1 (Conv2D)       (None, 4, 4, 512)         1180160   \n",
            "                                                                 \n",
            " block4_conv2 (Conv2D)       (None, 4, 4, 512)         2359808   \n",
            "                                                                 \n",
            " block4_conv3 (Conv2D)       (None, 4, 4, 512)         2359808   \n",
            "                                                                 \n",
            " block4_pool (MaxPooling2D)  (None, 2, 2, 512)         0         \n",
            "                                                                 \n",
            " block5_conv1 (Conv2D)       (None, 2, 2, 512)         2359808   \n",
            "                                                                 \n",
            " block5_conv2 (Conv2D)       (None, 2, 2, 512)         2359808   \n",
            "                                                                 \n",
            " block5_conv3 (Conv2D)       (None, 2, 2, 512)         2359808   \n",
            "                                                                 \n",
            " block5_pool (MaxPooling2D)  (None, 1, 1, 512)         0         \n",
            "                                                                 \n",
            " flatten_1 (Flatten)         (None, 512)               0         \n",
            "                                                                 \n",
            " dense_2 (Dense)             (None, 200)               102600    \n",
            "                                                                 \n",
            " dropout (Dropout)           (None, 200)               0         \n",
            "                                                                 \n",
            " dense_3 (Dense)             (None, 50)                10050     \n",
            "                                                                 \n",
            " dropout_1 (Dropout)         (None, 50)                0         \n",
            "                                                                 \n",
            " dense_4 (Dense)             (None, 10)                510       \n",
            "                                                                 \n",
            "=================================================================\n",
            "Total params: 14,827,848\n",
            "Trainable params: 113,160\n",
            "Non-trainable params: 14,714,688\n",
            "_________________________________________________________________\n"
          ]
        }
      ]
    },
    {
      "cell_type": "markdown",
      "metadata": {
        "id": "02fbo_QsvVFP"
      },
      "source": [
        "#### 4.2 Compiling and training the new model\n",
        "One the new model is assembled, we can compile and train it. Note that the data is already preprocessed for VGG16 in the previous part."
      ]
    },
    {
      "cell_type": "code",
      "metadata": {
        "id": "ZFv0veSivkHB"
      },
      "source": [
        "# compiling the new model\n",
        "\n",
        "opt = Adam()\n",
        "\n",
        "new_model.compile(optimizer=opt, loss='categorical_crossentropy', metrics = ['accuracy'])"
      ],
      "execution_count": null,
      "outputs": []
    },
    {
      "cell_type": "code",
      "metadata": {
        "id": "6JZ-0Ez-TFJy",
        "colab": {
          "base_uri": "https://localhost:8080/"
        },
        "outputId": "d9ba1e60-17d5-49fc-cc2f-087294f39d44"
      },
      "source": [
        "# training the model\n",
        "new_model_info = new_model.fit(X,y,batch_size=100, epochs=20, validation_split=0.2)"
      ],
      "execution_count": null,
      "outputs": [
        {
          "output_type": "stream",
          "name": "stdout",
          "text": [
            "Epoch 1/20\n",
            "400/400 [==============================] - 11s 25ms/step - loss: 2.8745 - accuracy: 0.1063 - val_loss: 2.2977 - val_accuracy: 0.1202\n",
            "Epoch 2/20\n",
            "400/400 [==============================] - 10s 24ms/step - loss: 2.2895 - accuracy: 0.1169 - val_loss: 2.2792 - val_accuracy: 0.1568\n",
            "Epoch 3/20\n",
            "400/400 [==============================] - 10s 24ms/step - loss: 2.2793 - accuracy: 0.1277 - val_loss: 2.2773 - val_accuracy: 0.1477\n",
            "Epoch 4/20\n",
            "400/400 [==============================] - 10s 24ms/step - loss: 2.2767 - accuracy: 0.1262 - val_loss: 2.2637 - val_accuracy: 0.1585\n",
            "Epoch 5/20\n",
            "400/400 [==============================] - 9s 21ms/step - loss: 2.2732 - accuracy: 0.1283 - val_loss: 2.2657 - val_accuracy: 0.1527\n",
            "Epoch 6/20\n",
            "400/400 [==============================] - 9s 22ms/step - loss: 2.2718 - accuracy: 0.1301 - val_loss: 2.2605 - val_accuracy: 0.1539\n",
            "Epoch 7/20\n",
            "400/400 [==============================] - 9s 22ms/step - loss: 2.2685 - accuracy: 0.1313 - val_loss: 2.2592 - val_accuracy: 0.1570\n",
            "Epoch 8/20\n",
            "400/400 [==============================] - 10s 24ms/step - loss: 2.2668 - accuracy: 0.1299 - val_loss: 2.2599 - val_accuracy: 0.1496\n",
            "Epoch 9/20\n",
            "400/400 [==============================] - 9s 22ms/step - loss: 2.2602 - accuracy: 0.1358 - val_loss: 2.2527 - val_accuracy: 0.1485\n",
            "Epoch 10/20\n",
            "400/400 [==============================] - 10s 24ms/step - loss: 2.2581 - accuracy: 0.1331 - val_loss: 2.2605 - val_accuracy: 0.1431\n",
            "Epoch 11/20\n",
            "400/400 [==============================] - 9s 21ms/step - loss: 2.2552 - accuracy: 0.1355 - val_loss: 2.2389 - val_accuracy: 0.1754\n",
            "Epoch 12/20\n",
            "400/400 [==============================] - 9s 21ms/step - loss: 2.2541 - accuracy: 0.1354 - val_loss: 2.2690 - val_accuracy: 0.1276\n",
            "Epoch 13/20\n",
            "400/400 [==============================] - 9s 22ms/step - loss: 2.2500 - accuracy: 0.1348 - val_loss: 2.2494 - val_accuracy: 0.1571\n",
            "Epoch 14/20\n",
            "400/400 [==============================] - 10s 24ms/step - loss: 2.2490 - accuracy: 0.1364 - val_loss: 2.2588 - val_accuracy: 0.1353\n",
            "Epoch 15/20\n",
            "400/400 [==============================] - 9s 21ms/step - loss: 2.2478 - accuracy: 0.1335 - val_loss: 2.2485 - val_accuracy: 0.1441\n",
            "Epoch 16/20\n",
            "400/400 [==============================] - 9s 21ms/step - loss: 2.2463 - accuracy: 0.1369 - val_loss: 2.2433 - val_accuracy: 0.1589\n",
            "Epoch 17/20\n",
            "400/400 [==============================] - 9s 22ms/step - loss: 2.2443 - accuracy: 0.1386 - val_loss: 2.2379 - val_accuracy: 0.1842\n",
            "Epoch 18/20\n",
            "400/400 [==============================] - 10s 24ms/step - loss: 2.2415 - accuracy: 0.1393 - val_loss: 2.2321 - val_accuracy: 0.1825\n",
            "Epoch 19/20\n",
            "400/400 [==============================] - 9s 21ms/step - loss: 2.2435 - accuracy: 0.1386 - val_loss: 2.2372 - val_accuracy: 0.1700\n",
            "Epoch 20/20\n",
            "400/400 [==============================] - 10s 24ms/step - loss: 2.2400 - accuracy: 0.1402 - val_loss: 2.2392 - val_accuracy: 0.1563\n"
          ]
        }
      ]
    },
    {
      "cell_type": "code",
      "metadata": {
        "id": "WVyONrfuTMnX",
        "colab": {
          "base_uri": "https://localhost:8080/",
          "height": 603
        },
        "outputId": "5afa10d1-5154-48b0-f1c6-830c69264265"
      },
      "source": [
        "# plotting accuracies and loss\n",
        "plot_losses(new_model_info)\n",
        "plot_accuracies(new_model_info)"
      ],
      "execution_count": null,
      "outputs": [
        {
          "output_type": "display_data",
          "data": {
            "text/plain": [
              "<Figure size 432x288 with 1 Axes>"
            ],
            "image/png": "[encoded data removed]"
          },
          "metadata": {}
        },
        {
          "output_type": "display_data",
          "data": {
            "text/plain": [
              "<Figure size 432x288 with 1 Axes>"
            ],
            "image/png": "[encoded data removed]"
          },
          "metadata": {}
        }
      ]
    },
    {
      "cell_type": "markdown",
      "metadata": {
        "id": "KcpDgDe_WWPb"
      },
      "source": [
        "We can iterate on this to improve the performance of the model by trying out different hyperparameter values."
      ]
    }
  ]
}