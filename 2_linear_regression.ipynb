{
  "cells": [
    {
      "cell_type": "code",
      "execution_count": null,
      "metadata": {
        "id": "2IlwhV0z2nMr"
      },
      "outputs": [],
      "source": [
        "%matplotlib inline"
      ]
    },
    {
      "cell_type": "markdown",
      "metadata": {
        "id": "Chprzdhe2nMw"
      },
      "source": [
        "# Assignment 2\n",
        "\n",
        "**DUE: Sunday October 23 at 11:59pm**\n",
        "\n",
        "Turn in the assignment via Canvas.\n",
        "\n",
        "To write legible answers you will need to be familiar with both [Markdown](https://github.com/adam-p/markdown-here/wiki/Markdown-Cheatsheet) and [Latex](https://www.latex-tutorial.com/tutorials/amsmath/)\n",
        "\n",
        "Before you turn this problem in, make sure everything runs as expected. First, restart the kernel (in the menubar, select Runtime→→Restart runtime) and then run all cells (in the menubar, select Runtime→→Run All).\n",
        "\n",
        "Make sure you fill in any place that says \"YOUR CODE HERE\" or \"YOUR ANSWER HERE\", as well as your name below:"
      ]
    },
    {
      "cell_type": "code",
      "execution_count": null,
      "metadata": {
        "id": "8jeWubXE2nMx"
      },
      "outputs": [],
      "source": [
        "dNAME = \"Mahyar Vahabi\"\n",
        "STUDENT_ID = \"1798645\""
      ]
    },
    {
      "cell_type": "markdown",
      "metadata": {
        "id": "ozDglVovkHJJ"
      },
      "source": [
        "## Problem 1 - Yield Dataset with Polynomial Regression"
      ]
    },
    {
      "cell_type": "code",
      "execution_count": null,
      "metadata": {
        "id": "7qm6WAqNPRRu"
      },
      "outputs": [],
      "source": [
        "import numpy as np\n",
        "import matplotlib.pyplot as plt\n",
        "import pandas as pd\n",
        "import seaborn as snsf"
      ]
    },
    {
      "cell_type": "markdown",
      "metadata": {
        "id": "q20rkd3LlkHs"
      },
      "source": [
        "This dataset of size $n = 15$ contains measurements of yield from an experiment done at five different temperature levels. The variables are $y = yield$ and $x = temperature$ in degrees Fahrenheit. Download the data from PyDrive."
      ]
    },
    {
      "cell_type": "code",
      "execution_count": null,
      "metadata": {
        "id": "oyKWchKWIvPi"
      },
      "outputs": [],
      "source": [
        "!pip install -U -q PyDrive\n",
        "from pydrive.auth import GoogleAuth\n",
        "from pydrive.drive import GoogleDrive\n",
        "from google.colab import auth\n",
        "from oauth2client.client import GoogleCredentials"
      ]
    },
    {
      "cell_type": "code",
      "execution_count": null,
      "metadata": {
        "id": "UwexIqp8I_lF"
      },
      "outputs": [],
      "source": [
        "auth.authenticate_user()\n",
        "gauth = GoogleAuth()\n",
        "gauth.credentials = GoogleCredentials.get_application_default()\n",
        "drive = GoogleDrive(gauth)"
      ]
    },
    {
      "cell_type": "code",
      "execution_count": null,
      "metadata": {
        "id": "dLF5xucumaai"
      },
      "outputs": [],
      "source": [
        "downloaded = drive.CreateFile({'id':\"1Oikuudc0715xr2QezMpKTNAD4_SdMfH3\"})\n",
        "downloaded.GetContentFile('yield.csv')  "
      ]
    },
    {
      "cell_type": "code",
      "execution_count": null,
      "metadata": {
        "id": "kpxch0eIm2D3"
      },
      "outputs": [],
      "source": [
        "# Create pandas dataframe\n",
        "data = pd.read_csv('yield.csv')"
      ]
    },
    {
      "cell_type": "code",
      "execution_count": null,
      "metadata": {
        "colab": {
          "base_uri": "https://localhost:8080/"
        },
        "id": "HTZgosrbMBEn",
        "outputId": "0f63940b-81ce-43fb-a121-d26524383393"
      },
      "outputs": [
        {
          "output_type": "stream",
          "name": "stdout",
          "text": [
            "<class 'pandas.core.frame.DataFrame'>\n",
            "RangeIndex: 14 entries, 0 to 13\n",
            "Data columns (total 2 columns):\n",
            " #   Column  Non-Null Count  Dtype  \n",
            "---  ------  --------------  -----  \n",
            " 0   50      14 non-null     int64  \n",
            " 1   3.3     14 non-null     float64\n",
            "dtypes: float64(1), int64(1)\n",
            "memory usage: 352.0 bytes\n"
          ]
        }
      ],
      "source": [
        "data.info(9)"
      ]
    },
    {
      "cell_type": "code",
      "execution_count": null,
      "metadata": {
        "colab": {
          "base_uri": "https://localhost:8080/",
          "height": 488
        },
        "id": "wEGGgoy6nD4w",
        "outputId": "eb9a83aa-4754-4759-8dd9-e865bb950919"
      },
      "outputs": [
        {
          "output_type": "execute_result",
          "data": {
            "text/plain": [
              "     50  3.3\n",
              "0    50  2.8\n",
              "1    50  2.9\n",
              "2    70  2.3\n",
              "3    70  2.6\n",
              "4    70  2.1\n",
              "5    80  2.5\n",
              "6    80  2.9\n",
              "7    80  2.4\n",
              "8    90  3.0\n",
              "9    90  3.1\n",
              "10   90  2.8\n",
              "11  100  3.3\n",
              "12  100  3.5\n",
              "13  100  3.0"
            ],
            "text/html": [
              "\n",
              "  <div id=\"df-53ead274-2093-4cc7-8ac0-a94b0b848ce6\">\n",
              "    <div class=\"colab-df-container\">\n",
              "      <div>\n",
              "<style scoped>\n",
              "    .dataframe tbody tr th:only-of-type {\n",
              "        vertical-align: middle;\n",
              "    }\n",
              "\n",
              "    .dataframe tbody tr th {\n",
              "        vertical-align: top;\n",
              "    }\n",
              "\n",
              "    .dataframe thead th {\n",
              "        text-align: right;\n",
              "    }\n",
              "</style>\n",
              "<table border=\"1\" class=\"dataframe\">\n",
              "  <thead>\n",
              "    <tr style=\"text-align: right;\">\n",
              "      <th></th>\n",
              "      <th>50</th>\n",
              "      <th>3.3</th>\n",
              "    </tr>\n",
              "  </thead>\n",
              "  <tbody>\n",
              "    <tr>\n",
              "      <th>0</th>\n",
              "      <td>50</td>\n",
              "      <td>2.8</td>\n",
              "    </tr>\n",
              "    <tr>\n",
              "      <th>1</th>\n",
              "      <td>50</td>\n",
              "      <td>2.9</td>\n",
              "    </tr>\n",
              "    <tr>\n",
              "      <th>2</th>\n",
              "      <td>70</td>\n",
              "      <td>2.3</td>\n",
              "    </tr>\n",
              "    <tr>\n",
              "      <th>3</th>\n",
              "      <td>70</td>\n",
              "      <td>2.6</td>\n",
              "    </tr>\n",
              "    <tr>\n",
              "      <th>4</th>\n",
              "      <td>70</td>\n",
              "      <td>2.1</td>\n",
              "    </tr>\n",
              "    <tr>\n",
              "      <th>5</th>\n",
              "      <td>80</td>\n",
              "      <td>2.5</td>\n",
              "    </tr>\n",
              "    <tr>\n",
              "      <th>6</th>\n",
              "      <td>80</td>\n",
              "      <td>2.9</td>\n",
              "    </tr>\n",
              "    <tr>\n",
              "      <th>7</th>\n",
              "      <td>80</td>\n",
              "      <td>2.4</td>\n",
              "    </tr>\n",
              "    <tr>\n",
              "      <th>8</th>\n",
              "      <td>90</td>\n",
              "      <td>3.0</td>\n",
              "    </tr>\n",
              "    <tr>\n",
              "      <th>9</th>\n",
              "      <td>90</td>\n",
              "      <td>3.1</td>\n",
              "    </tr>\n",
              "    <tr>\n",
              "      <th>10</th>\n",
              "      <td>90</td>\n",
              "      <td>2.8</td>\n",
              "    </tr>\n",
              "    <tr>\n",
              "      <th>11</th>\n",
              "      <td>100</td>\n",
              "      <td>3.3</td>\n",
              "    </tr>\n",
              "    <tr>\n",
              "      <th>12</th>\n",
              "      <td>100</td>\n",
              "      <td>3.5</td>\n",
              "    </tr>\n",
              "    <tr>\n",
              "      <th>13</th>\n",
              "      <td>100</td>\n",
              "      <td>3.0</td>\n",
              "    </tr>\n",
              "  </tbody>\n",
              "</table>\n",
              "</div>\n",
              "      <button class=\"colab-df-convert\" onclick=\"convertToInteractive('df-53ead274-2093-4cc7-8ac0-a94b0b848ce6')\"\n",
              "              title=\"Convert this dataframe to an interactive table.\"\n",
              "              style=\"display:none;\">\n",
              "        \n",
              "  <svg xmlns=\"http://www.w3.org/2000/svg\" height=\"24px\"viewBox=\"0 0 24 24\"\n",
              "       width=\"24px\">\n",
              "    <path d=\"M0 0h24v24H0V0z\" fill=\"none\"/>\n",
              "    <path d=\"M18.56 5.44l.94 2.06.94-2.06 2.06-.94-2.06-.94-.94-2.06-.94 2.06-2.06.94zm-11 1L8.5 8.5l.94-2.06 2.06-.94-2.06-.94L8.5 2.5l-.94 2.06-2.06.94zm10 10l.94 2.06.94-2.06 2.06-.94-2.06-.94-.94-2.06-.94 2.06-2.06.94z\"/><path d=\"M17.41 7.96l-1.37-1.37c-.4-.4-.92-.59-1.43-.59-.52 0-1.04.2-1.43.59L10.3 9.45l-7.72 7.72c-.78.78-.78 2.05 0 2.83L4 21.41c.39.39.9.59 1.41.59.51 0 1.02-.2 1.41-.59l7.78-7.78 2.81-2.81c.8-.78.8-2.07 0-2.86zM5.41 20L4 18.59l7.72-7.72 1.47 1.35L5.41 20z\"/>\n",
              "  </svg>\n",
              "      </button>\n",
              "      \n",
              "  <style>\n",
              "    .colab-df-container {\n",
              "      display:flex;\n",
              "      flex-wrap:wrap;\n",
              "      gap: 12px;\n",
              "    }\n",
              "\n",
              "    .colab-df-convert {\n",
              "      background-color: #E8F0FE;\n",
              "      border: none;\n",
              "      border-radius: 50%;\n",
              "      cursor: pointer;\n",
              "      display: none;\n",
              "      fill: #1967D2;\n",
              "      height: 32px;\n",
              "      padding: 0 0 0 0;\n",
              "      width: 32px;\n",
              "    }\n",
              "\n",
              "    .colab-df-convert:hover {\n",
              "      background-color: #E2EBFA;\n",
              "      box-shadow: 0px 1px 2px rgba(60, 64, 67, 0.3), 0px 1px 3px 1px rgba(60, 64, 67, 0.15);\n",
              "      fill: #174EA6;\n",
              "    }\n",
              "\n",
              "    [theme=dark] .colab-df-convert {\n",
              "      background-color: #3B4455;\n",
              "      fill: #D2E3FC;\n",
              "    }\n",
              "\n",
              "    [theme=dark] .colab-df-convert:hover {\n",
              "      background-color: #434B5C;\n",
              "      box-shadow: 0px 1px 3px 1px rgba(0, 0, 0, 0.15);\n",
              "      filter: drop-shadow(0px 1px 2px rgba(0, 0, 0, 0.3));\n",
              "      fill: #FFFFFF;\n",
              "    }\n",
              "  </style>\n",
              "\n",
              "      <script>\n",
              "        const buttonEl =\n",
              "          document.querySelector('#df-53ead274-2093-4cc7-8ac0-a94b0b848ce6 button.colab-df-convert');\n",
              "        buttonEl.style.display =\n",
              "          google.colab.kernel.accessAllowed ? 'block' : 'none';\n",
              "\n",
              "        async function convertToInteractive(key) {\n",
              "          const element = document.querySelector('#df-53ead274-2093-4cc7-8ac0-a94b0b848ce6');\n",
              "          const dataTable =\n",
              "            await google.colab.kernel.invokeFunction('convertToInteractive',\n",
              "                                                     [key], {});\n",
              "          if (!dataTable) return;\n",
              "\n",
              "          const docLinkHtml = 'Like what you see? Visit the ' +\n",
              "            '<a target=\"_blank\" href=https://colab.research.google.com/notebooks/data_table.ipynb>data table notebook</a>'\n",
              "            + ' to learn more about interactive tables.';\n",
              "          element.innerHTML = '';\n",
              "          dataTable['output_type'] = 'display_data';\n",
              "          await google.colab.output.renderOutput(dataTable, element);\n",
              "          const docLink = document.createElement('div');\n",
              "          docLink.innerHTML = docLinkHtml;\n",
              "          element.appendChild(docLink);\n",
              "        }\n",
              "      </script>\n",
              "    </div>\n",
              "  </div>\n",
              "  "
            ]
          },
          "metadata": {},
          "execution_count": 9
        }
      ],
      "source": [
        "# Let's look at the data\n",
        "data"
      ]
    },
    {
      "cell_type": "code",
      "execution_count": null,
      "metadata": {
        "colab": {
          "base_uri": "https://localhost:8080/",
          "height": 300
        },
        "id": "u1E3XKXgnIqq",
        "outputId": "57d1a345-60a9-4c36-c392-d43b02e1b0e0"
      },
      "outputs": [
        {
          "output_type": "execute_result",
          "data": {
            "text/plain": [
              "               50       3.3\n",
              "count   14.000000  14.00000\n",
              "mean    80.000000   2.80000\n",
              "std     16.641006   0.38829\n",
              "min     50.000000   2.10000\n",
              "25%     70.000000   2.52500\n",
              "50%     80.000000   2.85000\n",
              "75%     90.000000   3.00000\n",
              "max    100.000000   3.50000"
            ],
            "text/html": [
              "\n",
              "  <div id=\"df-78ed5c3c-7a00-4e4d-830b-f6b5eda8d3f9\">\n",
              "    <div class=\"colab-df-container\">\n",
              "      <div>\n",
              "<style scoped>\n",
              "    .dataframe tbody tr th:only-of-type {\n",
              "        vertical-align: middle;\n",
              "    }\n",
              "\n",
              "    .dataframe tbody tr th {\n",
              "        vertical-align: top;\n",
              "    }\n",
              "\n",
              "    .dataframe thead th {\n",
              "        text-align: right;\n",
              "    }\n",
              "</style>\n",
              "<table border=\"1\" class=\"dataframe\">\n",
              "  <thead>\n",
              "    <tr style=\"text-align: right;\">\n",
              "      <th></th>\n",
              "      <th>50</th>\n",
              "      <th>3.3</th>\n",
              "    </tr>\n",
              "  </thead>\n",
              "  <tbody>\n",
              "    <tr>\n",
              "      <th>count</th>\n",
              "      <td>14.000000</td>\n",
              "      <td>14.00000</td>\n",
              "    </tr>\n",
              "    <tr>\n",
              "      <th>mean</th>\n",
              "      <td>80.000000</td>\n",
              "      <td>2.80000</td>\n",
              "    </tr>\n",
              "    <tr>\n",
              "      <th>std</th>\n",
              "      <td>16.641006</td>\n",
              "      <td>0.38829</td>\n",
              "    </tr>\n",
              "    <tr>\n",
              "      <th>min</th>\n",
              "      <td>50.000000</td>\n",
              "      <td>2.10000</td>\n",
              "    </tr>\n",
              "    <tr>\n",
              "      <th>25%</th>\n",
              "      <td>70.000000</td>\n",
              "      <td>2.52500</td>\n",
              "    </tr>\n",
              "    <tr>\n",
              "      <th>50%</th>\n",
              "      <td>80.000000</td>\n",
              "      <td>2.85000</td>\n",
              "    </tr>\n",
              "    <tr>\n",
              "      <th>75%</th>\n",
              "      <td>90.000000</td>\n",
              "      <td>3.00000</td>\n",
              "    </tr>\n",
              "    <tr>\n",
              "      <th>max</th>\n",
              "      <td>100.000000</td>\n",
              "      <td>3.50000</td>\n",
              "    </tr>\n",
              "  </tbody>\n",
              "</table>\n",
              "</div>\n",
              "      <button class=\"colab-df-convert\" onclick=\"convertToInteractive('df-78ed5c3c-7a00-4e4d-830b-f6b5eda8d3f9')\"\n",
              "              title=\"Convert this dataframe to an interactive table.\"\n",
              "              style=\"display:none;\">\n",
              "        \n",
              "  <svg xmlns=\"http://www.w3.org/2000/svg\" height=\"24px\"viewBox=\"0 0 24 24\"\n",
              "       width=\"24px\">\n",
              "    <path d=\"M0 0h24v24H0V0z\" fill=\"none\"/>\n",
              "    <path d=\"M18.56 5.44l.94 2.06.94-2.06 2.06-.94-2.06-.94-.94-2.06-.94 2.06-2.06.94zm-11 1L8.5 8.5l.94-2.06 2.06-.94-2.06-.94L8.5 2.5l-.94 2.06-2.06.94zm10 10l.94 2.06.94-2.06 2.06-.94-2.06-.94-.94-2.06-.94 2.06-2.06.94z\"/><path d=\"M17.41 7.96l-1.37-1.37c-.4-.4-.92-.59-1.43-.59-.52 0-1.04.2-1.43.59L10.3 9.45l-7.72 7.72c-.78.78-.78 2.05 0 2.83L4 21.41c.39.39.9.59 1.41.59.51 0 1.02-.2 1.41-.59l7.78-7.78 2.81-2.81c.8-.78.8-2.07 0-2.86zM5.41 20L4 18.59l7.72-7.72 1.47 1.35L5.41 20z\"/>\n",
              "  </svg>\n",
              "      </button>\n",
              "      \n",
              "  <style>\n",
              "    .colab-df-container {\n",
              "      display:flex;\n",
              "      flex-wrap:wrap;\n",
              "      gap: 12px;\n",
              "    }\n",
              "\n",
              "    .colab-df-convert {\n",
              "      background-color: #E8F0FE;\n",
              "      border: none;\n",
              "      border-radius: 50%;\n",
              "      cursor: pointer;\n",
              "      display: none;\n",
              "      fill: #1967D2;\n",
              "      height: 32px;\n",
              "      padding: 0 0 0 0;\n",
              "      width: 32px;\n",
              "    }\n",
              "\n",
              "    .colab-df-convert:hover {\n",
              "      background-color: #E2EBFA;\n",
              "      box-shadow: 0px 1px 2px rgba(60, 64, 67, 0.3), 0px 1px 3px 1px rgba(60, 64, 67, 0.15);\n",
              "      fill: #174EA6;\n",
              "    }\n",
              "\n",
              "    [theme=dark] .colab-df-convert {\n",
              "      background-color: #3B4455;\n",
              "      fill: #D2E3FC;\n",
              "    }\n",
              "\n",
              "    [theme=dark] .colab-df-convert:hover {\n",
              "      background-color: #434B5C;\n",
              "      box-shadow: 0px 1px 3px 1px rgba(0, 0, 0, 0.15);\n",
              "      filter: drop-shadow(0px 1px 2px rgba(0, 0, 0, 0.3));\n",
              "      fill: #FFFFFF;\n",
              "    }\n",
              "  </style>\n",
              "\n",
              "      <script>\n",
              "        const buttonEl =\n",
              "          document.querySelector('#df-78ed5c3c-7a00-4e4d-830b-f6b5eda8d3f9 button.colab-df-convert');\n",
              "        buttonEl.style.display =\n",
              "          google.colab.kernel.accessAllowed ? 'block' : 'none';\n",
              "\n",
              "        async function convertToInteractive(key) {\n",
              "          const element = document.querySelector('#df-78ed5c3c-7a00-4e4d-830b-f6b5eda8d3f9');\n",
              "          const dataTable =\n",
              "            await google.colab.kernel.invokeFunction('convertToInteractive',\n",
              "                                                     [key], {});\n",
              "          if (!dataTable) return;\n",
              "\n",
              "          const docLinkHtml = 'Like what you see? Visit the ' +\n",
              "            '<a target=\"_blank\" href=https://colab.research.google.com/notebooks/data_table.ipynb>data table notebook</a>'\n",
              "            + ' to learn more about interactive tables.';\n",
              "          element.innerHTML = '';\n",
              "          dataTable['output_type'] = 'display_data';\n",
              "          await google.colab.output.renderOutput(dataTable, element);\n",
              "          const docLink = document.createElement('div');\n",
              "          docLink.innerHTML = docLinkHtml;\n",
              "          element.appendChild(docLink);\n",
              "        }\n",
              "      </script>\n",
              "    </div>\n",
              "  </div>\n",
              "  "
            ]
          },
          "metadata": {},
          "execution_count": 10
        }
      ],
      "source": [
        "# Look at data description\n",
        "data.describe()"
      ]
    },
    {
      "cell_type": "code",
      "execution_count": null,
      "metadata": {
        "id": "_CZhvRnRogIL"
      },
      "outputs": [],
      "source": [
        "# Split data in X and y using pandas functionality.\n",
        "X = data.iloc[:,0] # Create vector of explanatory variables\n",
        "y = data.iloc[:,1] # Create vector of target variables\n",
        "\n",
        "# Cast dataframes into numpy arrays\n",
        "X = X.values\n",
        "y = y.values\n",
        "\n",
        "# Split data into X_train, Y_train, X_test y_test using sklearn\n",
        "from sklearn.model_selection import train_test_split\n",
        "X_train, X_test, y_train, y_test = train_test_split(X, y, test_size = 0.30, random_state = 0)\n",
        "\n",
        "train_index = np.argsort( X_train )\n",
        "test_index = np.argsort( X_test )\n",
        "\n",
        "np.take_along_axis( y_train , train_index, axis = 0)\n",
        "np.take_along_axis( y_test , test_index, axis = 0)\n",
        "\n",
        "np.sort(X_train)\n",
        "np.sort(X_test)\n",
        "\n",
        "# Reshape X_train, X_test for sklearn LinearRegression\n",
        "X_train = X_train.reshape(-1,1)\n",
        "X_test = X_test.reshape(-1,1)"
      ]
    },
    {
      "cell_type": "markdown",
      "metadata": {
        "id": "P-6uuoH9m31F"
      },
      "source": [
        "### a) Linear Regression (10 points)"
      ]
    },
    {
      "cell_type": "markdown",
      "metadata": {
        "id": "cO7NdJ0YnNfi"
      },
      "source": [
        "We will run a simple linear regression on this well-curated dataset using sklearn's **LinearRegression**.\n",
        "\n",
        "Hint: Review the sklearn docs https://scikit-learn.org/stable/modules/generated/sklearn.linear_model.LinearRegression.html and class exercise."
      ]
    },
    {
      "cell_type": "code",
      "execution_count": null,
      "metadata": {
        "id": "jhGG7nMZmv2K"
      },
      "outputs": [],
      "source": [
        "# code \n",
        "'''\n",
        "Given X, y data and a LinearRegression object, returns two points representing\n",
        "the regression line fitting the given data's scale.\n",
        "'''\n",
        "def compute_line_from_regr(X_data, y_data, regr):\n",
        "    l_bound = np.min(X_data)\n",
        "    r_bound = np.max(X_data)\n",
        "    return [l_bound, r_bound], [l_bound * regr.coef_ + regr.intercept_, r_bound * regr.coef_ + regr.intercept_]"
      ]
    },
    {
      "cell_type": "code",
      "execution_count": null,
      "metadata": {
        "colab": {
          "base_uri": "https://localhost:8080/"
        },
        "id": "dvZTcsNzpZXq",
        "outputId": "94546641-500e-4b6e-d7eb-c3cf7477191d"
      },
      "outputs": [
        {
          "output_type": "execute_result",
          "data": {
            "text/plain": [
              "LinearRegression()"
            ]
          },
          "metadata": {},
          "execution_count": 13
        }
      ],
      "source": [
        "from sklearn.linear_model import LinearRegression\n",
        "from sklearn import linear_model\n",
        "from sklearn import datasets\n",
        "# Instantiate LinearRegression\n",
        "regressor = linear_model.LinearRegression()\n",
        "### YOUR CODE HERE ### \n",
        "\n",
        "# Fit the regressor using X_train and y_train\n",
        "\n",
        "### YOUR CODE HERE ###\n",
        "regressor.fit(X_train, y_train)\n"
      ]
    },
    {
      "cell_type": "markdown",
      "metadata": {
        "id": "YEUvILxltp1o"
      },
      "source": [
        "Let's now visually inspect the model and see how well this model predicts the yield. \n",
        "* First, plot the yield vs. temperature points from training set in black.\n",
        "* Then, plot the regression line in red. Predictions from the regression model lie along the red line."
      ]
    },
    {
      "cell_type": "code",
      "execution_count": null,
      "metadata": {
        "colab": {
          "base_uri": "https://localhost:8080/",
          "height": 545
        },
        "id": "qkaRSeQxs00h",
        "outputId": "84382626-3746-4a81-f8cb-97ce268efd50"
      },
      "outputs": [
        {
          "output_type": "display_data",
          "data": {
            "text/plain": [
              "<Figure size 432x288 with 1 Axes>"
            ],
            "image/png": "[encoded data removed]"
          },
          "metadata": {
            "needs_background": "light"
          }
        },
        {
          "output_type": "display_data",
          "data": {
            "text/plain": [
              "<Figure size 432x288 with 1 Axes>"
            ],
            "image/png": "[encoded data removed]"
          },
          "metadata": {
            "needs_background": "light"
          }
        }
      ],
      "source": [
        "# Plot the actual yield (y_train) vs. temperature values from training set\n",
        "\n",
        "### YOUR CODE HERE ###\n",
        "line_x, line_y = compute_line_from_regr(X_train, y_train, regressor)\n",
        "plt.scatter(X_train, y_train, color='black')\n",
        "plt.title('training set: yield vs temp')\n",
        "plt.show()\n",
        "\n",
        "# Plot the regression line\n",
        "\n",
        "### YOUR CODE HERE ###\n",
        "line_x, line_y = compute_line_from_regr(X_train, y_train, regressor)\n",
        "plt.scatter(X_train, y_train, color='black')\n",
        "plt.plot(line_x, line_y, color='red', linewidth=3)\n",
        "plt.title('Regression line and testing data')\n",
        "plt.show()\n"
      ]
    },
    {
      "cell_type": "markdown",
      "metadata": {
        "id": "VDEu6LcfuLG4"
      },
      "source": [
        "Let's also visually inspect the prediction results from the test set.\n",
        "* First, plot the yield vs. temperature points from the test set in black\n",
        "* Then plot the regression line in red to see how prediction is similar to or different from the actual target."
      ]
    },
    {
      "cell_type": "code",
      "execution_count": null,
      "metadata": {
        "id": "pNppCKKTrHtW",
        "colab": {
          "base_uri": "https://localhost:8080/",
          "height": 545
        },
        "outputId": "6ba8bc9a-b4a4-45cd-acf0-41a4cab8c2cf"
      },
      "outputs": [
        {
          "output_type": "display_data",
          "data": {
            "text/plain": [
              "<Figure size 432x288 with 1 Axes>"
            ],
            "image/png": "[encoded data removed]"
          },
          "metadata": {
            "needs_background": "light"
          }
        },
        {
          "output_type": "display_data",
          "data": {
            "text/plain": [
              "<Figure size 432x288 with 1 Axes>"
            ],
            "image/png": "[encoded data removed]"
          },
          "metadata": {
            "needs_background": "light"
          }
        }
      ],
      "source": [
        "# Plot the actual yield (y_test) vs. temperature values  for the test set\n",
        "\n",
        "### YOUR CODE HERE ###\n",
        "line_x, line_y = compute_line_from_regr(X_test, y_test, regressor)\n",
        "plt.scatter(X_test, y_test, color='black')\n",
        "plt.title('Testing data: yield vs temp')\n",
        "plt.show()\n",
        "\n",
        "# Plot the regression line\n",
        "\n",
        "### YOUR CODE HERE ###\n",
        "line_x, line_y = compute_line_from_regr(X_test, y_test, regressor)\n",
        "plt.scatter(X_test, y_test, color='black')\n",
        "plt.plot(line_x, line_y, color='red', linewidth=3)\n",
        "plt.title('Regression line and testing data')\n",
        "plt.show()"
      ]
    },
    {
      "cell_type": "markdown",
      "metadata": {
        "id": "dlHfuG_UYnfG"
      },
      "source": [
        "### b) Inspecting Linear Regression Model (5 points)"
      ]
    },
    {
      "cell_type": "markdown",
      "metadata": {
        "id": "nNWLywqeuzR9"
      },
      "source": [
        "After inspecting the results visually, does this model appear to be a good or bad fit on the test set and training set? "
      ]
    },
    {
      "cell_type": "markdown",
      "metadata": {
        "id": "og-QtiEOvKgn"
      },
      "source": [
        "[From this scatter plot, we can see that that our linear regression model does not really fit the shape of the graph. Generally, linear regression does not always work out for the best and makes the model a bad fit and underfitting]"
      ]
    },
    {
      "cell_type": "markdown",
      "metadata": {
        "id": "OrI7XG0qP0aW"
      },
      "source": [
        "Does the model display signs of underfitting? If so, why?"
      ]
    },
    {
      "cell_type": "markdown",
      "metadata": {
        "id": "1z9GhfWcP_eO"
      },
      "source": [
        "[This model is a hundred percent underfitting, because of how scatterd our data is and the line passes through nearly non of the points. It cannot capture the underlying trend of the data and so it is forced to make up the a jank linear line that doesn't work with non-linear shaped datas.]"
      ]
    },
    {
      "cell_type": "markdown",
      "metadata": {
        "id": "UfmMI_k5vZLx"
      },
      "source": [
        "### c) Polynomial Regression (10 points)"
      ]
    },
    {
      "cell_type": "markdown",
      "metadata": {
        "id": "-OVJMeKAyb2J"
      },
      "source": [
        "Data may not follow a linear relationship from the independent variable $X$ to the dependent variable $y$. Fitting a linear model to this would be inaccurate and yield a high loss. \n",
        "\n",
        "If we want to model an order $d$ polynomial relationship between $X$ and $y$ we can augment our initial linear model where instead of having:\n",
        "$$\n",
        "y^{(i)} = \\theta_0 + \\theta_1 x^{(i)}\n",
        "$$\n",
        "\n",
        "We have:\n",
        "\n",
        "$$\n",
        "y^{(i)} = \\theta_0 + \\theta_1 x^{(i)} + \\theta_2 {x^{(i)}}^2 + \\cdots + \\theta_d {x^{(i)}}^d\n",
        "$$\n",
        "\n",
        "We can use the same linear regression algorithm we if we first augment $X$ and add extra columns (or dimensions). \n",
        "\n",
        "$$ \\textbf X =\n",
        "\\begin{bmatrix}\n",
        "    x^{(1)}       & {x^{(1)}}^2 & \\cdots & {x^{(1)}}^d \\\\\n",
        "    x^{(2)}       & {x^{(2)}}^2 & \\cdots & {x^{(2)}}^d \\\\\n",
        "    \\vdots       & \\vdots & \\ddots & \\vdots \\\\\n",
        "    x^{(n)}       & {x^{(n)}}^2 & \\cdots & {x^{(n)}}^d\n",
        "\\end{bmatrix}$$\n",
        "\n",
        "Then our new higher order $\\hat Y$ is computed same as before.\n",
        "\n",
        "$$ \\hat Y =  X \\theta =\n",
        "\\begin{bmatrix}\n",
        "    1 & x^{(1)}       & {x^{(1)}}^2 & \\cdots & {x^{(1)}}^d \\\\\n",
        "    1 & x^{(2)}       & {x^{(2)}}^2 & \\cdots & {x^{(2)}}^d \\\\\n",
        "    \\vdots & \\vdots       & \\vdots & \\ddots & \\vdots \\\\\n",
        "    1 & x^{(n)}       & {x^{(n)}}^2 & \\cdots & {x^{(n)}}^d\n",
        "\\end{bmatrix}\n",
        "\\begin{bmatrix}\\theta_0 \\\\ \\theta_1 \\\\ \\vdots \\\\ \\theta_{d} \n",
        "\\end{bmatrix}=\n",
        "\\begin{bmatrix}\n",
        "    \\theta_0 + \\theta_1 x^{(1)} + \\theta_2 {x^{(1)}}^2 + \\cdots + \\theta_{d}  {x^{(1)}}^d \\\\\n",
        "    \\theta_0 + \\theta_1 x^{(2)} + \\theta_2 {x^{(2)}}^2 + \\cdots + \\theta_{d}  {x^{(2)}}^d  \\\\\n",
        "    \\vdots   \\\\\n",
        "    \\theta_0 + \\theta_1 x^{(n)} + \\theta_2 {x^{(n)}}^2 + \\cdots + \\theta_{d}  {x^{(n)}}^d\n",
        "\\end{bmatrix} \n",
        "= \\begin{bmatrix}\\hat y^{(1)} \\\\ \\hat y^{(2)} \\\\ \\vdots \\\\ \\hat y^{(n)} \n",
        "\\end{bmatrix}$$"
      ]
    },
    {
      "cell_type": "markdown",
      "metadata": {
        "id": "GEgFFYh9vppr"
      },
      "source": [
        "Using sklearn's **PolynomialFeatures** functionality, we will now transform X_train and X_test into second order polynomial space.\n",
        "\n",
        "For more info: https://scikit-learn.org/stable/modules/generated/sklearn.preprocessing.PolynomialFeatures.html"
      ]
    },
    {
      "cell_type": "code",
      "execution_count": null,
      "metadata": {
        "id": "KTMHoLIxw61l",
        "colab": {
          "base_uri": "https://localhost:8080/"
        },
        "outputId": "d5699fda-4556-4fa0-ac47-2a115f08cfca"
      },
      "outputs": [
        {
          "output_type": "stream",
          "name": "stdout",
          "text": [
            "[[100]\n",
            " [ 90]\n",
            " [ 50]\n",
            " [ 80]\n",
            " [ 90]\n",
            " [ 70]\n",
            " [ 50]\n",
            " [ 80]\n",
            " [100]]\n"
          ]
        }
      ],
      "source": [
        "# First, lets look at the values of X_train\n",
        "print(X_train)"
      ]
    },
    {
      "cell_type": "code",
      "execution_count": null,
      "metadata": {
        "id": "DbJUEuGmLGqT",
        "colab": {
          "base_uri": "https://localhost:8080/"
        },
        "outputId": "122b982e-84c8-467b-821f-40185cd36d99"
      },
      "outputs": [
        {
          "output_type": "stream",
          "name": "stdout",
          "text": [
            "[3.  3.1 2.9 2.4 2.8 2.6 2.8 2.5 3.5]\n"
          ]
        }
      ],
      "source": [
        "print(y_train)"
      ]
    },
    {
      "cell_type": "code",
      "execution_count": null,
      "metadata": {
        "id": "kPEUwbX0wN5-",
        "colab": {
          "base_uri": "https://localhost:8080/"
        },
        "outputId": "edd3e5b5-0b0a-480e-8749-3c664608a560"
      },
      "outputs": [
        {
          "output_type": "stream",
          "name": "stdout",
          "text": [
            "[[1.0e+00 1.0e+02 1.0e+04]\n",
            " [1.0e+00 9.0e+01 8.1e+03]\n",
            " [1.0e+00 5.0e+01 2.5e+03]\n",
            " [1.0e+00 8.0e+01 6.4e+03]\n",
            " [1.0e+00 9.0e+01 8.1e+03]\n",
            " [1.0e+00 7.0e+01 4.9e+03]\n",
            " [1.0e+00 5.0e+01 2.5e+03]\n",
            " [1.0e+00 8.0e+01 6.4e+03]\n",
            " [1.0e+00 1.0e+02 1.0e+04]]\n"
          ]
        }
      ],
      "source": [
        "from sklearn.preprocessing import PolynomialFeatures\n",
        "\n",
        "# Creates polynomial transform of degree 2\n",
        "poly = PolynomialFeatures(2)\n",
        "\n",
        "# Transform X_train X_test\n",
        "X_train_pol = poly.fit_transform(X_train)\n",
        "X_test_pol = poly.fit_transform(X_test)\n",
        "\n",
        "# Print X_train_pol\n",
        "print(X_train_pol)"
      ]
    },
    {
      "cell_type": "markdown",
      "metadata": {
        "id": "FByoPNOWxK_o"
      },
      "source": [
        "We can now fit a second degree polynomial regression model to the transformed data."
      ]
    },
    {
      "cell_type": "code",
      "execution_count": null,
      "metadata": {
        "id": "z2nbImhTzHDV",
        "colab": {
          "base_uri": "https://localhost:8080/"
        },
        "outputId": "082b6ea7-db53-4557-dfdf-11bd0482703c"
      },
      "outputs": [
        {
          "output_type": "execute_result",
          "data": {
            "text/plain": [
              "LinearRegression()"
            ]
          },
          "metadata": {},
          "execution_count": 19
        }
      ],
      "source": [
        "from sklearn.linear_model import LinearRegression\n",
        "# Instantiate LinearRegression\n",
        "regressor = linear_model.LinearRegression()### YOUR CODE HERE ### \n",
        "\n",
        "# Fit the regressor using X_train_pol and y_train\n",
        "\n",
        "### YOUR CODE HERE ###\n",
        "regressor.fit(X_train_pol, y_train)"
      ]
    },
    {
      "cell_type": "markdown",
      "metadata": {
        "id": "P2mFEIoB0IdM"
      },
      "source": [
        "Now, visually inspect the polynomial regression model and see how well this model predicts the yield on the training set. \n",
        "\n",
        "Plot the yield vs. temperature points in black along with the polynomial regression line in red. Hint: For plotting the regression line, you can use the plot function to interpolate the regression line based on the model's prediction on data points."
      ]
    },
    {
      "cell_type": "code",
      "execution_count": null,
      "metadata": {
        "id": "EuRhRcgzSCXG"
      },
      "outputs": [],
      "source": [
        "def PolyCoefficients(x, coeffs):\n",
        "    \"\"\" Returns a polynomial for ``x`` values for the ``coeffs`` provided.\n",
        "\n",
        "    The coefficients must be in ascending order (``x**0`` to ``x**o``).\n",
        "    \"\"\"\n",
        "    o = len(coeffs)\n",
        "    print(f'# This is a polynomial of order {o}.')\n",
        "    y = 0\n",
        "    for i in range(o):\n",
        "        y += coeffs[i]*x**i\n",
        "    return y"
      ]
    },
    {
      "cell_type": "code",
      "execution_count": null,
      "metadata": {
        "id": "nZ3TpGZ30IdN",
        "colab": {
          "base_uri": "https://localhost:8080/",
          "height": 654
        },
        "outputId": "ae5c19ff-62b6-4c44-dee8-0572cde5eb8e"
      },
      "outputs": [
        {
          "output_type": "display_data",
          "data": {
            "text/plain": [
              "<Figure size 432x288 with 1 Axes>"
            ],
            "image/png": "[encoded data removed]"
          },
          "metadata": {
            "needs_background": "light"
          }
        },
        {
          "output_type": "display_data",
          "data": {
            "text/plain": [
              "<Figure size 720x432 with 1 Axes>"
            ],
            "image/png": "[encoded data removed]"
          },
          "metadata": {
            "needs_background": "light"
          }
        }
      ],
      "source": [
        "# Plot the actual yield (y_train) vs temp. values from training set\n",
        "\n",
        "### YOUR CODE HERE ###\n",
        "line_x, line_y = compute_line_from_regr(X_train, y_train, regressor)\n",
        "plt.scatter(X_train, y_train, color='black')\n",
        "plt.title('training set: yield vs temp')\n",
        "plt.show()\n",
        "\n",
        "# Plot the regression line\n",
        "\n",
        "### YOUR CODE HERE ###\n",
        "# line_x, line_y = compute_line_from_regr(X_train, y_train, regressor)\n",
        "# plt.scatter(X_train, y_train, color='black')\n",
        "# plt.plot(line_x, line_y, color='red', linewidth=3)\n",
        "# plt.title('Regression line and testing data')\n",
        "# plt.show()\n",
        "y_pol = regressor.predict(X_train_pol)\n",
        "plt.figure(figsize=(10, 6))\n",
        "plt.title(\"Plotting the regression line\")\n",
        "plt.scatter(X_train, y_train, c=\"black\")\n",
        "plt.plot(X_train, y_pol, c=\"red\")\n",
        "plt.show()\n"
      ]
    },
    {
      "cell_type": "markdown",
      "source": [],
      "metadata": {
        "id": "-QQRHy4-48PI"
      }
    },
    {
      "cell_type": "markdown",
      "metadata": {
        "id": "eiN6blfA0zsr"
      },
      "source": [
        "Lastly, let's plot the test set yield vs. temperature points along with the polynomial regression line."
      ]
    },
    {
      "cell_type": "code",
      "execution_count": null,
      "metadata": {
        "id": "3fcQtM8g00_z",
        "colab": {
          "base_uri": "https://localhost:8080/",
          "height": 281
        },
        "outputId": "d5acfa75-1814-4262-b28c-11cb953b42ee"
      },
      "outputs": [
        {
          "output_type": "display_data",
          "data": {
            "text/plain": [
              "<Figure size 432x288 with 1 Axes>"
            ],
            "image/png": "[encoded data removed]"
          },
          "metadata": {
            "needs_background": "light"
          }
        }
      ],
      "source": [
        "# Plot the actual yield (y_test) vs temp. values from test set\n",
        "\n",
        "### YOUR CODE HERE ###\n",
        "line_x, line_y = compute_line_from_regr(X_test, y_test, regressor)\n",
        "\n",
        "plt.scatter(X_test, y_test, color='black')\n",
        "plt.plot(line_x, line_y, color='orangered', linewidth=3)\n",
        "plt.title('Regression line and testing data (Temperature)')\n",
        "\n",
        "\n",
        "### YOUR CODE HERE ###\n",
        "plt.plot(line_x, line_y, color='orangered', linewidth=3)\n",
        "plt.title('Regression line and testing data (Temperature)')\n",
        "plt.show()"
      ]
    },
    {
      "cell_type": "markdown",
      "metadata": {
        "id": "Di8yHQU2Yukr"
      },
      "source": [
        "### d) Inpsecting Polynomial Regression Model (5 points)"
      ]
    },
    {
      "cell_type": "markdown",
      "metadata": {
        "id": "czHSwZxX-WfG"
      },
      "source": [
        "After inspecting the polynomial regression model, does the model appear to be a better fit than simple linear regression? "
      ]
    },
    {
      "cell_type": "markdown",
      "metadata": {
        "id": "nEXJnHhG-pJ-"
      },
      "source": [
        "[Yes, it is a better fit as it curves to form a shape closer to the scatter plot points rather than being one straight line that best fits the entirety of the scatter plot points.]"
      ]
    },
    {
      "cell_type": "markdown",
      "metadata": {
        "id": "1_-ZNVBuQJ0X"
      },
      "source": [
        "Does the model address display more or less underfitting than the simple linear regression model and why?"
      ]
    },
    {
      "cell_type": "markdown",
      "metadata": {
        "id": "dLeDdBynQO0Y"
      },
      "source": [
        "[The model displays less underfitting than the simple linear regression model, because its regression line generally fits closer to the points on this scatter plot.]"
      ]
    },
    {
      "cell_type": "markdown",
      "metadata": {
        "id": "CazISR8X_HUG"
      },
      "source": [
        "## Problem 2 - Fish Dataset"
      ]
    },
    {
      "cell_type": "markdown",
      "metadata": {
        "id": "vgC61-ah_WIz"
      },
      "source": [
        "## Importing the Dataset"
      ]
    },
    {
      "cell_type": "markdown",
      "metadata": {
        "id": "QlPD4uh5ImZE"
      },
      "source": [
        "We will now perform different variations of linear regression to predict fish weight given species type, weight, and physical measurements. The different attributes of the data are:\n",
        "\n",
        "- Species: species name of fish\n",
        "\n",
        "- Weight: weight of fish in Gram (g)\n",
        "\n",
        "- Length1: vertical length in (cm)\n",
        "\n",
        "- Length2: diagonal length in (cm)\n",
        "\n",
        "- Length3: cross length in (cm)\n",
        "\n",
        "- Height: height in (cm)\n",
        "\n",
        "- Width: diagonal width in (cm)\n",
        "\n",
        "Begin by downloading the Fish.csv file from google drive. Make sure to select your @ucsc.edu email when authorizing access to your account. "
      ]
    },
    {
      "cell_type": "code",
      "execution_count": null,
      "metadata": {
        "id": "RMy-21iKABVc"
      },
      "outputs": [],
      "source": [
        "!pip install -U -q PyDrive\n",
        "from pydrive.auth import GoogleAuth\n",
        "from pydrive.drive import GoogleDrive\n",
        "from google.colab import auth\n",
        "from oauth2client.client import GoogleCredentials"
      ]
    },
    {
      "cell_type": "code",
      "execution_count": null,
      "metadata": {
        "id": "BTvM0_JzABVc"
      },
      "outputs": [],
      "source": [
        "auth.authenticate_user()\n",
        "gauth = GoogleAuth()\n",
        "gauth.credentials = GoogleCredentials.get_application_default()\n",
        "drive = GoogleDrive(gauth)"
      ]
    },
    {
      "cell_type": "code",
      "execution_count": null,
      "metadata": {
        "id": "NLDSqS7_JD0j"
      },
      "outputs": [],
      "source": [
        "# Download the Fish data\n",
        "downloaded = drive.CreateFile({'id':\"13Q2WAaDIP6D5yrQlLV3OMnkmcwxcAwHz\"})\n",
        "downloaded.GetContentFile('Fish.csv')  "
      ]
    },
    {
      "cell_type": "code",
      "execution_count": null,
      "metadata": {
        "id": "lWS9rMQjImZF"
      },
      "outputs": [],
      "source": [
        "import pandas as pd\n",
        "\n",
        "# Create pandas dataframe\n",
        "fish_data = pd.read_csv('Fish.csv')"
      ]
    },
    {
      "cell_type": "markdown",
      "metadata": {
        "id": "tdr40HJxNb8Q"
      },
      "source": [
        "Let's look at some of the data and check some of the dataset descriptors."
      ]
    },
    {
      "cell_type": "code",
      "execution_count": null,
      "metadata": {
        "id": "L7jhsbgiNiWu",
        "colab": {
          "base_uri": "https://localhost:8080/",
          "height": 206
        },
        "outputId": "2cefa174-a0e3-4101-bd93-81f64b89393d"
      },
      "outputs": [
        {
          "output_type": "execute_result",
          "data": {
            "text/plain": [
              "  Species  Weight  Length1  Length2  Length3   Height   Width\n",
              "0   Bream   242.0     23.2     25.4     30.0  11.5200  4.0200\n",
              "1   Bream   290.0     24.0     26.3     31.2  12.4800  4.3056\n",
              "2   Bream   340.0     23.9     26.5     31.1  12.3778  4.6961\n",
              "3   Bream   363.0     26.3     29.0     33.5  12.7300  4.4555\n",
              "4   Bream   430.0     26.5     29.0     34.0  12.4440  5.1340"
            ],
            "text/html": [
              "\n",
              "  <div id=\"df-afac9aa1-9194-46b1-9673-973de290de3c\">\n",
              "    <div class=\"colab-df-container\">\n",
              "      <div>\n",
              "<style scoped>\n",
              "    .dataframe tbody tr th:only-of-type {\n",
              "        vertical-align: middle;\n",
              "    }\n",
              "\n",
              "    .dataframe tbody tr th {\n",
              "        vertical-align: top;\n",
              "    }\n",
              "\n",
              "    .dataframe thead th {\n",
              "        text-align: right;\n",
              "    }\n",
              "</style>\n",
              "<table border=\"1\" class=\"dataframe\">\n",
              "  <thead>\n",
              "    <tr style=\"text-align: right;\">\n",
              "      <th></th>\n",
              "      <th>Species</th>\n",
              "      <th>Weight</th>\n",
              "      <th>Length1</th>\n",
              "      <th>Length2</th>\n",
              "      <th>Length3</th>\n",
              "      <th>Height</th>\n",
              "      <th>Width</th>\n",
              "    </tr>\n",
              "  </thead>\n",
              "  <tbody>\n",
              "    <tr>\n",
              "      <th>0</th>\n",
              "      <td>Bream</td>\n",
              "      <td>242.0</td>\n",
              "      <td>23.2</td>\n",
              "      <td>25.4</td>\n",
              "      <td>30.0</td>\n",
              "      <td>11.5200</td>\n",
              "      <td>4.0200</td>\n",
              "    </tr>\n",
              "    <tr>\n",
              "      <th>1</th>\n",
              "      <td>Bream</td>\n",
              "      <td>290.0</td>\n",
              "      <td>24.0</td>\n",
              "      <td>26.3</td>\n",
              "      <td>31.2</td>\n",
              "      <td>12.4800</td>\n",
              "      <td>4.3056</td>\n",
              "    </tr>\n",
              "    <tr>\n",
              "      <th>2</th>\n",
              "      <td>Bream</td>\n",
              "      <td>340.0</td>\n",
              "      <td>23.9</td>\n",
              "      <td>26.5</td>\n",
              "      <td>31.1</td>\n",
              "      <td>12.3778</td>\n",
              "      <td>4.6961</td>\n",
              "    </tr>\n",
              "    <tr>\n",
              "      <th>3</th>\n",
              "      <td>Bream</td>\n",
              "      <td>363.0</td>\n",
              "      <td>26.3</td>\n",
              "      <td>29.0</td>\n",
              "      <td>33.5</td>\n",
              "      <td>12.7300</td>\n",
              "      <td>4.4555</td>\n",
              "    </tr>\n",
              "    <tr>\n",
              "      <th>4</th>\n",
              "      <td>Bream</td>\n",
              "      <td>430.0</td>\n",
              "      <td>26.5</td>\n",
              "      <td>29.0</td>\n",
              "      <td>34.0</td>\n",
              "      <td>12.4440</td>\n",
              "      <td>5.1340</td>\n",
              "    </tr>\n",
              "  </tbody>\n",
              "</table>\n",
              "</div>\n",
              "      <button class=\"colab-df-convert\" onclick=\"convertToInteractive('df-afac9aa1-9194-46b1-9673-973de290de3c')\"\n",
              "              title=\"Convert this dataframe to an interactive table.\"\n",
              "              style=\"display:none;\">\n",
              "        \n",
              "  <svg xmlns=\"http://www.w3.org/2000/svg\" height=\"24px\"viewBox=\"0 0 24 24\"\n",
              "       width=\"24px\">\n",
              "    <path d=\"M0 0h24v24H0V0z\" fill=\"none\"/>\n",
              "    <path d=\"M18.56 5.44l.94 2.06.94-2.06 2.06-.94-2.06-.94-.94-2.06-.94 2.06-2.06.94zm-11 1L8.5 8.5l.94-2.06 2.06-.94-2.06-.94L8.5 2.5l-.94 2.06-2.06.94zm10 10l.94 2.06.94-2.06 2.06-.94-2.06-.94-.94-2.06-.94 2.06-2.06.94z\"/><path d=\"M17.41 7.96l-1.37-1.37c-.4-.4-.92-.59-1.43-.59-.52 0-1.04.2-1.43.59L10.3 9.45l-7.72 7.72c-.78.78-.78 2.05 0 2.83L4 21.41c.39.39.9.59 1.41.59.51 0 1.02-.2 1.41-.59l7.78-7.78 2.81-2.81c.8-.78.8-2.07 0-2.86zM5.41 20L4 18.59l7.72-7.72 1.47 1.35L5.41 20z\"/>\n",
              "  </svg>\n",
              "      </button>\n",
              "      \n",
              "  <style>\n",
              "    .colab-df-container {\n",
              "      display:flex;\n",
              "      flex-wrap:wrap;\n",
              "      gap: 12px;\n",
              "    }\n",
              "\n",
              "    .colab-df-convert {\n",
              "      background-color: #E8F0FE;\n",
              "      border: none;\n",
              "      border-radius: 50%;\n",
              "      cursor: pointer;\n",
              "      display: none;\n",
              "      fill: #1967D2;\n",
              "      height: 32px;\n",
              "      padding: 0 0 0 0;\n",
              "      width: 32px;\n",
              "    }\n",
              "\n",
              "    .colab-df-convert:hover {\n",
              "      background-color: #E2EBFA;\n",
              "      box-shadow: 0px 1px 2px rgba(60, 64, 67, 0.3), 0px 1px 3px 1px rgba(60, 64, 67, 0.15);\n",
              "      fill: #174EA6;\n",
              "    }\n",
              "\n",
              "    [theme=dark] .colab-df-convert {\n",
              "      background-color: #3B4455;\n",
              "      fill: #D2E3FC;\n",
              "    }\n",
              "\n",
              "    [theme=dark] .colab-df-convert:hover {\n",
              "      background-color: #434B5C;\n",
              "      box-shadow: 0px 1px 3px 1px rgba(0, 0, 0, 0.15);\n",
              "      filter: drop-shadow(0px 1px 2px rgba(0, 0, 0, 0.3));\n",
              "      fill: #FFFFFF;\n",
              "    }\n",
              "  </style>\n",
              "\n",
              "      <script>\n",
              "        const buttonEl =\n",
              "          document.querySelector('#df-afac9aa1-9194-46b1-9673-973de290de3c button.colab-df-convert');\n",
              "        buttonEl.style.display =\n",
              "          google.colab.kernel.accessAllowed ? 'block' : 'none';\n",
              "\n",
              "        async function convertToInteractive(key) {\n",
              "          const element = document.querySelector('#df-afac9aa1-9194-46b1-9673-973de290de3c');\n",
              "          const dataTable =\n",
              "            await google.colab.kernel.invokeFunction('convertToInteractive',\n",
              "                                                     [key], {});\n",
              "          if (!dataTable) return;\n",
              "\n",
              "          const docLinkHtml = 'Like what you see? Visit the ' +\n",
              "            '<a target=\"_blank\" href=https://colab.research.google.com/notebooks/data_table.ipynb>data table notebook</a>'\n",
              "            + ' to learn more about interactive tables.';\n",
              "          element.innerHTML = '';\n",
              "          dataTable['output_type'] = 'display_data';\n",
              "          await google.colab.output.renderOutput(dataTable, element);\n",
              "          const docLink = document.createElement('div');\n",
              "          docLink.innerHTML = docLinkHtml;\n",
              "          element.appendChild(docLink);\n",
              "        }\n",
              "      </script>\n",
              "    </div>\n",
              "  </div>\n",
              "  "
            ]
          },
          "metadata": {},
          "execution_count": 307
        }
      ],
      "source": [
        "# Let's print out the first few rows\n",
        "fish_data.head()"
      ]
    },
    {
      "cell_type": "code",
      "execution_count": null,
      "metadata": {
        "id": "iL6vmfTMNqeI",
        "colab": {
          "base_uri": "https://localhost:8080/"
        },
        "outputId": "e69f6abb-14b1-4c45-bb90-5dad2a71ca71"
      },
      "outputs": [
        {
          "output_type": "execute_result",
          "data": {
            "text/plain": [
              "(159, 7)"
            ]
          },
          "metadata": {},
          "execution_count": 308
        }
      ],
      "source": [
        "# Let's get the data shape\n",
        "fish_data.shape"
      ]
    },
    {
      "cell_type": "code",
      "execution_count": null,
      "metadata": {
        "id": "uYMy04YkImZG",
        "colab": {
          "base_uri": "https://localhost:8080/",
          "height": 300
        },
        "outputId": "4a1e9cfe-a945-405b-8cc4-877ba843e593"
      },
      "outputs": [
        {
          "output_type": "execute_result",
          "data": {
            "text/plain": [
              "            Weight     Length1     Length2     Length3      Height       Width\n",
              "count   159.000000  159.000000  159.000000  159.000000  159.000000  159.000000\n",
              "mean    398.326415   26.247170   28.415723   31.227044    8.970994    4.417486\n",
              "std     357.978317    9.996441   10.716328   11.610246    4.286208    1.685804\n",
              "min       0.000000    7.500000    8.400000    8.800000    1.728400    1.047600\n",
              "25%     120.000000   19.050000   21.000000   23.150000    5.944800    3.385650\n",
              "50%     273.000000   25.200000   27.300000   29.400000    7.786000    4.248500\n",
              "75%     650.000000   32.700000   35.500000   39.650000   12.365900    5.584500\n",
              "max    1650.000000   59.000000   63.400000   68.000000   18.957000    8.142000"
            ],
            "text/html": [
              "\n",
              "  <div id=\"df-d455803b-ef8a-4a90-9616-0cf9b1007c43\">\n",
              "    <div class=\"colab-df-container\">\n",
              "      <div>\n",
              "<style scoped>\n",
              "    .dataframe tbody tr th:only-of-type {\n",
              "        vertical-align: middle;\n",
              "    }\n",
              "\n",
              "    .dataframe tbody tr th {\n",
              "        vertical-align: top;\n",
              "    }\n",
              "\n",
              "    .dataframe thead th {\n",
              "        text-align: right;\n",
              "    }\n",
              "</style>\n",
              "<table border=\"1\" class=\"dataframe\">\n",
              "  <thead>\n",
              "    <tr style=\"text-align: right;\">\n",
              "      <th></th>\n",
              "      <th>Weight</th>\n",
              "      <th>Length1</th>\n",
              "      <th>Length2</th>\n",
              "      <th>Length3</th>\n",
              "      <th>Height</th>\n",
              "      <th>Width</th>\n",
              "    </tr>\n",
              "  </thead>\n",
              "  <tbody>\n",
              "    <tr>\n",
              "      <th>count</th>\n",
              "      <td>159.000000</td>\n",
              "      <td>159.000000</td>\n",
              "      <td>159.000000</td>\n",
              "      <td>159.000000</td>\n",
              "      <td>159.000000</td>\n",
              "      <td>159.000000</td>\n",
              "    </tr>\n",
              "    <tr>\n",
              "      <th>mean</th>\n",
              "      <td>398.326415</td>\n",
              "      <td>26.247170</td>\n",
              "      <td>28.415723</td>\n",
              "      <td>31.227044</td>\n",
              "      <td>8.970994</td>\n",
              "      <td>4.417486</td>\n",
              "    </tr>\n",
              "    <tr>\n",
              "      <th>std</th>\n",
              "      <td>357.978317</td>\n",
              "      <td>9.996441</td>\n",
              "      <td>10.716328</td>\n",
              "      <td>11.610246</td>\n",
              "      <td>4.286208</td>\n",
              "      <td>1.685804</td>\n",
              "    </tr>\n",
              "    <tr>\n",
              "      <th>min</th>\n",
              "      <td>0.000000</td>\n",
              "      <td>7.500000</td>\n",
              "      <td>8.400000</td>\n",
              "      <td>8.800000</td>\n",
              "      <td>1.728400</td>\n",
              "      <td>1.047600</td>\n",
              "    </tr>\n",
              "    <tr>\n",
              "      <th>25%</th>\n",
              "      <td>120.000000</td>\n",
              "      <td>19.050000</td>\n",
              "      <td>21.000000</td>\n",
              "      <td>23.150000</td>\n",
              "      <td>5.944800</td>\n",
              "      <td>3.385650</td>\n",
              "    </tr>\n",
              "    <tr>\n",
              "      <th>50%</th>\n",
              "      <td>273.000000</td>\n",
              "      <td>25.200000</td>\n",
              "      <td>27.300000</td>\n",
              "      <td>29.400000</td>\n",
              "      <td>7.786000</td>\n",
              "      <td>4.248500</td>\n",
              "    </tr>\n",
              "    <tr>\n",
              "      <th>75%</th>\n",
              "      <td>650.000000</td>\n",
              "      <td>32.700000</td>\n",
              "      <td>35.500000</td>\n",
              "      <td>39.650000</td>\n",
              "      <td>12.365900</td>\n",
              "      <td>5.584500</td>\n",
              "    </tr>\n",
              "    <tr>\n",
              "      <th>max</th>\n",
              "      <td>1650.000000</td>\n",
              "      <td>59.000000</td>\n",
              "      <td>63.400000</td>\n",
              "      <td>68.000000</td>\n",
              "      <td>18.957000</td>\n",
              "      <td>8.142000</td>\n",
              "    </tr>\n",
              "  </tbody>\n",
              "</table>\n",
              "</div>\n",
              "      <button class=\"colab-df-convert\" onclick=\"convertToInteractive('df-d455803b-ef8a-4a90-9616-0cf9b1007c43')\"\n",
              "              title=\"Convert this dataframe to an interactive table.\"\n",
              "              style=\"display:none;\">\n",
              "        \n",
              "  <svg xmlns=\"http://www.w3.org/2000/svg\" height=\"24px\"viewBox=\"0 0 24 24\"\n",
              "       width=\"24px\">\n",
              "    <path d=\"M0 0h24v24H0V0z\" fill=\"none\"/>\n",
              "    <path d=\"M18.56 5.44l.94 2.06.94-2.06 2.06-.94-2.06-.94-.94-2.06-.94 2.06-2.06.94zm-11 1L8.5 8.5l.94-2.06 2.06-.94-2.06-.94L8.5 2.5l-.94 2.06-2.06.94zm10 10l.94 2.06.94-2.06 2.06-.94-2.06-.94-.94-2.06-.94 2.06-2.06.94z\"/><path d=\"M17.41 7.96l-1.37-1.37c-.4-.4-.92-.59-1.43-.59-.52 0-1.04.2-1.43.59L10.3 9.45l-7.72 7.72c-.78.78-.78 2.05 0 2.83L4 21.41c.39.39.9.59 1.41.59.51 0 1.02-.2 1.41-.59l7.78-7.78 2.81-2.81c.8-.78.8-2.07 0-2.86zM5.41 20L4 18.59l7.72-7.72 1.47 1.35L5.41 20z\"/>\n",
              "  </svg>\n",
              "      </button>\n",
              "      \n",
              "  <style>\n",
              "    .colab-df-container {\n",
              "      display:flex;\n",
              "      flex-wrap:wrap;\n",
              "      gap: 12px;\n",
              "    }\n",
              "\n",
              "    .colab-df-convert {\n",
              "      background-color: #E8F0FE;\n",
              "      border: none;\n",
              "      border-radius: 50%;\n",
              "      cursor: pointer;\n",
              "      display: none;\n",
              "      fill: #1967D2;\n",
              "      height: 32px;\n",
              "      padding: 0 0 0 0;\n",
              "      width: 32px;\n",
              "    }\n",
              "\n",
              "    .colab-df-convert:hover {\n",
              "      background-color: #E2EBFA;\n",
              "      box-shadow: 0px 1px 2px rgba(60, 64, 67, 0.3), 0px 1px 3px 1px rgba(60, 64, 67, 0.15);\n",
              "      fill: #174EA6;\n",
              "    }\n",
              "\n",
              "    [theme=dark] .colab-df-convert {\n",
              "      background-color: #3B4455;\n",
              "      fill: #D2E3FC;\n",
              "    }\n",
              "\n",
              "    [theme=dark] .colab-df-convert:hover {\n",
              "      background-color: #434B5C;\n",
              "      box-shadow: 0px 1px 3px 1px rgba(0, 0, 0, 0.15);\n",
              "      filter: drop-shadow(0px 1px 2px rgba(0, 0, 0, 0.3));\n",
              "      fill: #FFFFFF;\n",
              "    }\n",
              "  </style>\n",
              "\n",
              "      <script>\n",
              "        const buttonEl =\n",
              "          document.querySelector('#df-d455803b-ef8a-4a90-9616-0cf9b1007c43 button.colab-df-convert');\n",
              "        buttonEl.style.display =\n",
              "          google.colab.kernel.accessAllowed ? 'block' : 'none';\n",
              "\n",
              "        async function convertToInteractive(key) {\n",
              "          const element = document.querySelector('#df-d455803b-ef8a-4a90-9616-0cf9b1007c43');\n",
              "          const dataTable =\n",
              "            await google.colab.kernel.invokeFunction('convertToInteractive',\n",
              "                                                     [key], {});\n",
              "          if (!dataTable) return;\n",
              "\n",
              "          const docLinkHtml = 'Like what you see? Visit the ' +\n",
              "            '<a target=\"_blank\" href=https://colab.research.google.com/notebooks/data_table.ipynb>data table notebook</a>'\n",
              "            + ' to learn more about interactive tables.';\n",
              "          element.innerHTML = '';\n",
              "          dataTable['output_type'] = 'display_data';\n",
              "          await google.colab.output.renderOutput(dataTable, element);\n",
              "          const docLink = document.createElement('div');\n",
              "          docLink.innerHTML = docLinkHtml;\n",
              "          element.appendChild(docLink);\n",
              "        }\n",
              "      </script>\n",
              "    </div>\n",
              "  </div>\n",
              "  "
            ]
          },
          "metadata": {},
          "execution_count": 309
        }
      ],
      "source": [
        "# Let's describe the data\n",
        "fish_data.describe()"
      ]
    },
    {
      "cell_type": "code",
      "execution_count": null,
      "metadata": {
        "id": "qPM2fT7pImZH",
        "scrolled": true,
        "colab": {
          "base_uri": "https://localhost:8080/"
        },
        "outputId": "7963a631-c4df-480f-a477-a4823c65f712"
      },
      "outputs": [
        {
          "output_type": "stream",
          "name": "stdout",
          "text": [
            "<class 'pandas.core.frame.DataFrame'>\n",
            "RangeIndex: 159 entries, 0 to 158\n",
            "Data columns (total 7 columns):\n",
            " #   Column   Non-Null Count  Dtype  \n",
            "---  ------   --------------  -----  \n",
            " 0   Species  159 non-null    object \n",
            " 1   Weight   159 non-null    float64\n",
            " 2   Length1  159 non-null    float64\n",
            " 3   Length2  159 non-null    float64\n",
            " 4   Length3  159 non-null    float64\n",
            " 5   Height   159 non-null    float64\n",
            " 6   Width    159 non-null    float64\n",
            "dtypes: float64(6), object(1)\n",
            "memory usage: 8.8+ KB\n"
          ]
        }
      ],
      "source": [
        "# Lastly, let's get data info\n",
        "fish_data.info()"
      ]
    },
    {
      "cell_type": "markdown",
      "metadata": {
        "id": "nG9NvytqOK7s"
      },
      "source": [
        "### a) Removing 0's from data (5 points)"
      ]
    },
    {
      "cell_type": "markdown",
      "metadata": {
        "id": "expaCW7rOZO1"
      },
      "source": [
        "We can see that there aren't any null values in this dataset by using the .info() function. However, .describe() shows us there are weights of 0.0g which is ambiguous and is likely a recording error. \n",
        "\n",
        "Drop any row that has a weight of 0.0."
      ]
    },
    {
      "cell_type": "code",
      "execution_count": null,
      "metadata": {
        "id": "7yfCamcEImZJ",
        "colab": {
          "base_uri": "https://localhost:8080/",
          "height": 300
        },
        "outputId": "e024072f-d1ea-4585-e3c0-6b3a119dd234"
      },
      "outputs": [
        {
          "output_type": "execute_result",
          "data": {
            "text/plain": [
              "            Weight     Length1     Length2     Length3      Height       Width\n",
              "count   158.000000  158.000000  158.000000  158.000000  158.000000  158.000000\n",
              "mean    400.847468   26.293038   28.465823   31.280380    8.986790    4.424232\n",
              "std     357.697796   10.011427   10.731707   11.627605    4.295191    1.689010\n",
              "min       5.900000    7.500000    8.400000    8.800000    1.728400    1.047600\n",
              "25%     121.250000   19.150000   21.000000   23.200000    5.940600    3.398650\n",
              "50%     281.500000   25.300000   27.400000   29.700000    7.789000    4.277050\n",
              "75%     650.000000   32.700000   35.750000   39.675000   12.371850    5.586750\n",
              "max    1650.000000   59.000000   63.400000   68.000000   18.957000    8.142000"
            ],
            "text/html": [
              "\n",
              "  <div id=\"df-f65056cb-cdf9-48bf-863d-88803d465c8b\">\n",
              "    <div class=\"colab-df-container\">\n",
              "      <div>\n",
              "<style scoped>\n",
              "    .dataframe tbody tr th:only-of-type {\n",
              "        vertical-align: middle;\n",
              "    }\n",
              "\n",
              "    .dataframe tbody tr th {\n",
              "        vertical-align: top;\n",
              "    }\n",
              "\n",
              "    .dataframe thead th {\n",
              "        text-align: right;\n",
              "    }\n",
              "</style>\n",
              "<table border=\"1\" class=\"dataframe\">\n",
              "  <thead>\n",
              "    <tr style=\"text-align: right;\">\n",
              "      <th></th>\n",
              "      <th>Weight</th>\n",
              "      <th>Length1</th>\n",
              "      <th>Length2</th>\n",
              "      <th>Length3</th>\n",
              "      <th>Height</th>\n",
              "      <th>Width</th>\n",
              "    </tr>\n",
              "  </thead>\n",
              "  <tbody>\n",
              "    <tr>\n",
              "      <th>count</th>\n",
              "      <td>158.000000</td>\n",
              "      <td>158.000000</td>\n",
              "      <td>158.000000</td>\n",
              "      <td>158.000000</td>\n",
              "      <td>158.000000</td>\n",
              "      <td>158.000000</td>\n",
              "    </tr>\n",
              "    <tr>\n",
              "      <th>mean</th>\n",
              "      <td>400.847468</td>\n",
              "      <td>26.293038</td>\n",
              "      <td>28.465823</td>\n",
              "      <td>31.280380</td>\n",
              "      <td>8.986790</td>\n",
              "      <td>4.424232</td>\n",
              "    </tr>\n",
              "    <tr>\n",
              "      <th>std</th>\n",
              "      <td>357.697796</td>\n",
              "      <td>10.011427</td>\n",
              "      <td>10.731707</td>\n",
              "      <td>11.627605</td>\n",
              "      <td>4.295191</td>\n",
              "      <td>1.689010</td>\n",
              "    </tr>\n",
              "    <tr>\n",
              "      <th>min</th>\n",
              "      <td>5.900000</td>\n",
              "      <td>7.500000</td>\n",
              "      <td>8.400000</td>\n",
              "      <td>8.800000</td>\n",
              "      <td>1.728400</td>\n",
              "      <td>1.047600</td>\n",
              "    </tr>\n",
              "    <tr>\n",
              "      <th>25%</th>\n",
              "      <td>121.250000</td>\n",
              "      <td>19.150000</td>\n",
              "      <td>21.000000</td>\n",
              "      <td>23.200000</td>\n",
              "      <td>5.940600</td>\n",
              "      <td>3.398650</td>\n",
              "    </tr>\n",
              "    <tr>\n",
              "      <th>50%</th>\n",
              "      <td>281.500000</td>\n",
              "      <td>25.300000</td>\n",
              "      <td>27.400000</td>\n",
              "      <td>29.700000</td>\n",
              "      <td>7.789000</td>\n",
              "      <td>4.277050</td>\n",
              "    </tr>\n",
              "    <tr>\n",
              "      <th>75%</th>\n",
              "      <td>650.000000</td>\n",
              "      <td>32.700000</td>\n",
              "      <td>35.750000</td>\n",
              "      <td>39.675000</td>\n",
              "      <td>12.371850</td>\n",
              "      <td>5.586750</td>\n",
              "    </tr>\n",
              "    <tr>\n",
              "      <th>max</th>\n",
              "      <td>1650.000000</td>\n",
              "      <td>59.000000</td>\n",
              "      <td>63.400000</td>\n",
              "      <td>68.000000</td>\n",
              "      <td>18.957000</td>\n",
              "      <td>8.142000</td>\n",
              "    </tr>\n",
              "  </tbody>\n",
              "</table>\n",
              "</div>\n",
              "      <button class=\"colab-df-convert\" onclick=\"convertToInteractive('df-f65056cb-cdf9-48bf-863d-88803d465c8b')\"\n",
              "              title=\"Convert this dataframe to an interactive table.\"\n",
              "              style=\"display:none;\">\n",
              "        \n",
              "  <svg xmlns=\"http://www.w3.org/2000/svg\" height=\"24px\"viewBox=\"0 0 24 24\"\n",
              "       width=\"24px\">\n",
              "    <path d=\"M0 0h24v24H0V0z\" fill=\"none\"/>\n",
              "    <path d=\"M18.56 5.44l.94 2.06.94-2.06 2.06-.94-2.06-.94-.94-2.06-.94 2.06-2.06.94zm-11 1L8.5 8.5l.94-2.06 2.06-.94-2.06-.94L8.5 2.5l-.94 2.06-2.06.94zm10 10l.94 2.06.94-2.06 2.06-.94-2.06-.94-.94-2.06-.94 2.06-2.06.94z\"/><path d=\"M17.41 7.96l-1.37-1.37c-.4-.4-.92-.59-1.43-.59-.52 0-1.04.2-1.43.59L10.3 9.45l-7.72 7.72c-.78.78-.78 2.05 0 2.83L4 21.41c.39.39.9.59 1.41.59.51 0 1.02-.2 1.41-.59l7.78-7.78 2.81-2.81c.8-.78.8-2.07 0-2.86zM5.41 20L4 18.59l7.72-7.72 1.47 1.35L5.41 20z\"/>\n",
              "  </svg>\n",
              "      </button>\n",
              "      \n",
              "  <style>\n",
              "    .colab-df-container {\n",
              "      display:flex;\n",
              "      flex-wrap:wrap;\n",
              "      gap: 12px;\n",
              "    }\n",
              "\n",
              "    .colab-df-convert {\n",
              "      background-color: #E8F0FE;\n",
              "      border: none;\n",
              "      border-radius: 50%;\n",
              "      cursor: pointer;\n",
              "      display: none;\n",
              "      fill: #1967D2;\n",
              "      height: 32px;\n",
              "      padding: 0 0 0 0;\n",
              "      width: 32px;\n",
              "    }\n",
              "\n",
              "    .colab-df-convert:hover {\n",
              "      background-color: #E2EBFA;\n",
              "      box-shadow: 0px 1px 2px rgba(60, 64, 67, 0.3), 0px 1px 3px 1px rgba(60, 64, 67, 0.15);\n",
              "      fill: #174EA6;\n",
              "    }\n",
              "\n",
              "    [theme=dark] .colab-df-convert {\n",
              "      background-color: #3B4455;\n",
              "      fill: #D2E3FC;\n",
              "    }\n",
              "\n",
              "    [theme=dark] .colab-df-convert:hover {\n",
              "      background-color: #434B5C;\n",
              "      box-shadow: 0px 1px 3px 1px rgba(0, 0, 0, 0.15);\n",
              "      filter: drop-shadow(0px 1px 2px rgba(0, 0, 0, 0.3));\n",
              "      fill: #FFFFFF;\n",
              "    }\n",
              "  </style>\n",
              "\n",
              "      <script>\n",
              "        const buttonEl =\n",
              "          document.querySelector('#df-f65056cb-cdf9-48bf-863d-88803d465c8b button.colab-df-convert');\n",
              "        buttonEl.style.display =\n",
              "          google.colab.kernel.accessAllowed ? 'block' : 'none';\n",
              "\n",
              "        async function convertToInteractive(key) {\n",
              "          const element = document.querySelector('#df-f65056cb-cdf9-48bf-863d-88803d465c8b');\n",
              "          const dataTable =\n",
              "            await google.colab.kernel.invokeFunction('convertToInteractive',\n",
              "                                                     [key], {});\n",
              "          if (!dataTable) return;\n",
              "\n",
              "          const docLinkHtml = 'Like what you see? Visit the ' +\n",
              "            '<a target=\"_blank\" href=https://colab.research.google.com/notebooks/data_table.ipynb>data table notebook</a>'\n",
              "            + ' to learn more about interactive tables.';\n",
              "          element.innerHTML = '';\n",
              "          dataTable['output_type'] = 'display_data';\n",
              "          await google.colab.output.renderOutput(dataTable, element);\n",
              "          const docLink = document.createElement('div');\n",
              "          docLink.innerHTML = docLinkHtml;\n",
              "          element.appendChild(docLink);\n",
              "        }\n",
              "      </script>\n",
              "    </div>\n",
              "  </div>\n",
              "  "
            ]
          },
          "metadata": {},
          "execution_count": 311
        }
      ],
      "source": [
        "# Delete any rows for which there is a measurement of 0.0 for weight.\n",
        "### YOUR CODE HERE ###\n",
        "indexes = fish_data[fish_data['Weight'] == 0.0].index\n",
        "fish_data.drop(indexes, inplace=True)\n",
        "\n",
        "# Let's take another look.\n",
        "fish_data.describe()"
      ]
    },
    {
      "cell_type": "markdown",
      "metadata": {
        "id": "YldeqJEoImZJ"
      },
      "source": [
        "### b) Outlier Detection \\& Elimination (5 points)"
      ]
    },
    {
      "cell_type": "markdown",
      "metadata": {
        "id": "WSqQRkpJPQSb"
      },
      "source": [
        "Using 4 standard deviations from the mean as our cut-off, and using the data listed using the describe function above, are there any outliers?"
      ]
    },
    {
      "cell_type": "code",
      "execution_count": null,
      "metadata": {
        "id": "Sm_HJS3xdlTx"
      },
      "outputs": [],
      "source": [
        "# code cittion: Class Excercise - Lecture 2 colab\n",
        "def standardize_col(col):\n",
        "    return (col - col.mean()) / col.std()"
      ]
    },
    {
      "cell_type": "code",
      "execution_count": null,
      "metadata": {
        "id": "HCnFZgec000S",
        "outputId": "8a5311fe-7c92-4f5d-98a0-edc01de7066d",
        "colab": {
          "base_uri": "https://localhost:8080/"
        }
      },
      "outputs": [
        {
          "output_type": "stream",
          "name": "stdout",
          "text": [
            "<class 'pandas.core.frame.DataFrame'>\n",
            "Int64Index: 158 entries, 0 to 158\n",
            "Data columns (total 7 columns):\n",
            " #   Column   Non-Null Count  Dtype  \n",
            "---  ------   --------------  -----  \n",
            " 0   Species  158 non-null    object \n",
            " 1   Weight   158 non-null    float64\n",
            " 2   Length1  158 non-null    float64\n",
            " 3   Length2  158 non-null    float64\n",
            " 4   Length3  158 non-null    float64\n",
            " 5   Height   158 non-null    float64\n",
            " 6   Width    158 non-null    float64\n",
            "dtypes: float64(6), object(1)\n",
            "memory usage: 13.9+ KB\n"
          ]
        },
        {
          "output_type": "stream",
          "name": "stderr",
          "text": [
            "/usr/local/lib/python3.7/dist-packages/ipykernel_launcher.py:3: FutureWarning: Dropping of nuisance columns in DataFrame reductions (with 'numeric_only=None') is deprecated; in a future version this will raise TypeError.  Select only valid columns before calling the reduction.\n",
            "  This is separate from the ipykernel package so we can avoid doing imports until\n"
          ]
        }
      ],
      "source": [
        "### YOUR CODE HERE ###\n",
        "# make a temp copy of fish data and standarize every column\n",
        "fish_new = (fish_data - fish_data.mean())/fish_data.std()\n",
        "# can't think to write a function to make this next part easier\n",
        "# but for each column check to see if we have values smaller and greater\n",
        "# than 4 in each transformed columns, find the indexes and drop them\n",
        "WE_greater4= fish_new[fish_new['Weight'] > 4].index\n",
        "WE_smaller4 = fish_new[fish_new['Weight'] < -4].index\n",
        "\n",
        "L1_greater4= fish_new[fish_new['Length1'] > 4].index\n",
        "L1_smaller4 = fish_new[fish_new['Length1'] < -4].index\n",
        "\n",
        "L2_greater4= fish_new[fish_new['Length2'] > 4].index\n",
        "L2_smaller4 = fish_new[fish_new['Length2'] < -4].index\n",
        "\n",
        "L3_greater4= fish_new[fish_new['Length3'] > 4].index\n",
        "L3_smaller4 = fish_new[fish_new['Length3'] < -4].index\n",
        "\n",
        "H_greater4= fish_new[fish_new['Height'] > 4].index\n",
        "H_smaller4 = fish_new[fish_new['Height'] < -4].index\n",
        "\n",
        "WI_greater4= fish_new[fish_new['Width'] > 4].index\n",
        "WI_smaller4 = fish_new[fish_new['Width'] < -4].index\n",
        "\n",
        "#drop these indexes from the actual data frame and delete the fish_new\n",
        "fish_data.drop(WE_greater4, inplace = True)\n",
        "fish_data.drop(WE_smaller4, inplace = True)\n",
        "\n",
        "fish_data.drop(L1_greater4, inplace = True)\n",
        "fish_data.drop(L1_smaller4, inplace = True)\n",
        "\n",
        "fish_data.drop(L2_greater4, inplace = True)\n",
        "fish_data.drop(L2_smaller4, inplace = True)\n",
        "\n",
        "fish_data.drop(L3_greater4, inplace = True)\n",
        "fish_data.drop(L3_smaller4, inplace = True)\n",
        "\n",
        "fish_data.drop(H_greater4, inplace = True)\n",
        "fish_data.drop(H_smaller4, inplace = True)\n",
        "\n",
        "fish_data.drop(WI_greater4, inplace = True)\n",
        "fish_data.drop(WI_smaller4, inplace = True)\n",
        "\n",
        "#print data\n",
        "fish_data.info()"
      ]
    },
    {
      "cell_type": "markdown",
      "metadata": {
        "id": "W-DoY4ozjeel"
      },
      "source": [
        "[There were no outliers and I now look like an idiot. I realized that I could have just used 4 std from the mean to plus and minus the range of values (not considered as outliers) and compare this range to the actual values held for their minimum and maximum.]"
      ]
    },
    {
      "cell_type": "markdown",
      "metadata": {
        "id": "se3W2x_PThhC"
      },
      "source": [
        "## Problem 3 - Fish Linear Regression"
      ]
    },
    {
      "cell_type": "markdown",
      "metadata": {
        "id": "3aOeXbcUeZJL"
      },
      "source": [
        "You will now run different versions of linear regression in order to predict fish Weight using the 6 explanatory variables."
      ]
    },
    {
      "cell_type": "markdown",
      "metadata": {
        "id": "TD6Ixu2Welbe"
      },
      "source": [
        "### a) Multiple Linear Regression (6 points)"
      ]
    },
    {
      "cell_type": "markdown",
      "metadata": {
        "id": "E2DFm5KrU7N9"
      },
      "source": [
        "First, run a multiple linear regression using only the height, width, and length measurements to predict weight. We will begin by splitting the data into features **X_fish** and target variable **y_fish**."
      ]
    },
    {
      "cell_type": "code",
      "execution_count": null,
      "metadata": {
        "id": "HPuMcF23Vbyl",
        "colab": {
          "base_uri": "https://localhost:8080/"
        },
        "outputId": "1587962f-0431-4034-cdaf-aa1029843219"
      },
      "outputs": [
        {
          "output_type": "stream",
          "name": "stdout",
          "text": [
            "X_fish.head():\n",
            "   Length1  Length2  Length3   Height   Width\n",
            "0     23.2     25.4     30.0  11.5200  4.0200\n",
            "1     24.0     26.3     31.2  12.4800  4.3056\n",
            "2     23.9     26.5     31.1  12.3778  4.6961\n",
            "3     26.3     29.0     33.5  12.7300  4.4555\n",
            "4     26.5     29.0     34.0  12.4440  5.1340\n",
            "\n",
            "y_fish.head()\n",
            "0    242.0\n",
            "1    290.0\n",
            "2    340.0\n",
            "3    363.0\n",
            "4    430.0\n",
            "Name: Weight, dtype: float64\n"
          ]
        }
      ],
      "source": [
        "y_fish = fish_data.iloc[:, 1] # Get Fish Weights\n",
        "X_fish = fish_data.drop(columns=['Weight']) # Get Fish measurements plus species\n",
        "X_fish = X_fish.drop(columns=['Species']) # Drop the Fish Species for now\n",
        "\n",
        "# Print X.head(), you should have 5 features for each sample\n",
        "print(\"X_fish.head():\")\n",
        "print(X_fish.head())\n",
        "\n",
        "# Print y.head(), you should have one label for each sample\n",
        "print(\"\\ny_fish.head()\")\n",
        "print(y_fish.head())"
      ]
    },
    {
      "cell_type": "markdown",
      "metadata": {
        "id": "jypw17XkXuDv"
      },
      "source": [
        "Now, we are almost ready to run regression with scikit-learn. We need to first convert **X_fish** and **y_fish** into numpy arrays and split the data into training and validation splits using sklearn **train_test_split**. \n",
        "\n",
        "sklearn's train_test_split offers customizable functionality when creating training and test sets. For more information, checkout https://scikit-learn.org/stable/modules/generated/sklearn.model_selection.train_test_split.html ."
      ]
    },
    {
      "cell_type": "code",
      "execution_count": null,
      "metadata": {
        "id": "I0UOI7KvYA0x"
      },
      "outputs": [],
      "source": [
        "# Convert X, and y into np arrays\n",
        "X_fish = X_fish.values\n",
        "y_fish = y_fish.values\n",
        "\n",
        "# Split data into train test split\n",
        "from sklearn.model_selection import train_test_split\n",
        "X_fish_train, X_fish_test, y_fish_train, y_fish_test = train_test_split(X_fish, y_fish, test_size = 0.2, random_state = 0)"
      ]
    },
    {
      "cell_type": "markdown",
      "metadata": {
        "id": "qFCSJJ7MYsMj"
      },
      "source": [
        "Now we are ready to run a multiple linear regression. Use sklearn's **LinearRegression** to carry out the regression."
      ]
    },
    {
      "cell_type": "code",
      "execution_count": null,
      "metadata": {
        "id": "GHcbvBTTYsF2",
        "colab": {
          "base_uri": "https://localhost:8080/"
        },
        "outputId": "ed96b29f-5763-4c94-fdf4-8ddf6e436913"
      },
      "outputs": [
        {
          "output_type": "execute_result",
          "data": {
            "text/plain": [
              "LinearRegression()"
            ]
          },
          "metadata": {},
          "execution_count": 316
        }
      ],
      "source": [
        "from sklearn.linear_model import LinearRegression\n",
        "regressor = linear_model.LinearRegression() ### YOUR CODE HERE ### \n",
        "\n",
        "# Fit the regressor using X_fish_train and y_fish_train\n",
        "### YOUR CODE HERE ###\n",
        "regressor.fit(X_fish_train, y_fish_train)\n"
      ]
    },
    {
      "cell_type": "markdown",
      "metadata": {
        "id": "acTg_PwUabeY"
      },
      "source": [
        "Now let's see how we did and generate predictions for X_fish_test. Then print predicted values and actual target values side-by-side for a visual comparison."
      ]
    },
    {
      "cell_type": "code",
      "execution_count": null,
      "metadata": {
        "id": "u3BTynP2Yr-B",
        "colab": {
          "base_uri": "https://localhost:8080/"
        },
        "outputId": "96138b75-6e84-4541-c02c-d4245317d77a"
      },
      "outputs": [
        {
          "output_type": "stream",
          "name": "stdout",
          "text": [
            "y_fish_pred:\t\t y_fish_test:\n",
            "476.5911788231239 \t 390.0\n",
            "207.9929561343153 \t 160.0\n",
            "696.6127779796425 \t 700.0\n",
            "829.8356241968233 \t 1015.0\n",
            "155.66081610908924 \t 120.0\n",
            "839.4307731235601 \t 1100.0\n",
            "756.4245421886376 \t 820.0\n",
            "860.9053846020513 \t 950.0\n",
            "648.0651893666604 \t 556.0\n",
            "194.3693561652255 \t 145.0\n",
            "656.3311559338006 \t 700.0\n",
            "988.3533044034291 \t 1600.0\n",
            "694.4190899537582 \t 720.0\n",
            "27.97315647136844 \t 55.0\n",
            "90.4049206066108 \t 85.0\n",
            "279.88428527811055 \t 188.0\n",
            "426.5171449059047 \t 300.0\n",
            "253.2749712393798 \t 180.0\n",
            "988.3533044034291 \t 1550.0\n",
            "380.413825535969 \t 306.0\n",
            "203.77329399786692 \t 140.0\n",
            "873.1342266822826 \t 975.0\n",
            "776.42866651791 \t 1000.0\n",
            "514.645291232129 \t 450.0\n",
            "156.25494339977575 \t 110.0\n",
            "98.82407554183447 \t 78.0\n",
            "423.3405775079619 \t 300.0\n",
            "638.7605513223941 \t 650.0\n",
            "-203.30791321585656 \t 6.7\n",
            "611.8753010365667 \t 514.0\n",
            "352.8777398627022 \t 290.0\n",
            "307.75783507086004 \t 270.0\n"
          ]
        }
      ],
      "source": [
        "# Generate predictions using X_fish_test\n",
        "y_fish_pred = regressor.predict(X_fish_test) ### YOUR CODE HERE ### \n",
        "\n",
        "# Print the predictions along with actual weights\n",
        "### YOUR CODE HERE ### \n",
        "print(\"y_fish_pred:\\t\\t y_fish_test:\")\n",
        "for i in range(len(y_fish_pred)):\n",
        "    print(y_fish_pred[i], \"\\t\", y_fish_test[i])"
      ]
    },
    {
      "cell_type": "markdown",
      "metadata": {
        "id": "JEoRzxdUZEXE"
      },
      "source": [
        "### b) Computing MSE and R-squared for MLR (5 points)"
      ]
    },
    {
      "cell_type": "markdown",
      "metadata": {
        "id": "J1H01fjoYr3I"
      },
      "source": [
        "The model appears to do an okay job predicting some weights while missing the mark on others. Let's quantify the results by computing mean squared error (MSE) and the coefficient of determination (R-squared). sklearn's metrics package provides functions to compute the values for you. \n",
        "\n",
        "More info can be found here: \n",
        "\n",
        "https://scikit-learn.org/stable/modules/generated/sklearn.metrics.mean_squared_error.html\n",
        "https://scikit-learn.org/stable/modules/generated/sklearn.metrics.r2_score.html"
      ]
    },
    {
      "cell_type": "code",
      "execution_count": null,
      "metadata": {
        "id": "_KUunCUyYrvX",
        "colab": {
          "base_uri": "https://localhost:8080/"
        },
        "outputId": "b5cf3cd6-9632-4d0b-f277-d7a9f396efaf"
      },
      "outputs": [
        {
          "output_type": "stream",
          "name": "stdout",
          "text": [
            "31561.77306754145\n",
            "0.8245122776931346\n"
          ]
        }
      ],
      "source": [
        "from sklearn.metrics import mean_squared_error\n",
        "from sklearn.metrics import r2_score\n",
        "\n",
        "# Compute the mean squared error using y_fish_test and y_fish_pred\n",
        "### YOUR CODE HERE ###\n",
        "print(mean_squared_error(y_fish_test, y_fish_pred))\n",
        "\n",
        "# Compute the coefficient of determination using y_fish_test and y_fish_pred\n",
        "### YOUR CODE HERE ###\n",
        "print(r2_score(y_fish_test, y_fish_pred))\n"
      ]
    },
    {
      "cell_type": "markdown",
      "metadata": {
        "id": "jiKHKbSzdWZQ"
      },
      "source": [
        "Using the y_fish_test and y_fish_pred, what was the mean squared error for this model?"
      ]
    },
    {
      "cell_type": "markdown",
      "metadata": {
        "id": "CFUrwJv7dn5d"
      },
      "source": [
        "[31561.77306754145]"
      ]
    },
    {
      "cell_type": "markdown",
      "metadata": {
        "id": "dsC4S8pWdrHE"
      },
      "source": [
        "Using the y_fish_test and y_fish_pred, what was the coefficient of detemination for this model?"
      ]
    },
    {
      "cell_type": "markdown",
      "metadata": {
        "id": "M-xqx9NUdrHF"
      },
      "source": [
        "[0.8245122776931346]"
      ]
    },
    {
      "cell_type": "markdown",
      "metadata": {
        "id": "K-UjZojxjv5W"
      },
      "source": [
        "### c) Polynomial Multiple Linear Regression (12 points)"
      ]
    },
    {
      "cell_type": "markdown",
      "metadata": {
        "id": "z8EgAGkAjzCP"
      },
      "source": [
        "We have seen how polynomial regression can increase the predictive power of linear regression models. We will now run a polynomial multiple linear regression model in order to gain a more accurate model. Begin by transforming the features X_fish_test and X_fish_train into second order polynomial space. There will be interaction terms in the transformed dataset as well. For more on interaction terms visit the sklearn docs."
      ]
    },
    {
      "cell_type": "code",
      "execution_count": null,
      "metadata": {
        "id": "QlKOME90kDmY",
        "colab": {
          "base_uri": "https://localhost:8080/"
        },
        "outputId": "819a1bc0-2144-4cdc-8930-caf0235b824e"
      },
      "outputs": [
        {
          "output_type": "stream",
          "name": "stdout",
          "text": [
            "[[1.00000000e+00 3.04000000e+01 3.30000000e+01 3.83000000e+01\n",
            "  1.48604000e+01 5.28540000e+00 9.24160000e+02 1.00320000e+03\n",
            "  1.16432000e+03 4.51756160e+02 1.60676160e+02 1.08900000e+03\n",
            "  1.26390000e+03 4.90393200e+02 1.74418200e+02 1.46689000e+03\n",
            "  5.69153320e+02 2.02430820e+02 2.20831488e+02 7.85431582e+01\n",
            "  2.79354532e+01]\n",
            " [1.00000000e+00 3.48000000e+01 3.73000000e+01 3.98000000e+01\n",
            "  6.28840000e+00 4.01980000e+00 1.21104000e+03 1.29804000e+03\n",
            "  1.38504000e+03 2.18836320e+02 1.39889040e+02 1.39129000e+03\n",
            "  1.48454000e+03 2.34557320e+02 1.49938540e+02 1.58404000e+03\n",
            "  2.50278320e+02 1.59988040e+02 3.95439746e+01 2.52781103e+01\n",
            "  1.61587920e+01]\n",
            " [1.00000000e+00 4.00000000e+01 4.25000000e+01 4.55000000e+01\n",
            "  6.82500000e+00 4.45900000e+00 1.60000000e+03 1.70000000e+03\n",
            "  1.82000000e+03 2.73000000e+02 1.78360000e+02 1.80625000e+03\n",
            "  1.93375000e+03 2.90062500e+02 1.89507500e+02 2.07025000e+03\n",
            "  3.10537500e+02 2.02884500e+02 4.65806250e+01 3.04326750e+01\n",
            "  1.98826810e+01]\n",
            " [1.00000000e+00 3.15000000e+01 3.45000000e+01 3.97000000e+01\n",
            "  1.55227000e+01 5.28010000e+00 9.92250000e+02 1.08675000e+03\n",
            "  1.25055000e+03 4.88965050e+02 1.66323150e+02 1.19025000e+03\n",
            "  1.36965000e+03 5.35533150e+02 1.82163450e+02 1.57609000e+03\n",
            "  6.16251190e+02 2.09619970e+02 2.40954215e+02 8.19614083e+01\n",
            "  2.78794560e+01]\n",
            " [1.00000000e+00 2.10000000e+01 2.30000000e+01 2.45000000e+01\n",
            "  5.21850000e+00 3.62600000e+00 4.41000000e+02 4.83000000e+02\n",
            "  5.14500000e+02 1.09588500e+02 7.61460000e+01 5.29000000e+02\n",
            "  5.63500000e+02 1.20025500e+02 8.33980000e+01 6.00250000e+02\n",
            "  1.27853250e+02 8.88370000e+01 2.72327422e+01 1.89222810e+01\n",
            "  1.31478760e+01]]\n"
          ]
        }
      ],
      "source": [
        "from sklearn.preprocessing import PolynomialFeatures\n",
        "# Create polynomial transform of degree 2. hint: problem 1\n",
        "poly = PolynomialFeatures()### YOUR CODE HERE ###\n",
        "\n",
        "# Transform X_fish_train X_fish_test to second order polynomial space\n",
        "X_fish_train_pol = poly.fit_transform(X_fish_train)### YOUR CODE HERE ###\n",
        "X_fish_test_pol = poly.fit_transform(X_fish_test)### YOUR CODE HERE ###\n",
        "\n",
        "# Print 5 rows of X_fish_train_poly, shape should be (5,21)\n",
        "### YOUR CODE HERE ###\n",
        "print(X_fish_train_pol[0:5])"
      ]
    },
    {
      "cell_type": "markdown",
      "metadata": {
        "id": "21wLW5Y0DTXR"
      },
      "source": [
        "Next run the second order polynomial regression using the transformed data. Instantiate a new regression model and use X_fish_train_pol and y_fish_train to fit the model."
      ]
    },
    {
      "cell_type": "code",
      "execution_count": null,
      "metadata": {
        "id": "mRK0BdUlDZOf",
        "colab": {
          "base_uri": "https://localhost:8080/"
        },
        "outputId": "1750095a-e477-4c0c-dc58-e8e60efb235b"
      },
      "outputs": [
        {
          "output_type": "execute_result",
          "data": {
            "text/plain": [
              "LinearRegression()"
            ]
          },
          "metadata": {},
          "execution_count": 320
        }
      ],
      "source": [
        "from sklearn.linear_model import LinearRegression\n",
        "regressor = linear_model.LinearRegression()### YOUR CODE HERE ### \n",
        "\n",
        "# Fit the regressor using X_fish_train_pol and y_fish_train\n",
        "### YOUR CODE HERE ###\n",
        "regressor.fit(X_fish_train_pol, y_fish_train)"
      ]
    },
    {
      "cell_type": "markdown",
      "metadata": {
        "id": "8Ue0vEm4D0fC"
      },
      "source": [
        "Now let's see how we did with the second model and generate predictions using X_fish_test_pol. Then print predicted values and actual target values side-by-side for a visual comparison."
      ]
    },
    {
      "cell_type": "code",
      "execution_count": null,
      "metadata": {
        "id": "dptAnGEhEc1D",
        "colab": {
          "base_uri": "https://localhost:8080/"
        },
        "outputId": "30c39a26-0c35-4423-d892-dc29bdbfe1c8"
      },
      "outputs": [
        {
          "output_type": "stream",
          "name": "stdout",
          "text": [
            "y_fish_pol_pred:\t\t y_fish_test:\n",
            "410.7816173430182 \t 390.0\n",
            "144.99000843059122 \t 160.0\n",
            "661.0899461816323 \t 700.0\n",
            "916.2093863540233 \t 1015.0\n",
            "120.28326145948392 \t 120.0\n",
            "892.2945253778635 \t 1100.0\n",
            "779.3303627505404 \t 820.0\n",
            "970.513720576776 \t 950.0\n",
            "613.9718885345345 \t 556.0\n",
            "138.7568509471924 \t 145.0\n",
            "702.9669446833437 \t 700.0\n",
            "1200.8808098546658 \t 1600.0\n",
            "736.0196461334201 \t 720.0\n",
            "68.24127115649014 \t 55.0\n",
            "65.4187035093226 \t 85.0\n",
            "204.06717258294225 \t 188.0\n",
            "348.32997005295204 \t 300.0\n",
            "164.86007087658982 \t 180.0\n",
            "1200.8808098546658 \t 1550.0\n",
            "301.2936467564483 \t 306.0\n",
            "132.03878287235457 \t 140.0\n",
            "1080.9518492396282 \t 975.0\n",
            "800.5548871861488 \t 1000.0\n",
            "465.06392927910895 \t 450.0\n",
            "113.12282845044044 \t 110.0\n",
            "78.16667223767863 \t 78.0\n",
            "337.9263526033892 \t 300.0\n",
            "610.8883810801682 \t 650.0\n",
            "14.314256689567003 \t 6.7\n",
            "526.2784399152637 \t 514.0\n",
            "265.75936168111843 \t 290.0\n",
            "235.08321339093163 \t 270.0\n"
          ]
        }
      ],
      "source": [
        "# generate predictions using X_test\n",
        "y_fish_pol_pred = regressor.predict(X_fish_test_pol)### YOUR CODE HERE ### \n",
        "\n",
        "# Print the predictions along with actual weights\n",
        "### YOUR CODE HERE ###\n",
        "print(\"y_fish_pol_pred:\\t\\t y_fish_test:\")\n",
        "for i in range(len(y_fish_pol_pred)):\n",
        "    print(y_fish_pol_pred[i], \"\\t\", y_fish_test[i])"
      ]
    },
    {
      "cell_type": "markdown",
      "metadata": {
        "id": "Duo5OHehZYHG"
      },
      "source": [
        "### d) Computing MSE and R-squared for Polynomial Regression (5 points)"
      ]
    },
    {
      "cell_type": "markdown",
      "metadata": {
        "id": "ZBBJcKlcZi4g"
      },
      "source": [
        "Now, compute the MSE and R-squared using y_fish_test and y_fish_pol_pred"
      ]
    },
    {
      "cell_type": "code",
      "execution_count": null,
      "metadata": {
        "id": "v9cUc-z_EwJa",
        "colab": {
          "base_uri": "https://localhost:8080/"
        },
        "outputId": "537b2c4d-f0c0-4b96-84d3-f07d9bd94b5f"
      },
      "outputs": [
        {
          "output_type": "stream",
          "name": "stdout",
          "text": [
            "12552.64579521112\n",
            "0.9302055934939892\n"
          ]
        }
      ],
      "source": [
        "from sklearn.metrics import mean_squared_error\n",
        "from sklearn.metrics import r2_score\n",
        "\n",
        "# Compute the mean squared error using y_fish_test and y_fish_pol_pred\n",
        "### YOUR CODE HERE ###\n",
        "print(mean_squared_error(y_fish_test, y_fish_pol_pred))\n",
        "\n",
        "# Compute the coefficient of determination using y_fish_test and y_fish_pol_pred\n",
        "### YOUR CODE HERE ###\n",
        "print(r2_score(y_fish_test, y_fish_pol_pred))"
      ]
    },
    {
      "cell_type": "markdown",
      "metadata": {
        "id": "EibvMRnCFSN1"
      },
      "source": [
        "Using the y_fish_test and y_fish_pol_pred, what was the mean squared error for this model?"
      ]
    },
    {
      "cell_type": "markdown",
      "metadata": {
        "id": "il_tGDNsFSN1"
      },
      "source": [
        "[12552.64579521112]"
      ]
    },
    {
      "cell_type": "markdown",
      "metadata": {
        "id": "-N2v3ly4FSN2"
      },
      "source": [
        "Using the y_fish_test and y_fish_pol_pred, what was the coefficient of detemination for this model?"
      ]
    },
    {
      "cell_type": "markdown",
      "metadata": {
        "id": "rMdHoxc1Znt4"
      },
      "source": [
        "[0.9557844480266899]"
      ]
    },
    {
      "cell_type": "markdown",
      "metadata": {
        "id": "9hKsk6BrImZL"
      },
      "source": [
        "### e) Multiple Linear Regression With Categorical Variable (12 points)"
      ]
    },
    {
      "cell_type": "markdown",
      "metadata": {
        "id": "mx2i-jbiF5oP"
      },
      "source": [
        "Now that we have done multiple linear regression, and polynomial multiple linear regression, we will now do a multiple linear regression that takes into account the species of fish by creating numeric levels."
      ]
    },
    {
      "cell_type": "code",
      "execution_count": null,
      "metadata": {
        "id": "q1stDO11ImZL",
        "colab": {
          "base_uri": "https://localhost:8080/",
          "height": 424
        },
        "outputId": "d308a9df-a3cc-4a70-b78d-e5c7ffeb3f3a"
      },
      "outputs": [
        {
          "output_type": "execute_result",
          "data": {
            "text/plain": [
              "     Species  Weight  Length1  Length2  Length3   Height   Width\n",
              "0          0   242.0     23.2     25.4     30.0  11.5200  4.0200\n",
              "1          0   290.0     24.0     26.3     31.2  12.4800  4.3056\n",
              "2          0   340.0     23.9     26.5     31.1  12.3778  4.6961\n",
              "3          0   363.0     26.3     29.0     33.5  12.7300  4.4555\n",
              "4          0   430.0     26.5     29.0     34.0  12.4440  5.1340\n",
              "..       ...     ...      ...      ...      ...      ...     ...\n",
              "154        6    12.2     11.5     12.2     13.4   2.0904  1.3936\n",
              "155        6    13.4     11.7     12.4     13.5   2.4300  1.2690\n",
              "156        6    12.2     12.1     13.0     13.8   2.2770  1.2558\n",
              "157        6    19.7     13.2     14.3     15.2   2.8728  2.0672\n",
              "158        6    19.9     13.8     15.0     16.2   2.9322  1.8792\n",
              "\n",
              "[158 rows x 7 columns]"
            ],
            "text/html": [
              "\n",
              "  <div id=\"df-c135da0a-f54f-4dfa-b8f5-c89fb7e6c836\">\n",
              "    <div class=\"colab-df-container\">\n",
              "      <div>\n",
              "<style scoped>\n",
              "    .dataframe tbody tr th:only-of-type {\n",
              "        vertical-align: middle;\n",
              "    }\n",
              "\n",
              "    .dataframe tbody tr th {\n",
              "        vertical-align: top;\n",
              "    }\n",
              "\n",
              "    .dataframe thead th {\n",
              "        text-align: right;\n",
              "    }\n",
              "</style>\n",
              "<table border=\"1\" class=\"dataframe\">\n",
              "  <thead>\n",
              "    <tr style=\"text-align: right;\">\n",
              "      <th></th>\n",
              "      <th>Species</th>\n",
              "      <th>Weight</th>\n",
              "      <th>Length1</th>\n",
              "      <th>Length2</th>\n",
              "      <th>Length3</th>\n",
              "      <th>Height</th>\n",
              "      <th>Width</th>\n",
              "    </tr>\n",
              "  </thead>\n",
              "  <tbody>\n",
              "    <tr>\n",
              "      <th>0</th>\n",
              "      <td>0</td>\n",
              "      <td>242.0</td>\n",
              "      <td>23.2</td>\n",
              "      <td>25.4</td>\n",
              "      <td>30.0</td>\n",
              "      <td>11.5200</td>\n",
              "      <td>4.0200</td>\n",
              "    </tr>\n",
              "    <tr>\n",
              "      <th>1</th>\n",
              "      <td>0</td>\n",
              "      <td>290.0</td>\n",
              "      <td>24.0</td>\n",
              "      <td>26.3</td>\n",
              "      <td>31.2</td>\n",
              "      <td>12.4800</td>\n",
              "      <td>4.3056</td>\n",
              "    </tr>\n",
              "    <tr>\n",
              "      <th>2</th>\n",
              "      <td>0</td>\n",
              "      <td>340.0</td>\n",
              "      <td>23.9</td>\n",
              "      <td>26.5</td>\n",
              "      <td>31.1</td>\n",
              "      <td>12.3778</td>\n",
              "      <td>4.6961</td>\n",
              "    </tr>\n",
              "    <tr>\n",
              "      <th>3</th>\n",
              "      <td>0</td>\n",
              "      <td>363.0</td>\n",
              "      <td>26.3</td>\n",
              "      <td>29.0</td>\n",
              "      <td>33.5</td>\n",
              "      <td>12.7300</td>\n",
              "      <td>4.4555</td>\n",
              "    </tr>\n",
              "    <tr>\n",
              "      <th>4</th>\n",
              "      <td>0</td>\n",
              "      <td>430.0</td>\n",
              "      <td>26.5</td>\n",
              "      <td>29.0</td>\n",
              "      <td>34.0</td>\n",
              "      <td>12.4440</td>\n",
              "      <td>5.1340</td>\n",
              "    </tr>\n",
              "    <tr>\n",
              "      <th>...</th>\n",
              "      <td>...</td>\n",
              "      <td>...</td>\n",
              "      <td>...</td>\n",
              "      <td>...</td>\n",
              "      <td>...</td>\n",
              "      <td>...</td>\n",
              "      <td>...</td>\n",
              "    </tr>\n",
              "    <tr>\n",
              "      <th>154</th>\n",
              "      <td>6</td>\n",
              "      <td>12.2</td>\n",
              "      <td>11.5</td>\n",
              "      <td>12.2</td>\n",
              "      <td>13.4</td>\n",
              "      <td>2.0904</td>\n",
              "      <td>1.3936</td>\n",
              "    </tr>\n",
              "    <tr>\n",
              "      <th>155</th>\n",
              "      <td>6</td>\n",
              "      <td>13.4</td>\n",
              "      <td>11.7</td>\n",
              "      <td>12.4</td>\n",
              "      <td>13.5</td>\n",
              "      <td>2.4300</td>\n",
              "      <td>1.2690</td>\n",
              "    </tr>\n",
              "    <tr>\n",
              "      <th>156</th>\n",
              "      <td>6</td>\n",
              "      <td>12.2</td>\n",
              "      <td>12.1</td>\n",
              "      <td>13.0</td>\n",
              "      <td>13.8</td>\n",
              "      <td>2.2770</td>\n",
              "      <td>1.2558</td>\n",
              "    </tr>\n",
              "    <tr>\n",
              "      <th>157</th>\n",
              "      <td>6</td>\n",
              "      <td>19.7</td>\n",
              "      <td>13.2</td>\n",
              "      <td>14.3</td>\n",
              "      <td>15.2</td>\n",
              "      <td>2.8728</td>\n",
              "      <td>2.0672</td>\n",
              "    </tr>\n",
              "    <tr>\n",
              "      <th>158</th>\n",
              "      <td>6</td>\n",
              "      <td>19.9</td>\n",
              "      <td>13.8</td>\n",
              "      <td>15.0</td>\n",
              "      <td>16.2</td>\n",
              "      <td>2.9322</td>\n",
              "      <td>1.8792</td>\n",
              "    </tr>\n",
              "  </tbody>\n",
              "</table>\n",
              "<p>158 rows × 7 columns</p>\n",
              "</div>\n",
              "      <button class=\"colab-df-convert\" onclick=\"convertToInteractive('df-c135da0a-f54f-4dfa-b8f5-c89fb7e6c836')\"\n",
              "              title=\"Convert this dataframe to an interactive table.\"\n",
              "              style=\"display:none;\">\n",
              "        \n",
              "  <svg xmlns=\"http://www.w3.org/2000/svg\" height=\"24px\"viewBox=\"0 0 24 24\"\n",
              "       width=\"24px\">\n",
              "    <path d=\"M0 0h24v24H0V0z\" fill=\"none\"/>\n",
              "    <path d=\"M18.56 5.44l.94 2.06.94-2.06 2.06-.94-2.06-.94-.94-2.06-.94 2.06-2.06.94zm-11 1L8.5 8.5l.94-2.06 2.06-.94-2.06-.94L8.5 2.5l-.94 2.06-2.06.94zm10 10l.94 2.06.94-2.06 2.06-.94-2.06-.94-.94-2.06-.94 2.06-2.06.94z\"/><path d=\"M17.41 7.96l-1.37-1.37c-.4-.4-.92-.59-1.43-.59-.52 0-1.04.2-1.43.59L10.3 9.45l-7.72 7.72c-.78.78-.78 2.05 0 2.83L4 21.41c.39.39.9.59 1.41.59.51 0 1.02-.2 1.41-.59l7.78-7.78 2.81-2.81c.8-.78.8-2.07 0-2.86zM5.41 20L4 18.59l7.72-7.72 1.47 1.35L5.41 20z\"/>\n",
              "  </svg>\n",
              "      </button>\n",
              "      \n",
              "  <style>\n",
              "    .colab-df-container {\n",
              "      display:flex;\n",
              "      flex-wrap:wrap;\n",
              "      gap: 12px;\n",
              "    }\n",
              "\n",
              "    .colab-df-convert {\n",
              "      background-color: #E8F0FE;\n",
              "      border: none;\n",
              "      border-radius: 50%;\n",
              "      cursor: pointer;\n",
              "      display: none;\n",
              "      fill: #1967D2;\n",
              "      height: 32px;\n",
              "      padding: 0 0 0 0;\n",
              "      width: 32px;\n",
              "    }\n",
              "\n",
              "    .colab-df-convert:hover {\n",
              "      background-color: #E2EBFA;\n",
              "      box-shadow: 0px 1px 2px rgba(60, 64, 67, 0.3), 0px 1px 3px 1px rgba(60, 64, 67, 0.15);\n",
              "      fill: #174EA6;\n",
              "    }\n",
              "\n",
              "    [theme=dark] .colab-df-convert {\n",
              "      background-color: #3B4455;\n",
              "      fill: #D2E3FC;\n",
              "    }\n",
              "\n",
              "    [theme=dark] .colab-df-convert:hover {\n",
              "      background-color: #434B5C;\n",
              "      box-shadow: 0px 1px 3px 1px rgba(0, 0, 0, 0.15);\n",
              "      filter: drop-shadow(0px 1px 2px rgba(0, 0, 0, 0.3));\n",
              "      fill: #FFFFFF;\n",
              "    }\n",
              "  </style>\n",
              "\n",
              "      <script>\n",
              "        const buttonEl =\n",
              "          document.querySelector('#df-c135da0a-f54f-4dfa-b8f5-c89fb7e6c836 button.colab-df-convert');\n",
              "        buttonEl.style.display =\n",
              "          google.colab.kernel.accessAllowed ? 'block' : 'none';\n",
              "\n",
              "        async function convertToInteractive(key) {\n",
              "          const element = document.querySelector('#df-c135da0a-f54f-4dfa-b8f5-c89fb7e6c836');\n",
              "          const dataTable =\n",
              "            await google.colab.kernel.invokeFunction('convertToInteractive',\n",
              "                                                     [key], {});\n",
              "          if (!dataTable) return;\n",
              "\n",
              "          const docLinkHtml = 'Like what you see? Visit the ' +\n",
              "            '<a target=\"_blank\" href=https://colab.research.google.com/notebooks/data_table.ipynb>data table notebook</a>'\n",
              "            + ' to learn more about interactive tables.';\n",
              "          element.innerHTML = '';\n",
              "          dataTable['output_type'] = 'display_data';\n",
              "          await google.colab.output.renderOutput(dataTable, element);\n",
              "          const docLink = document.createElement('div');\n",
              "          docLink.innerHTML = docLinkHtml;\n",
              "          element.appendChild(docLink);\n",
              "        }\n",
              "      </script>\n",
              "    </div>\n",
              "  </div>\n",
              "  "
            ]
          },
          "metadata": {},
          "execution_count": 323
        }
      ],
      "source": [
        "# Create a copy of fish_data\n",
        "fish_data_species = fish_data\n",
        "\n",
        "# Begin by generating a dictionary that maps all unique species in fish_data to a unique id\n",
        "level_dict = {spec:i for i, spec in enumerate(fish_data_species['Species'].unique())}### YOUR CODE HERE ###\n",
        "\n",
        "# Uses the level dictionary to retrieve the id\n",
        "def integer_encode_level(level):\n",
        "    ### YOUR CODE HERE ###\n",
        "    return level_dict[level]\n",
        "\n",
        "# Apply the function to the Species column and store in Species column \n",
        "#(you should overwrite the species current data with the numeric representations)\n",
        "fish_data_species['Species'] = fish_data_species['Species'].apply(integer_encode_level) ### YOUR CODE HERE ###\n",
        "\n",
        "# Check data\n",
        "fish_data_species"
      ]
    },
    {
      "cell_type": "markdown",
      "metadata": {
        "id": "wY-3cKNAK3cX"
      },
      "source": [
        "We will now create a dataset with 1 target column and 6 feature columns: Species, Length1, Length2, Length3, Height, Width. "
      ]
    },
    {
      "cell_type": "code",
      "execution_count": null,
      "metadata": {
        "id": "t49zhMyUJni-",
        "colab": {
          "base_uri": "https://localhost:8080/"
        },
        "outputId": "e372adbc-87a9-48b5-fe54-7d042cded6fe"
      },
      "outputs": [
        {
          "output_type": "stream",
          "name": "stdout",
          "text": [
            "X_fish_categorical.head():\n",
            "   Species  Length1  Length2  Length3   Height   Width\n",
            "0        0     23.2     25.4     30.0  11.5200  4.0200\n",
            "1        0     24.0     26.3     31.2  12.4800  4.3056\n",
            "2        0     23.9     26.5     31.1  12.3778  4.6961\n",
            "3        0     26.3     29.0     33.5  12.7300  4.4555\n",
            "4        0     26.5     29.0     34.0  12.4440  5.1340\n",
            "\n",
            "y_fish_categorical.head()\n",
            "0    242.0\n",
            "1    290.0\n",
            "2    340.0\n",
            "3    363.0\n",
            "4    430.0\n",
            "Name: Weight, dtype: float64\n"
          ]
        }
      ],
      "source": [
        "# Split fish_data into \n",
        "y_fish_categorical = fish_data_species.iloc[:, 1] # Get Fish Weights\n",
        "X_fish_categorical = fish_data_species.drop(columns=['Weight']) # Get Fish measurements plus species\n",
        "\n",
        "# Print X_fish_categorical.head(), you should have 6 features for each sample\n",
        "print(\"X_fish_categorical.head():\")\n",
        "print(X_fish_categorical.head())\n",
        "\n",
        "# Print y_fish_categorical.head(), you should have one label for each sample\n",
        "print(\"\\ny_fish_categorical.head()\")\n",
        "print(y_fish_categorical.head())"
      ]
    },
    {
      "cell_type": "markdown",
      "metadata": {
        "id": "-vlKZB6CK6U-"
      },
      "source": [
        "Create training and test sets for the fish data with categorical species variable:"
      ]
    },
    {
      "cell_type": "code",
      "execution_count": null,
      "metadata": {
        "id": "JzzEthUHJndk"
      },
      "outputs": [],
      "source": [
        "# Convert X, and y into np arrays\n",
        "X_fish_categorical = X_fish_categorical.values\n",
        "y_fish_categorical = y_fish_categorical.values\n",
        "\n",
        "# Split data into train test split\n",
        "from sklearn.model_selection import train_test_split\n",
        "X_fish_train_categorical, X_fish_test_categorical, y_fish_train_categorical, y_fish_test_categorical = train_test_split(X_fish_categorical, y_fish_categorical, test_size = 0.2, random_state = 0)"
      ]
    },
    {
      "cell_type": "markdown",
      "metadata": {
        "id": "gTp4MctlI3WL"
      },
      "source": [
        "Now we are ready to run a our final multiple linear regression. As a recap, we added a categorical variable to represent the species of fish. We encoded the species as levels, and overwrote the species column with the numeric representations of the species. Now, use sklearn's **LinearRegression** to carry out regression one last time."
      ]
    },
    {
      "cell_type": "code",
      "execution_count": null,
      "metadata": {
        "id": "E3anA9_dLZEy",
        "colab": {
          "base_uri": "https://localhost:8080/"
        },
        "outputId": "5bd789a4-9e9d-438b-f9f0-411d0c1b776a"
      },
      "outputs": [
        {
          "output_type": "execute_result",
          "data": {
            "text/plain": [
              "LinearRegression()"
            ]
          },
          "metadata": {},
          "execution_count": 326
        }
      ],
      "source": [
        "from sklearn.linear_model import LinearRegression\n",
        "regressor = linear_model.LinearRegression()### YOUR CODE HERE ### \n",
        "\n",
        "# Fit the regressor using X_fish_train_categorical and y_fish_train_categorical\n",
        "### YOUR CODE HERE ###\n",
        "regressor.fit(X_fish_train_categorical, y_fish_train_categorical)\n"
      ]
    },
    {
      "cell_type": "markdown",
      "metadata": {
        "id": "6Oac4Ng3L_h3"
      },
      "source": [
        "Let's check the predictions for this model and generate predictions using X_fish_test_categorical. Then print target and estimated weight values side-by-side."
      ]
    },
    {
      "cell_type": "code",
      "execution_count": null,
      "metadata": {
        "colab": {
          "base_uri": "https://localhost:8080/"
        },
        "id": "-e63kqUtL3PW",
        "outputId": "6ae67223-e3d0-41ba-ca64-a3e95f1a8bd3"
      },
      "outputs": [
        {
          "output_type": "stream",
          "name": "stdout",
          "text": [
            "y_fish_pred_categorical: y_fish_test:\n",
            "462.416225042645 \t 390.0\n",
            "140.4634233239516 \t 160.0\n",
            "707.8190370938319 \t 700.0\n",
            "871.1228324376718 \t 1015.0\n",
            "143.05409674330951 \t 120.0\n",
            "843.1293791398473 \t 1100.0\n",
            "769.577519442686 \t 820.0\n",
            "868.4968023862295 \t 950.0\n",
            "666.5983991340825 \t 556.0\n",
            "194.15313937916392 \t 145.0\n",
            "672.8149122816367 \t 700.0\n",
            "960.5133024202776 \t 1600.0\n",
            "736.9098617610277 \t 720.0\n",
            "-2.954443624020314 \t 55.0\n",
            "41.01945185685008 \t 85.0\n",
            "284.75537217699616 \t 188.0\n",
            "561.7345642602934 \t 300.0\n",
            "224.74914600519628 \t 180.0\n",
            "960.5133024202776 \t 1550.0\n",
            "350.8427264339248 \t 306.0\n",
            "72.02506985270907 \t 140.0\n",
            "829.1424727559754 \t 975.0\n",
            "732.947821397205 \t 1000.0\n",
            "509.4816319943018 \t 450.0\n",
            "42.6391043249987 \t 110.0\n",
            "-17.639798181496417 \t 78.0\n",
            "419.5986666208787 \t 300.0\n",
            "639.9048373439814 \t 650.0\n",
            "-123.28748212907487 \t 6.7\n",
            "564.1381405481825 \t 514.0\n",
            "296.0903452670093 \t 290.0\n",
            "277.2483153715442 \t 270.0\n"
          ]
        }
      ],
      "source": [
        "# generate predictions using X_fish_test_categorical\n",
        "y_fish_pred_categorical = regressor.predict(X_fish_test_categorical)### YOUR CODE HERE ### \n",
        "\n",
        "\n",
        "# Print the predictions along with actual weights\n",
        "### YOUR CODE HERE ### \n",
        "print(\"y_fish_pred_categorical: y_fish_test:\")\n",
        "for i in range(len(y_fish_pred_categorical)):\n",
        "    print(y_fish_pred_categorical[i], \"\\t\", y_fish_test_categorical[i])"
      ]
    },
    {
      "cell_type": "markdown",
      "metadata": {
        "id": "lz031lPOZuDJ"
      },
      "source": [
        "### f) Computing MSE and R-squared for MLR with Categorical Variable (5 points)"
      ]
    },
    {
      "cell_type": "code",
      "execution_count": null,
      "metadata": {
        "id": "vxN7AuQKMkii",
        "colab": {
          "base_uri": "https://localhost:8080/"
        },
        "outputId": "95b49be1-e738-4ae6-feca-7da37d103dcb"
      },
      "outputs": [
        {
          "output_type": "stream",
          "name": "stdout",
          "text": [
            "34678.465368212965\n",
            "0.8071830474307615\n"
          ]
        }
      ],
      "source": [
        "# Compute the mean squared error using y_fish_test_categorical and y_fish_pred_categorical\n",
        "### YOUR CODE HERE ###\n",
        "print(mean_squared_error(y_fish_test_categorical, y_fish_pred_categorical))\n",
        "# Compute the coefficient of determination using y_fish_test_categorical and y_fish_pred_categorical\n",
        "### YOUR CODE HERE ###\n",
        "print(r2_score(y_fish_test_categorical, y_fish_pred_categorical))\n"
      ]
    },
    {
      "cell_type": "markdown",
      "metadata": {
        "id": "-PNcaCIHMkij"
      },
      "source": [
        "Using y_fish_test_categorical and y_fish_pred_categorical, what was the mean squared error for this model?"
      ]
    },
    {
      "cell_type": "markdown",
      "metadata": {
        "id": "3qdvVAuyMkij"
      },
      "source": [
        "[34678.465368212965]"
      ]
    },
    {
      "cell_type": "markdown",
      "metadata": {
        "id": "wwUEH3VwMkij"
      },
      "source": [
        "Using y_fish_test_categorical and y_fish_pred_categorical, what was the coefficient of detemination for this model?"
      ]
    },
    {
      "cell_type": "markdown",
      "metadata": {
        "id": "9eCKexTmNNQI"
      },
      "source": [
        "[0.8071830474307615]"
      ]
    },
    {
      "cell_type": "markdown",
      "metadata": {
        "id": "E7Mj2JJcImZW"
      },
      "source": [
        "### g) Researching for the Best Model (15 points)"
      ]
    },
    {
      "cell_type": "markdown",
      "metadata": {
        "id": "Iqy3IOXwNXuw"
      },
      "source": [
        "Read [this](https://www.datarobot.com/blog/regularized-linear-regression-with-scikit-learn/) tutorial to see how you can control the degree of the polynomial and train a **Regularized** linear regression model.\n",
        "\n",
        "In the cell below, investigate and show your observations on:\n",
        "1. Which features are important?\n",
        "2. What polynomial order is appropriate for the model to have an appropriate fit (no overfitting or underfitting)?\n",
        "3. The impact of regularization (L2 norm or L1 norm) and the regularizer factor/parameter on model's generalization capability.\n",
        "4. Finally, report your best model (including model's cost function, regularizer, regularizer factor, and polynomial order) along with a plot of model's performance on the training data and test data. We expect this model to perform better than all prior models you trained."
      ]
    },
    {
      "cell_type": "code",
      "execution_count": null,
      "metadata": {
        "id": "bZG3jRfW7-wu"
      },
      "outputs": [],
      "source": [
        "### YOUR CODE HERE ###"
      ]
    },
    {
      "cell_type": "markdown",
      "metadata": {
        "id": "xxOSRtkkOxYb"
      },
      "source": [
        "[YOUR ANSWER HERE]"
      ]
    }
  ],
  "metadata": {
    "colab": {
      "provenance": []
    },
    "kernelspec": {
      "display_name": "Python 3",
      "name": "python3"
    },
    "language_info": {
      "name": "python"
    }
  },
  "nbformat": 4,
  "nbformat_minor": 0
}